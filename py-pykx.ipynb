{
 "cells": [
  {
   "cell_type": "code",
   "execution_count": 1,
   "metadata": {},
   "outputs": [],
   "source": [
    "import pykx as kx\n",
    "import numpy as np"
   ]
  },
  {
   "cell_type": "code",
   "execution_count": 2,
   "metadata": {},
   "outputs": [
    {
     "data": {
      "text/plain": [
       "pykx.Identity(pykx.q('::'))"
      ]
     },
     "execution_count": 2,
     "metadata": {},
     "output_type": "execute_result"
    }
   ],
   "source": [
    "kx.q('system\"c 200 250\"')"
   ]
  },
  {
   "cell_type": "code",
   "execution_count": 3,
   "metadata": {},
   "outputs": [],
   "source": [
    "complete = kx.q.read.csv('complete.csv', types='PJFFFFFFFFFJFJJF', delimiter=',', as_table=True)"
   ]
  },
  {
   "cell_type": "code",
   "execution_count": 4,
   "metadata": {},
   "outputs": [],
   "source": [
    "final = kx.q.qsql.select(complete, where=['WEEKDAY<5','9<HOUR','HOUR<20'])"
   ]
  },
  {
   "cell_type": "code",
   "execution_count": 5,
   "metadata": {},
   "outputs": [],
   "source": [
    "# where only accepts either strings or a list of strings. it's a shame bc there is a kx.q.fby function\n",
    "final = kx.q.qsql.select(final, where='40 <= (avg;traffic_load) fby traffic_station')"
   ]
  },
  {
   "cell_type": "code",
   "execution_count": 6,
   "metadata": {},
   "outputs": [],
   "source": [
    "final = kx.q.qsql.update(final, columns={'traffic_load': 'traffic_load%100'})"
   ]
  },
  {
   "cell_type": "code",
   "execution_count": 7,
   "metadata": {},
   "outputs": [],
   "source": [
    "def time_window(train_or_test, station, df):\n",
    "    op = \"#\" if train_or_test == \"train\" else \"_\"\n",
    "    data = kx.q.qsql.select(df, \n",
    "                            columns={'rainfall': '(count[i]-80)' + op + 'rainfall',\n",
    "                                     'temperature': '(count[i]-80)' + op + 'temperature',\n",
    "                                     'traffic_load': '(count[i]-80)' + op + 'traffic_load',\n",
    "                                     'HOUR': '(count[i]-80)' + op + 'HOUR',\n",
    "                                     'WEEKDAY': '(count[i]-80)' + op + 'WEEKDAY'}, \n",
    "                            by='traffic_station')\n",
    "    toMatrix = kx.q(\"{({[t;i]value t[i]}[x;]')til count x:flip x}\")\n",
    "    sw = kx.q(\"{({y#z _x}[x;5;]')til count b:6 _x}\")\n",
    "    gl = kx.q(\"{6_(flip x)[`traffic_load]}\")\n",
    "    index = kx.q('{x[' + str(station) + ']}')\n",
    "    X = np.array(index(kx.q.each(sw, kx.q.each(toMatrix, data))).py())\n",
    "    y = np.array(index(kx.q.each(gl, data)))\n",
    "    return (X, y)"
   ]
  },
  {
   "cell_type": "code",
   "execution_count": 8,
   "metadata": {},
   "outputs": [],
   "source": [
    "train_X, train_y = time_window(\"train\", 3403, final)\n",
    "test_X, test_y = time_window(\"test\", 3403, final)"
   ]
  },
  {
   "cell_type": "code",
   "execution_count": 9,
   "metadata": {},
   "outputs": [
    {
     "data": {
      "text/plain": [
       "array([[[ 0.    , 10.    ,  0.45  , 14.    ,  1.    ],\n",
       "        [ 0.    , 10.4   ,  0.4525, 15.    ,  1.    ],\n",
       "        [ 0.    , 10.3   ,  0.4775, 16.    ,  1.    ],\n",
       "        [ 0.    , 10.    ,  0.54  , 17.    ,  1.    ],\n",
       "        [ 0.    ,  9.9   ,  0.5225, 18.    ,  1.    ]],\n",
       "\n",
       "       [[ 0.    , 10.4   ,  0.4525, 15.    ,  1.    ],\n",
       "        [ 0.    , 10.3   ,  0.4775, 16.    ,  1.    ],\n",
       "        [ 0.    , 10.    ,  0.54  , 17.    ,  1.    ],\n",
       "        [ 0.    ,  9.9   ,  0.5225, 18.    ,  1.    ],\n",
       "        [ 0.    , 10.    ,  0.55  , 19.    ,  1.    ]],\n",
       "\n",
       "       [[ 0.    , 10.3   ,  0.4775, 16.    ,  1.    ],\n",
       "        [ 0.    , 10.    ,  0.54  , 17.    ,  1.    ],\n",
       "        [ 0.    ,  9.9   ,  0.5225, 18.    ,  1.    ],\n",
       "        [ 0.    , 10.    ,  0.55  , 19.    ,  1.    ],\n",
       "        [ 0.    , 10.6   ,  0.4275, 10.    ,  2.    ]],\n",
       "\n",
       "       ...,\n",
       "\n",
       "       [[ 0.    , 12.6   ,  0.5   , 11.    ,  4.    ],\n",
       "        [ 0.    , 13.2   ,  0.4875, 12.    ,  4.    ],\n",
       "        [ 0.    , 13.6   ,  0.4775, 13.    ,  4.    ],\n",
       "        [ 0.    , 13.4   ,  0.3875, 14.    ,  4.    ],\n",
       "        [ 0.    , 13.2   ,  0.42  , 15.    ,  4.    ]],\n",
       "\n",
       "       [[ 0.    , 13.2   ,  0.4875, 12.    ,  4.    ],\n",
       "        [ 0.    , 13.6   ,  0.4775, 13.    ,  4.    ],\n",
       "        [ 0.    , 13.4   ,  0.3875, 14.    ,  4.    ],\n",
       "        [ 0.    , 13.2   ,  0.42  , 15.    ,  4.    ],\n",
       "        [ 0.    , 13.2   ,  0.4275, 16.    ,  4.    ]],\n",
       "\n",
       "       [[ 0.    , 13.6   ,  0.4775, 13.    ,  4.    ],\n",
       "        [ 0.    , 13.4   ,  0.3875, 14.    ,  4.    ],\n",
       "        [ 0.    , 13.2   ,  0.42  , 15.    ,  4.    ],\n",
       "        [ 0.    , 13.2   ,  0.4275, 16.    ,  4.    ],\n",
       "        [ 0.    , 12.5   ,  0.5025, 17.    ,  4.    ]]])"
      ]
     },
     "execution_count": 9,
     "metadata": {},
     "output_type": "execute_result"
    }
   ],
   "source": [
    "test_X"
   ]
  },
  {
   "cell_type": "code",
   "execution_count": 10,
   "metadata": {},
   "outputs": [
    {
     "data": {
      "text/plain": [
       "array([0.4275, 0.475 , 0.435 , 0.54  , 0.51  , 0.4725, 0.4725, 0.495 ,\n",
       "       0.4775, 0.4625, 0.465 , 0.495 , 0.475 , 0.4525, 0.5175, 0.5175,\n",
       "       0.6325, 0.4925, 0.5075, 0.545 , 0.485 , 0.4725, 0.4825, 0.51  ,\n",
       "       0.2825, 0.35  , 0.4075, 0.495 , 0.375 , 0.3525, 0.26  , 0.2725,\n",
       "       0.29  , 0.38  , 0.4975, 0.6   , 0.445 , 0.5475, 0.575 , 0.375 ,\n",
       "       0.3625, 0.4625, 0.56  , 0.4425, 0.4425, 0.5225, 0.4775, 0.5525,\n",
       "       0.47  , 0.4425, 0.3125, 0.1   , 0.48  , 0.3425, 0.5675, 0.415 ,\n",
       "       0.4425, 0.4275, 0.575 , 0.445 , 0.435 , 0.44  , 0.4725, 0.5125,\n",
       "       0.4875, 0.5   , 0.4875, 0.4775, 0.3875, 0.42  , 0.4275, 0.5025,\n",
       "       0.375 , 0.4975])"
      ]
     },
     "execution_count": 10,
     "metadata": {},
     "output_type": "execute_result"
    }
   ],
   "source": [
    "test_y"
   ]
  },
  {
   "cell_type": "code",
   "execution_count": 11,
   "metadata": {},
   "outputs": [
    {
     "name": "stdout",
     "output_type": "stream",
     "text": [
      "Epoch 1/3\n",
      "2/2 [==============================] - 5s 1s/step - loss: 0.5343 - val_loss: 0.3738\n",
      "Epoch 2/3\n",
      "2/2 [==============================] - 0s 116ms/step - loss: 0.2703 - val_loss: 0.1998\n",
      "Epoch 3/3\n",
      "2/2 [==============================] - 0s 114ms/step - loss: 0.2093 - val_loss: 0.1329\n"
     ]
    },
    {
     "data": {
      "image/png": "[encoded data removed]",
      "text/plain": [
       "<Figure size 432x288 with 1 Axes>"
      ]
     },
     "metadata": {
      "needs_background": "light"
     },
     "output_type": "display_data"
    }
   ],
   "source": [
    "from keras.models import Sequential\n",
    "from keras.layers import Dense\n",
    "from keras.layers import LSTM, Dropout, Conv1D\n",
    "from keras.layers import BatchNormalization\n",
    "\n",
    "import matplotlib.pyplot as plt\n",
    "# design network\n",
    "model = Sequential()\n",
    "\n",
    "#model.add(Conv1D(filters=32, kernel_size=5, strides=1, padding='causal', activation='relu', input_shape=[None,1]))\n",
    "model.add(LSTM(units = 500, return_sequences=True, input_shape=[5,5]))\n",
    "model.add(LSTM(units = 250,return_sequences=True))\n",
    "model.add(LSTM(units = 50, return_sequences=False))\n",
    "model.add(Dropout(0.2))\n",
    "model.add(Dense(units = 1))\n",
    "\n",
    "model.compile(loss='mae', optimizer='adam')\n",
    "# fit network\n",
    "history = model.fit(train_X, train_y, epochs=3, batch_size=64, validation_split=0.2, verbose=1, shuffle=False)\n",
    "#history2 = model.fit(train_X2, train_y2, epochs=20, batch_size=64, validation_data=(test_X2, test_y2), verbose=1, shuffle=False)\n",
    "#history3 = model.fit(train_X3, train_y3, epochs=20, batch_size=64, validation_data=(test_X3, test_y3), verbose=1, shuffle=False)\n",
    "#history4 = model.fit(train_X4, train_y4, epochs=20, batch_size=64, validation_data=(test_X4, test_y4), verbose=1, shuffle=False)\n",
    "# plot history\n",
    "#plt.plot(history.history['loss'] + history2.history['loss'] + history3.history['loss'] + history4.history['loss'], label='train')\n",
    "#plt.plot(history.history['val_loss'] + history2.history['val_loss'] + history3.history['val_loss']+ history4.history['val_loss'], label='test')\n",
    "plt.plot(history.history['loss'], label='train')\n",
    "plt.plot(history.history['val_loss'], label='test')\n",
    "\n",
    "plt.legend()\n",
    "plt.show()"
   ]
  },
  {
   "cell_type": "code",
   "execution_count": 13,
   "metadata": {},
   "outputs": [
    {
     "name": "stdout",
     "output_type": "stream",
     "text": [
      "4/4 [==============================] - 1s 20ms/step\n"
     ]
    },
    {
     "data": {
      "text/plain": [
       "array([[0.3152508 ],\n",
       "       [0.32095337],\n",
       "       [0.32640648],\n",
       "       [0.3324599 ],\n",
       "       [0.33877677],\n",
       "       [0.34497833],\n",
       "       [0.3521846 ],\n",
       "       [0.3555123 ],\n",
       "       [0.35287595],\n",
       "       [0.3427632 ],\n",
       "       [0.3212469 ],\n",
       "       [0.32685673],\n",
       "       [0.33174682],\n",
       "       [0.3370826 ],\n",
       "       [0.34324172],\n",
       "       [0.34931225],\n",
       "       [0.35405093],\n",
       "       [0.35439992],\n",
       "       [0.34880134],\n",
       "       [0.33575302],\n",
       "       [0.31094798],\n",
       "       [0.3187054 ],\n",
       "       [0.32541412],\n",
       "       [0.33141783],\n",
       "       [0.33659554],\n",
       "       [0.3412005 ],\n",
       "       [0.3441401 ],\n",
       "       [0.34352216],\n",
       "       [0.33848467],\n",
       "       [0.3279165 ],\n",
       "       [0.30925256],\n",
       "       [0.3170446 ],\n",
       "       [0.32384273],\n",
       "       [0.33000022],\n",
       "       [0.33558396],\n",
       "       [0.34054434],\n",
       "       [0.3442421 ],\n",
       "       [0.34404063],\n",
       "       [0.33950025],\n",
       "       [0.32925406],\n",
       "       [0.3106548 ],\n",
       "       [0.31732017],\n",
       "       [0.32333612],\n",
       "       [0.3293837 ],\n",
       "       [0.33568874],\n",
       "       [0.34177622],\n",
       "       [0.34729227],\n",
       "       [0.3491731 ],\n",
       "       [0.3459756 ],\n",
       "       [0.33657384],\n",
       "       [0.31790867],\n",
       "       [0.3240092 ],\n",
       "       [0.32948795],\n",
       "       [0.33485296],\n",
       "       [0.3401377 ],\n",
       "       [0.3454897 ],\n",
       "       [0.34989533],\n",
       "       [0.3510432 ],\n",
       "       [0.347415  ],\n",
       "       [0.33795258],\n",
       "       [0.31981233],\n",
       "       [0.3257823 ],\n",
       "       [0.3315253 ],\n",
       "       [0.33706886],\n",
       "       [0.34245607],\n",
       "       [0.34759364],\n",
       "       [0.350301  ],\n",
       "       [0.34917632],\n",
       "       [0.34318727],\n",
       "       [0.3314776 ],\n",
       "       [0.31179836],\n",
       "       [0.31868908],\n",
       "       [0.3250181 ],\n",
       "       [0.33076248],\n",
       "       [0.3356793 ],\n",
       "       [0.33869696],\n",
       "       [0.3382642 ],\n",
       "       [0.33346406],\n",
       "       [0.323408  ],\n",
       "       [0.30516356],\n",
       "       [0.31264982],\n",
       "       [0.31937975],\n",
       "       [0.32540917],\n",
       "       [0.33075976],\n",
       "       [0.3357192 ],\n",
       "       [0.33946347],\n",
       "       [0.33965337],\n",
       "       [0.33562562],\n",
       "       [0.3266239 ],\n",
       "       [0.3093366 ],\n",
       "       [0.3171228 ],\n",
       "       [0.32415858],\n",
       "       [0.33058935],\n",
       "       [0.33623546],\n",
       "       [0.34178358],\n",
       "       [0.34650716],\n",
       "       [0.3480724 ],\n",
       "       [0.3450653 ],\n",
       "       [0.33594105],\n",
       "       [0.31742847],\n",
       "       [0.32406828],\n",
       "       [0.3302496 ],\n",
       "       [0.33617443],\n",
       "       [0.34184763],\n",
       "       [0.34694818],\n",
       "       [0.3510574 ],\n",
       "       [0.35079184],\n",
       "       [0.34612888],\n",
       "       [0.33633518],\n",
       "       [0.31882837],\n",
       "       [0.32568124],\n",
       "       [0.3319517 ],\n",
       "       [0.33768553],\n",
       "       [0.34268495],\n",
       "       [0.34719977],\n",
       "       [0.350945  ],\n",
       "       [0.3509076 ],\n",
       "       [0.3454542 ],\n",
       "       [0.3324407 ],\n",
       "       [0.30717605],\n",
       "       [0.31380743],\n",
       "       [0.32001817],\n",
       "       [0.3265076 ],\n",
       "       [0.33339044],\n",
       "       [0.34011355],\n",
       "       [0.34479302],\n",
       "       [0.3459422 ]], dtype=float32)"
      ]
     },
     "execution_count": 13,
     "metadata": {},
     "output_type": "execute_result"
    }
   ],
   "source": [
    "model.predict(train_X)"
   ]
  },
  {
   "cell_type": "code",
   "execution_count": null,
   "metadata": {},
   "outputs": [],
   "source": []
  }
 ],
 "metadata": {
  "kernelspec": {
   "display_name": "Python 3 (ipykernel)",
   "language": "python",
   "name": "python3"
  },
  "language_info": {
   "codemirror_mode": {
    "name": "ipython",
    "version": 3
   },
   "file_extension": ".py",
   "mimetype": "text/x-python",
   "name": "python",
   "nbconvert_exporter": "python",
   "pygments_lexer": "ipython3",
   "version": "3.7.6"
  }
 },
 "nbformat": 4,
 "nbformat_minor": 4
}
