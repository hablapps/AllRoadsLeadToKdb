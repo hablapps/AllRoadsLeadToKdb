{
 "cells": [
  {
   "cell_type": "code",
   "execution_count": 1,
   "metadata": {},
   "outputs": [],
   "source": [
    "system\"c 40 200\""
   ]
  },
  {
   "cell_type": "code",
   "execution_count": null,
   "metadata": {},
   "outputs": [],
   "source": []
  },
  {
   "cell_type": "code",
   "execution_count": 2,
   "metadata": {},
   "outputs": [],
   "source": [
    "complete:(\"PJFFFFFFFFFJFJJF\";enlist \",\")0:`$\":complete.csv\";"
   ]
  },
  {
   "cell_type": "code",
   "execution_count": 3,
   "metadata": {},
   "outputs": [],
   "source": [
    "final:select from complete where WEEKDAY<5,9<HOUR,HOUR<20"
   ]
  },
  {
   "cell_type": "code",
   "execution_count": 4,
   "metadata": {},
   "outputs": [],
   "source": [
    "final:select from final where 40 <= (avg;traffic_load) fby traffic_station"
   ]
  },
  {
   "cell_type": "code",
   "execution_count": 5,
   "metadata": {},
   "outputs": [],
   "source": [
    "final:update traffic_load:traffic_load%100 from final"
   ]
  },
  {
   "cell_type": "code",
   "execution_count": 6,
   "metadata": {},
   "outputs": [],
   "source": [
    "minMaxScale:{[l]\n",
    "    minL:min l;\n",
    "    maxL:max l;\n",
    "    ({(x-y)%(z-y)}[;minL;maxL]')l}"
   ]
  },
  {
   "cell_type": "code",
   "execution_count": 7,
   "metadata": {},
   "outputs": [],
   "source": [
    "scaledRainfall:minMaxScale final[`rainfall]\n",
    "scaledTemperature:minMaxScale final[`temperature]\n",
    "\n",
    "final[`rainfall]:scaledRainfall\n",
    "final[`temperature]:scaledTemperature"
   ]
  },
  {
   "cell_type": "code",
   "execution_count": 8,
   "metadata": {},
   "outputs": [
    {
     "name": "stdout",
     "output_type": "stream",
     "text": [
      "0 0 0 0 0 0 0 0 0 0 0 0 0 0 0 0 0 0 0 0 0 0 0 0 0 0 0 0 0 0 0 0 0 0 0 0 0 0 0 0 0 0 0 0 0 0 0 0 0 0 0 0 0 0 0 0 0 0 0 0 0 0 0 0 0 0 0 0 0 0 0 0 0 0 0 0 0 0 0 0 0 0 0 0 0 0 0 0 0 0 0 0 0 0 0 0 0 0 0..\n",
      "0.2666667 0.2666667 0.2666667 0.2666667 0.2666667 0.2666667 0.2666667 0.2666667 0.2666667 0.2666667 0.2666667 0.2666667 0.2666667 0.2666667 0.2666667 0.2666667 0.2666667 0.2666667 0.2666667 0.26666..\n"
     ]
    }
   ],
   "source": [
    "show scaledRainfall\n",
    "show scaledTemperature"
   ]
  },
  {
   "cell_type": "code",
   "execution_count": 9,
   "metadata": {},
   "outputs": [],
   "source": [
    "time_window:{[tt;data;lb]\n",
    "    lb:lb+1;\n",
    "    op:$[tt=`train;#;_];                                      / `train or `test decide the operator\n",
    "    m:`rainfall`temperature`traffic_load`HOUR`WEEKDAY;        / the 5 columns we need\n",
    "    data:?[data;();`traffic_station;m!({(y;(-;(count;x);80);x)}[;op]')m]; / first 80 or until the last 80 depending on operator \n",
    "    sw:{({y#z _x}[x;5;]')til count b:y _x}[;lb];              / sliding window function. takes turbomatrix and divides into chunks of 5x5\n",
    "    gl:{y _(flip x)[2]}[;lb];                                  / gets the load (y data)\n",
    "    toMatrix:{({[t;i]value t[i]}[x;]')til count x:flip x};    / table to matrix\n",
    "    data:(toMatrix')data;                                     / convert each subtable (data is a keyed table) to a matrix\n",
    "    X:(sw')data;                                              / apply sliding window to get X\n",
    "    y:(gl')data;                                              / and gl to get y\n",
    "    (X;y)                                                     / return both\n",
    "    }"
   ]
  },
  {
   "cell_type": "code",
   "execution_count": 10,
   "metadata": {},
   "outputs": [],
   "source": [
    "train:time_window[`train;final;5]"
   ]
  },
  {
   "cell_type": "code",
   "execution_count": 11,
   "metadata": {},
   "outputs": [
    {
     "data": {
      "text/plain": [
       "0f 0.2242424 0.4975 10 3\n",
       "0f 0.3333333 0.525  11 3\n",
       "0f 0.4424242 0.4725 12 3\n",
       "0f 0.5151515 0.4975 13 3\n",
       "0f 0.5818182 0.58   14 3\n"
      ]
     },
     "execution_count": 11,
     "metadata": {},
     "output_type": "execute_result"
    }
   ],
   "source": [
    "train[0][3403][0]"
   ]
  },
  {
   "cell_type": "code",
   "execution_count": 12,
   "metadata": {},
   "outputs": [
    {
     "data": {
      "text/plain": [
       "0f 0.4       0.3875 17 0\n",
       "0f 0.3212121 0.515  18 0\n",
       "0f 0.3030303 0.34   19 0\n",
       "0f 0.3212121 0.465  10 1\n",
       "0f 0.2666667 0.5125 11 1\n"
      ]
     },
     "execution_count": 12,
     "metadata": {},
     "output_type": "execute_result"
    }
   ],
   "source": [
    "last train[0][3403]"
   ]
  },
  {
   "cell_type": "code",
   "execution_count": 13,
   "metadata": {},
   "outputs": [
    {
     "data": {
      "text/plain": [
       "0.4875 0.4725 0.425 0.475 0.5425 0.4725 0.4525 0.4675 0.58 0.4225 0.3925 0.4925 0.5625 0.5775 0.3925 0.485 0.4325 0.57 0.49 0.3325 0.37 0.4325 0.4425 0.4475 0.26 0.445 0.355 0.44 0.4775 0.33 0.1975..\n"
      ]
     },
     "execution_count": 13,
     "metadata": {},
     "output_type": "execute_result"
    }
   ],
   "source": [
    "train[1][3403]"
   ]
  },
  {
   "cell_type": "code",
   "execution_count": 14,
   "metadata": {},
   "outputs": [],
   "source": [
    "test:time_window[`test;final;5]"
   ]
  },
  {
   "cell_type": "code",
   "execution_count": 15,
   "metadata": {},
   "outputs": [
    {
     "data": {
      "text/plain": [
       "0f 0.3515152 0.45   14 1\n",
       "0f 0.3757576 0.4525 15 1\n",
       "0f 0.369697  0.4775 16 1\n",
       "0f 0.3515152 0.54   17 1\n",
       "0f 0.3454545 0.5225 18 1\n"
      ]
     },
     "execution_count": 15,
     "metadata": {},
     "output_type": "execute_result"
    }
   ],
   "source": [
    "test[0][3403][0]"
   ]
  },
  {
   "cell_type": "code",
   "execution_count": 16,
   "metadata": {},
   "outputs": [
    {
     "data": {
      "text/plain": [
       "0f 0.569697  0.4775 13 4\n",
       "0f 0.5575758 0.3875 14 4\n",
       "0f 0.5454545 0.42   15 4\n",
       "0f 0.5454545 0.4275 16 4\n",
       "0f 0.5030303 0.5025 17 4\n"
      ]
     },
     "execution_count": 16,
     "metadata": {},
     "output_type": "execute_result"
    }
   ],
   "source": [
    "last test[0][3403]"
   ]
  },
  {
   "cell_type": "code",
   "execution_count": 17,
   "metadata": {},
   "outputs": [
    {
     "data": {
      "text/plain": [
       "0.4275 0.475 0.435 0.54 0.51 0.4725 0.4725 0.495 0.4775 0.4625 0.465 0.495 0.475 0.4525 0.5175 0.5175 0.6325 0.4925 0.5075 0.545 0.485 0.4725 0.4825 0.51 0.2825 0.35 0.4075 0.495 0.375 0.3525 0.26 ..\n"
      ]
     },
     "execution_count": 17,
     "metadata": {},
     "output_type": "execute_result"
    }
   ],
   "source": [
    "test[1][3403]"
   ]
  },
  {
   "cell_type": "markdown",
   "metadata": {},
   "source": [
    "---"
   ]
  },
  {
   "cell_type": "code",
   "execution_count": 18,
   "metadata": {},
   "outputs": [],
   "source": [
    "system\"l p.q\""
   ]
  },
  {
   "cell_type": "code",
   "execution_count": 19,
   "metadata": {},
   "outputs": [],
   "source": [
    "/ pip install keras tensorflow"
   ]
  },
  {
   "cell_type": "code",
   "execution_count": 20,
   "metadata": {},
   "outputs": [
    {
     "name": "stderr",
     "output_type": "stream",
     "text": [
      "2023-07-14 08:36:11.796755: I tensorflow/core/platform/cpu_feature_guard.cc:193] This TensorFlow binary is optimized with oneAPI Deep Neural Network Library (oneDNN) to use the following CPU instructions in performance-critical operations:  AVX2 FMA\n",
      "To enable them in other operations, rebuild TensorFlow with the appropriate compiler flags.\n",
      "2023-07-14 08:36:12.014130: W tensorflow/compiler/xla/stream_executor/platform/default/dso_loader.cc:64] Could not load dynamic library 'libcudart.so.11.0'; dlerror: libcudart.so.11.0: cannot open shared object file: No such file or directory\n",
      "2023-07-14 08:36:12.014192: I tensorflow/compiler/xla/stream_executor/cuda/cudart_stub.cc:29] Ignore above cudart dlerror if you do not have a GPU set up on your machine.\n",
      "2023-07-14 08:36:12.673926: W tensorflow/compiler/xla/stream_executor/platform/default/dso_loader.cc:64] Could not load dynamic library 'libnvinfer.so.7'; dlerror: libnvinfer.so.7: cannot open shared object file: No such file or directory\n",
      "2023-07-14 08:36:12.674046: W tensorflow/compiler/xla/stream_executor/platform/default/dso_loader.cc:64] Could not load dynamic library 'libnvinfer_plugin.so.7'; dlerror: libnvinfer_plugin.so.7: cannot open shared object file: No such file or directory\n",
      "2023-07-14 08:36:12.674063: W tensorflow/compiler/tf2tensorrt/utils/py_utils.cc:38] TF-TRT Warning: Cannot dlopen some TensorRT libraries. If you would like to use Nvidia GPU with TensorRT, please make sure the missing libraries mentioned above are installed properly.\n",
      "2023-07-14 08:36:13.505400: W tensorflow/compiler/xla/stream_executor/platform/default/dso_loader.cc:64] Could not load dynamic library 'libcuda.so.1'; dlerror: libcuda.so.1: cannot open shared object file: No such file or directory\n",
      "2023-07-14 08:36:13.505475: W tensorflow/compiler/xla/stream_executor/cuda/cuda_driver.cc:265] failed call to cuInit: UNKNOWN ERROR (303)\n",
      "2023-07-14 08:36:13.505499: I tensorflow/compiler/xla/stream_executor/cuda/cuda_diagnostics.cc:156] kernel driver does not appear to be running on this host (DESKTOP-J39KC73): /proc/driver/nvidia/version does not exist\n",
      "2023-07-14 08:36:13.505865: I tensorflow/core/platform/cpu_feature_guard.cc:193] This TensorFlow binary is optimized with oneAPI Deep Neural Network Library (oneDNN) to use the following CPU instructions in performance-critical operations:  AVX2 FMA\n",
      "To enable them in other operations, rebuild TensorFlow with the appropriate compiler flags.\n"
     ]
    }
   ],
   "source": [
    "/ import chosen model and required layers\n",
    "model:.p.import[`keras.models;`:Sequential][]\n",
    "dense:.p.import[`keras.layers]`:Dense\n",
    "lstm:.p.import[`keras.layers]`:LSTM\n",
    "dropout:.p.import[`keras.layers]`:Dropout"
   ]
  },
  {
   "cell_type": "code",
   "execution_count": 21,
   "metadata": {},
   "outputs": [
    {
     "name": "stdout",
     "output_type": "stream",
     "text": [
      "Model: \"sequential\"\n",
      "_________________________________________________________________\n",
      " Layer (type)                Output Shape              Param #   \n",
      "=================================================================\n",
      " lstm (LSTM)                 (None, 5, 500)            1012000   \n",
      "                                                                 \n",
      " lstm_1 (LSTM)               (None, 5, 250)            751000    \n",
      "                                                                 \n",
      " lstm_2 (LSTM)               (None, 50)                60200     \n",
      "                                                                 \n",
      " dropout (Dropout)           (None, 50)                0         \n",
      "                                                                 \n",
      " dense (Dense)               (None, 1)                 51        \n",
      "                                                                 \n",
      "=================================================================\n",
      "Total params: 1,823,251\n",
      "Trainable params: 1,823,251\n",
      "Non-trainable params: 0\n",
      "_________________________________________________________________\n"
     ]
    }
   ],
   "source": [
    "/ build the model\n",
    "\n",
    "// changed input_shape from [None,5] to [5,5]\n",
    "\n",
    "model[`:add]lstm[500;`return_sequences pykw 1b;`input_shape pykw (5,5)];\n",
    "model[`:add]lstm[250;`return_sequences pykw 1b];\n",
    "model[`:add]lstm[50;`return_sequences pykw 0b];\n",
    "model[`:add]dropout[0.2];\n",
    "model[`:add]dense[1];\n",
    "model[`:compile][`loss pykw`mae;`optimizer pykw`adam];\n",
    "model[`:summary][];"
   ]
  },
  {
   "cell_type": "code",
   "execution_count": 24,
   "metadata": {},
   "outputs": [
    {
     "name": "stdout",
     "output_type": "stream",
     "text": [
      "4/4 [==============================] - 0s 20ms/step\n"
     ]
    }
   ],
   "source": [
    "result:model[`:predict][train[0][3403]]`"
   ]
  },
  {
   "cell_type": "code",
   "execution_count": 25,
   "metadata": {},
   "outputs": [
    {
     "data": {
      "text/plain": [
       "0.04540341\n",
       "0.05007011\n",
       "0.05441083\n",
       "0.05836104\n",
       "0.06201104\n",
       "0.06516577\n",
       "0.06327295\n",
       "0.05755566\n",
       "0.04985702\n",
       "0.04248736\n",
       "0.03761679\n",
       "0.0424394 \n",
       "0.04703234\n",
       "0.05121521\n",
       "0.05497554\n",
       "0.05804076\n",
       "0.05982326\n",
       "0.06000737\n",
       "0.05960511\n",
       "0.06020182\n",
       "0.06370887\n",
       "0.06759395\n",
       "0.0714254 \n",
       "0.07499519\n",
       "0.07829812\n",
       "0.08119922\n",
       "0.07955708\n",
       "0.07469115\n",
       "0.06845614\n",
       "0.0627871 \n",
       "0.05948047\n",
       "0.06335563\n",
       "0.0673264 \n",
       "0.07094687\n",
       "0.07451507\n",
       "0.07756038\n",
       "0.0756868 \n",
       "..\n"
      ]
     },
     "execution_count": 25,
     "metadata": {},
     "output_type": "execute_result"
    }
   ],
   "source": [
    "result"
   ]
  },
  {
   "cell_type": "code",
   "execution_count": null,
   "metadata": {},
   "outputs": [],
   "source": []
  }
 ],
 "metadata": {
  "kernelspec": {
   "display_name": "Q (kdb+)",
   "language": "q",
   "name": "qpk"
  },
  "language_info": {
   "file_extension": ".q",
   "mimetype": "text/x-q",
   "name": "q",
   "version": "4.0"
  }
 },
 "nbformat": 4,
 "nbformat_minor": 4
}
