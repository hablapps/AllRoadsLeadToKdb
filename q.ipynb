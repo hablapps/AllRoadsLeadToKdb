{
 "cells": [
  {
   "cell_type": "code",
   "execution_count": 1,
   "metadata": {},
   "outputs": [],
   "source": [
    "system\"c 40 200\""
   ]
  },
  {
   "cell_type": "code",
   "execution_count": null,
   "metadata": {},
   "outputs": [],
   "source": []
  },
  {
   "cell_type": "code",
   "execution_count": 2,
   "metadata": {},
   "outputs": [],
   "source": [
    "complete:(\"PJFFFFFFFFFJFJJF\";enlist \",\")0:`$\":complete.csv\";"
   ]
  },
  {
   "cell_type": "code",
   "execution_count": 3,
   "metadata": {},
   "outputs": [],
   "source": [
    "final:select from complete where WEEKDAY<5,9<HOUR,HOUR<20"
   ]
  },
  {
   "cell_type": "code",
   "execution_count": 4,
   "metadata": {},
   "outputs": [],
   "source": [
    "final:select from final where 40 <= (avg;traffic_load) fby traffic_station"
   ]
  },
  {
   "cell_type": "code",
   "execution_count": 5,
   "metadata": {},
   "outputs": [],
   "source": [
    "final:update traffic_load:traffic_load%100 from final"
   ]
  },
  {
   "cell_type": "code",
   "execution_count": 6,
   "metadata": {},
   "outputs": [],
   "source": [
    "minMaxScale:{[l]\n",
    "    minL:min l;\n",
    "    maxL:max l;\n",
    "    ({(x-y)%(z-y)}[;minL;maxL]')l}"
   ]
  },
  {
   "cell_type": "code",
   "execution_count": 7,
   "metadata": {},
   "outputs": [],
   "source": [
    "scaledRainfall:minMaxScale final[`rainfall]\n",
    "scaledTemperature:minMaxScale final[`temperature]\n",
    "\n",
    "final[`rainfall]:scaledRainfall\n",
    "final[`temperature]:scaledTemperature"
   ]
  },
  {
   "cell_type": "code",
   "execution_count": 8,
   "metadata": {},
   "outputs": [
    {
     "name": "stdout",
     "output_type": "stream",
     "text": [
      "0 0 0 0 0 0 0 0 0 0 0 0 0 0 0 0 0 0 0 0 0 0 0 0 0 0 0 0 0 0 0 0 0 0 0 0 0 0 0 0 0 0 0 0 0 0 0 0 0 0 0 0 0 0 0 0 0 0 0 0 0 0 0 0 0 0 0 0 0 0 0 0 0 0 0 0 0 0 0 0 0 0 0 0 0 0 0 0 0 0 0 0 0 0 0 0 0 0 0..\n",
      "0.2666667 0.2666667 0.2666667 0.2666667 0.2666667 0.2666667 0.2666667 0.2666667 0.2666667 0.2666667 0.2666667 0.2666667 0.2666667 0.2666667 0.2666667 0.2666667 0.2666667 0.2666667 0.2666667 0.26666..\n"
     ]
    }
   ],
   "source": [
    "show scaledRainfall\n",
    "show scaledTemperature"
   ]
  },
  {
   "cell_type": "code",
   "execution_count": 9,
   "metadata": {},
   "outputs": [],
   "source": [
    "time_window:{[tt;data;lb]\n",
    "    lb:lb+1;\n",
    "    op:$[tt=`train;#;_];                                      / `train or `test decide the operator\n",
    "    m:`rainfall`temperature`traffic_load`HOUR`WEEKDAY;        / the 5 columns we need\n",
    "    data:?[data;();`traffic_station;m!({(y;(-;(count;x);80);x)}[;op]')m]; / first 80 or until the last 80 depending on operator \n",
    "    sw:{({y#z _x}[x;5;]')til count b:y _x}[;lb];              / sliding window function. takes turbomatrix and divides into chunks of 5x5\n",
    "    gl:{y _(flip x)[2]}[;lb];                                  / gets the load (y data)\n",
    "    toMatrix:{({[t;i]value t[i]}[x;]')til count x:flip x};    / table to matrix\n",
    "    data:(toMatrix')data;                                     / convert each subtable (data is a keyed table) to a matrix\n",
    "    X:(sw')data;                                              / apply sliding window to get X\n",
    "    y:(gl')data;                                              / and gl to get y\n",
    "    (X;y)                                                     / return both\n",
    "    }"
   ]
  },
  {
   "cell_type": "code",
   "execution_count": 9,
   "metadata": {},
   "outputs": [
    {
     "ename": "\u001b[0;31mrank\u001b[0m",
     "evalue": "\u001b[0;31mrank\u001b[0m",
     "output_type": "error",
     "traceback": [
      "\u001b[0;31mevaluation error:\n\u001b[0m",
      "\u001b[0;31mrank\u001b[0m",
      "\u001b[0;31m\u001b[0m",
      "\u001b[0;31m  [1]  time_window:\n    data:(toMatrix')data;                                     / convert each subtable (data is a keyed table) to a matrix\n    X:(sw')data;                                              / apply sliding window to get X\n      ^\n    y:(gl')data;                                              / and gl to get y\n\u001b[0m",
      "\u001b[0;31m  [0]  train:time_window[`train;final;5]\n             ^\n\u001b[0m"
     ]
    }
   ],
   "source": [
    "train:time_window[`train;final;5]"
   ]
  },
  {
   "cell_type": "code",
   "execution_count": 9,
   "metadata": {},
   "outputs": [
    {
     "ename": "\u001b[0;31mtrain\u001b[0m",
     "evalue": "\u001b[0;31mtrain\u001b[0m",
     "output_type": "error",
     "traceback": [
      "\u001b[0;31mevaluation error:\n\u001b[0m",
      "\u001b[0;31mtrain\u001b[0m",
      "\u001b[0;31m\u001b[0m",
      "\u001b[0;31m  [0]  train[0][3403][0]\n       ^\n\u001b[0m"
     ]
    }
   ],
   "source": [
    "train[0][3403][0]"
   ]
  },
  {
   "cell_type": "code",
   "execution_count": 9,
   "metadata": {},
   "outputs": [
    {
     "ename": "\u001b[0;31mtrain\u001b[0m",
     "evalue": "\u001b[0;31mtrain\u001b[0m",
     "output_type": "error",
     "traceback": [
      "\u001b[0;31mevaluation error:\n\u001b[0m",
      "\u001b[0;31mtrain\u001b[0m",
      "\u001b[0;31m\u001b[0m",
      "\u001b[0;31m  [0]  train\n       ^\n\u001b[0m"
     ]
    }
   ],
   "source": [
    "train"
   ]
  },
  {
   "cell_type": "code",
   "execution_count": 9,
   "metadata": {},
   "outputs": [
    {
     "ename": "\u001b[0;31mtrain\u001b[0m",
     "evalue": "\u001b[0;31mtrain\u001b[0m",
     "output_type": "error",
     "traceback": [
      "\u001b[0;31mevaluation error:\n\u001b[0m",
      "\u001b[0;31mtrain\u001b[0m",
      "\u001b[0;31m\u001b[0m",
      "\u001b[0;31m  [0]  last train[0][3403]\n            ^\n\u001b[0m"
     ]
    }
   ],
   "source": [
    "last train[0][3403]"
   ]
  },
  {
   "cell_type": "code",
   "execution_count": 9,
   "metadata": {},
   "outputs": [
    {
     "ename": "\u001b[0;31mtrain\u001b[0m",
     "evalue": "\u001b[0;31mtrain\u001b[0m",
     "output_type": "error",
     "traceback": [
      "\u001b[0;31mevaluation error:\n\u001b[0m",
      "\u001b[0;31mtrain\u001b[0m",
      "\u001b[0;31m\u001b[0m",
      "\u001b[0;31m  [0]  train[1][3403]\n       ^\n\u001b[0m"
     ]
    }
   ],
   "source": [
    "train[1][3403]"
   ]
  },
  {
   "cell_type": "code",
   "execution_count": 9,
   "metadata": {},
   "outputs": [
    {
     "ename": "\u001b[0;31mrank\u001b[0m",
     "evalue": "\u001b[0;31mrank\u001b[0m",
     "output_type": "error",
     "traceback": [
      "\u001b[0;31mevaluation error:\n\u001b[0m",
      "\u001b[0;31mrank\u001b[0m",
      "\u001b[0;31m\u001b[0m",
      "\u001b[0;31m  [1]  time_window:\n    data:(toMatrix')data;                                     / convert each subtable (data is a keyed table) to a matrix\n    X:(sw')data;                                              / apply sliding window to get X\n      ^\n    y:(gl')data;                                              / and gl to get y\n\u001b[0m",
      "\u001b[0;31m  [0]  test:time_window[`test;final;5]\n            ^\n\u001b[0m"
     ]
    }
   ],
   "source": [
    "test:time_window[`test;final;5]"
   ]
  },
  {
   "cell_type": "code",
   "execution_count": 9,
   "metadata": {},
   "outputs": [
    {
     "ename": "\u001b[0;31mtest\u001b[0m",
     "evalue": "\u001b[0;31mtest\u001b[0m",
     "output_type": "error",
     "traceback": [
      "\u001b[0;31mevaluation error:\n\u001b[0m",
      "\u001b[0;31mtest\u001b[0m",
      "\u001b[0;31m\u001b[0m",
      "\u001b[0;31m  [0]  test[0][3403][0]\n       ^\n\u001b[0m"
     ]
    }
   ],
   "source": [
    "test[0][3403][0]"
   ]
  },
  {
   "cell_type": "code",
   "execution_count": 9,
   "metadata": {},
   "outputs": [
    {
     "ename": "\u001b[0;31mtest\u001b[0m",
     "evalue": "\u001b[0;31mtest\u001b[0m",
     "output_type": "error",
     "traceback": [
      "\u001b[0;31mevaluation error:\n\u001b[0m",
      "\u001b[0;31mtest\u001b[0m",
      "\u001b[0;31m\u001b[0m",
      "\u001b[0;31m  [0]  last test[0][3403]\n            ^\n\u001b[0m"
     ]
    }
   ],
   "source": [
    "last test[0][3403]"
   ]
  },
  {
   "cell_type": "code",
   "execution_count": 9,
   "metadata": {},
   "outputs": [
    {
     "ename": "\u001b[0;31mtest\u001b[0m",
     "evalue": "\u001b[0;31mtest\u001b[0m",
     "output_type": "error",
     "traceback": [
      "\u001b[0;31mevaluation error:\n\u001b[0m",
      "\u001b[0;31mtest\u001b[0m",
      "\u001b[0;31m\u001b[0m",
      "\u001b[0;31m  [0]  test[1][3403]\n       ^\n\u001b[0m"
     ]
    }
   ],
   "source": [
    "test[1][3403]"
   ]
  },
  {
   "cell_type": "code",
   "execution_count": null,
   "metadata": {},
   "outputs": [],
   "source": []
  }
 ],
 "metadata": {
  "kernelspec": {
   "display_name": "Q (kdb+)",
   "language": "q",
   "name": "qpk"
  },
  "language_info": {
   "file_extension": ".q",
   "mimetype": "text/x-q",
   "name": "q",
   "version": "4.0"
  }
 },
 "nbformat": 4,
 "nbformat_minor": 4
}
