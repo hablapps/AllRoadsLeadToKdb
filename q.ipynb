{
 "cells": [
  {
   "cell_type": "code",
   "execution_count": 1,
   "metadata": {},
   "outputs": [],
   "source": [
    "system\"c 40 200\""
   ]
  },
  {
   "cell_type": "code",
   "execution_count": null,
   "metadata": {},
   "outputs": [],
   "source": []
  },
  {
   "cell_type": "code",
   "execution_count": 2,
   "metadata": {},
   "outputs": [],
   "source": [
    "complete:(\"PJFFFFFFFFFJFJJF\";enlist \",\")0:`$\":complete.csv\";"
   ]
  },
  {
   "cell_type": "code",
   "execution_count": 3,
   "metadata": {},
   "outputs": [],
   "source": [
    "final:select from complete where WEEKDAY<5,9<HOUR,HOUR<20"
   ]
  },
  {
   "cell_type": "code",
   "execution_count": 4,
   "metadata": {},
   "outputs": [],
   "source": [
    "final:select from final where 40 <= (avg;traffic_load) fby traffic_station"
   ]
  },
  {
   "cell_type": "code",
   "execution_count": 5,
   "metadata": {},
   "outputs": [],
   "source": [
    "final:update traffic_load:traffic_load%100 from final"
   ]
  },
  {
   "cell_type": "code",
   "execution_count": 170,
   "metadata": {},
   "outputs": [],
   "source": [
    "minMaxScale:{[l]\n",
    "    minL:min l;\n",
    "    maxL:max l;\n",
    "    ({(x-y)%(z-y)}[;minL;maxL]')l}"
   ]
  },
  {
   "cell_type": "code",
   "execution_count": 171,
   "metadata": {},
   "outputs": [
    {
     "data": {
      "text/plain": [
       "0 0.1111111 0.2222222 0.3333333 0.4444444 0.5555556 0.6666667 0.7777778 0.8888889 1\n"
      ]
     },
     "execution_count": 171,
     "metadata": {},
     "output_type": "execute_result"
    }
   ],
   "source": [
    "minMaxScale til 10"
   ]
  },
  {
   "cell_type": "code",
   "execution_count": 60,
   "metadata": {},
   "outputs": [],
   "source": [
    "/ comp2 no migrado de momento"
   ]
  },
  {
   "cell_type": "code",
   "execution_count": 174,
   "metadata": {},
   "outputs": [],
   "source": [
    "scaledRainfall:minMaxScale final[`rainfall]\n",
    "scaledTemperature:minMaxScale final[`temperature]\n",
    "\n",
    "final[`rainfall]:scaledRainfall\n",
    "final[`temperature]:scaledTemperature"
   ]
  },
  {
   "cell_type": "code",
   "execution_count": 176,
   "metadata": {},
   "outputs": [
    {
     "name": "stdout",
     "output_type": "stream",
     "text": [
      "0 0 0 0 0 0 0 0 0 0 0 0 0 0 0 0 0 0 0 0 0 0 0 0 0 0 0 0 0 0 0 0 0 0 0 0 0 0 0 0 0 0 0 0 0 0 0 0 0 0 0 0 0 0 0 0 0 0 0 0 0 0 0 0 0 0 0 0 0 0 0 0 0 0 0 0 0 0 0 0 0 0 0 0 0 0 0 0 0 0 0 0 0 0 0 0 0 0 0..\n",
      "0.2666667 0.2666667 0.2666667 0.2666667 0.2666667 0.2666667 0.2666667 0.2666667 0.2666667 0.2666667 0.2666667 0.2666667 0.2666667 0.2666667 0.2666667 0.2666667 0.2666667 0.2666667 0.2666667 0.26666..\n"
     ]
    }
   ],
   "source": [
    "show scaledRainfall\n",
    "show scaledTemperature"
   ]
  },
  {
   "cell_type": "code",
   "execution_count": 159,
   "metadata": {},
   "outputs": [],
   "source": [
    "prepareData:{[tt;data]\n",
    "    op:$[tt=`train;#;_];                                      / `train or `test decide the operator\n",
    "    m:`rainfall`temperature`traffic_load`HOUR`WEEKDAY;        / the 5 columns we need\n",
    "    data:?[data;();`traffic_station;m!({(y;(-;(count;x);80);x)}[;op]')m]; / first 80 or until the last 80 depending on operator \n",
    "    sw:{({y#z _x}[x;5;]')til count b:6_x};                    / sliding window function. takes turbomatrix and divides into chunks of 5x5\n",
    "    gl:{6_(flip x)[2]};                                       / gets the load (y data)\n",
    "    toMatrix:{({[t;i]value t[i]}[x;]')til count x:flip x};    / table to matrix\n",
    "    data:(toMatrix')data;                                     / convert each subtable (data is a keyed table) to a matrix\n",
    "    X:(sw')data;                                              / apply sliding window to get X\n",
    "    y:(gl')data;                                              / and gl to get y\n",
    "    (X;y)                                                     / return both\n",
    "    }"
   ]
  },
  {
   "cell_type": "code",
   "execution_count": 162,
   "metadata": {},
   "outputs": [],
   "source": [
    "train:prepareData[`train;final]"
   ]
  },
  {
   "cell_type": "code",
   "execution_count": 163,
   "metadata": {},
   "outputs": [
    {
     "data": {
      "text/plain": [
       "0f 7.9  0.4975 10 3\n",
       "0f 9.7  0.525  11 3\n",
       "0f 11.5 0.4725 12 3\n",
       "0f 12.7 0.4975 13 3\n",
       "0f 13.8 0.58   14 3\n"
      ]
     },
     "execution_count": 163,
     "metadata": {},
     "output_type": "execute_result"
    }
   ],
   "source": [
    "train[0][3403][0]"
   ]
  },
  {
   "cell_type": "code",
   "execution_count": 177,
   "metadata": {},
   "outputs": [
    {
     "data": {
      "text/plain": [
       "0f 10.8 0.3875 17 0\n",
       "0f 9.5  0.515  18 0\n",
       "0f 9.2  0.34   19 0\n",
       "0f 9.5  0.465  10 1\n",
       "0f 8.6  0.5125 11 1\n"
      ]
     },
     "execution_count": 177,
     "metadata": {},
     "output_type": "execute_result"
    }
   ],
   "source": [
    "last train[0][3403]"
   ]
  },
  {
   "cell_type": "code",
   "execution_count": 164,
   "metadata": {},
   "outputs": [
    {
     "data": {
      "text/plain": [
       "0.4875 0.4725 0.425 0.475 0.5425 0.4725 0.4525 0.4675 0.58 0.4225 0.3925 0.4925 0.5625 0.5775 0.3925 0.485 0.4325 0.57 0.49 0.3325 0.37 0.4325 0.4425 0.4475 0.26 0.445 0.355 0.44 0.4775 0.33 0.1975..\n"
      ]
     },
     "execution_count": 164,
     "metadata": {},
     "output_type": "execute_result"
    }
   ],
   "source": [
    "train[1][3403]"
   ]
  },
  {
   "cell_type": "code",
   "execution_count": 165,
   "metadata": {},
   "outputs": [],
   "source": [
    "test:prepareData[`test;final]"
   ]
  },
  {
   "cell_type": "code",
   "execution_count": 166,
   "metadata": {},
   "outputs": [
    {
     "data": {
      "text/plain": [
       "0f 10f  0.45   14 1\n",
       "0f 10.4 0.4525 15 1\n",
       "0f 10.3 0.4775 16 1\n",
       "0f 10f  0.54   17 1\n",
       "0f 9.9  0.5225 18 1\n"
      ]
     },
     "execution_count": 166,
     "metadata": {},
     "output_type": "execute_result"
    }
   ],
   "source": [
    "test[0][3403][0]"
   ]
  },
  {
   "cell_type": "code",
   "execution_count": 178,
   "metadata": {},
   "outputs": [
    {
     "data": {
      "text/plain": [
       "0f 13.6 0.4775 13 4\n",
       "0f 13.4 0.3875 14 4\n",
       "0f 13.2 0.42   15 4\n",
       "0f 13.2 0.4275 16 4\n",
       "0f 12.5 0.5025 17 4\n"
      ]
     },
     "execution_count": 178,
     "metadata": {},
     "output_type": "execute_result"
    }
   ],
   "source": [
    "last test[0][3403]"
   ]
  },
  {
   "cell_type": "code",
   "execution_count": 169,
   "metadata": {},
   "outputs": [
    {
     "data": {
      "text/plain": [
       "0.4275 0.475 0.435 0.54 0.51 0.4725 0.4725 0.495 0.4775 0.4625 0.465 0.495 0.475 0.4525 0.5175 0.5175 0.6325 0.4925 0.5075 0.545 0.485 0.4725 0.4825 0.51 0.2825 0.35 0.4075 0.495 0.375 0.3525 0.26 ..\n"
      ]
     },
     "execution_count": 169,
     "metadata": {},
     "output_type": "execute_result"
    }
   ],
   "source": [
    "test[1][3403]"
   ]
  },
  {
   "cell_type": "code",
   "execution_count": null,
   "metadata": {},
   "outputs": [],
   "source": []
  }
 ],
 "metadata": {
  "kernelspec": {
   "display_name": "Q (kdb+)",
   "language": "q",
   "name": "qpk"
  },
  "language_info": {
   "file_extension": ".q",
   "mimetype": "text/x-q",
   "name": "q",
   "version": "4.0"
  }
 },
 "nbformat": 4,
 "nbformat_minor": 4
}
