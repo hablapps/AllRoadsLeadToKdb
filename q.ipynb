{
 "cells": [
  {
   "cell_type": "code",
   "execution_count": 1,
   "metadata": {},
   "outputs": [],
   "source": [
    "system\"c 40 200\""
   ]
  },
  {
   "cell_type": "code",
   "execution_count": null,
   "metadata": {},
   "outputs": [],
   "source": []
  },
  {
   "cell_type": "code",
   "execution_count": 2,
   "metadata": {},
   "outputs": [],
   "source": [
    "complete:(\"PJFFFFFFFFFJFJJF\";enlist \",\")0:`$\":complete.csv\";"
   ]
  },
  {
   "cell_type": "code",
   "execution_count": 3,
   "metadata": {},
   "outputs": [],
   "source": [
    "final:select from complete where WEEKDAY<5,9<HOUR,HOUR<20"
   ]
  },
  {
   "cell_type": "code",
   "execution_count": 4,
   "metadata": {},
   "outputs": [],
   "source": [
    "final:select from final where 40 <= (avg;traffic_load) fby traffic_station"
   ]
  },
  {
   "cell_type": "code",
   "execution_count": 5,
   "metadata": {},
   "outputs": [],
   "source": [
    "final:update traffic_load:traffic_load%100 from final"
   ]
  },
  {
   "cell_type": "code",
   "execution_count": 6,
   "metadata": {},
   "outputs": [],
   "source": [
    "minMaxScale:{[l]\n",
    "    minL:min l;\n",
    "    maxL:max l;\n",
    "    ({(x-y)%(z-y)}[;minL;maxL]')l}"
   ]
  },
  {
   "cell_type": "code",
   "execution_count": 7,
   "metadata": {},
   "outputs": [],
   "source": [
    "scaledRainfall:minMaxScale final[`rainfall]\n",
    "scaledTemperature:minMaxScale final[`temperature]\n",
    "\n",
    "final[`rainfall]:scaledRainfall\n",
    "final[`temperature]:scaledTemperature"
   ]
  },
  {
   "cell_type": "code",
   "execution_count": 8,
   "metadata": {},
   "outputs": [
    {
     "name": "stdout",
     "output_type": "stream",
     "text": [
      "0 0 0 0 0 0 0 0 0 0 0 0 0 0 0 0 0 0 0 0 0 0 0 0 0 0 0 0 0 0 0 0 0 0 0 0 0 0 0 0 0 0 0 0 0 0 0 0 0 0 0 0 0 0 0 0 0 0 0 0 0 0 0 0 0 0 0 0 0 0 0 0 0 0 0 0 0 0 0 0 0 0 0 0 0 0 0 0 0 0 0 0 0 0 0 0 0 0 0..\n",
      "0.2666667 0.2666667 0.2666667 0.2666667 0.2666667 0.2666667 0.2666667 0.2666667 0.2666667 0.2666667 0.2666667 0.2666667 0.2666667 0.2666667 0.2666667 0.2666667 0.2666667 0.2666667 0.2666667 0.26666..\n"
     ]
    }
   ],
   "source": [
    "show scaledRainfall\n",
    "show scaledTemperature"
   ]
  },
  {
   "cell_type": "code",
   "execution_count": 9,
   "metadata": {},
   "outputs": [],
   "source": [
    "time_window:{[tt;data;lb]\n",
    "    lb:lb+1;\n",
    "    op:$[tt=`train;#;_];                                      / `train or `test decide the operator\n",
    "    m:`rainfall`temperature`traffic_load`HOUR`WEEKDAY;        / the 5 columns we need\n",
    "    data:?[data;();`traffic_station;m!({(y;(-;(count;x);80);x)}[;op]')m]; / first 80 or until the last 80 depending on operator \n",
    "    sw:{({y#z _x}[x;5;]')til count b:y _x}[;lb];              / sliding window function. takes turbomatrix and divides into chunks of 5x5\n",
    "    gl:{y _(flip x)[2]}[;lb];                                  / gets the load (y data)\n",
    "    toMatrix:{({[t;i]value t[i]}[x;]')til count x:flip x};    / table to matrix\n",
    "    data:(toMatrix')data;                                     / convert each subtable (data is a keyed table) to a matrix\n",
    "    X:(sw')data;                                              / apply sliding window to get X\n",
    "    y:(gl')data;                                              / and gl to get y\n",
    "    (X;y)                                                     / return both\n",
    "    }"
   ]
  },
  {
   "cell_type": "code",
   "execution_count": 10,
   "metadata": {},
   "outputs": [],
   "source": [
    "train:time_window[`train;final;5]"
   ]
  },
  {
   "cell_type": "code",
   "execution_count": 11,
   "metadata": {},
   "outputs": [
    {
     "data": {
      "text/plain": [
       "0f 0.2242424 0.4975 10 3\n",
       "0f 0.3333333 0.525  11 3\n",
       "0f 0.4424242 0.4725 12 3\n",
       "0f 0.5151515 0.4975 13 3\n",
       "0f 0.5818182 0.58   14 3\n"
      ]
     },
     "execution_count": 11,
     "metadata": {},
     "output_type": "execute_result"
    }
   ],
   "source": [
    "train[0][3403][0]"
   ]
  },
  {
   "cell_type": "code",
   "execution_count": 12,
   "metadata": {},
   "outputs": [
    {
     "data": {
      "text/plain": [
       "0f 0.4       0.3875 17 0\n",
       "0f 0.3212121 0.515  18 0\n",
       "0f 0.3030303 0.34   19 0\n",
       "0f 0.3212121 0.465  10 1\n",
       "0f 0.2666667 0.5125 11 1\n"
      ]
     },
     "execution_count": 12,
     "metadata": {},
     "output_type": "execute_result"
    }
   ],
   "source": [
    "last train[0][3403]"
   ]
  },
  {
   "cell_type": "code",
   "execution_count": 13,
   "metadata": {},
   "outputs": [
    {
     "data": {
      "text/plain": [
       "0.4875 0.4725 0.425 0.475 0.5425 0.4725 0.4525 0.4675 0.58 0.4225 0.3925 0.4925 0.5625 0.5775 0.3925 0.485 0.4325 0.57 0.49 0.3325 0.37 0.4325 0.4425 0.4475 0.26 0.445 0.355 0.44 0.4775 0.33 0.1975..\n"
      ]
     },
     "execution_count": 13,
     "metadata": {},
     "output_type": "execute_result"
    }
   ],
   "source": [
    "train[1][3403]"
   ]
  },
  {
   "cell_type": "code",
   "execution_count": 14,
   "metadata": {},
   "outputs": [],
   "source": [
    "test:time_window[`test;final;5]"
   ]
  },
  {
   "cell_type": "code",
   "execution_count": 15,
   "metadata": {},
   "outputs": [
    {
     "data": {
      "text/plain": [
       "0f 0.3515152 0.45   14 1\n",
       "0f 0.3757576 0.4525 15 1\n",
       "0f 0.369697  0.4775 16 1\n",
       "0f 0.3515152 0.54   17 1\n",
       "0f 0.3454545 0.5225 18 1\n"
      ]
     },
     "execution_count": 15,
     "metadata": {},
     "output_type": "execute_result"
    }
   ],
   "source": [
    "test[0][3403][0]"
   ]
  },
  {
   "cell_type": "code",
   "execution_count": 16,
   "metadata": {},
   "outputs": [
    {
     "data": {
      "text/plain": [
       "0f 0.569697  0.4775 13 4\n",
       "0f 0.5575758 0.3875 14 4\n",
       "0f 0.5454545 0.42   15 4\n",
       "0f 0.5454545 0.4275 16 4\n",
       "0f 0.5030303 0.5025 17 4\n"
      ]
     },
     "execution_count": 16,
     "metadata": {},
     "output_type": "execute_result"
    }
   ],
   "source": [
    "last test[0][3403]"
   ]
  },
  {
   "cell_type": "code",
   "execution_count": 17,
   "metadata": {},
   "outputs": [
    {
     "data": {
      "text/plain": [
       "0.4275 0.475 0.435 0.54 0.51 0.4725 0.4725 0.495 0.4775 0.4625 0.465 0.495 0.475 0.4525 0.5175 0.5175 0.6325 0.4925 0.5075 0.545 0.485 0.4725 0.4825 0.51 0.2825 0.35 0.4075 0.495 0.375 0.3525 0.26 ..\n"
      ]
     },
     "execution_count": 17,
     "metadata": {},
     "output_type": "execute_result"
    }
   ],
   "source": [
    "test[1][3403]"
   ]
  },
  {
   "cell_type": "markdown",
   "metadata": {},
   "source": [
    "---"
   ]
  },
  {
   "cell_type": "code",
   "execution_count": 18,
   "metadata": {},
   "outputs": [],
   "source": [
    "system\"l p.q\""
   ]
  },
  {
   "cell_type": "code",
   "execution_count": 19,
   "metadata": {},
   "outputs": [],
   "source": [
    "/ pip install keras tensorflow"
   ]
  },
  {
   "cell_type": "code",
   "execution_count": 26,
   "metadata": {},
   "outputs": [],
   "source": [
    "/ import chosen model and required layers\n",
    "model:.p.import[`keras.models;`:Sequential][]\n",
    "dense:.p.import[`keras.layers]`:Dense\n",
    "lstm:.p.import[`keras.layers]`:LSTM\n",
    "dropout:.p.import[`keras.layers]`:Dropout"
   ]
  },
  {
   "cell_type": "code",
   "execution_count": 27,
   "metadata": {},
   "outputs": [
    {
     "name": "stdout",
     "output_type": "stream",
     "text": [
      "Model: \"sequential_1\"\n",
      "_________________________________________________________________\n",
      " Layer (type)                Output Shape              Param #   \n",
      "=================================================================\n",
      " lstm_3 (LSTM)               (None, 5, 500)            1012000   \n",
      "                                                                 \n",
      " lstm_4 (LSTM)               (None, 5, 250)            751000    \n",
      "                                                                 \n",
      " lstm_5 (LSTM)               (None, 50)                60200     \n",
      "                                                                 \n",
      " dropout_1 (Dropout)         (None, 50)                0         \n",
      "                                                                 \n",
      " dense_1 (Dense)             (None, 1)                 51        \n",
      "                                                                 \n",
      "=================================================================\n",
      "Total params: 1,823,251\n",
      "Trainable params: 1,823,251\n",
      "Non-trainable params: 0\n",
      "_________________________________________________________________\n"
     ]
    }
   ],
   "source": [
    "/ build the model\n",
    "\n",
    "// changed input_shape from [None,5] to [5,5]\n",
    "\n",
    "model[`:add]lstm[500;`return_sequences pykw 1b;`input_shape pykw (5,5)];\n",
    "model[`:add]lstm[250;`return_sequences pykw 1b];\n",
    "model[`:add]lstm[50;`return_sequences pykw 0b];\n",
    "model[`:add]dropout[0.2];\n",
    "model[`:add]dense[1];\n",
    "model[`:compile][`loss pykw`mae;`optimizer pykw`adam];\n",
    "model[`:summary][];"
   ]
  },
  {
   "cell_type": "code",
   "execution_count": 36,
   "metadata": {},
   "outputs": [],
   "source": [
    "station_data:train[0][3403]"
   ]
  },
  {
   "cell_type": "code",
   "execution_count": 37,
   "metadata": {},
   "outputs": [],
   "source": [
    ".p.set[`station_data;station_data]"
   ]
  },
  {
   "cell_type": "code",
   "execution_count": 43,
   "metadata": {},
   "outputs": [],
   "source": [
    "np:.p.import[`numpy]"
   ]
  },
  {
   "cell_type": "code",
   "execution_count": 50,
   "metadata": {},
   "outputs": [],
   "source": [
    "np_station_data:(np[`:array][.p.eval\"station_data\"])"
   ]
  },
  {
   "cell_type": "code",
   "execution_count": 51,
   "metadata": {},
   "outputs": [
    {
     "name": "stdout",
     "output_type": "stream",
     "text": [
      "Epoch 1/3\n",
      "2/2 [==============================] - 6s 1s/step - loss: 0.5929 - val_loss: 0.4785\n",
      "Epoch 2/3\n",
      "2/2 [==============================] - 0s 116ms/step - loss: 0.3512 - val_loss: 0.2401\n",
      "Epoch 3/3\n",
      "2/2 [==============================] - 0s 117ms/step - loss: 0.2476 - val_loss: 0.2418\n",
      "Training continuous model for 3 epochs took 00:00:05.986\n"
     ]
    }
   ],
   "source": [
    "epochs:3\n",
    "batchsz:64\n",
    "start:.z.T\n",
    "history:model[`:fit][np_station_data;train[1][3403];`epochs pykw epochs;`batch_size pykw batchsz;`validation_split pykw 0.2;`verbose pykw 1;`shuffle pykw 0b]\n",
    "-1\"Training continuous model for \",string[epochs],\" epochs took \",string .z.T-start;"
   ]
  },
  {
   "cell_type": "code",
   "execution_count": 52,
   "metadata": {},
   "outputs": [
    {
     "name": "stdout",
     "output_type": "stream",
     "text": [
      "4/4 [==============================] - 1s 20ms/step\n"
     ]
    }
   ],
   "source": [
    "result:model[`:predict][train[0][3403]]`"
   ]
  },
  {
   "cell_type": "code",
   "execution_count": 53,
   "metadata": {},
   "outputs": [
    {
     "data": {
      "text/plain": [
       "0.2241465\n",
       "0.2266018\n",
       "0.2286546\n",
       "0.2304788\n",
       "0.232121 \n",
       "0.2336741\n",
       "0.2355167\n",
       "0.2375846\n",
       "0.2387517\n",
       "0.237515 \n",
       "0.2308107\n",
       "0.2329344\n",
       "0.2346323\n",
       "0.2361424\n",
       "0.2375651\n",
       "0.2389983\n",
       "0.2385278\n",
       "0.2362039\n",
       "0.2308013\n",
       "0.2212631\n",
       "0.2049485\n",
       "0.2085505\n",
       "0.2114858\n",
       "0.2139971\n",
       "0.2161809\n",
       "0.2181741\n",
       "0.2200732\n",
       "0.2212496\n",
       "0.2209727\n",
       "0.2182668\n",
       "0.2107917\n",
       "0.2141236\n",
       "0.2167989\n",
       "0.2191098\n",
       "0.2210683\n",
       "0.2228802\n",
       "0.2247825\n",
       "..\n"
      ]
     },
     "execution_count": 53,
     "metadata": {},
     "output_type": "execute_result"
    }
   ],
   "source": [
    "result"
   ]
  },
  {
   "cell_type": "code",
   "execution_count": null,
   "metadata": {},
   "outputs": [],
   "source": []
  }
 ],
 "metadata": {
  "kernelspec": {
   "display_name": "Q (kdb+)",
   "language": "q",
   "name": "qpk"
  },
  "language_info": {
   "file_extension": ".q",
   "mimetype": "text/x-q",
   "name": "q",
   "version": "4.0"
  }
 },
 "nbformat": 4,
 "nbformat_minor": 4
}
