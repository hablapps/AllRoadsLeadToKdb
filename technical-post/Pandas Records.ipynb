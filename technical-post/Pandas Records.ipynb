{
 "cells": [
  {
   "cell_type": "markdown",
   "id": "6ec96e75",
   "metadata": {},
   "source": [
    "## Month 1: Some Reading <a class=\"anchor\" id=\"t12\"></a>\n",
    "\n",
    "During this month we have put together several similar projects. For example, [F. Malik et al.](https://www.mdpi.com/1424-8220/20/13/3749) forecasted traffic based on air pollution through a model based on LSTM.\n",
    "\n",
    "On the dependence of the weather on traffic there are many studies, especially focused on precipitation. None of the studies are carried out in Madrid, but in several large cities such as Manchester ([A. Essien et al.](https://pure.manchester.ac.uk/ws/portalfiles/portal/72721911/DEXA_Camera_8_pages.pdf)), Shenzhen ([Y. Yao et al.](https://ieeexplore.ieee.org/document/8964560)), Belgrade ([M. Vidas et al.](https://www.safetylit.org/citations/index.php?fuseaction=citations.viewdetails&citationIds[]=citjournalarticle_716898_14)). The results of these studies predict a 5-15% increase in traffic volume on weekdays during peak hours."
   ]
  },
  {
   "cell_type": "markdown",
   "id": "6a2cda56",
   "metadata": {},
   "source": [
    "## Month 2: Load Datasets <a class=\"anchor\" id=\"t12\"></a>\n",
    "\n",
    "During the last month we have been searching for useful datasets and reading its documentation. During this record we will load the datasets that are going to be used during the project. For the tests, data from a single month will be used. Although there is traffic and weather information from 2018.\n",
    "\n",
    "**Weather**\n",
    "\n",
    "[Weather data](https://datos.madrid.es/portal/site/egob/menuitem.3efdb29b813ad8241e830cc2a8a409a0/?vgnextoid=4950cc720ba29610VgnVCM2000001f4a900aRCRD&vgnextchannel=102612b9ace9f310VgnVCM100000171f5a0aRCRD&vgnextfmt=default)  is captured by stations located throughout the city of Madrid. The files offered by the [Madrid City Council](https://datos.madrid.es/portal/site/egob) are in csv. They were loaded using the pandas library:"
   ]
  },
  {
   "cell_type": "code",
   "execution_count": 1,
   "id": "177ee48a",
   "metadata": {},
   "outputs": [
    {
     "data": {
      "text/html": [
       "<div>\n",
       "<style scoped>\n",
       "    .dataframe tbody tr th:only-of-type {\n",
       "        vertical-align: middle;\n",
       "    }\n",
       "\n",
       "    .dataframe tbody tr th {\n",
       "        vertical-align: top;\n",
       "    }\n",
       "\n",
       "    .dataframe thead th {\n",
       "        text-align: right;\n",
       "    }\n",
       "</style>\n",
       "<table border=\"1\" class=\"dataframe\">\n",
       "  <thead>\n",
       "    <tr style=\"text-align: right;\">\n",
       "      <th></th>\n",
       "      <th>PROVINCIA</th>\n",
       "      <th>MUNICIPIO</th>\n",
       "      <th>ESTACION</th>\n",
       "      <th>MAGNITUD</th>\n",
       "      <th>PUNTO_MUESTREO</th>\n",
       "      <th>ANO</th>\n",
       "      <th>MES</th>\n",
       "      <th>DIA</th>\n",
       "      <th>H01</th>\n",
       "      <th>V01</th>\n",
       "      <th>...</th>\n",
       "      <th>H20</th>\n",
       "      <th>V20</th>\n",
       "      <th>H21</th>\n",
       "      <th>V21</th>\n",
       "      <th>H22</th>\n",
       "      <th>V22</th>\n",
       "      <th>H23</th>\n",
       "      <th>V23</th>\n",
       "      <th>H24</th>\n",
       "      <th>V24</th>\n",
       "    </tr>\n",
       "  </thead>\n",
       "  <tbody>\n",
       "    <tr>\n",
       "      <th>0</th>\n",
       "      <td>28</td>\n",
       "      <td>79</td>\n",
       "      <td>108</td>\n",
       "      <td>81</td>\n",
       "      <td>28079108_81_98</td>\n",
       "      <td>2022</td>\n",
       "      <td>12</td>\n",
       "      <td>22</td>\n",
       "      <td>270.0</td>\n",
       "      <td>N</td>\n",
       "      <td>...</td>\n",
       "      <td>218.0</td>\n",
       "      <td>V</td>\n",
       "      <td>228.0</td>\n",
       "      <td>V</td>\n",
       "      <td>227.83</td>\n",
       "      <td>V</td>\n",
       "      <td>213.67</td>\n",
       "      <td>V</td>\n",
       "      <td>233.83</td>\n",
       "      <td>V</td>\n",
       "    </tr>\n",
       "    <tr>\n",
       "      <th>1</th>\n",
       "      <td>28</td>\n",
       "      <td>79</td>\n",
       "      <td>108</td>\n",
       "      <td>82</td>\n",
       "      <td>28079108_82_98</td>\n",
       "      <td>2022</td>\n",
       "      <td>12</td>\n",
       "      <td>22</td>\n",
       "      <td>9.0</td>\n",
       "      <td>N</td>\n",
       "      <td>...</td>\n",
       "      <td>10.0</td>\n",
       "      <td>V</td>\n",
       "      <td>10.0</td>\n",
       "      <td>V</td>\n",
       "      <td>9.00</td>\n",
       "      <td>V</td>\n",
       "      <td>9.00</td>\n",
       "      <td>V</td>\n",
       "      <td>8.00</td>\n",
       "      <td>V</td>\n",
       "    </tr>\n",
       "    <tr>\n",
       "      <th>2</th>\n",
       "      <td>28</td>\n",
       "      <td>79</td>\n",
       "      <td>108</td>\n",
       "      <td>83</td>\n",
       "      <td>28079108_83_98</td>\n",
       "      <td>2022</td>\n",
       "      <td>12</td>\n",
       "      <td>22</td>\n",
       "      <td>94.7</td>\n",
       "      <td>N</td>\n",
       "      <td>...</td>\n",
       "      <td>86.7</td>\n",
       "      <td>V</td>\n",
       "      <td>91.4</td>\n",
       "      <td>V</td>\n",
       "      <td>93.80</td>\n",
       "      <td>V</td>\n",
       "      <td>96.30</td>\n",
       "      <td>V</td>\n",
       "      <td>98.70</td>\n",
       "      <td>V</td>\n",
       "    </tr>\n",
       "    <tr>\n",
       "      <th>3</th>\n",
       "      <td>28</td>\n",
       "      <td>79</td>\n",
       "      <td>108</td>\n",
       "      <td>86</td>\n",
       "      <td>28079108_86_98</td>\n",
       "      <td>2022</td>\n",
       "      <td>12</td>\n",
       "      <td>22</td>\n",
       "      <td>1031.0</td>\n",
       "      <td>N</td>\n",
       "      <td>...</td>\n",
       "      <td>1031.0</td>\n",
       "      <td>V</td>\n",
       "      <td>1031.0</td>\n",
       "      <td>V</td>\n",
       "      <td>1031.00</td>\n",
       "      <td>V</td>\n",
       "      <td>1031.00</td>\n",
       "      <td>V</td>\n",
       "      <td>1031.00</td>\n",
       "      <td>V</td>\n",
       "    </tr>\n",
       "    <tr>\n",
       "      <th>4</th>\n",
       "      <td>28</td>\n",
       "      <td>79</td>\n",
       "      <td>108</td>\n",
       "      <td>87</td>\n",
       "      <td>28079108_87_98</td>\n",
       "      <td>2022</td>\n",
       "      <td>12</td>\n",
       "      <td>22</td>\n",
       "      <td>2.0</td>\n",
       "      <td>N</td>\n",
       "      <td>...</td>\n",
       "      <td>1.0</td>\n",
       "      <td>V</td>\n",
       "      <td>3.0</td>\n",
       "      <td>V</td>\n",
       "      <td>2.00</td>\n",
       "      <td>V</td>\n",
       "      <td>3.00</td>\n",
       "      <td>V</td>\n",
       "      <td>3.00</td>\n",
       "      <td>V</td>\n",
       "    </tr>\n",
       "  </tbody>\n",
       "</table>\n",
       "<p>5 rows × 56 columns</p>\n",
       "</div>"
      ],
      "text/plain": [
       "   PROVINCIA  MUNICIPIO  ESTACION  MAGNITUD  PUNTO_MUESTREO   ANO  MES  DIA  \\\n",
       "0         28         79       108        81  28079108_81_98  2022   12   22   \n",
       "1         28         79       108        82  28079108_82_98  2022   12   22   \n",
       "2         28         79       108        83  28079108_83_98  2022   12   22   \n",
       "3         28         79       108        86  28079108_86_98  2022   12   22   \n",
       "4         28         79       108        87  28079108_87_98  2022   12   22   \n",
       "\n",
       "      H01 V01  ...     H20 V20     H21 V21      H22 V22      H23 V23      H24  \\\n",
       "0   270.0   N  ...   218.0   V   228.0   V   227.83   V   213.67   V   233.83   \n",
       "1     9.0   N  ...    10.0   V    10.0   V     9.00   V     9.00   V     8.00   \n",
       "2    94.7   N  ...    86.7   V    91.4   V    93.80   V    96.30   V    98.70   \n",
       "3  1031.0   N  ...  1031.0   V  1031.0   V  1031.00   V  1031.00   V  1031.00   \n",
       "4     2.0   N  ...     1.0   V     3.0   V     2.00   V     3.00   V     3.00   \n",
       "\n",
       "  V24  \n",
       "0   V  \n",
       "1   V  \n",
       "2   V  \n",
       "3   V  \n",
       "4   V  \n",
       "\n",
       "[5 rows x 56 columns]"
      ]
     },
     "execution_count": 1,
     "metadata": {},
     "output_type": "execute_result"
    }
   ],
   "source": [
    "import csv \n",
    "import pandas as pd\n",
    "\n",
    "weather = pd.read_csv('dic_meteo22.csv', sep = \";\", quoting=csv.QUOTE_NONE, encoding='utf-8').dropna()\n",
    "weather.head()"
   ]
  },
  {
   "cell_type": "markdown",
   "id": "351f0331",
   "metadata": {},
   "source": [
    "In the documentation they tell us that the magnitude column indicates what type of meteorological data has been taken in the row:\n",
    "\n",
    "    · 80: ultraviolet\n",
    "    · 81: wind\n",
    "    · 82: direction\n",
    "    · 83: temperature\n",
    "    · 86: humidity\n",
    "    · 87: pressure\n",
    "    · 88: solar\n",
    "    · 89: rainfall\n",
    "    \n",
    "Then we have two columns for each hour so that the first tells us the value for the data type specified by the magnitude column and if the result is valid or not. We also have columns related to the time in which the measurement is taken. Finally, there is the identifier of the meteorological station which we can connect with its coordinates using this other [table](https://datos.madrid.es/portal/site/egob/menuitem.c05c1f754a33a9fbe4b2e4b284f1a5a0/?vgnextoid=2ac5be53b4d2b610VgnVCM2000001f4a900aRCRD&vgnextchannel=374512b9ace9f310VgnVCM100000171f5a0aRCRD&vgnextfmt=default) provided by the Madrid city council:"
   ]
  },
  {
   "cell_type": "code",
   "execution_count": 2,
   "id": "9102b6cf",
   "metadata": {},
   "outputs": [],
   "source": [
    "weather_station = pd.read_csv('Estaciones_control_datos_meteorologicos.csv', sep = \";\", quoting=csv.QUOTE_NONE, encoding='latin-1')"
   ]
  },
  {
   "cell_type": "markdown",
   "id": "85a71c52",
   "metadata": {},
   "source": [
    "**Traffic**"
   ]
  },
  {
   "cell_type": "markdown",
   "id": "c89654e3",
   "metadata": {},
   "source": [
    "Traffic sensors are located at traffic lights in the city of Madrid. The data obtained is made up of several measurements of the road situation such as speed or traffic volume. All of these metrics are coded into the \"load\" metric (a percentage that measures congestion). The [traffic table](https://datos.madrid.es/portal/site/egob/menuitem.c05c1f754a33a9fbe4b2e4b284f1a5a0/?vgnextoid=02f2c23866b93410VgnVCM1000000b205a0aRCRD&vgnextchannel=374512b9ace9f310VgnVCM100000171f5a0aRCRD) is also provided by the Madrid City Council."
   ]
  },
  {
   "cell_type": "code",
   "execution_count": 3,
   "id": "f1970067",
   "metadata": {},
   "outputs": [
    {
     "data": {
      "text/html": [
       "<div>\n",
       "<style scoped>\n",
       "    .dataframe tbody tr th:only-of-type {\n",
       "        vertical-align: middle;\n",
       "    }\n",
       "\n",
       "    .dataframe tbody tr th {\n",
       "        vertical-align: top;\n",
       "    }\n",
       "\n",
       "    .dataframe thead th {\n",
       "        text-align: right;\n",
       "    }\n",
       "</style>\n",
       "<table border=\"1\" class=\"dataframe\">\n",
       "  <thead>\n",
       "    <tr style=\"text-align: right;\">\n",
       "      <th></th>\n",
       "      <th>id</th>\n",
       "      <th>fecha</th>\n",
       "      <th>tipo_elem</th>\n",
       "      <th>intensidad</th>\n",
       "      <th>ocupacion</th>\n",
       "      <th>carga</th>\n",
       "      <th>vmed</th>\n",
       "      <th>error</th>\n",
       "      <th>periodo_integracion</th>\n",
       "    </tr>\n",
       "  </thead>\n",
       "  <tbody>\n",
       "    <tr>\n",
       "      <th>0</th>\n",
       "      <td>1001</td>\n",
       "      <td>2022-12-01 00:00:00</td>\n",
       "      <td>M30</td>\n",
       "      <td>3240</td>\n",
       "      <td>9.0</td>\n",
       "      <td>0</td>\n",
       "      <td>59.0</td>\n",
       "      <td>N</td>\n",
       "      <td>5</td>\n",
       "    </tr>\n",
       "    <tr>\n",
       "      <th>1</th>\n",
       "      <td>1001</td>\n",
       "      <td>2022-12-01 00:15:00</td>\n",
       "      <td>M30</td>\n",
       "      <td>3240</td>\n",
       "      <td>9.0</td>\n",
       "      <td>0</td>\n",
       "      <td>59.0</td>\n",
       "      <td>N</td>\n",
       "      <td>5</td>\n",
       "    </tr>\n",
       "    <tr>\n",
       "      <th>2</th>\n",
       "      <td>1001</td>\n",
       "      <td>2022-12-01 00:30:00</td>\n",
       "      <td>M30</td>\n",
       "      <td>300</td>\n",
       "      <td>1.0</td>\n",
       "      <td>0</td>\n",
       "      <td>66.0</td>\n",
       "      <td>N</td>\n",
       "      <td>5</td>\n",
       "    </tr>\n",
       "    <tr>\n",
       "      <th>3</th>\n",
       "      <td>1001</td>\n",
       "      <td>2022-12-01 00:45:00</td>\n",
       "      <td>M30</td>\n",
       "      <td>300</td>\n",
       "      <td>1.0</td>\n",
       "      <td>0</td>\n",
       "      <td>66.0</td>\n",
       "      <td>N</td>\n",
       "      <td>5</td>\n",
       "    </tr>\n",
       "    <tr>\n",
       "      <th>4</th>\n",
       "      <td>1001</td>\n",
       "      <td>2022-12-01 01:00:00</td>\n",
       "      <td>M30</td>\n",
       "      <td>300</td>\n",
       "      <td>1.0</td>\n",
       "      <td>0</td>\n",
       "      <td>66.0</td>\n",
       "      <td>N</td>\n",
       "      <td>5</td>\n",
       "    </tr>\n",
       "  </tbody>\n",
       "</table>\n",
       "</div>"
      ],
      "text/plain": [
       "     id                fecha tipo_elem  intensidad  ocupacion  carga  vmed  \\\n",
       "0  1001  2022-12-01 00:00:00       M30        3240        9.0      0  59.0   \n",
       "1  1001  2022-12-01 00:15:00       M30        3240        9.0      0  59.0   \n",
       "2  1001  2022-12-01 00:30:00       M30         300        1.0      0  66.0   \n",
       "3  1001  2022-12-01 00:45:00       M30         300        1.0      0  66.0   \n",
       "4  1001  2022-12-01 01:00:00       M30         300        1.0      0  66.0   \n",
       "\n",
       "  error  periodo_integracion  \n",
       "0     N                    5  \n",
       "1     N                    5  \n",
       "2     N                    5  \n",
       "3     N                    5  \n",
       "4     N                    5  "
      ]
     },
     "execution_count": 3,
     "metadata": {},
     "output_type": "execute_result"
    }
   ],
   "source": [
    "traffic = pd.read_csv('12-2022.csv', sep = \";\", quotechar='\"', encoding='utf-8').dropna()\n",
    "traffic.head()"
   ]
  },
  {
   "cell_type": "markdown",
   "id": "fff3bd16",
   "metadata": {},
   "source": [
    "The table also contains a column for the date and another that identifies the sensor that will be used to link it with its coordinates using the following [table](https://datos.madrid.es/portal/site/egob/menuitem.c05c1f754a33a9fbe4b2e4b284f1a5a0/?vgnextoid=ee941ce6ba6d3410VgnVCM1000000b205a0aRCRD&vgnextchannel=374512b9ace9f310VgnVCM100000171f5a0aRCRD):"
   ]
  },
  {
   "cell_type": "code",
   "execution_count": 4,
   "id": "2a5ee092",
   "metadata": {},
   "outputs": [],
   "source": [
    "traffic_station = pd.read_csv('pmed_ubicacion_12-2022.csv', sep = \";\", quoting=csv.QUOTE_NONE, encoding='utf-8').dropna()"
   ]
  },
  {
   "cell_type": "markdown",
   "id": "b5595912",
   "metadata": {},
   "source": [
    "## Month 3: Arranging the datasets"
   ]
  },
  {
   "cell_type": "markdown",
   "id": "ea52db24",
   "metadata": {},
   "source": [
    "Once the data has been loaded, during this month we prepared the data to be used in the analysis and the model. We will show this procedure throughout this report. As we are dealing with heterogeneous datasets, the cleaning of the data will be done independently and the data will be assembled a single table later."
   ]
  },
  {
   "cell_type": "markdown",
   "id": "201ec59c",
   "metadata": {},
   "source": [
    "#### Weather\n",
    "\n",
    "In the weather dataset we have the date separated into day, month and year, but in traffic all these data are together. This is why the columns will be grouped."
   ]
  },
  {
   "cell_type": "code",
   "execution_count": 5,
   "id": "6b03478b",
   "metadata": {},
   "outputs": [
    {
     "data": {
      "text/plain": [
       "Timestamp('2022-12-22 00:00:00')"
      ]
     },
     "execution_count": 5,
     "metadata": {},
     "output_type": "execute_result"
    }
   ],
   "source": [
    "weather = weather.rename(columns={\"ANO\": \"year\", \"MES\": \"month\", \"DIA\":\"day\", \"MAGNITUD\":\"magnitud\", \"ESTACION\":\"weather_station\"})\n",
    "weather[\"date\"] = pd.to_datetime(weather[[\"year\", \"month\", \"day\"]])\n",
    "weather[\"date\"][0]"
   ]
  },
  {
   "cell_type": "markdown",
   "id": "46570644",
   "metadata": {},
   "source": [
    "The next step was to transform the measurement value columns and their hourly validity into independent rows. We take the opportunity to remove invalid measurements:"
   ]
  },
  {
   "cell_type": "code",
   "execution_count": 6,
   "id": "578a6eec",
   "metadata": {},
   "outputs": [],
   "source": [
    "import re\n",
    "\n",
    "# Melt table to generate the hour column\n",
    "weather_hour = weather.melt(id_vars=[\"weather_station\", \"magnitud\", \"date\"],\n",
    "                            value_vars=[x for x in weather.columns if re.match(\"^H\", x)],\n",
    "                            var_name=\"hour\")\n",
    "weather_hour[\"hour\"] = pd.to_timedelta(weather_hour['hour'].str[1:].astype(int) - 1 , unit='h')\n",
    "\n",
    "# Melt table to create the valid table\n",
    "weather_valid = weather.melt( value_vars=[x for x in weather.columns if re.match(\"^V\", x)], var_name=\"valid\")\n",
    "\n",
    "# Take the valid rows\n",
    "weather = weather_hour[weather_valid[\"value\"] == \"V\"].reset_index()"
   ]
  },
  {
   "cell_type": "markdown",
   "id": "765ee871",
   "metadata": {},
   "source": [
    "To homogenize the time measure with the traffic table we join the date with the time:"
   ]
  },
  {
   "cell_type": "code",
   "execution_count": 7,
   "id": "8d7bbbdb",
   "metadata": {
    "scrolled": true
   },
   "outputs": [],
   "source": [
    "weather[\"date\"] = weather['date'] + weather.pop('hour')"
   ]
  },
  {
   "cell_type": "markdown",
   "id": "3bd6699a",
   "metadata": {},
   "source": [
    "Finally, to have more organized data, we convert the different types of measurement into columns:"
   ]
  },
  {
   "cell_type": "code",
   "execution_count": 8,
   "id": "287b1342",
   "metadata": {},
   "outputs": [
    {
     "data": {
      "text/html": [
       "<div>\n",
       "<style scoped>\n",
       "    .dataframe tbody tr th:only-of-type {\n",
       "        vertical-align: middle;\n",
       "    }\n",
       "\n",
       "    .dataframe tbody tr th {\n",
       "        vertical-align: top;\n",
       "    }\n",
       "\n",
       "    .dataframe thead th {\n",
       "        text-align: right;\n",
       "    }\n",
       "</style>\n",
       "<table border=\"1\" class=\"dataframe\">\n",
       "  <thead>\n",
       "    <tr style=\"text-align: right;\">\n",
       "      <th></th>\n",
       "      <th>date</th>\n",
       "      <th>weather_station</th>\n",
       "      <th>direction</th>\n",
       "      <th>humidity</th>\n",
       "      <th>pressure</th>\n",
       "      <th>rainfall</th>\n",
       "      <th>solar</th>\n",
       "      <th>temperature</th>\n",
       "      <th>wind</th>\n",
       "    </tr>\n",
       "  </thead>\n",
       "  <tbody>\n",
       "    <tr>\n",
       "      <th>0</th>\n",
       "      <td>2022-12-01</td>\n",
       "      <td>4</td>\n",
       "      <td>0.0</td>\n",
       "      <td>0.0</td>\n",
       "      <td>0.0</td>\n",
       "      <td>0.0</td>\n",
       "      <td>0.0</td>\n",
       "      <td>7.1</td>\n",
       "      <td>0.00</td>\n",
       "    </tr>\n",
       "    <tr>\n",
       "      <th>1</th>\n",
       "      <td>2022-12-01</td>\n",
       "      <td>8</td>\n",
       "      <td>0.0</td>\n",
       "      <td>67.0</td>\n",
       "      <td>0.0</td>\n",
       "      <td>0.0</td>\n",
       "      <td>0.0</td>\n",
       "      <td>9.4</td>\n",
       "      <td>0.00</td>\n",
       "    </tr>\n",
       "    <tr>\n",
       "      <th>2</th>\n",
       "      <td>2022-12-01</td>\n",
       "      <td>16</td>\n",
       "      <td>0.0</td>\n",
       "      <td>73.0</td>\n",
       "      <td>0.0</td>\n",
       "      <td>0.0</td>\n",
       "      <td>0.0</td>\n",
       "      <td>8.9</td>\n",
       "      <td>0.00</td>\n",
       "    </tr>\n",
       "    <tr>\n",
       "      <th>3</th>\n",
       "      <td>2022-12-01</td>\n",
       "      <td>18</td>\n",
       "      <td>0.0</td>\n",
       "      <td>0.0</td>\n",
       "      <td>0.0</td>\n",
       "      <td>0.0</td>\n",
       "      <td>0.0</td>\n",
       "      <td>8.6</td>\n",
       "      <td>0.00</td>\n",
       "    </tr>\n",
       "    <tr>\n",
       "      <th>4</th>\n",
       "      <td>2022-12-01</td>\n",
       "      <td>24</td>\n",
       "      <td>239.0</td>\n",
       "      <td>84.0</td>\n",
       "      <td>946.0</td>\n",
       "      <td>0.0</td>\n",
       "      <td>1.0</td>\n",
       "      <td>6.0</td>\n",
       "      <td>0.54</td>\n",
       "    </tr>\n",
       "  </tbody>\n",
       "</table>\n",
       "</div>"
      ],
      "text/plain": [
       "        date  weather_station  direction  humidity  pressure  rainfall  solar  \\\n",
       "0 2022-12-01                4        0.0       0.0       0.0       0.0    0.0   \n",
       "1 2022-12-01                8        0.0      67.0       0.0       0.0    0.0   \n",
       "2 2022-12-01               16        0.0      73.0       0.0       0.0    0.0   \n",
       "3 2022-12-01               18        0.0       0.0       0.0       0.0    0.0   \n",
       "4 2022-12-01               24      239.0      84.0     946.0       0.0    1.0   \n",
       "\n",
       "   temperature  wind  \n",
       "0          7.1  0.00  \n",
       "1          9.4  0.00  \n",
       "2          8.9  0.00  \n",
       "3          8.6  0.00  \n",
       "4          6.0  0.54  "
      ]
     },
     "execution_count": 8,
     "metadata": {},
     "output_type": "execute_result"
    }
   ],
   "source": [
    "weather_values = weather.assign(MAGNITUD = weather[\"magnitud\"].map({80:\"ultraviolet\",\n",
    "                                                             81:\"wind\",\n",
    "                                                             82:\"direction\",\n",
    "                                                             83:\"temperature\",\n",
    "                                                             86:\"humidity\",\n",
    "                                                             87:\"pressure\",\n",
    "                                                             88:\"solar\",\n",
    "                                                             89:\"rainfall\"})) \\\n",
    "                                                             .MAGNITUD.str.get_dummies() \\\n",
    "                                                             .multiply(weather[\"value\"], axis=\"index\") \n",
    "\n",
    "# Join it to the previus table\n",
    "weather = pd.concat([weather, weather_values], axis=1)\n",
    "\n",
    "# Groupby date and weather station\n",
    "weather = weather.drop([\"index\", \"magnitud\", \"value\"], axis=1).groupby([ \"date\", \"weather_station\"]).sum().reset_index()\n",
    "\n",
    "weather.head()"
   ]
  },
  {
   "cell_type": "markdown",
   "id": "b11eba75",
   "metadata": {},
   "source": [
    "#### Traffic\n",
    "\n",
    "In the first place, the rows where the data collection has had an error are eliminated, for this we filter the values without measurement errors. In the documentation they tell us that these values are represented with an \"N\"."
   ]
  },
  {
   "cell_type": "code",
   "execution_count": 9,
   "id": "f46c3f32",
   "metadata": {},
   "outputs": [],
   "source": [
    "# Quitar datos con errores\n",
    "traffic= traffic[traffic[\"error\"] == \"N\"].rename(columns={\"carga\":\"load\", \"id\":\"traffic_station\"})"
   ]
  },
  {
   "cell_type": "markdown",
   "id": "11833aa3",
   "metadata": {},
   "source": [
    "Other changes that have been made without changing the date column to a proper format and removing columns that are not needed for analysis."
   ]
  },
  {
   "cell_type": "code",
   "execution_count": 10,
   "id": "1e2fc316",
   "metadata": {},
   "outputs": [],
   "source": [
    "# String a fecha\n",
    "traffic['date'] = pd.to_datetime(traffic['fecha'], errors='coerce')\n",
    "# Eliminar columnas innecesarias\n",
    "traffic.drop([\"tipo_elem\", \"error\", \"periodo_integracion\", \"fecha\", \"intensidad\", \"ocupacion\", \"vmed\"], axis=1, inplace=True)"
   ]
  },
  {
   "cell_type": "markdown",
   "id": "2dafb01d",
   "metadata": {},
   "source": [
    "Finally, since the measurements of the sensors are taken every 15 minutes, we group the values for each hour and calculate the average so that it matches the weather table."
   ]
  },
  {
   "cell_type": "code",
   "execution_count": 11,
   "id": "f5167a57",
   "metadata": {
    "scrolled": true
   },
   "outputs": [
    {
     "data": {
      "text/html": [
       "<div>\n",
       "<style scoped>\n",
       "    .dataframe tbody tr th:only-of-type {\n",
       "        vertical-align: middle;\n",
       "    }\n",
       "\n",
       "    .dataframe tbody tr th {\n",
       "        vertical-align: top;\n",
       "    }\n",
       "\n",
       "    .dataframe thead th {\n",
       "        text-align: right;\n",
       "    }\n",
       "</style>\n",
       "<table border=\"1\" class=\"dataframe\">\n",
       "  <thead>\n",
       "    <tr style=\"text-align: right;\">\n",
       "      <th></th>\n",
       "      <th>date</th>\n",
       "      <th>traffic_station</th>\n",
       "      <th>load</th>\n",
       "    </tr>\n",
       "  </thead>\n",
       "  <tbody>\n",
       "    <tr>\n",
       "      <th>0</th>\n",
       "      <td>2022-12-01</td>\n",
       "      <td>1001</td>\n",
       "      <td>0.0</td>\n",
       "    </tr>\n",
       "    <tr>\n",
       "      <th>1</th>\n",
       "      <td>2022-12-01</td>\n",
       "      <td>1002</td>\n",
       "      <td>0.0</td>\n",
       "    </tr>\n",
       "    <tr>\n",
       "      <th>2</th>\n",
       "      <td>2022-12-01</td>\n",
       "      <td>1003</td>\n",
       "      <td>0.0</td>\n",
       "    </tr>\n",
       "    <tr>\n",
       "      <th>3</th>\n",
       "      <td>2022-12-01</td>\n",
       "      <td>1006</td>\n",
       "      <td>0.0</td>\n",
       "    </tr>\n",
       "    <tr>\n",
       "      <th>4</th>\n",
       "      <td>2022-12-01</td>\n",
       "      <td>1009</td>\n",
       "      <td>0.0</td>\n",
       "    </tr>\n",
       "  </tbody>\n",
       "</table>\n",
       "</div>"
      ],
      "text/plain": [
       "        date  traffic_station  load\n",
       "0 2022-12-01             1001   0.0\n",
       "1 2022-12-01             1002   0.0\n",
       "2 2022-12-01             1003   0.0\n",
       "3 2022-12-01             1006   0.0\n",
       "4 2022-12-01             1009   0.0"
      ]
     },
     "execution_count": 11,
     "metadata": {},
     "output_type": "execute_result"
    }
   ],
   "source": [
    "traffic = traffic.groupby([pd.Grouper(key=\"date\", freq='1H'), 'traffic_station']).mean().reset_index()\n",
    "traffic.head()"
   ]
  },
  {
   "cell_type": "markdown",
   "id": "0ae7d712",
   "metadata": {},
   "source": [
    "The average time for loading and processing a month of traffic information is **43.9 s**. The team is concerned about the slowness and the possible effect it will have on real-time data processing."
   ]
  },
  {
   "cell_type": "markdown",
   "id": "2ef0c022",
   "metadata": {},
   "source": [
    "**Location**\n",
    "\n",
    "To join the two previous tables we need to know which traffic sensors correspond to the weather stations. To do this you can use a distance matrix and find the closest pairs."
   ]
  },
  {
   "cell_type": "code",
   "execution_count": 12,
   "id": "03456648",
   "metadata": {},
   "outputs": [],
   "source": [
    "weather_station = weather_station.rename(columns={\"LATITUD\": 'Latitude', \"LONGITUD\":\"Longitude\", \"CODIGO_CORTO\":\"weather_station\"})\n",
    "traffic_station = traffic_station.rename(columns={\"\\\"latitud\\\"\": 'Latitude', \"\\\"longitud\\\"\":\"Longitude\"})"
   ]
  },
  {
   "cell_type": "markdown",
   "id": "f0a028ab",
   "metadata": {},
   "source": [
    "You could measure this distance directly with the coordinates. But to make the distances clearer, the haversine distance was used, which calculates the distance in meters between a pair of coordinates:"
   ]
  },
  {
   "cell_type": "code",
   "execution_count": 13,
   "id": "4c993f7e",
   "metadata": {},
   "outputs": [],
   "source": [
    "from haversine import haversine_vector, Unit\n",
    "\n",
    "unit = Unit.KILOMETERS \n",
    "distance_matrix = haversine_vector(weather_station[[\"Latitude\", \"Longitude\"]], traffic_station[[\"Latitude\", \"Longitude\"]], unit, comb=True)"
   ]
  },
  {
   "cell_type": "markdown",
   "id": "553287d3",
   "metadata": {},
   "source": [
    "It can be seen in the next heatmap that these distances are between 0 and 20 km:"
   ]
  },
  {
   "cell_type": "code",
   "execution_count": 32,
   "id": "e36096bd",
   "metadata": {},
   "outputs": [
    {
     "data": {
      "image/png": "[encoded data removed]",
      "text/plain": [
       "<Figure size 640x480 with 2 Axes>"
      ]
     },
     "metadata": {},
     "output_type": "display_data"
    }
   ],
   "source": [
    "import matplotlib.pyplot as plt\n",
    "import seaborn as sns\n",
    "\n",
    "#plt.imshow(distance_matrix, cmap='hot', interpolation='nearest')\n",
    "sns.heatmap(distance_matrix)\n",
    "plt.title('Heatmap of Distance Matrix (km)', fontsize = 16, pad=18) # title with fontsize 20\n",
    "plt.xlabel('Weather station ', fontsize = 13 , labelpad=10) # x-axis label with fontsize 15\n",
    "plt.ylabel('Traffic station ', fontsize = 13 , labelpad=10) # y-axis label with fontsize 15\n",
    "plt.show()"
   ]
  },
  {
   "cell_type": "markdown",
   "id": "c4985b75",
   "metadata": {},
   "source": [
    "Finally, the traffic sensor is associated with the closest meteorological sensor to avoid long distances between both sensors."
   ]
  },
  {
   "cell_type": "code",
   "execution_count": 14,
   "id": "0ffefe5b",
   "metadata": {},
   "outputs": [],
   "source": [
    "import numpy as np\n",
    "\n",
    "distance_table = pd.DataFrame.from_dict({'Distance': distance_matrix.argmin(axis=1), \n",
    "                                            'Closest':np.array(distance_matrix.min(axis=1), dtype=int)})\n",
    "distance_table = distance_table.join(weather_station[[\"weather_station\"]], on=\"Closest\")\n",
    "distance_table[\"traffic_station\"] = distance_table.index"
   ]
  },
  {
   "cell_type": "markdown",
   "id": "6ba88abe",
   "metadata": {},
   "source": [
    "## Month 4: Creating Final table <a class=\"anchor\" id=\"t14\"></a>"
   ]
  },
  {
   "cell_type": "markdown",
   "id": "c69c8492",
   "metadata": {},
   "source": [
    "Once we have prepared the 3 tables -weather, traffic and distance- we put them together:"
   ]
  },
  {
   "cell_type": "code",
   "execution_count": 15,
   "id": "9d1ada5f",
   "metadata": {},
   "outputs": [],
   "source": [
    "# Traffic - Distance Join \n",
    "complete = traffic.merge(distance_table, on=[\"traffic_station\"], how=\"left\")\n",
    "# Complete - Weather Join\n",
    "complete = complete.merge(weather, on=[\"date\", \"weather_station\"], how=\"left\")"
   ]
  },
  {
   "cell_type": "markdown",
   "id": "251f1d74",
   "metadata": {},
   "source": [
    "Finally, we can add the information of the time and the day of the week to study its dependence on the traffic load."
   ]
  },
  {
   "cell_type": "code",
   "execution_count": 16,
   "id": "a9c0e7f9",
   "metadata": {},
   "outputs": [],
   "source": [
    "complete[\"weekday\"] = complete[\"date\"].dt.weekday\n",
    "complete[\"hour\"] = complete[\"date\"].dt.hour"
   ]
  },
  {
   "cell_type": "markdown",
   "id": "0426173c",
   "metadata": {},
   "source": [
    "## Month 5: Data interpretation"
   ]
  },
  {
   "cell_type": "markdown",
   "id": "4d903e74",
   "metadata": {},
   "source": [
    "Durante este mes el equipo ha trabajado en analizar si el clima tiene relación con el tráfico y si esta dependencia es lo suficientemente apreciable como para tenerla en cuenta en nuestro modelo. En este record mostramos los resultados para precipitación aunque se ha realizado un estudio similar con el resto de condiciones meteorológicas. Pero antes filtramos las horas y días con más tráfico. Los días lectivos suelen tener más tráfico que los días festivos. Así como de día suele haber más tráfico que de noche. En la siguiente figura podemos comprobarlo. De lunes a viernes hay más tráfico y de 11 a 20 también. Vemos entonces que existe una fuerte estacionalidad en los datos."
   ]
  },
  {
   "cell_type": "code",
   "execution_count": 36,
   "id": "9a8adbeb",
   "metadata": {},
   "outputs": [
    {
     "data": {
      "image/png": "[encoded data removed]",
      "text/plain": [
       "<Figure size 640x480 with 1 Axes>"
      ]
     },
     "metadata": {},
     "output_type": "display_data"
    }
   ],
   "source": [
    "import matplotlib.pyplot as plt\n",
    "\n",
    "load_per_hour = complete.groupby(\"hour\")[\"load\"].mean().values\n",
    "plt.bar(np.arange(len(load_per_hour)), load_per_hour.reshape(-1))\n",
    "plt.ylabel(\"Load\")\n",
    "plt.xlabel(\"Hour\")\n",
    "plt.show()"
   ]
  },
  {
   "cell_type": "markdown",
   "id": "0acb6911",
   "metadata": {},
   "source": [
    "Los días lectivos suelen tener más tráfico que los días festivos. Así como de día suele haber más tráfico que de noche. En la siguiente figura podemos comprobarlo. De lunes a viernes hay más tráfico y de 11 a 20 también. Vemos entonces que existe una fuerte estacionalidad en los datos."
   ]
  },
  {
   "cell_type": "code",
   "execution_count": 37,
   "id": "99b88b9b",
   "metadata": {},
   "outputs": [
    {
     "data": {
      "image/png": "[encoded data removed]",
      "text/plain": [
       "<Figure size 640x480 with 1 Axes>"
      ]
     },
     "metadata": {},
     "output_type": "display_data"
    }
   ],
   "source": [
    "load_per_weekday = complete.groupby(\"weekday\")[\"load\"].mean().values\n",
    "plt.bar(np.arange(len(load_per_weekday)), load_per_weekday.reshape(-1))\n",
    "plt.ylabel(\"Load\")\n",
    "plt.xlabel(\"Weekday\")\n",
    "plt.show()"
   ]
  },
  {
   "cell_type": "markdown",
   "id": "d486c4ce",
   "metadata": {},
   "source": [
    "Como se puede comprobar los principales problemas de carga se dan entre las 10 a las 20 y de lunes a viernes."
   ]
  },
  {
   "cell_type": "code",
   "execution_count": 17,
   "id": "f4eca0d1",
   "metadata": {},
   "outputs": [],
   "source": [
    "final = complete[(complete[\"weekday\"]<5) & (complete[\"hour\"]>9) & (complete[\"hour\"]<20)].reset_index()"
   ]
  },
  {
   "cell_type": "markdown",
   "id": "e51bc775",
   "metadata": {},
   "source": [
    "**Rainfall-Load dependency**"
   ]
  },
  {
   "cell_type": "markdown",
   "id": "2b1cb4f3",
   "metadata": {},
   "source": [
    "Ahora sí presentamos los resultados del análisis de la dependencia de la precipitación sobre el tráfico. "
   ]
  },
  {
   "cell_type": "code",
   "execution_count": 24,
   "id": "b7c9cb3e",
   "metadata": {
    "scrolled": true
   },
   "outputs": [
    {
     "name": "stdout",
     "output_type": "stream",
     "text": [
      "|       |       rainfall |\n",
      "|:------|---------------:|\n",
      "| count | 841068         |\n",
      "| mean  |      0.0130932 |\n",
      "| std   |      0.194232  |\n",
      "| min   |      0         |\n",
      "| 50%   |      0         |\n",
      "| 90%   |      0         |\n",
      "| 99.9% |      2.9       |\n",
      "| max   |     10.9       |\n"
     ]
    }
   ],
   "source": [
    "print(complete[[\"rainfall\"]].describe(percentiles=[.9, .999]).to_markdown())"
   ]
  },
  {
   "cell_type": "markdown",
   "id": "8152b1d4",
   "metadata": {},
   "source": [
    "Podemos ver en los percentiles de la columna precipitación que hay muy pocas grabaciones con lluvia. Es por esto que se dividieron en distintas clases las mediciones dependiendo del nivel de lluvia e hicimos un análisis por separado:"
   ]
  },
  {
   "cell_type": "code",
   "execution_count": 152,
   "id": "db338823",
   "metadata": {},
   "outputs": [],
   "source": [
    "final[\"rainfall_m\"] = pd.cut(final[\"rainfall\"], [-1, 0.1, 1, np.inf], labels=[\"Normal\",\"Wet\", \"Heavy\"])"
   ]
  },
  {
   "cell_type": "markdown",
   "id": "87b4d483",
   "metadata": {},
   "source": [
    "El análisis se hizo por horas para evitar la dependencia temporal de la carga. Podemos comprobar esto en la siguiente tabla donde el incremento de la media en horas de la congestión de tráfico con lluvia puede ir del 5% al 14%, lo que concuerda con los  estudios presentados en el record [Month 1: Some Reading](#t12)."
   ]
  },
  {
   "cell_type": "code",
   "execution_count": 153,
   "id": "5f9c2eec",
   "metadata": {
    "scrolled": true
   },
   "outputs": [
    {
     "data": {
      "image/png": "[encoded data removed]",
      "text/plain": [
       "<Figure size 640x480 with 1 Axes>"
      ]
     },
     "metadata": {},
     "output_type": "display_data"
    }
   ],
   "source": [
    "import statsmodels.api as sm\n",
    "from statsmodels.formula.api import ols\n",
    "import matplotlib.pyplot as plt\n",
    "\n",
    "lista = []\n",
    "j = [\"Heavy\", \"Wet\", \"Normal\"]\n",
    "for i in j:\n",
    "    t = final[final[\"rainfall_m\"]== i]\n",
    "    lista.append(t[[\"load\",\"hour\"]].groupby([\"hour\"]).agg({'load': 'mean'}).values)\n",
    "    \n",
    "for t, (i, u) in enumerate(zip(lista,j)):\n",
    "    plt.bar(np.arange(10,10+len(i)), i.reshape(-1), label=u, alpha=0.7 + 0.1*t)\n",
    "plt.legend()\n",
    "plt.ylabel(\"load\")\n",
    "plt.xlabel(\"hour\")\n",
    "plt.show()"
   ]
  },
  {
   "cell_type": "markdown",
   "id": "3fe26cf5",
   "metadata": {},
   "source": [
    "Para comprobar que estas diferencias entre grupos son significativas podemos hacer un test anova. Y vemos que en todas las horas existe una gran evidencia de que la carga es diferente entre los distintos tipos de lluvia. Por ejeplo, para la hora 12:"
   ]
  },
  {
   "cell_type": "code",
   "execution_count": 45,
   "id": "973b7864",
   "metadata": {
    "scrolled": true
   },
   "outputs": [
    {
     "name": "stdout",
     "output_type": "stream",
     "text": [
      "|             |          sum_sq |    df |        F |       PR(>F) |\n",
      "|:------------|----------------:|------:|---------:|-------------:|\n",
      "| C(rainfall) | 37650.7         |     6 |  20.1144 |   1.3346e-23 |\n",
      "| Residual    |     8.01363e+06 | 25687 | nan      | nan          |\n"
     ]
    }
   ],
   "source": [
    "from statsmodels.formula.api import ols\n",
    "import statsmodels.api as sm\n",
    "\n",
    "model = ols('load ~ C(rainfall)', data=final[final[\"hour\"]==12]).fit()\n",
    "anova_table = sm.stats.anova_lm(model, typ=2)\n",
    "print(anova_table.to_markdown())"
   ]
  },
  {
   "cell_type": "markdown",
   "id": "afa26be8",
   "metadata": {},
   "source": [
    "Se decidió incluir la precipitación detro del modelo. El resto de condiciones meteorológicas no diereon un resultado tan claro por lo que se dejarán al margen."
   ]
  },
  {
   "cell_type": "markdown",
   "id": "bb6d2440",
   "metadata": {},
   "source": [
    "## Month 6:  Playing with the Model"
   ]
  },
  {
   "cell_type": "markdown",
   "id": "f5a734cc",
   "metadata": {},
   "source": [
    "En este record se presenta un modelo de juguete que utiliza los datos de una sola estación. Utilizamos una red neuronal LSTM de una capa con 5 pasos ..precedidos..  "
   ]
  },
  {
   "cell_type": "code",
   "execution_count": 155,
   "id": "3f6f9829",
   "metadata": {},
   "outputs": [
    {
     "name": "stdout",
     "output_type": "stream",
     "text": [
      "CPU times: total: 797 ms\n",
      "Wall time: 827 ms\n"
     ]
    }
   ],
   "source": [
    "from sklearn.preprocessing import MinMaxScaler\n",
    "from keras.models import Sequential\n",
    "from keras.layers import Dense, LSTM\n",
    "import matplotlib.pyplot as plt\n",
    "\n",
    "# Filtrar:\n",
    "\n",
    "final = complete[(complete[\"weekday\"]<5) & (complete[\"hour\"]>9) & (complete[\"hour\"]<20)].reset_index()\n",
    "final = final[final.groupby('traffic_station')['load'].transform('mean') >= 40]\n",
    "\n",
    "# Modificar. \n",
    "final[\"load\"]/=100\n",
    "scaler = MinMaxScaler()\n",
    "final[[\"rainfall\", \"temperature\"]] = scaler.fit_transform(final.iloc[:, [5,7]])\n",
    "\n",
    "# Crear entrada:\n",
    "    # Estación de tráfico 0: [datos_t0, datos_t1, datos_t2, datos_t3, ...]\n",
    "    # Estación de tráfico 1: [datos_t0, datos_t1, datos_t2, datos_t3, ...]\n",
    "    # ...\n",
    "\n",
    "final = final.set_index(['date'])\n",
    "\n",
    "# De paso creo ya el train y test.\n",
    "# los primeros datos para train y luego a partir del 80 para test\n",
    "# 5: Rainfall, 12: Load, 13: Hour, 14: Weekday\n",
    "train = final.groupby('traffic_station').apply(lambda x: np.array(x[:-80])[:,[5, 12,13,14]].astype(float))\n",
    "test  = final.groupby('traffic_station').apply(lambda x: np.array(x[-80:])[:,[5, 12,13,14]].astype(float))\n",
    "\n",
    "# Separar en Windows, Entrada: La estacion, el dataset y los pasos hacia atras.\n",
    "# La salida: Matriz con shape: Las mediciones que se han hecho en el dataset - los pasos hacia atras, \n",
    "                            #  los pasos hacia atras,\n",
    "                            #  los parametros.\n",
    "def time_window(traffic_station, dataset, look_back=5):\n",
    "    data_X,  data_y= [], []\n",
    "    # Datos estacion\n",
    "    station_data = dataset[traffic_station]\n",
    "    \n",
    "    # Por cada dato en la estacion\n",
    "    for i in range(len(station_data)-look_back-1):\n",
    "        # Guardamos en x una matriz con los datos de las últimas 5 rows (Esto es lo complicado)\n",
    "        data_X.append(station_data[i:(i+look_back)])\n",
    "        # Guardamos en y el último dato de load. Esto en verdad son los load que van desde look_back + 1 hasta el final.\n",
    "        data_y.append(station_data[i+look_back+1, 2])\n",
    "\n",
    "    return np.array(data_X), np.array(data_y)\n",
    "\n",
    "# Utilizamos la funcion\n",
    "train_X, train_y = time_window(3403, train)\n",
    "test_X, test_y = time_window(3403, test)"
   ]
  },
  {
   "cell_type": "code",
   "execution_count": null,
   "id": "b5053f00",
   "metadata": {},
   "outputs": [],
   "source": [
    "# design network\n",
    "model = Sequential()\n",
    "\n",
    "model.add(LSTM(units = 50, return_sequences=True, input_shape=[None,5]))\n",
    "model.add(Dense(units = 1))\n",
    "\n",
    "model.compile(loss='mae', optimizer='adam')\n",
    "\n",
    "# fit network\n",
    "history = model.fit(train_X, train_y, epochs=3, batch_size=64, validation_data=(test_X, test_y), verbose=1, shuffle=False)\n",
    "\n",
    "# plot history\n",
    "plt.plot(history.history['loss'], label='train')\n",
    "plt.plot(history.history['val_loss'], label='test')\n",
    "\n",
    "plt.legend()\n",
    "plt.show()"
   ]
  }
 ],
 "metadata": {
  "kernelspec": {
   "display_name": "Python 3 (ipykernel)",
   "language": "python",
   "name": "python3"
  },
  "language_info": {
   "codemirror_mode": {
    "name": "ipython",
    "version": 3
   },
   "file_extension": ".py",
   "mimetype": "text/x-python",
   "name": "python",
   "nbconvert_exporter": "python",
   "pygments_lexer": "ipython3",
   "version": "3.8.16"
  }
 },
 "nbformat": 4,
 "nbformat_minor": 5
}
