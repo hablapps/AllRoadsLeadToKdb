{
 "cells": [
  {
   "cell_type": "markdown",
   "id": "55df484f",
   "metadata": {},
   "source": [
    "# The Project <a class=\"anchor\" id=\"t1\"></a>\n",
    "\n",
    "A year ago, our team at the fictional company Mad Flow embarked on a new exiting project. Our primary objective was to create a real-time traffic forecasting system by leveraging heterogeneous data from smart-cities. Traffic analysis has become a vital component of smart cities, enabling enhanced road management and governance through improved traffic insights. \n",
    "\n",
    "Throughout the project's development, we encountered technical limitations that prevented us from solely relying on Pandas and plain Python. Our solution emerged through PyKX and Kdb+/q, a journey that's detailed in the post [All Roads Lead to Kdb](https://www.habla.dev/blog/2023/07/31/all-roads-lead-to-pykx.html).\n",
    "\n",
    "In this technical report, we will outline the process of migrating our code to the KX platforms. Before delving into the implementation details, we will first present the use case and the current status of our project. Then, we will talk about the q embedding on Python and vice versa and, since we did the migration twice (once to PyKX and again to pykx.q), the technical details of both implementations. By sharing our experiences with Kdb+/q and PyKX, we hope to shed light on the positive impact these tools have had on our endeavor.\n",
    "\n",
    "<div class=\"alert alert-block alert-info\">\n",
    "    <b> 🔍 You can find <a href=\"https://github.com/hablapps/AllRoadsLeadToPyKX/blob/Python-Version-Pre/AllRoadsLeadToPyKX.md\">Original Python Project</a> on Github. \n",
    "</div>\n",
    "\n",
    "This is the **outline** of the report: \n",
    "    \n",
    "[**The project**](#t1)   \n",
    "  [**The Use Case**](#t11)   \n",
    "  [**The Data**](#t12)   \n",
    "  [**The Cleaning**](#t13)   \n",
    "  [**The Final Table**](#t14)   \n",
    "  [**The Interpretation**](#t15)   \n",
    "[**PyKX migration:**](#t2)   \n",
    "  [**PyKX saving the day!**](#t21)   \n",
    "  [**Datasets**](#t23)   \n",
    "  [**Model**](#t24)   \n",
    "[**pykx.q migration**](#t3)   \n",
    "[**Final thoughts**](#t4)\n",
    "    \n",
    "## The Use Case <a class=\"anchor\" id=\"t11\"></a>\n",
    "    \n",
    "In the project's initial phase, our objective was to prepare and ingest the data into an LSTM model. As is usual in projects associated with smart cities, the data is notably heterogeneous, demanding substantial preparatory efforts. Data on weather and traffic in the city of Madrid will be used. \n",
    "\n",
    "Although this project is novel in the city of Madrid, there are many articles that support it. For example, [F. Malik et al.](https://www.mdpi.com/1424-8220/20/13/3749) forecasted traffic in Madrid based on air pollution through a model based on LSTM.\n",
    "   \n",
    "Regarding the weather and traffic correlation there are numerous studies, with a particular focus on rainfall.While none of these studies are conducted specifically in Madrid, they have been carried out in various major cities like Manchester ([A. Essien et al.](https://pure.manchester.ac.uk/ws/portalfiles/portal/72721911/DEXA_Camera_8_pages.pdf)), Shenzhen ([Y. Yao et al.](https://ieeexplore.ieee.org/document/8964560)), Belgrade ([M. Vidas et al.](https://www.safetylit.org/citations/index.php?fuseaction=citations.viewdetails&citationIds[]=citjournalarticle_716898_14)). The results of these studies anticipate a weekday traffic volume increase of 5-15% during peak hours.\n",
    "    \n",
    "We found several blogs in [KX developer](https://kx.com/resources/developer-blog/)  related to the use of PyKX over Pandas, such as [A. Morrison](https://kx.com/blog/accelerating-python-workflows-using-pykx/) where he uses PyKX in the field of financial services. This article shows a big speed advantage of PyKX over Pandas.\n",
    "    \n",
    "## The Data <a class=\"anchor\" id=\"t12\"></a>\n",
    "\n",
    "\n",
    "The [Madrid City Council](https://datos.madrid.es/portal/site/egob) provides weather and traffic data for Madrid, encompassing both real-time and historical records. For model training purposes, only the historical data is required. This data, formatted in CSV, is categorized by months from the year 2018 to the present.\n",
    "\n",
    "**Weather**\n",
    "\n",
    "Stations positioned across the city of Madrid capture [weather data](https://datos.madrid.es/egob/catalogo/300352-141-meteorologicos-horarios.csv) (**Click to download**), which is presented in the following table:\n",
    "\n",
    "\n",
    "\n",
    "|    |   weather_station |   magnitude |   year |   month |   day |    H01 | V01   | ...|\n",
    "|---:|------------------:|-----------:|-------:|--------:|------:|-------:|------:|:------|\n",
    "|  0 |               108 |         81 |   2022 |      12 |    22 |  270   | N     | ...|\n",
    "|  1 |               108 |         82 |   2022 |      12 |    22 |    9   | N     |...|\n",
    "|  2 |               108 |         83 |   2022 |      12 |    22 |   94.7 | N     |...|\n",
    "|  3 |               108 |         86 |   2022 |      12 |    22 | 1031   | N     |...|\n",
    "|  4 |               108 |         87 |   2022 |      12 |    22 |    2   | N     |...|\n",
    "\n",
    "\n",
    "The documentation informs us that the 'magnitude' column indicates the type of meteorological data recorded in the respective row:\n",
    "\n",
    "    · 80: ultraviolet\n",
    "    · 81: wind\n",
    "    · 82: direction\n",
    "    · 83: temperature\n",
    "    · 86: humidity\n",
    "    · 87: pressure\n",
    "    · 88: solar\n",
    "    · 89: rainfall\n",
    "    \n",
    "For each hour, there are two columns: the first provides the value for the data type indicated by the 'magnitude' column, along with its validity status. Additionally, there are columns associated with the time at which the measurement is recorded.\"\n",
    "\n",
    "there's the identifier of the meteorological station, which can be correlated with its coordinates using another table provided by the Madrid City Council.\n",
    "\n",
    "Finally, there's the identifier of the meteorological station, which can be correlated with its coordinates using the [weather stations](https://datos.madrid.es/egob/catalogo/300360-1-meteorologicos-estaciones.csv) table provided by the Madrid City Council:\n",
    "\n",
    "|    |   weather_station |   Longitude |   Latitude |\n",
    "|---:|------------------:|------------:|-----------:|\n",
    "|  0 |                 4 |    -3.71226 |    40.4239 |\n",
    "|  1 |                 8 |    -3.68232 |    40.4216 |\n",
    "|  2 |                16 |    -3.63924 |    40.44   |\n",
    "|  3 |                18 |    -3.73184 |    40.3948 |\n",
    "|  4 |                24 |    -3.74734 |    40.4194 |\n",
    "\n",
    "**Traffic**\n",
    "\n",
    "Traffic sensors are located at traffic lights across the city of Madrid. The collected data gathers various measurements of the road conditions, including speed and traffic volume. All of these metrics are encapsulated in the 'load' metric, represented as a percentage that quantifies congestion. The structure of the [traffic table]() is as follows: \n",
    "    \n",
    "Traffic sensors are located at traffic lights in the city of Madrid. The data obtained is made up of several measurements of the road situation such as speed or traffic volume. All of these metrics are coded into the \"load\" metric (a percentage that measures congestion). The [traffic table](https://datos.madrid.es/egob/catalogo/208627-115-transporte-ptomedida-historico.zip) head is:\n",
    "\n",
    "|    |   traffic_station | tipo_elem   |   intensidad |   ocupacion |   load |   vmed | error   |   periodo_integracion | date                |\n",
    "|---:|------------------:|:------------|-------------:|------------:|-------:|-------:|:--------|----------------------:|:--------------------|\n",
    "|  0 |              1001 | M30         |         3240 |           9 |      0 |     59 | N       |                     5 | 2022-12-01 00:00:00 |\n",
    "|  1 |              1001 | M30         |         3240 |           9 |      0 |     59 | N       |                     5 | 2022-12-01 00:15:00 |\n",
    "|  2 |              1001 | M30         |          300 |           1 |      0 |     66 | N       |                     5 | 2022-12-01 00:30:00 |\n",
    "\n",
    "\n",
    "The table also contains a column for the date and another that identifies the sensor that will be used to link it with its coordinates using the next [traffic stations table](https://datos.madrid.es/egob/catalogo/202468-170-intensidad-trafico.csv):\n",
    "\n",
    "|    | \"tipo_elem\"   |   \"distrito\" |   \"id\" | \"cod_cent\"   | \"nombre\"                                                          |   \"utm_x\" |     \"utm_y\" |   Longitude |   Latitude |\n",
    "|---:|:--------------|-------------:|-------:|:-------------|:------------------------------------------------------------------|----------:|------------:|------------:|-----------:|\n",
    "|  0 | \"URB\"         |            4 |   3840 | \"01001\"      | \"Jose Ortega y Gasset E-O - Pº Castellana-Serrano\"                |    441615 | 4.47577e+06 |    -3.68832 |    40.4305 |\n",
    "|  1 | \"URB\"         |            4 |   3841 | \"01002\"      | \"Jose Ortega y Gasset O-E - Serrano-Pº Castellana\"                |    441706 | 4.47577e+06 |    -3.68726 |    40.4305 |\n",
    "|  2 | \"URB\"         |            1 |   3842 | \"01003\"      | \"Pº Recoletos N-S - Almirante-Prim\"                               |    441319 | 4.47484e+06 |    -3.69173 |    40.4221 |\n",
    "    \n",
    "## The Cleaning  <a class=\"anchor\" id=\"t13\"></a>\n",
    "\n",
    "After loading the data, the next step was to prepare it for analysis and modeling. Given the heterogeneous nature of the datasets, data cleaning will be performed separately, and the data will be consolidated into a single table at a later stage.\n",
    "\n",
    "#### Weather\n",
    "\n",
    "The steps followed to clean the climate table are:\n",
    "\n",
    "1. In the weather dataset we first have the date separated into day, month and year, but in traffic all these data are together. This is why the columns have been grouped into a date column of shape: ```day-month-year```. \n",
    "\n",
    "2. We also transform each hour value measurement and its validity into independent rows and take the opportunity to remove invalid measurements:\n",
    "\n",
    "|       | hour            |   value |\n",
    "|------:|:----------------|--------:|\n",
    "|     0 | 0 days 00:00:00 |    7.1  |\n",
    "|     1 | 0 days 00:00:00 |    6.8  |\n",
    "|     2 | 0 days 00:00:00 |    2.8  |\n",
    "|     3 | 0 days 00:00:00 |    5.6  |\n",
    "\n",
    "3. To homogenize the time measure with the traffic table we join the date with the time. The new date shape is ```date-month-year hour:minute:second```\n",
    "\n",
    "4. Finally, we convert the different types of measurement into columns so that it looks more organized:\n",
    "\n",
    "|      | date                |   weather_station |   direction |   humidity |   pressure |   rainfall |   solar |   temperature |   wind |\n",
    "|-----:|:--------------------|------------------:|------------:|-----------:|-----------:|-----------:|--------:|--------------:|-------:|\n",
    "|    0 | 2022-12-01 00:00:00 |                 4 |           0 |          0 |          0 |        0   |       0 |           7.1 |   0    |\n",
    "|    1 | 2022-12-01 00:00:00 |                 8 |           0 |         67 |          0 |        0   |       0 |           9.4 |   0    |\n",
    "|    2 | 2022-12-01 00:00:00 |                16 |           0 |         73 |          0 |        0   |       0 |           8.9 |   0    |\n",
    "\n",
    "#### Traffic\n",
    "\n",
    "Regarding the traffic table, the steps followed were the following:\n",
    "\n",
    "1. First we filter out the values with measurement errors. In the documentation they tell us that these values are represented with an \"N\". \n",
    "\n",
    "2. We only keep the load measurement, which is what we are interested in for the analysis.\n",
    "\n",
    "3. We group the values for each date and station and calculate the average.\n",
    "\n",
    "The average time for loading and processing a month of traffic information is **43.9 s**. The team was concerned about the slowness and the possible effect it will have on real-time data processing.\n",
    "\n",
    "**Location**\n",
    "\n",
    "In order to combine the two previous tables, it's necessary to establish a correspondence between the traffic sensors and the weather stations. This can be achieved by employing a distance matrix and identifying the nearest pairs among the two types of station.  While direct measurement of this distance using coordinates is possible, we opted for the [Haversine distance](https://en.wikipedia.org/wiki/Haversine_formula) which calculates the distance in meters between a pair of coordinates, offering a clearer representation of distances.  This can be observed in the following heatmap, where the distances range from 0 to 20 km:\n",
    "\n",
    "<figure>\n",
    "<img src=\"image_source/heatmap3.png\">\n",
    "<figcaption style = \"text-align: center\"> <b>Figure 1:</b> Heatmap of distances in km between weather and traffic stations </figcaption>\n",
    "</figure>\n",
    "    \n",
    "## The Final Table <a class=\"anchor\" id=\"t14\"></a>\n",
    "\n",
    "After preparing the three tables - weather, traffic, and distance - we merge them. Since the weather table has time intervals of 1 hour, whereas the traffic data is in 15-minute intervals, we will combine these tables using an 'asof' join. Ultimately, we can incorporate time and day-of-the-week information to analyze its relationship with traffic congestion.\n",
    "\n",
    "|    | date                |   traffic_station |   load |   Distance |   Closest |   weather_station |   direction |   humidity |   pressure |   rainfall |   solar |   temperature |   wind |   weekday |   hour |\n",
    "|---:|:--------------------|------------------:|-------:|-----------:|----------:|------------------:|------------:|-----------:|-----------:|-----------:|--------:|--------------:|-------:|----------:|-------:|\n",
    "|  0 | 2022-12-01 00:00:00 |              1001 |      0 |         15 |         1 |                 8 |           0 |         67 |          0 |          0 |       0 |           9.4 |      0 |         3 |      0 |\n",
    "|  1 | 2022-12-01 00:00:00 |              1002 |      0 |         15 |         1 |                 8 |           0 |         67 |          0 |          0 |       0 |           9.4 |      0 |         3 |      0 |\n",
    "|  2 | 2022-12-01 00:00:00 |              1003 |      0 |         14 |         1 |                 8 |           0 |         67 |          0 |          0 |       0 |           9.4 |      0 |         3 |      0 |\n",
    "|  3 | 2022-12-01 00:00:00 |              1006 |      0 |         15 |         1 |                 8 |           0 |         67 |          0 |          0 |       0 |           9.4 |      0 |         3 |      0 |\n",
    "|  4 | 2022-12-01 00:00:00 |              1009 |      0 |         14 |         0 |                 4 |           0 |          0 |          0 |          0 |       0 |           7.1 |      0 |         3 |      0 |\n",
    "    \n",
    "    \n",
    "## Data interpretation <a class=\"anchor\" id=\"t15\"></a>\n",
    "\n",
    "Traffic is highly time-dependent. The data will be filtered to extract the peak moments where traffic typically is heavier. This will enhance our understanding of the data. Weekdays tend to have more traffic than holidays, just as daytime have higher traffic flow than nighttime. In the following figure underscores the evident seasonality within the dataset:\n",
    "\n",
    "<table>\n",
    "    <tr>\n",
    "    <td style='text-align:center;'>\n",
    "<figure>\n",
    "<img src=\"image_source/loadperhour.png\">\n",
    "<figcaption style = \"text-align: center\">   <b>Figure 2:</b> Load per Hour </figcaption>\n",
    "</figure>\n",
    " </td>\n",
    "    <td>\n",
    "<figure>\n",
    "<img src=\"image_source/loadperweekday.png\">\n",
    "<figcaption style = \"text-align: center\">   <b>Figure 3:</b> Load per Weekday </figcaption>\n",
    "</figure>\n",
    "            </td>\n",
    "    </tr>\n",
    "</table>\n",
    "\n",
    "Regarding the Rainfall-Load dependency we started seeing that rainy days are very few on our dataset:\n",
    "\n",
    "|       |       rainfall |\n",
    "|:------|---------------:|\n",
    "| count | 841068         |\n",
    "| mean  |      0.0130932 |\n",
    "| std   |      0.194232  |\n",
    "| min   |      0         |\n",
    "| 50%   |      0         |\n",
    "| 90%   |      0         |\n",
    "| 99.9% |      2.9       |\n",
    "| max   |     10.9       |\n",
    "\n",
    "Examining the percentiles of the precipitation column, it becomes evident that there are very few recordings with rain. To address this, measurements were categorized into distinct classes based on the intensity of rain. Consequently, a separate analysis was conducted for data involving heavy rain, moderate to light rain, and no rain. The analysis was done hourly to mitigate the temporal dependence of traffic. The average increase in traffic congestion hours due to rain ranges from 5% to 14%%, consistent with the studies presented in [the Use Case](#t12) chapter.\n",
    "\n",
    "<figure>\n",
    "<img src=\"image_source/rainfall.png\">\n",
    "<figcaption style = \"text-align: center\"> <b>Figure 4:</b> The average traffic load per hour for the measurements with heavy rain (blue), moderate rain (brown) and no rain (green).</figcaption>\n",
    "</figure>\n",
    "\n",
    "To verify that these differences between groups are significant, we can perform an anova test. And we see that in all hours there is great evidence that the load is different between the different levels of rain. For example, for hour 12:\n",
    "\n",
    "|             |          sum_sq |    df |        F |       PR(>F) |\n",
    "|:------------|----------------:|------:|---------:|-------------:|\n",
    "| C(rainfall) | 37650.7         |     6 |  20.1144 |   1.3346e-23 |\n",
    "| Residual    |     8.01363e+06 | 25687 | nan      | nan          |\n",
    "\n",
    "It was decided to include rainfall within the model. The rest of the meteorological conditions did not give such a clear result, so they were left out.\n",
    "\n",
    "## The Model <a class=\"anchor\" id=\"t16\"></a>\n",
    "\n",
    "To assess performance, we created a toy model using a simple LSTM with 5-step memory to predict the load at a specific traffic station. The input includes the precedings data of the load, the rainfall, the hour and day of the week. The results for a single station seem quite positive as can be seen in [Graph 6](#Image61). However, the computational expenses for an individual station and a single month data is unaffordable for the project budget. Furthermore, the preprocessing demands an excessive amount of time, rendering it impractical for real-time application.\n",
    "\n",
    "<table> <a class=\"anchor\" id=\"Image61\"></a>\n",
    "    <tr>\n",
    "    <td style='text-align:center;'>\n",
    "<figure>\n",
    "<img src=\"image_source/loss_graph_p.png\">\n",
    "<figcaption style = \"text-align: center\">   <b>Figure 5:</b> Train vs Test loss plot  </figcaption>\n",
    "</figure>\n",
    " </td>\n",
    "    <td>\n",
    "<figure>\n",
    "<img src=\"image_source/fc_p.png\">\n",
    "<figcaption style = \"text-align: center\">   <b>Figure 6:</b> Traffic Forecasting for a traffic station </figcaption>\n",
    "</figure>\n",
    "            </td>\n",
    "    </tr>\n",
    "</table>\n"
   ]
  },
  {
   "cell_type": "markdown",
   "id": "410c126d",
   "metadata": {},
   "source": []
  },
  {
   "cell_type": "markdown",
   "id": "f2dc637c",
   "metadata": {},
   "source": [
    "# PyKX migration <a class=\"anchor\" id=\"t2\"></a>"
   ]
  },
  {
   "cell_type": "markdown",
   "id": "187610f7",
   "metadata": {},
   "source": [
    "Now that we have cleared out the project's goal, we will explain the steps that have been taken for the code migration, which include a training stage in q and pykx for the team, the datasets loading and cleaning and the model ingestion. But first of all we need to install and import PyKx:"
   ]
  },
  {
   "cell_type": "code",
   "execution_count": 1,
   "id": "ca9d75a8",
   "metadata": {},
   "outputs": [
    {
     "name": "stdout",
     "output_type": "stream",
     "text": [
      "Requirement already satisfied: pykx in c:\\users\\marco\\anaconda3\\envs\\py10\\lib\\site-packages (1.6.0)\n",
      "Requirement already satisfied: pytz~=2022.1 in c:\\users\\marco\\anaconda3\\envs\\py10\\lib\\site-packages (from pykx) (2022.7)\n",
      "Requirement already satisfied: numpy~=1.22 in c:\\users\\marco\\anaconda3\\envs\\py10\\lib\\site-packages (from pykx) (1.23.5)\n",
      "Requirement already satisfied: pandas~=1.2 in c:\\users\\marco\\anaconda3\\envs\\py10\\lib\\site-packages (from pykx) (1.5.3)\n",
      "Requirement already satisfied: python-dateutil>=2.8.1 in c:\\users\\marco\\anaconda3\\envs\\py10\\lib\\site-packages (from pandas~=1.2->pykx) (2.8.2)\n",
      "Requirement already satisfied: six>=1.5 in c:\\users\\marco\\anaconda3\\envs\\py10\\lib\\site-packages (from python-dateutil>=2.8.1->pandas~=1.2->pykx) (1.16.0)\n"
     ]
    }
   ],
   "source": [
    "!pip install pykx"
   ]
  },
  {
   "cell_type": "code",
   "execution_count": 1,
   "id": "3a7436e4",
   "metadata": {},
   "outputs": [],
   "source": [
    "import pykx as kx"
   ]
  },
  {
   "cell_type": "markdown",
   "id": "06620b3f",
   "metadata": {},
   "source": [
    "<div class=\"alert alert-block alert-info\">\n",
    "<b> 🔍 A license is required to use some of the following features. You can find more information in <a href=\"https://code.kx.com/pykx/1.6/getting-started/installing.html\">\n",
    "            PyKX installation documentation</a>. \n",
    "</div>"
   ]
  },
  {
   "cell_type": "markdown",
   "id": "1d055272",
   "metadata": {},
   "source": [
    "## Learning PyKX <a class=\"anchor\" id=\"t21\"></a>"
   ]
  },
  {
   "cell_type": "markdown",
   "id": "6203a823",
   "metadata": {},
   "source": [
    "Before starting the project, the Mad Flow team received training from [Habla Computing](https://hablapps.com/) on q and PyKX. After this introduction to KX platforms, some of the developers fell in love with q, while others felt more comfortable in the Python ecosystem. PyKX is designed so that these two profiles coexist in the same development environment. The team has compiled perspectives on programming with PyKX along with various techniques they discovered during training:\n",
    "\n",
    "* **[Useful Read/Write Functions](https://code.kx.com/pykx/1.6/api/read.html)**\n",
    "\n",
    ">*\"PyKX offers several functions that help loading and writing data, they are very versatile and the parameters are very intuitive.\"* - Félix Functor"
   ]
  },
  {
   "cell_type": "code",
   "execution_count": 2,
   "id": "e8d5fb4d",
   "metadata": {},
   "outputs": [],
   "source": [
    "traffic_station = kx.q.read.csv('../pmed_ubicacion_12-2022.csv', types = \"SII**FFFF\", delimiter = \";\", as_table=True)"
   ]
  },
  {
   "cell_type": "code",
   "execution_count": 3,
   "id": "9e4cfaed",
   "metadata": {},
   "outputs": [
    {
     "data": {
      "text/html": [
       "<div>\n",
       "<style scoped>\n",
       "    .dataframe tbody tr th:only-of-type {\n",
       "        vertical-align: middle;\n",
       "    }\n",
       "\n",
       "    .dataframe tbody tr th {\n",
       "        vertical-align: top;\n",
       "    }\n",
       "\n",
       "    .dataframe thead th {\n",
       "        text-align: right;\n",
       "    }\n",
       "</style>\n",
       "<table border=\"1\" class=\"dataframe\">\n",
       "  <thead>\n",
       "    <tr style=\"text-align: right;\">\n",
       "      <th></th>\n",
       "      <th>tipo_elem</th>\n",
       "      <th>distrito</th>\n",
       "      <th>id</th>\n",
       "      <th>cod_cent</th>\n",
       "      <th>nombre</th>\n",
       "      <th>utm_x</th>\n",
       "      <th>utm_y</th>\n",
       "      <th>longitud</th>\n",
       "      <th>latitud</th>\n",
       "    </tr>\n",
       "  </thead>\n",
       "  <tbody>\n",
       "    <tr>\n",
       "      <th>0</th>\n",
       "      <td>URB</td>\n",
       "      <td>4</td>\n",
       "      <td>3840</td>\n",
       "      <td>b'01001'</td>\n",
       "      <td>b'Jose Ortega y Gasset E-O - P\\xc2\\xba Castell...</td>\n",
       "      <td>441615.343347</td>\n",
       "      <td>4.475768e+06</td>\n",
       "      <td>-3.688323</td>\n",
       "      <td>40.430502</td>\n",
       "    </tr>\n",
       "    <tr>\n",
       "      <th>1</th>\n",
       "      <td>URB</td>\n",
       "      <td>4</td>\n",
       "      <td>3841</td>\n",
       "      <td>b'01002'</td>\n",
       "      <td>b'Jose Ortega y Gasset O-E - Serrano-P\\xc2\\xba...</td>\n",
       "      <td>441705.882340</td>\n",
       "      <td>4.475770e+06</td>\n",
       "      <td>-3.687256</td>\n",
       "      <td>40.430524</td>\n",
       "    </tr>\n",
       "    <tr>\n",
       "      <th>2</th>\n",
       "      <td>URB</td>\n",
       "      <td>1</td>\n",
       "      <td>3842</td>\n",
       "      <td>b'01003'</td>\n",
       "      <td>b'P\\xc2\\xba Recoletos N-S - Almirante-Prim'</td>\n",
       "      <td>441319.371258</td>\n",
       "      <td>4.474841e+06</td>\n",
       "      <td>-3.691727</td>\n",
       "      <td>40.422132</td>\n",
       "    </tr>\n",
       "  </tbody>\n",
       "</table>\n",
       "</div>"
      ],
      "text/plain": [
       "  tipo_elem  distrito    id  cod_cent  \\\n",
       "0       URB         4  3840  b'01001'   \n",
       "1       URB         4  3841  b'01002'   \n",
       "2       URB         1  3842  b'01003'   \n",
       "\n",
       "                                              nombre          utm_x  \\\n",
       "0  b'Jose Ortega y Gasset E-O - P\\xc2\\xba Castell...  441615.343347   \n",
       "1  b'Jose Ortega y Gasset O-E - Serrano-P\\xc2\\xba...  441705.882340   \n",
       "2        b'P\\xc2\\xba Recoletos N-S - Almirante-Prim'  441319.371258   \n",
       "\n",
       "          utm_y  longitud    latitud  \n",
       "0  4.475768e+06 -3.688323  40.430502  \n",
       "1  4.475770e+06 -3.687256  40.430524  \n",
       "2  4.474841e+06 -3.691727  40.422132  "
      ]
     },
     "execution_count": 3,
     "metadata": {},
     "output_type": "execute_result"
    }
   ],
   "source": [
    "traffic_station[:3].pd()"
   ]
  },
  {
   "cell_type": "markdown",
   "id": "e2c350ae",
   "metadata": {},
   "source": [
    "* **[Use pythonic indexing](https://code.kx.com/pykx/1.6/user-guide/fundamentals/indexing.html)**\n",
    "\n",
    "> *\"Accessing data from q objects such as lists or tables from python can be done with indexing similar to what you can use in numpy or pandas. This has made my job much easier.\"* - Jesús Lambda"
   ]
  },
  {
   "cell_type": "code",
   "execution_count": 4,
   "id": "4e9a11fb",
   "metadata": {},
   "outputs": [
    {
     "name": "stdout",
     "output_type": "stream",
     "text": [
      "40.4305 40.43052 40.42213 40.42143 40.43378\n"
     ]
    }
   ],
   "source": [
    "elem = traffic_station[\"tipo_elem\"]\n",
    "lat = traffic_station[\"latitud\"]\n",
    "print(lat[:5])"
   ]
  },
  {
   "cell_type": "markdown",
   "id": "071abcc3",
   "metadata": {},
   "source": [
    "* **[Use q functions]()**\n",
    "\n",
    "> *\"For those like me who want to delve into the q language and gain experience, you can use language functions, ...*"
   ]
  },
  {
   "cell_type": "code",
   "execution_count": 5,
   "id": "4a2a266b",
   "metadata": {},
   "outputs": [
    {
     "name": "stdout",
     "output_type": "stream",
     "text": [
      "`URB`other`M30\n"
     ]
    }
   ],
   "source": [
    "distinct = kx.q(\"distinct\", elem) # unique values in the list\n",
    "print(distinct) "
   ]
  },
  {
   "cell_type": "markdown",
   "id": "8072785f",
   "metadata": {},
   "source": [
    "> *... iterate over them ...*"
   ]
  },
  {
   "cell_type": "code",
   "execution_count": 6,
   "id": "6663901b",
   "metadata": {},
   "outputs": [
    {
     "name": "stdout",
     "output_type": "stream",
     "text": [
      "`urb`other`m30\n"
     ]
    }
   ],
   "source": [
    "print(kx.q(\"lower\").each(distinct)) # lower case unique values of the list"
   ]
  },
  {
   "cell_type": "markdown",
   "id": "f32fc5e5",
   "metadata": {},
   "source": [
    ">*... or even create and use them with pykx objects.\"* - Eloy Projection"
   ]
  },
  {
   "cell_type": "code",
   "execution_count": 7,
   "id": "3dd56dce",
   "metadata": {},
   "outputs": [
    {
     "name": "stdout",
     "output_type": "stream",
     "text": [
      "URB  | 4266\n",
      "other| 128\n",
      "M30  | 296\n"
     ]
    }
   ],
   "source": [
    "print(kx.q(\"{u !(sum x=) each u:distinct x}\", elem)) # Count the occurrences of distinct values"
   ]
  },
  {
   "cell_type": "markdown",
   "id": "2137ac6e",
   "metadata": {},
   "source": [
    "* **Use [Numpy](https://code.kx.com/pykx/1.6/user-guide/advanced/numpy.html) and  [Pandas](https://code.kx.com/pykx/1.6/user-guide/advanced/Pandas_API.html)**\n",
    "\n",
    "> *\"Those of us who are not yet so familiar with the ecosystem that we can continue using part of the functionality of Numpy (universal functions)...*"
   ]
  },
  {
   "cell_type": "code",
   "execution_count": 10,
   "id": "13bac20b",
   "metadata": {},
   "outputs": [
    {
     "name": "stdout",
     "output_type": "stream",
     "text": [
      "40.42871\n"
     ]
    }
   ],
   "source": [
    "import numpy as np\n",
    "\n",
    "def numpy_mean(arr):\n",
    "    return np.add.reduce(arr) / len(lat)\n",
    "\n",
    "print(numpy_mean(lat))"
   ]
  },
  {
   "cell_type": "markdown",
   "id": "47f19ec0",
   "metadata": {},
   "source": [
    ">*... and from pandas via the Pandas API.\"* - Emma Doric"
   ]
  },
  {
   "cell_type": "code",
   "execution_count": 18,
   "id": "d206f535",
   "metadata": {},
   "outputs": [
    {
     "data": {
      "text/html": [
       "<div>\n",
       "<style scoped>\n",
       "    .dataframe tbody tr th:only-of-type {\n",
       "        vertical-align: middle;\n",
       "    }\n",
       "\n",
       "    .dataframe tbody tr th {\n",
       "        vertical-align: top;\n",
       "    }\n",
       "\n",
       "    .dataframe thead th {\n",
       "        text-align: right;\n",
       "    }\n",
       "</style>\n",
       "<table border=\"1\" class=\"dataframe\">\n",
       "  <thead>\n",
       "    <tr style=\"text-align: right;\">\n",
       "      <th></th>\n",
       "      <th>tipo_elem</th>\n",
       "      <th>distrito</th>\n",
       "      <th>id</th>\n",
       "      <th>cod_cent</th>\n",
       "      <th>nombre</th>\n",
       "      <th>utm_x</th>\n",
       "      <th>utm_y</th>\n",
       "      <th>longitud</th>\n",
       "      <th>latitud</th>\n",
       "    </tr>\n",
       "  </thead>\n",
       "  <tbody>\n",
       "    <tr>\n",
       "      <th>0</th>\n",
       "      <td>URB</td>\n",
       "      <td>4</td>\n",
       "      <td>3840</td>\n",
       "      <td>b'01001'</td>\n",
       "      <td>b'Jose Ortega y Gasset E-O - P\\xc2\\xba Castell...</td>\n",
       "      <td>441615.343347</td>\n",
       "      <td>4.475768e+06</td>\n",
       "      <td>-3.688323</td>\n",
       "      <td>40.430502</td>\n",
       "    </tr>\n",
       "    <tr>\n",
       "      <th>1</th>\n",
       "      <td>URB</td>\n",
       "      <td>4</td>\n",
       "      <td>3840</td>\n",
       "      <td>b'01001'</td>\n",
       "      <td>b'Jose Ortega y Gasset E-O - P\\xc2\\xba Castell...</td>\n",
       "      <td>441615.343347</td>\n",
       "      <td>4.475768e+06</td>\n",
       "      <td>-3.688323</td>\n",
       "      <td>40.430502</td>\n",
       "    </tr>\n",
       "    <tr>\n",
       "      <th>2</th>\n",
       "      <td>URB</td>\n",
       "      <td>4</td>\n",
       "      <td>3840</td>\n",
       "      <td>b'01001'</td>\n",
       "      <td>b'Jose Ortega y Gasset E-O - P\\xc2\\xba Castell...</td>\n",
       "      <td>441615.343347</td>\n",
       "      <td>4.475768e+06</td>\n",
       "      <td>-3.688323</td>\n",
       "      <td>40.430502</td>\n",
       "    </tr>\n",
       "    <tr>\n",
       "      <th>3</th>\n",
       "      <td>URB</td>\n",
       "      <td>4</td>\n",
       "      <td>3840</td>\n",
       "      <td>b'01001'</td>\n",
       "      <td>b'Jose Ortega y Gasset E-O - P\\xc2\\xba Castell...</td>\n",
       "      <td>441615.343347</td>\n",
       "      <td>4.475768e+06</td>\n",
       "      <td>-3.688323</td>\n",
       "      <td>40.430502</td>\n",
       "    </tr>\n",
       "    <tr>\n",
       "      <th>4</th>\n",
       "      <td>URB</td>\n",
       "      <td>4</td>\n",
       "      <td>3840</td>\n",
       "      <td>b'01001'</td>\n",
       "      <td>b'Jose Ortega y Gasset E-O - P\\xc2\\xba Castell...</td>\n",
       "      <td>441615.343347</td>\n",
       "      <td>4.475768e+06</td>\n",
       "      <td>-3.688323</td>\n",
       "      <td>40.430502</td>\n",
       "    </tr>\n",
       "  </tbody>\n",
       "</table>\n",
       "</div>"
      ],
      "text/plain": [
       "  tipo_elem  distrito    id  cod_cent  \\\n",
       "0       URB         4  3840  b'01001'   \n",
       "1       URB         4  3840  b'01001'   \n",
       "2       URB         4  3840  b'01001'   \n",
       "3       URB         4  3840  b'01001'   \n",
       "4       URB         4  3840  b'01001'   \n",
       "\n",
       "                                              nombre          utm_x  \\\n",
       "0  b'Jose Ortega y Gasset E-O - P\\xc2\\xba Castell...  441615.343347   \n",
       "1  b'Jose Ortega y Gasset E-O - P\\xc2\\xba Castell...  441615.343347   \n",
       "2  b'Jose Ortega y Gasset E-O - P\\xc2\\xba Castell...  441615.343347   \n",
       "3  b'Jose Ortega y Gasset E-O - P\\xc2\\xba Castell...  441615.343347   \n",
       "4  b'Jose Ortega y Gasset E-O - P\\xc2\\xba Castell...  441615.343347   \n",
       "\n",
       "          utm_y  longitud    latitud  \n",
       "0  4.475768e+06 -3.688323  40.430502  \n",
       "1  4.475768e+06 -3.688323  40.430502  \n",
       "2  4.475768e+06 -3.688323  40.430502  \n",
       "3  4.475768e+06 -3.688323  40.430502  \n",
       "4  4.475768e+06 -3.688323  40.430502  "
      ]
     },
     "execution_count": 18,
     "metadata": {},
     "output_type": "execute_result"
    }
   ],
   "source": [
    "import os\n",
    "os.environ['PYKX_ENABLE_PANDAS_API'] = 'true'\n",
    "import pykx as kx\n",
    "import numpy as np\n",
    "import pandas as pd\n",
    "\n",
    "traffic_station[traffic_station[\"tipo_elem\"]==\"other\"][:5].pd() # filter rows where the values of a column meet a condition"
   ]
  },
  {
   "cell_type": "markdown",
   "id": "b3456cb7",
   "metadata": {},
   "source": [
    "<div class=\"alert alert-block alert-info\">\n",
    "<b>To use it we only have to import numpy and pandas and activate a flag. Pandas API is still in the development phase, so it does not have all the functions of Pandas yet. More information in <a href=\"https://code.kx.com/pykx/1.6/user-guide/advanced/Pandas_API.html\"> Pandas API </a> . \n",
    "</div>"
   ]
  },
  {
   "cell_type": "markdown",
   "id": "b864118e",
   "metadata": {},
   "source": [
    "* **Use [qSQL querys](https://code.kx.com/pykx/1.6/api/query.html)**\n",
    "\n",
    "> *\"SQL queries are very powerful and concise at the same time. PyKX allows you to query PyKX objects as well as API functions...* "
   ]
  },
  {
   "cell_type": "code",
   "execution_count": 19,
   "id": "aa69e25c",
   "metadata": {},
   "outputs": [
    {
     "name": "stdout",
     "output_type": "stream",
     "text": [
      "name        \n",
      "------------\n",
      "\"03FL08PM01\"\n",
      "\"03FL08PM02\"\n",
      "\"03FL20PM01\"\n",
      "\"03FL56PM01\"\n",
      "\"03FT08PM01\"\n"
     ]
    }
   ],
   "source": [
    "print(kx.q.qsql.select(traffic_station, {\"name\":\"5 # nombre\"}, where=\"tipo_elem = `other\")) # filter rows where the values of a column meet a condition"
   ]
  },
  {
   "cell_type": "markdown",
   "id": "fad3b1f0",
   "metadata": {},
   "source": [
    "> *...or using our own functions q.\"*"
   ]
  },
  {
   "cell_type": "code",
   "execution_count": 20,
   "id": "24d11a7d",
   "metadata": {},
   "outputs": [
    {
     "name": "stdout",
     "output_type": "stream",
     "text": [
      "name        \n",
      "------------\n",
      "\"03FL08PM01\"\n",
      "\"03FL08PM02\"\n",
      "\"03FL20PM01\"\n",
      "\"03FL56PM01\"\n",
      "\"03FT08PM01\"\n"
     ]
    }
   ],
   "source": [
    "print(kx.q(\"{select name:5#nombre from x where tipo_elem = `other}\", traffic_station)) # filter rows where the values of a column meet a condition"
   ]
  },
  {
   "cell_type": "markdown",
   "id": "d558b063",
   "metadata": {},
   "source": [
    "* **Use [SQL querys](https://code.kx.com/pykx/1.6/api/query.html)**"
   ]
  },
  {
   "cell_type": "markdown",
   "id": "cef6a2d7",
   "metadata": {},
   "source": [
    ">*\"Whoa! PyKx lets you use SQL queries too!\"*"
   ]
  },
  {
   "cell_type": "code",
   "execution_count": 21,
   "id": "d080f018",
   "metadata": {},
   "outputs": [
    {
     "ename": "QError",
     "evalue": ".s.sp",
     "output_type": "error",
     "traceback": [
      "\u001b[1;31m---------------------------------------------------------------------------\u001b[0m",
      "\u001b[1;31mQError\u001b[0m                                    Traceback (most recent call last)",
      "Cell \u001b[1;32mIn[21], line 1\u001b[0m\n\u001b[1;32m----> 1\u001b[0m \u001b[43mkx\u001b[49m\u001b[38;5;241;43m.\u001b[39;49m\u001b[43mq\u001b[49m\u001b[38;5;241;43m.\u001b[39;49m\u001b[43msql\u001b[49m\u001b[43m(\u001b[49m\u001b[38;5;124;43m\"\u001b[39;49m\u001b[38;5;124;43mselect nombre as name from $1 where tipo_elem=\u001b[39;49m\u001b[38;5;124;43m'\u001b[39;49m\u001b[38;5;124;43mother\u001b[39;49m\u001b[38;5;124;43m'\u001b[39;49m\u001b[38;5;124;43m limit 5\u001b[39;49m\u001b[38;5;124;43m\"\u001b[39;49m\u001b[43m,\u001b[49m\u001b[43m \u001b[49m\u001b[43mtraffic_station\u001b[49m\u001b[43m)\u001b[49m\n",
      "File \u001b[1;32m~\\anaconda3\\envs\\py10\\lib\\site-packages\\pykx\\query.py:528\u001b[0m, in \u001b[0;36mSQL.__call__\u001b[1;34m(self, query, *args)\u001b[0m\n\u001b[0;32m    462\u001b[0m \u001b[38;5;28;01mdef\u001b[39;00m \u001b[38;5;21m__call__\u001b[39m(\u001b[38;5;28mself\u001b[39m, query: \u001b[38;5;28mstr\u001b[39m, \u001b[38;5;241m*\u001b[39margs: Any) \u001b[38;5;241m-\u001b[39m\u001b[38;5;241m>\u001b[39m k\u001b[38;5;241m.\u001b[39mTable:\n\u001b[0;32m    463\u001b[0m     \u001b[38;5;124;03m\"\"\"Compile and run a SQL statement.\u001b[39;00m\n\u001b[0;32m    464\u001b[0m \n\u001b[0;32m    465\u001b[0m \u001b[38;5;124;03m    Parameters:\u001b[39;00m\n\u001b[1;32m   (...)\u001b[0m\n\u001b[0;32m    526\u001b[0m \u001b[38;5;124;03m    ```\u001b[39;00m\n\u001b[0;32m    527\u001b[0m \u001b[38;5;124;03m    \"\"\"\u001b[39;00m\n\u001b[1;32m--> 528\u001b[0m     \u001b[38;5;28;01mreturn\u001b[39;00m \u001b[38;5;28;43mself\u001b[39;49m\u001b[38;5;241;43m.\u001b[39;49m\u001b[43m_q\u001b[49m\u001b[43m(\u001b[49m\u001b[38;5;124;43m'\u001b[39;49m\u001b[38;5;124;43m.s.sp\u001b[39;49m\u001b[38;5;124;43m'\u001b[39;49m\u001b[43m,\u001b[49m\u001b[43m \u001b[49m\u001b[43mk\u001b[49m\u001b[38;5;241;43m.\u001b[39;49m\u001b[43mCharVector\u001b[49m\u001b[43m(\u001b[49m\u001b[43mquery\u001b[49m\u001b[43m)\u001b[49m\u001b[43m,\u001b[49m\u001b[43m \u001b[49m\u001b[43margs\u001b[49m\u001b[43m)\u001b[49m\n",
      "File \u001b[1;32m~\\anaconda3\\envs\\py10\\lib\\site-packages\\pykx\\embedded_q.py:142\u001b[0m, in \u001b[0;36mEmbeddedQ.__call__\u001b[1;34m(self, query, wait, sync, *args)\u001b[0m\n\u001b[0;32m    140\u001b[0m result \u001b[38;5;241m=\u001b[39m _keval(\u001b[38;5;28mbytes\u001b[39m(wrappers\u001b[38;5;241m.\u001b[39mCharVector(query)), \u001b[38;5;241m*\u001b[39m[wrappers\u001b[38;5;241m.\u001b[39mK(x) \u001b[38;5;28;01mfor\u001b[39;00m x \u001b[38;5;129;01min\u001b[39;00m args])\n\u001b[0;32m    141\u001b[0m \u001b[38;5;28;01mif\u001b[39;00m wait \u001b[38;5;129;01mis\u001b[39;00m \u001b[38;5;28;01mNone\u001b[39;00m \u001b[38;5;129;01mor\u001b[39;00m wait:\n\u001b[1;32m--> 142\u001b[0m     \u001b[38;5;28;01mreturn\u001b[39;00m \u001b[43mfactory\u001b[49m\u001b[43m(\u001b[49m\u001b[43mresult\u001b[49m\u001b[43m,\u001b[49m\u001b[43m \u001b[49m\u001b[38;5;28;43;01mFalse\u001b[39;49;00m\u001b[43m)\u001b[49m\n\u001b[0;32m    143\u001b[0m \u001b[38;5;28;01mreturn\u001b[39;00m \u001b[38;5;28mself\u001b[39m(\u001b[38;5;124m'\u001b[39m\u001b[38;5;124m::\u001b[39m\u001b[38;5;124m'\u001b[39m, wait\u001b[38;5;241m=\u001b[39m\u001b[38;5;28;01mTrue\u001b[39;00m)\n",
      "File \u001b[1;32m~\\anaconda3\\envs\\py10\\lib\\site-packages\\pykx\\_wrappers.pyx:499\u001b[0m, in \u001b[0;36mpykx._wrappers._factory\u001b[1;34m()\u001b[0m\n",
      "File \u001b[1;32m~\\anaconda3\\envs\\py10\\lib\\site-packages\\pykx\\_wrappers.pyx:492\u001b[0m, in \u001b[0;36mpykx._wrappers.factory\u001b[1;34m()\u001b[0m\n",
      "\u001b[1;31mQError\u001b[0m: .s.sp"
     ]
    }
   ],
   "source": [
    "print(kx.q.sql(\"select nombre as name from $1 where tipo_elem='other' limit 5\", traffic_station))"
   ]
  },
  {
   "cell_type": "markdown",
   "id": "ca6e958a",
   "metadata": {},
   "source": [
    "* **Q Context**\n",
    "\n",
    "> *\"I'm more comfortable programming in q, so I work in the q context. PYKX objects can be passed into the q context and work with them as if you were in a q ecosystem:\"*"
   ]
  },
  {
   "cell_type": "code",
   "execution_count": 15,
   "id": "add6c644",
   "metadata": {},
   "outputs": [
    {
     "name": "stdout",
     "output_type": "stream",
     "text": [
      "name        \n",
      "------------\n",
      "\"03FL08PM01\"\n",
      "\"03FL08PM02\"\n",
      "\"03FL20PM01\"\n",
      "\"03FL56PM01\"\n",
      "\"03FT08PM01\"\n"
     ]
    }
   ],
   "source": [
    "kx.q[\"traffic_station\"] = traffic_station # Move Pykx Object to Q Context\n",
    "\n",
    "print(kx.q(\"select name:5#nombre from traffic_station where tipo_elem = `other\")) # Working with the table inside q"
   ]
  },
  {
   "cell_type": "markdown",
   "id": "a322fcbe",
   "metadata": {},
   "source": [
    "* **Python/Q Transform**\n",
    "\n",
    "> *\"I'm new to the project and still have to catch up with q. In the meantime I can pass the objects from q to pandas...*"
   ]
  },
  {
   "cell_type": "code",
   "execution_count": 16,
   "id": "e7453631",
   "metadata": {},
   "outputs": [
    {
     "data": {
      "text/html": [
       "<div>\n",
       "<style scoped>\n",
       "    .dataframe tbody tr th:only-of-type {\n",
       "        vertical-align: middle;\n",
       "    }\n",
       "\n",
       "    .dataframe tbody tr th {\n",
       "        vertical-align: top;\n",
       "    }\n",
       "\n",
       "    .dataframe thead th {\n",
       "        text-align: right;\n",
       "    }\n",
       "</style>\n",
       "<table border=\"1\" class=\"dataframe\">\n",
       "  <thead>\n",
       "    <tr style=\"text-align: right;\">\n",
       "      <th></th>\n",
       "      <th>tipo_elem</th>\n",
       "      <th>distrito</th>\n",
       "      <th>id</th>\n",
       "      <th>cod_cent</th>\n",
       "      <th>nombre</th>\n",
       "      <th>utm_x</th>\n",
       "      <th>utm_y</th>\n",
       "      <th>longitud</th>\n",
       "      <th>latitud</th>\n",
       "    </tr>\n",
       "  </thead>\n",
       "  <tbody>\n",
       "    <tr>\n",
       "      <th>0</th>\n",
       "      <td>URB</td>\n",
       "      <td>4</td>\n",
       "      <td>3840</td>\n",
       "      <td>b'01001'</td>\n",
       "      <td>b'Jose Ortega y Gasset E-O - P\\xc2\\xba Castell...</td>\n",
       "      <td>441615.343347</td>\n",
       "      <td>4.475768e+06</td>\n",
       "      <td>-3.688323</td>\n",
       "      <td>40.430502</td>\n",
       "    </tr>\n",
       "    <tr>\n",
       "      <th>1</th>\n",
       "      <td>URB</td>\n",
       "      <td>4</td>\n",
       "      <td>3841</td>\n",
       "      <td>b'01002'</td>\n",
       "      <td>b'Jose Ortega y Gasset O-E - Serrano-P\\xc2\\xba...</td>\n",
       "      <td>441705.882340</td>\n",
       "      <td>4.475770e+06</td>\n",
       "      <td>-3.687256</td>\n",
       "      <td>40.430524</td>\n",
       "    </tr>\n",
       "    <tr>\n",
       "      <th>2</th>\n",
       "      <td>URB</td>\n",
       "      <td>1</td>\n",
       "      <td>3842</td>\n",
       "      <td>b'01003'</td>\n",
       "      <td>b'P\\xc2\\xba Recoletos N-S - Almirante-Prim'</td>\n",
       "      <td>441319.371258</td>\n",
       "      <td>4.474841e+06</td>\n",
       "      <td>-3.691727</td>\n",
       "      <td>40.422132</td>\n",
       "    </tr>\n",
       "    <tr>\n",
       "      <th>3</th>\n",
       "      <td>URB</td>\n",
       "      <td>4</td>\n",
       "      <td>3843</td>\n",
       "      <td>b'01004'</td>\n",
       "      <td>b'P\\xc2\\xba Recoletos S-N - Pl. Cibeles- Recol...</td>\n",
       "      <td>441301.632986</td>\n",
       "      <td>4.474764e+06</td>\n",
       "      <td>-3.691929</td>\n",
       "      <td>40.421433</td>\n",
       "    </tr>\n",
       "    <tr>\n",
       "      <th>4</th>\n",
       "      <td>URB</td>\n",
       "      <td>4</td>\n",
       "      <td>3844</td>\n",
       "      <td>b'01005'</td>\n",
       "      <td>b'(AFOROS) P\\xc2\\xba Castellana S-N  - Eduardo...</td>\n",
       "      <td>441605.765072</td>\n",
       "      <td>4.476132e+06</td>\n",
       "      <td>-3.688470</td>\n",
       "      <td>40.433782</td>\n",
       "    </tr>\n",
       "  </tbody>\n",
       "</table>\n",
       "</div>"
      ],
      "text/plain": [
       "  tipo_elem  distrito    id  cod_cent  \\\n",
       "0       URB         4  3840  b'01001'   \n",
       "1       URB         4  3841  b'01002'   \n",
       "2       URB         1  3842  b'01003'   \n",
       "3       URB         4  3843  b'01004'   \n",
       "4       URB         4  3844  b'01005'   \n",
       "\n",
       "                                              nombre          utm_x  \\\n",
       "0  b'Jose Ortega y Gasset E-O - P\\xc2\\xba Castell...  441615.343347   \n",
       "1  b'Jose Ortega y Gasset O-E - Serrano-P\\xc2\\xba...  441705.882340   \n",
       "2        b'P\\xc2\\xba Recoletos N-S - Almirante-Prim'  441319.371258   \n",
       "3  b'P\\xc2\\xba Recoletos S-N - Pl. Cibeles- Recol...  441301.632986   \n",
       "4  b'(AFOROS) P\\xc2\\xba Castellana S-N  - Eduardo...  441605.765072   \n",
       "\n",
       "          utm_y  longitud    latitud  \n",
       "0  4.475768e+06 -3.688323  40.430502  \n",
       "1  4.475770e+06 -3.687256  40.430524  \n",
       "2  4.474841e+06 -3.691727  40.422132  \n",
       "3  4.474764e+06 -3.691929  40.421433  \n",
       "4  4.476132e+06 -3.688470  40.433782  "
      ]
     },
     "execution_count": 16,
     "metadata": {},
     "output_type": "execute_result"
    }
   ],
   "source": [
    "traffic_station.pd().head()"
   ]
  },
  {
   "cell_type": "markdown",
   "id": "fc293ab3",
   "metadata": {},
   "source": [
    ">*... numpy, ...*"
   ]
  },
  {
   "cell_type": "code",
   "execution_count": 17,
   "id": "1d356502",
   "metadata": {},
   "outputs": [
    {
     "data": {
      "text/plain": [
       "array([40.43050187, 40.43052394, 40.42213209, 40.42143334, 40.43378206])"
      ]
     },
     "execution_count": 17,
     "metadata": {},
     "output_type": "execute_result"
    }
   ],
   "source": [
    "lat.np()[:5]"
   ]
  },
  {
   "cell_type": "markdown",
   "id": "29883378",
   "metadata": {},
   "source": [
    "> *... and python to work on ...*"
   ]
  },
  {
   "cell_type": "code",
   "execution_count": 18,
   "id": "4a2cf73b",
   "metadata": {},
   "outputs": [
    {
     "data": {
      "text/plain": [
       "[40.4305018691825,\n",
       " 40.4305239406404,\n",
       " 40.4221320929972,\n",
       " 40.4214333442836,\n",
       " 40.4337820578943]"
      ]
     },
     "execution_count": 18,
     "metadata": {},
     "output_type": "execute_result"
    }
   ],
   "source": [
    "lat.py()[:5]"
   ]
  },
  {
   "cell_type": "markdown",
   "id": "52eb0529",
   "metadata": {},
   "source": [
    ">*... and then back to q so that colleagues can continue the work with PyKX objects.\"*"
   ]
  },
  {
   "cell_type": "code",
   "execution_count": 19,
   "id": "a0ef3097",
   "metadata": {},
   "outputs": [
    {
     "data": {
      "text/plain": [
       "pykx.FloatVector(pykx.q('40.4305 40.43052 40.42213 40.42143 40.43378 40.42351 40.42816 40.42879 40.426..'))"
      ]
     },
     "execution_count": 19,
     "metadata": {},
     "output_type": "execute_result"
    }
   ],
   "source": [
    "kx.toq(lat.py())"
   ]
  },
  {
   "cell_type": "markdown",
   "id": "80fffaad",
   "metadata": {},
   "source": [
    "During the development of the project some of these methods will be described in depth. The best thing is that they are fully compatible with each other, so developers can choose the one that is most comfortable for them!"
   ]
  },
  {
   "cell_type": "markdown",
   "id": "a86ad649",
   "metadata": {},
   "source": [
    "## Datasets <a class=\"anchor\" id=\"t22\"></a>"
   ]
  },
  {
   "cell_type": "markdown",
   "id": "c34fbb5d",
   "metadata": {},
   "source": [
    "### Weather"
   ]
  },
  {
   "cell_type": "markdown",
   "id": "3e320731",
   "metadata": {},
   "source": [
    "The loading of the data will be done with the utility provided by [PyKX](https://code.kx.com/pykx/1.4/api/read.html):"
   ]
  },
  {
   "cell_type": "code",
   "execution_count": 22,
   "id": "39a796c3",
   "metadata": {},
   "outputs": [],
   "source": [
    "weather = kx.q.read.csv('../dic_meteo22.csv', types='I'*4 + '*'*4 + 'FS'*24, delimiter=';')"
   ]
  },
  {
   "cell_type": "markdown",
   "id": "714ef122",
   "metadata": {},
   "source": [
    "<div class=\"alert alert-block alert-success\" style=\"background-color: #FFFFFF; border: 0px solid; padding: 0px;box-shadow: 2px 2px #3841459c; border-left: 5px solid #00b100;\">\n",
    "    <div class=\"alert-header custom-card-header\" style=\"background-color: #d8ffd8; border: 1px solid #d8ffd8; color: black; padding: 10px; font-size: 115%;\">\n",
    "    <i class=\"fa fa-commenting\" aria-hidden=\"true\" style=\"color:#00b100\"></i>&nbsp;&nbsp;&nbsp;NEW FEATURE: <a href=\"https://code.kx.com/pykx/1.6/api/read.html\">PyKX Read/Write Utils </a>\n",
    "    </div>\n",
    "    <div style=\"background-color: #e5ffdf70;  padding: 20px;\">\n",
    "    <p style=\"color: black;padding: 15px; border-radius: 5px;text-align: right;margin-right: 10%;font-size: 115%;\"> \"PyKX offers several functions that help loading and writing data, they are very versatile and the parameters are very intuitive.\" </p>\n",
    "    <footer style=\"text-align: right;margin-right: 5%;font-size: 105%;\"> —Félix Functor </footer>\n",
    "<div>\n",
    "</div>\n",
    "</div>\n",
    "</div>"
   ]
  },
  {
   "cell_type": "markdown",
   "id": "d4587531",
   "metadata": {},
   "source": [
    "<div class=\"alert alert-block alert-info\" style=\"background-color: #e9f6fc9c; border: 0px solid; padding: 0px;box-shadow: 2px 2px #3841459c; border-left: 5px solid #00abff;\">\n",
    "    <div class=\"alert-header custom-card-header\" style=\"background-color: #b9e8ff70;color: black; padding: 10px; font-size: 115%;\">\n",
    "    <i class=\"fa fa-commenting\" aria-hidden=\"true\" style=\"color:#00abff\"></i>&nbsp;&nbsp;&nbsp; NEW FEATURE: <a href=\"https://code.kx.com/pykx/1.6/api/read.html\">PyKX Read/Write Utils </a>\n",
    "    </div>\n",
    "    <div style=\"background-color: #e9f6fc9c;  padding: 20px;\">\n",
    "    <p style=\"color: black;padding: 15px; border-radius: 5px;text-align: right;margin-right: 10%;font-size: 115%;\"> \"PyKX offers several functions that help loading and writing data, they are very versatile and the parameters are very intuitive.\" </p>\n",
    "    <footer style=\"text-align: right;margin-right: 5%;font-size: 105%;\"> —Félix Functor </footer>\n",
    "<div>\n",
    "</div>\n",
    "</div>\n",
    "</div>"
   ]
  },
  {
   "cell_type": "markdown",
   "id": "d3d5b488",
   "metadata": {},
   "source": [
    "The parameters of this function are quite standard. The url to the file and the delimiter are indicated. We highlight the *types* parameter that expects the q [types](https://code.kx.com/q/basics/datatypes/) of each column. Our table is now a PyKX object:"
   ]
  },
  {
   "cell_type": "code",
   "execution_count": 23,
   "id": "02681222",
   "metadata": {},
   "outputs": [
    {
     "data": {
      "text/plain": [
       "pykx.wrappers.Table"
      ]
     },
     "execution_count": 23,
     "metadata": {},
     "output_type": "execute_result"
    }
   ],
   "source": [
    "type(weather)"
   ]
  },
  {
   "cell_type": "markdown",
   "id": "3a4633e9",
   "metadata": {},
   "source": [
    "VER LA TABLA CON PYKX -> Acceso a datos de manera pythonica\n",
    "VER LA TABLA CON PANDAS -> Pasar de q object a python object"
   ]
  },
  {
   "cell_type": "markdown",
   "id": "a427a408",
   "metadata": {},
   "source": [
    "But it is not in the q context. Let's see how to access these objects and how to use q features on them. Let's start with the simple *xcol* function, which allows us to rename columns:"
   ]
  },
  {
   "cell_type": "code",
   "execution_count": 24,
   "id": "402c7a26",
   "metadata": {},
   "outputs": [],
   "source": [
    "weather = kx.q.xcol({'ANO': 'year', 'MES': 'month', 'DIA': 'day', 'ESTACION':'weather_station', 'MAGNITUD':'magnitude'}, weather)"
   ]
  },
  {
   "cell_type": "markdown",
   "id": "ec0b34aa",
   "metadata": {},
   "source": [
    "We see that this function is overloaded in PyKX. Many q functions are available through the `pykx.q` interface. The attributes are identical to those expected in the q function but with Python structures. These functions are compiled and perfectly explained in the [PyKX documentation](https://code.kx.com/pykx/1.6/api/q/q.html). "
   ]
  },
  {
   "cell_type": "markdown",
   "id": "a36c5104",
   "metadata": {},
   "source": [
    "<div class=\"alert alert-block alert-success\" style=\"background-color: #FFFFFF; border: 0px solid; padding: 0px;box-shadow: 2px 2px #3841459c; border-left: 5px solid #00b100;\">\n",
    "    <div class=\"alert-header custom-card-header\" style=\"background-color: #d8ffd8; border: 1px solid #d8ffd8; color: black; padding: 10px; font-size: 115%;\">\n",
    "    <i class=\"fa fa-commenting\" aria-hidden=\"true\" style=\"color:#00b100\"></i>&nbsp;&nbsp;&nbsp;NEW FEATURE: <a href=\"https://code.kx.com/pykx/1.6/api/read.html\">Use q functions </a>\n",
    "    </div>\n",
    "    <div style=\"background-color: #e5ffdf70;  padding: 20px;\">\n",
    "    <p style=\"color: black;padding: 15px; border-radius: 5px;text-align: right;margin-right: 10%;font-size: 115%;\"> \"For those, like me who want to dig deeper into kdb+/q and gain experience, you can use q functions, ... </p>\n",
    "        <div style=\"background-color: #eee;border: 1px solid #999;display: block;padding: 20px;margin-left: 10%;margin-right: 10%; color:black\"> >>> kx.q(\"distinct\", ['A', 'B', 'B', 'B' ,'C']) \n",
    "       <br> ... `A`B`C </div><br>\n",
    "        <p style=\"color: black;padding: 15px; border-radius: 5px;text-align: right;margin-right: 10%;font-size: 115%;\"> ... iterate over them ... </p>\n",
    "            <div style=\"background-color: #eee;border: 1px solid #999;display: block;padding: 20px;margin-left: 10%;margin-right: 10%; color:black\"> >>> kx.q(\"lower\").each(['A', 'B', 'C'])\n",
    "       <br> ... `a`b`c </div><br>   \n",
    "        <p style=\"color: black;padding: 15px; border-radius: 5px;text-align: right;margin-right: 10%;font-size: 115%;\"> ... or even create and use them with pykx objects.\"</p>\n",
    "         <div style=\"background-color: #eee;border: 1px solid #999;display: block;padding: 20px;margin-left: 10%;margin-right: 10%;color:black\"> >>> kx.q(\"{u !(sum x=) each u:distinct x}\", ['A', 'B', 'B', 'B' ,'C'])\n",
    "       <br> ... A| 1<br>... B| 3<br>... C| 1 </div><br>   \n",
    "    <footer style=\"text-align: right;margin-right: 5%;font-size: 105%;\"> —Félix Functor </footer>\n",
    "</div>\n",
    "</div>\n",
    "</div>\n"
   ]
  },
  {
   "cell_type": "markdown",
   "id": "b71d94d8",
   "metadata": {},
   "source": [
    "Apart from this functions we have the `kx.q.qsql` interface, which allows us to query into tables. Specifically we used `select`, `update` and `delete`, which share some common characteristics, mainly with the arguments they receive.\n",
    "\n",
    "Both `select` and `update` share roughly this function call structure:\n",
    "\n",
    "`kx.q.sql.{function}({tab}, columns=..., where=..., by=...)`\n",
    "\n",
    "The `columns` argument expects either a list of strings or a dictionary where the key is the column name and the value is the actual value you want in this column if let's say you want to apply a function to it. Let's look at this specific example:"
   ]
  },
  {
   "cell_type": "code",
   "execution_count": 25,
   "id": "2c448e57",
   "metadata": {},
   "outputs": [],
   "source": [
    "weather = kx.q.qsql.delete(weather, ['PUNTO_MUESTREO', 'PROVINCIA', 'MUNICIPIO'])"
   ]
  },
  {
   "cell_type": "markdown",
   "id": "6487288b",
   "metadata": {},
   "source": [
    "With the above code we have removed several columns that are not relevant to the analysis.\n",
    "\n",
    "The next task we need to do is combine the year, month, and day into a single date column. To do this, we started by accessing these three columns. This can be done by indexing:"
   ]
  },
  {
   "cell_type": "code",
   "execution_count": 26,
   "id": "5a9f83bd",
   "metadata": {},
   "outputs": [
    {
     "name": "stdout",
     "output_type": "stream",
     "text": [
      "\"2022\" \"2022\" \"2022\" \"2022\" \"2022\" \"2022\" \"2022\" \"2022\" \"2022\" \"2022\" \"2022\" ..\n",
      "\"12\"   \"12\"   \"12\"   \"12\"   \"12\"   \"12\"   \"12\"   \"12\"   \"12\"   \"12\"   \"12\"   ..\n",
      "\"22\"   \"22\"   \"22\"   \"22\"   \"22\"   \"22\"   \"22\"   \"01\"   \"02\"   \"03\"   \"04\"   ..\n"
     ]
    }
   ],
   "source": [
    "print(weather[\"year\", \"month\", \"day\"])"
   ]
  },
  {
   "cell_type": "markdown",
   "id": "50d3d405",
   "metadata": {},
   "source": [
    "We see that the result is three lists of the sample size. Our goal is a list of sample size with the three elements that make up the date joined together:"
   ]
  },
  {
   "cell_type": "code",
   "execution_count": 27,
   "id": "e6b3f489",
   "metadata": {},
   "outputs": [
    {
     "name": "stdout",
     "output_type": "stream",
     "text": [
      "\"2022\" \"12\" \"22\"\n",
      "\"2022\" \"12\" \"22\"\n",
      "\"2022\" \"12\" \"22\"\n"
     ]
    }
   ],
   "source": [
    "print(kx.q.flip(weather[\"year\", \"month\", \"day\"])[:3])"
   ]
  },
  {
   "cell_type": "markdown",
   "id": "f35f6f6b",
   "metadata": {},
   "source": [
    "Looks like we're getting close now we have a sample size list with a list in each position containing 3 elements: the day, the month and the year. To join each set of the list into a single joined element, the *each* iterator will be used:"
   ]
  },
  {
   "cell_type": "code",
   "execution_count": 28,
   "id": "2284c75c",
   "metadata": {},
   "outputs": [
    {
     "name": "stdout",
     "output_type": "stream",
     "text": [
      "\"20221222\"\n",
      "\"20221222\"\n",
      "\"20221222\"\n"
     ]
    }
   ],
   "source": [
    "print(kx.q.each(kx.q.raze, kx.q.flip(weather[\"year\", \"month\", \"day\"]))[:3])"
   ]
  },
  {
   "cell_type": "markdown",
   "id": "708bf5b3",
   "metadata": {},
   "source": [
    "All that remains is to convert the data type from string to date. Unfortunately, some functions (especially the overloaded glyphs) are not yet implemented. For example cast (`$`), take (`#`), concat (`,`)... So we are forced to abandon pythonic way of calling q functions and perform this casting writing kdb+/q code using the pykx.q method:"
   ]
  },
  {
   "cell_type": "code",
   "execution_count": 29,
   "id": "b442fd14",
   "metadata": {},
   "outputs": [
    {
     "name": "stdout",
     "output_type": "stream",
     "text": [
      "2022.12.22 2022.12.22 2022.12.22\n"
     ]
    }
   ],
   "source": [
    "date = kx.q('\"D\"$',(kx.q.each(kx.q.raze, kx.q.flip(weather[\"year\", \"month\", \"day\"]))))\n",
    "print(date[:3])"
   ]
  },
  {
   "cell_type": "markdown",
   "id": "e903ca8c",
   "metadata": {},
   "source": [
    "Finally, we add this column to our table:"
   ]
  },
  {
   "cell_type": "code",
   "execution_count": 30,
   "id": "f796eb81",
   "metadata": {},
   "outputs": [],
   "source": [
    "weather_ = kx.q.qsql.update(weather, columns = {'date': date})"
   ]
  },
  {
   "cell_type": "markdown",
   "id": "18a1bdec",
   "metadata": {},
   "source": [
    "Some team members started using kdb/q code instead of PyKX functions in the pythonic way, they found the code more elegant and concise. Once the team had a little more fluency, a function entirely in q was proposed:"
   ]
  },
  {
   "cell_type": "code",
   "execution_count": 31,
   "id": "c5f8e867",
   "metadata": {},
   "outputs": [],
   "source": [
    "weather = kx.q.qsql.update(weather, columns = {'date':'\"D\"$ raze each flip(year;month;day)'})"
   ]
  },
  {
   "cell_type": "markdown",
   "id": "c1c06431",
   "metadata": {},
   "source": [
    "Again, both solutions are fully compatible, even combinable, it is up to the programmer to use one or the other methodology. \n",
    "\n",
    "The three columns that are already included in date can now be removed:"
   ]
  },
  {
   "cell_type": "code",
   "execution_count": 32,
   "id": "524738c2",
   "metadata": {},
   "outputs": [],
   "source": [
    "weather = kx.q.qsql.delete(weather, ['year', 'month', 'day'])"
   ]
  },
  {
   "cell_type": "markdown",
   "id": "e701b351",
   "metadata": {},
   "source": [
    "The current state of the weather table is as follows:"
   ]
  },
  {
   "cell_type": "code",
   "execution_count": 33,
   "id": "66b8bf1e",
   "metadata": {},
   "outputs": [
    {
     "data": {
      "text/html": [
       "<div>\n",
       "<style scoped>\n",
       "    .dataframe tbody tr th:only-of-type {\n",
       "        vertical-align: middle;\n",
       "    }\n",
       "\n",
       "    .dataframe tbody tr th {\n",
       "        vertical-align: top;\n",
       "    }\n",
       "\n",
       "    .dataframe thead th {\n",
       "        text-align: right;\n",
       "    }\n",
       "</style>\n",
       "<table border=\"1\" class=\"dataframe\">\n",
       "  <thead>\n",
       "    <tr style=\"text-align: right;\">\n",
       "      <th></th>\n",
       "      <th>weather_station</th>\n",
       "      <th>magnitude</th>\n",
       "      <th>H01</th>\n",
       "      <th>V01</th>\n",
       "      <th>H02</th>\n",
       "      <th>V02</th>\n",
       "      <th>H03</th>\n",
       "      <th>V03</th>\n",
       "      <th>H04</th>\n",
       "      <th>V04</th>\n",
       "      <th>...</th>\n",
       "      <th>V20</th>\n",
       "      <th>H21</th>\n",
       "      <th>V21</th>\n",
       "      <th>H22</th>\n",
       "      <th>V22</th>\n",
       "      <th>H23</th>\n",
       "      <th>V23</th>\n",
       "      <th>H24</th>\n",
       "      <th>V24</th>\n",
       "      <th>date</th>\n",
       "    </tr>\n",
       "  </thead>\n",
       "  <tbody>\n",
       "    <tr>\n",
       "      <th>0</th>\n",
       "      <td>108</td>\n",
       "      <td>81</td>\n",
       "      <td>270.0</td>\n",
       "      <td>N</td>\n",
       "      <td>252.0</td>\n",
       "      <td>N</td>\n",
       "      <td>216.0</td>\n",
       "      <td>N</td>\n",
       "      <td>242.0</td>\n",
       "      <td>N</td>\n",
       "      <td>...</td>\n",
       "      <td>V</td>\n",
       "      <td>228.0</td>\n",
       "      <td>V</td>\n",
       "      <td>227.83</td>\n",
       "      <td>V</td>\n",
       "      <td>213.67</td>\n",
       "      <td>V</td>\n",
       "      <td>233.83</td>\n",
       "      <td>V</td>\n",
       "      <td>2022-12-22</td>\n",
       "    </tr>\n",
       "    <tr>\n",
       "      <th>1</th>\n",
       "      <td>108</td>\n",
       "      <td>82</td>\n",
       "      <td>9.0</td>\n",
       "      <td>N</td>\n",
       "      <td>8.0</td>\n",
       "      <td>N</td>\n",
       "      <td>9.0</td>\n",
       "      <td>N</td>\n",
       "      <td>8.0</td>\n",
       "      <td>N</td>\n",
       "      <td>...</td>\n",
       "      <td>V</td>\n",
       "      <td>10.0</td>\n",
       "      <td>V</td>\n",
       "      <td>9.00</td>\n",
       "      <td>V</td>\n",
       "      <td>9.00</td>\n",
       "      <td>V</td>\n",
       "      <td>8.00</td>\n",
       "      <td>V</td>\n",
       "      <td>2022-12-22</td>\n",
       "    </tr>\n",
       "    <tr>\n",
       "      <th>2</th>\n",
       "      <td>108</td>\n",
       "      <td>83</td>\n",
       "      <td>94.7</td>\n",
       "      <td>N</td>\n",
       "      <td>97.6</td>\n",
       "      <td>N</td>\n",
       "      <td>96.6</td>\n",
       "      <td>N</td>\n",
       "      <td>97.5</td>\n",
       "      <td>N</td>\n",
       "      <td>...</td>\n",
       "      <td>V</td>\n",
       "      <td>91.4</td>\n",
       "      <td>V</td>\n",
       "      <td>93.80</td>\n",
       "      <td>V</td>\n",
       "      <td>96.30</td>\n",
       "      <td>V</td>\n",
       "      <td>98.70</td>\n",
       "      <td>V</td>\n",
       "      <td>2022-12-22</td>\n",
       "    </tr>\n",
       "  </tbody>\n",
       "</table>\n",
       "<p>3 rows × 51 columns</p>\n",
       "</div>"
      ],
      "text/plain": [
       "   weather_station  magnitude    H01 V01    H02 V02    H03 V03    H04 V04  \\\n",
       "0              108         81  270.0   N  252.0   N  216.0   N  242.0   N   \n",
       "1              108         82    9.0   N    8.0   N    9.0   N    8.0   N   \n",
       "2              108         83   94.7   N   97.6   N   96.6   N   97.5   N   \n",
       "\n",
       "   ...  V20    H21  V21     H22  V22     H23  V23     H24  V24       date  \n",
       "0  ...    V  228.0    V  227.83    V  213.67    V  233.83    V 2022-12-22  \n",
       "1  ...    V   10.0    V    9.00    V    9.00    V    8.00    V 2022-12-22  \n",
       "2  ...    V   91.4    V   93.80    V   96.30    V   98.70    V 2022-12-22  \n",
       "\n",
       "[3 rows x 51 columns]"
      ]
     },
     "execution_count": 33,
     "metadata": {},
     "output_type": "execute_result"
    }
   ],
   "source": [
    "weather[:3].pd()"
   ]
  },
  {
   "cell_type": "markdown",
   "id": "c6bc017a",
   "metadata": {},
   "source": [
    "Now it's time to turn our attention into breaking down the H* and V* queries into multiple rows, and supplying a time column to avoid missing information. The way to proceed in q would be to use functional qsql to select the columns that follow the previous patterns, but we are going to take advantage of the fact that the q code in pykx is introduced through Strings to avoid it:"
   ]
  },
  {
   "cell_type": "code",
   "execution_count": 34,
   "id": "78b633f9",
   "metadata": {},
   "outputs": [],
   "source": [
    "def functionalSearch(cols, pattern, func):\n",
    "  xcols = cols[kx.q.where(kx.q.like(cols, pattern))]\n",
    "  xstring = func.format(kx.q.sv(b\";\", kx.q.string(xcols)).py().decode(\"utf-8\"))\n",
    "  return xcols, xstring"
   ]
  },
  {
   "cell_type": "markdown",
   "id": "3d4856c6",
   "metadata": {},
   "source": [
    "The above function receives a list of columns, a pattern to search for, and a function q in string format that passes as an argument the columns found following that pattern in qSQL format (where columns are accessed with their names and not with a symbol). Applying this to all columns starting with *\"H\"* returns these columns as a vector of Symbols and in a String these columns in qSQL format:"
   ]
  },
  {
   "cell_type": "code",
   "execution_count": 35,
   "id": "75d0492a",
   "metadata": {},
   "outputs": [
    {
     "name": "stdout",
     "output_type": "stream",
     "text": [
      "Columns found:  `H01`H02`H03`H04`H05`H06`H07`H08`H09`H10`H11`H12`H13`H14`H15`H16`H17`H18`H19`..\n",
      "qSQL function:  H01;H02;H03;H04;H05;H06;H07;H08;H09;H10;H11;H12;H13;H14;H15;H16;H17;H18;H19;H20;H21;H22;H23;H24\n"
     ]
    }
   ],
   "source": [
    "cols = kx.q.cols(weather)\n",
    "found_columns, qsql_function = functionalSearch(cols, b'H*', \"{}\")\n",
    "\n",
    "print(\"Columns found: \", found_columns)\n",
    "print(\"qSQL function: \", qsql_function)"
   ]
  },
  {
   "cell_type": "markdown",
   "id": "59273459",
   "metadata": {},
   "source": [
    "This is very powerful, as it allows us to use qSQL with variables without having to use functional forms (usually complicated for first-time kdb/q developers).\n",
    "\n",
    "\n",
    "<div class=\"alert alert-block alert-info\">\n",
    "<b> Although for reasons of the post we try to stay as long as possible in pykx, the use of python entirely to form these queries in string format avoids encoding transformations.\n",
    "</div>\n"
   ]
  },
  {
   "cell_type": "markdown",
   "id": "0b8d32b4",
   "metadata": {},
   "source": [
    "Let's use the above for the columns beginning **H**, which will give us the measurement value; and the columns that begin with **V**, which tell us if the measurement is valid. The function that we must use so that the measurements in column format become rows is *flip*:"
   ]
  },
  {
   "cell_type": "code",
   "execution_count": 36,
   "id": "ab222d85",
   "metadata": {},
   "outputs": [],
   "source": [
    "hcols, value = functionalSearch(cols, b'H*', \"flip({})\")\n",
    "vcols, valid = functionalSearch(cols, b'V*', \"flip({})\")"
   ]
  },
  {
   "cell_type": "markdown",
   "id": "e054f90e",
   "metadata": {},
   "source": [
    "Now we just have to pass our built-in functions in String format to the qSQL \"update\" function, together with the 24 hours repeated the initial number of rows:"
   ]
  },
  {
   "cell_type": "code",
   "execution_count": 38,
   "id": "ec2dcdea",
   "metadata": {},
   "outputs": [],
   "source": [
    "weather = kx.q.qsql.update(weather, columns = {'hour': 'count[i]#enlist 01:00*til 24', 'values': value, 'valid': valid})"
   ]
  },
  {
   "cell_type": "markdown",
   "id": "b4fbcb40",
   "metadata": {},
   "source": [
    "Columns starting with **H** or **V** can be removed by using the trick again to prevent functional qSQL:"
   ]
  },
  {
   "cell_type": "code",
   "execution_count": 39,
   "id": "3a4f52db",
   "metadata": {},
   "outputs": [],
   "source": [
    "weather = kx.q.qsql.delete(weather, columns = kx.q.raze(hcols,vcols).py())"
   ]
  },
  {
   "cell_type": "markdown",
   "id": "d768adc3",
   "metadata": {},
   "source": [
    "Let's see the result:"
   ]
  },
  {
   "cell_type": "code",
   "execution_count": 40,
   "id": "b8317551",
   "metadata": {},
   "outputs": [
    {
     "data": {
      "text/html": [
       "<div>\n",
       "<style scoped>\n",
       "    .dataframe tbody tr th:only-of-type {\n",
       "        vertical-align: middle;\n",
       "    }\n",
       "\n",
       "    .dataframe tbody tr th {\n",
       "        vertical-align: top;\n",
       "    }\n",
       "\n",
       "    .dataframe thead th {\n",
       "        text-align: right;\n",
       "    }\n",
       "</style>\n",
       "<table border=\"1\" class=\"dataframe\">\n",
       "  <thead>\n",
       "    <tr style=\"text-align: right;\">\n",
       "      <th></th>\n",
       "      <th>weather_station</th>\n",
       "      <th>magnitude</th>\n",
       "      <th>date</th>\n",
       "      <th>hour</th>\n",
       "      <th>values</th>\n",
       "      <th>valid</th>\n",
       "    </tr>\n",
       "  </thead>\n",
       "  <tbody>\n",
       "    <tr>\n",
       "      <th>0</th>\n",
       "      <td>108</td>\n",
       "      <td>81</td>\n",
       "      <td>2022-12-22</td>\n",
       "      <td>[0 minutes, 60 minutes, 120 minutes, 180 minut...</td>\n",
       "      <td>[270.0, 252.0, 216.0, 242.0, 239.0, 246.0, 233...</td>\n",
       "      <td>[N, N, N, N, N, N, N, N, N, N, V, V, V, V, V, ...</td>\n",
       "    </tr>\n",
       "    <tr>\n",
       "      <th>1</th>\n",
       "      <td>108</td>\n",
       "      <td>82</td>\n",
       "      <td>2022-12-22</td>\n",
       "      <td>[0 minutes, 60 minutes, 120 minutes, 180 minut...</td>\n",
       "      <td>[9.0, 8.0, 9.0, 8.0, 8.0, 8.0, 8.0, 8.0, 8.0, ...</td>\n",
       "      <td>[N, N, N, N, N, N, N, N, N, N, V, V, V, V, V, ...</td>\n",
       "    </tr>\n",
       "    <tr>\n",
       "      <th>2</th>\n",
       "      <td>108</td>\n",
       "      <td>83</td>\n",
       "      <td>2022-12-22</td>\n",
       "      <td>[0 minutes, 60 minutes, 120 minutes, 180 minut...</td>\n",
       "      <td>[94.7, 97.6, 96.6, 97.5, 97.5, 98.2, 98.8, 98....</td>\n",
       "      <td>[N, N, N, N, N, N, N, N, N, N, V, V, V, V, V, ...</td>\n",
       "    </tr>\n",
       "  </tbody>\n",
       "</table>\n",
       "</div>"
      ],
      "text/plain": [
       "   weather_station  magnitude       date  \\\n",
       "0              108         81 2022-12-22   \n",
       "1              108         82 2022-12-22   \n",
       "2              108         83 2022-12-22   \n",
       "\n",
       "                                                hour  \\\n",
       "0  [0 minutes, 60 minutes, 120 minutes, 180 minut...   \n",
       "1  [0 minutes, 60 minutes, 120 minutes, 180 minut...   \n",
       "2  [0 minutes, 60 minutes, 120 minutes, 180 minut...   \n",
       "\n",
       "                                              values  \\\n",
       "0  [270.0, 252.0, 216.0, 242.0, 239.0, 246.0, 233...   \n",
       "1  [9.0, 8.0, 9.0, 8.0, 8.0, 8.0, 8.0, 8.0, 8.0, ...   \n",
       "2  [94.7, 97.6, 96.6, 97.5, 97.5, 98.2, 98.8, 98....   \n",
       "\n",
       "                                               valid  \n",
       "0  [N, N, N, N, N, N, N, N, N, N, V, V, V, V, V, ...  \n",
       "1  [N, N, N, N, N, N, N, N, N, N, V, V, V, V, V, ...  \n",
       "2  [N, N, N, N, N, N, N, N, N, N, V, V, V, V, V, ...  "
      ]
     },
     "execution_count": 40,
     "metadata": {},
     "output_type": "execute_result"
    }
   ],
   "source": [
    "weather[:3].pd()"
   ]
  },
  {
   "cell_type": "markdown",
   "id": "d11991e4",
   "metadata": {},
   "source": [
    "Now all we have to do is expand the table so that each element of the lists corresponds to a row:"
   ]
  },
  {
   "cell_type": "code",
   "execution_count": 41,
   "id": "02ae9896",
   "metadata": {},
   "outputs": [],
   "source": [
    "weather = kx.q.ungroup(weather)"
   ]
  },
  {
   "cell_type": "markdown",
   "id": "23a89d07",
   "metadata": {},
   "source": [
    "You can shrink the table a bit more by removing the rows that are not valid and joining the date with the time:"
   ]
  },
  {
   "cell_type": "code",
   "execution_count": 42,
   "id": "014a6d59",
   "metadata": {},
   "outputs": [
    {
     "data": {
      "text/html": [
       "<div>\n",
       "<style scoped>\n",
       "    .dataframe tbody tr th:only-of-type {\n",
       "        vertical-align: middle;\n",
       "    }\n",
       "\n",
       "    .dataframe tbody tr th {\n",
       "        vertical-align: top;\n",
       "    }\n",
       "\n",
       "    .dataframe thead th {\n",
       "        text-align: right;\n",
       "    }\n",
       "</style>\n",
       "<table border=\"1\" class=\"dataframe\">\n",
       "  <thead>\n",
       "    <tr style=\"text-align: right;\">\n",
       "      <th></th>\n",
       "      <th>weather_station</th>\n",
       "      <th>magnitude</th>\n",
       "      <th>date</th>\n",
       "      <th>values</th>\n",
       "    </tr>\n",
       "  </thead>\n",
       "  <tbody>\n",
       "    <tr>\n",
       "      <th>0</th>\n",
       "      <td>108</td>\n",
       "      <td>81</td>\n",
       "      <td>2022-12-22 10:00:00</td>\n",
       "      <td>263.00</td>\n",
       "    </tr>\n",
       "    <tr>\n",
       "      <th>1</th>\n",
       "      <td>108</td>\n",
       "      <td>81</td>\n",
       "      <td>2022-12-22 11:00:00</td>\n",
       "      <td>247.83</td>\n",
       "    </tr>\n",
       "    <tr>\n",
       "      <th>2</th>\n",
       "      <td>108</td>\n",
       "      <td>81</td>\n",
       "      <td>2022-12-22 12:00:00</td>\n",
       "      <td>215.83</td>\n",
       "    </tr>\n",
       "  </tbody>\n",
       "</table>\n",
       "</div>"
      ],
      "text/plain": [
       "   weather_station  magnitude                date  values\n",
       "0              108         81 2022-12-22 10:00:00  263.00\n",
       "1              108         81 2022-12-22 11:00:00  247.83\n",
       "2              108         81 2022-12-22 12:00:00  215.83"
      ]
     },
     "execution_count": 42,
     "metadata": {},
     "output_type": "execute_result"
    }
   ],
   "source": [
    "weather = kx.q.qsql.select(weather, where = 'valid=`V')\n",
    "weather = kx.q.qsql.update(weather, columns = {'date': 'date+hour'})\n",
    "weather = kx.q.qsql.delete(weather, columns = [\"valid\", \"hour\"])\n",
    "weather[:3].pd()"
   ]
  },
  {
   "cell_type": "markdown",
   "id": "d4e2866b",
   "metadata": {},
   "source": [
    "The **magnitude** column is required to give semantics to the **value**. As established by the dataset creators, the different magnitudes correspond to the items that we collect in the following dictionary:"
   ]
  },
  {
   "cell_type": "code",
   "execution_count": 43,
   "id": "babc4651",
   "metadata": {},
   "outputs": [],
   "source": [
    "magnitude = {80:\"ultraviolet\", \n",
    "             81:\"wind\", \n",
    "             82:\"direction\", \n",
    "             83:\"temperature\", \n",
    "             86:\"humidity\", \n",
    "             87:\"pressure\", \n",
    "             88:\"solar\", \n",
    "             89:\"rainfall\"}"
   ]
  },
  {
   "cell_type": "markdown",
   "id": "3a2ad469",
   "metadata": {},
   "source": [
    "We just have to change the key by the value of the dictionary. Note that in the following functions an object from the Python world is being passed to a kdb/q function. If Python objects have a direct translation in q, such as dictionaries, they can be passed as attributes in pykx functions. Underneath, pykx takes care of accommodating it to q."
   ]
  },
  {
   "cell_type": "code",
   "execution_count": 44,
   "id": "d689ac1e",
   "metadata": {},
   "outputs": [],
   "source": [
    "weather = kx.q('{update magnitude: x magnitude from y}', magnitude, weather)"
   ]
  },
  {
   "cell_type": "markdown",
   "id": "71abfdb1",
   "metadata": {},
   "source": [
    "Finally, all you have to do is separate the different weather conditions into different columns:"
   ]
  },
  {
   "cell_type": "code",
   "execution_count": 45,
   "id": "cab2091f",
   "metadata": {},
   "outputs": [],
   "source": [
    "weather = kx.q('{exec (value x)#magnitude!values by date,weather_station from y}',magnitude,weather)"
   ]
  },
  {
   "cell_type": "markdown",
   "id": "be3eb1e3",
   "metadata": {},
   "source": [
    "The query exec allows us to convert a dictionary stored in a column into multiple columns with the key as the column name and the values as the data in that column. This is useful when we create a dictionary made up of the weather conditions of each row associated with their values. By applying it and grouping we have the weather conditions in different columns for each weather entry and weather station."
   ]
  },
  {
   "cell_type": "markdown",
   "id": "87535f01",
   "metadata": {},
   "source": [
    "### Traffic"
   ]
  },
  {
   "cell_type": "markdown",
   "id": "aeaeca03",
   "metadata": {},
   "source": [
    "This second table will also be loaded into the Python environment:"
   ]
  },
  {
   "cell_type": "code",
   "execution_count": 46,
   "id": "3d24f4dd",
   "metadata": {},
   "outputs": [],
   "source": [
    "traffic = kx.q.read.csv('../12-2022.csv', types=\"IPSIIIISI\", delimiter=';')"
   ]
  },
  {
   "cell_type": "markdown",
   "id": "1729c5da",
   "metadata": {},
   "source": [
    "We are interested in knowing the average load by date and by season, removing measurement errors. The power of qSQL allows us to do this in a single query:"
   ]
  },
  {
   "cell_type": "code",
   "execution_count": 47,
   "id": "d696893b",
   "metadata": {},
   "outputs": [],
   "source": [
    "traffic = kx.q.qsql.select(traffic,\n",
    "                         columns = {'traffic_load': 'avg carga'},\n",
    "                         by = {\"date\":'fecha', \"traffic_station\": 'id'}, \n",
    "                         where = \"error=`N\")"
   ]
  },
  {
   "cell_type": "markdown",
   "id": "ab34aa36",
   "metadata": {},
   "source": [
    "### Location"
   ]
  },
  {
   "cell_type": "markdown",
   "id": "44d60978",
   "metadata": {},
   "source": [
    "Both traffic and weather station tables will be loaded into the environment of q:"
   ]
  },
  {
   "cell_type": "code",
   "execution_count": 48,
   "id": "ff14b9cc",
   "metadata": {},
   "outputs": [],
   "source": [
    "kx.q[\"weather_station\"] = kx.q.read.csv('../Estaciones_control_datos_meteorologicos.csv', types=\" IFF\", delimiter=\";\", as_table=True)\n",
    "kx.q[\"traffic_station\"] = kx.q.read.csv('../pmed_ubicacion_12-2022.csv', types = \"SII**FFFF\", delimiter = \";\", as_table=True)"
   ]
  },
  {
   "cell_type": "markdown",
   "id": "43f68550",
   "metadata": {},
   "source": [
    "We can now access these objects in kdb/q functions without needing to pass them as pykx or python objects. For example, let's change the name of the columns in both tables so that they have more standard ones:"
   ]
  },
  {
   "cell_type": "code",
   "execution_count": 49,
   "id": "69418e2b",
   "metadata": {},
   "outputs": [],
   "source": [
    "kx.q(\"weather_station:(`CODIGO_CORTO`LONGITUD`LATITUD!`weather_station`longitude`latitude)xcol weather_station\")\n",
    "_=kx.q(\"traffic_station:(`id`longitud`latitud!`traffic_station`longitude`latitude)xcol traffic_station\")"
   ]
  },
  {
   "cell_type": "markdown",
   "id": "972ba4f0",
   "metadata": {},
   "source": [
    "To bring them to the Python environment, you just have to return them using q code:\n",
    "\n",
    "```python\n",
    "kx.q(\"table\")\n",
    "```\n",
    "\n",
    "Our goal is to join these two tables. There seems to be no identifier that allows us to do a standard join. However, both are located by coordinates. We can use the distance between the stations for measuring traffic and weather to join them. To calculate the distance between two coordinates, the Harvesine distance can be used. This distance is already developed in Python but it is not available on q.\n",
    "\n",
    "One option would be to reimplement it in q, but this is not feasible for some complex libraries. Although slower, there is the alternative of passing our q objects to Python and working with them. However, it is advisable to keep using q objects for as long as possible. These features we just explained for moving from Python objects to q and vice versa allow us, at least temporarily, to reuse Python code. It is also reasonable for the size of tables we are working with in this step. To introduce our q objects in this function, we can use some of the PyKX features to transform them into Python objects that we talked about in [Learning Pykx]()."
   ]
  },
  {
   "cell_type": "code",
   "execution_count": 50,
   "id": "baa0d87d",
   "metadata": {},
   "outputs": [],
   "source": [
    "from haversine import haversine_vector, Unit\n",
    "dist = kx.toq(\n",
    "            haversine_vector(kx.q('`longitude`latitude # weather_station').pd(), \n",
    "                             kx.q('`longitude`latitude # traffic_station').pd(),\n",
    "                             Unit.KILOMETERS, comb=True))"
   ]
  },
  {
   "cell_type": "markdown",
   "id": "55130f14",
   "metadata": {},
   "source": [
    "We now have a matrix that measures the distance in kilometers for each pair of traffic and weather stations. We can select the pairs of station identifiers whose minimum distance:"
   ]
  },
  {
   "cell_type": "code",
   "execution_count": 51,
   "id": "a77222d3",
   "metadata": {},
   "outputs": [],
   "source": [
    "ids = kx.q.each(kx.q('{first where x=min x}'), dist)\n",
    "distance_table = kx.q('{traffic_station ^ weather_station[x]}' ,  ids)\n",
    "distance_table = kx.q.qsql.delete(distance_table, columns = ['tipo_elem','distrito','cod_cent','nombre','utm_x','utm_y','longitude', 'latitude'])"
   ]
  },
  {
   "cell_type": "markdown",
   "id": "11a94935",
   "metadata": {},
   "source": [
    "### Final Table"
   ]
  },
  {
   "cell_type": "markdown",
   "id": "9a8a6387",
   "metadata": {},
   "source": [
    "The join of the three tables is fairly straightforward. The one of distances can be joined with any of the two by means of a simple left join. The traffic and weather ones have to be joined with asof join as they have different time intervals. Finally, two columns are added to convey the seasonality of the data to the model: time and day of the week."
   ]
  },
  {
   "cell_type": "code",
   "execution_count": 67,
   "id": "d469bc9d",
   "metadata": {},
   "outputs": [],
   "source": [
    "complete = kx.q.lj(traffic, kx.q.xkey('traffic_station', distance_table))\n",
    "complete = kx.q.aj(kx.toq(['weather_station', 'date']), complete, weather)\n",
    "complete = kx.q.qsql.update(kx.q(\"0^\",complete),  {\"hour\":\"`hh$date\", \"weekday\":'(\"d\"$date)mod 7'})"
   ]
  },
  {
   "cell_type": "markdown",
   "id": "72e4be91",
   "metadata": {},
   "source": [
    "Let's look at this last table:"
   ]
  },
  {
   "cell_type": "code",
   "execution_count": 68,
   "id": "72f03eef",
   "metadata": {},
   "outputs": [
    {
     "data": {
      "text/html": [
       "<div>\n",
       "<style scoped>\n",
       "    .dataframe tbody tr th:only-of-type {\n",
       "        vertical-align: middle;\n",
       "    }\n",
       "\n",
       "    .dataframe tbody tr th {\n",
       "        vertical-align: top;\n",
       "    }\n",
       "\n",
       "    .dataframe thead th {\n",
       "        text-align: right;\n",
       "    }\n",
       "</style>\n",
       "<table border=\"1\" class=\"dataframe\">\n",
       "  <thead>\n",
       "    <tr style=\"text-align: right;\">\n",
       "      <th></th>\n",
       "      <th></th>\n",
       "      <th>traffic_load</th>\n",
       "      <th>weather_station</th>\n",
       "      <th>ultraviolet</th>\n",
       "      <th>wind</th>\n",
       "      <th>direction</th>\n",
       "      <th>temperature</th>\n",
       "      <th>humidity</th>\n",
       "      <th>pressure</th>\n",
       "      <th>solar</th>\n",
       "      <th>rainfall</th>\n",
       "      <th>hour</th>\n",
       "      <th>weekday</th>\n",
       "    </tr>\n",
       "    <tr>\n",
       "      <th>date</th>\n",
       "      <th>traffic_station</th>\n",
       "      <th></th>\n",
       "      <th></th>\n",
       "      <th></th>\n",
       "      <th></th>\n",
       "      <th></th>\n",
       "      <th></th>\n",
       "      <th></th>\n",
       "      <th></th>\n",
       "      <th></th>\n",
       "      <th></th>\n",
       "      <th></th>\n",
       "      <th></th>\n",
       "    </tr>\n",
       "  </thead>\n",
       "  <tbody>\n",
       "    <tr>\n",
       "      <th rowspan=\"5\" valign=\"top\">2022-12-01</th>\n",
       "      <th>1001</th>\n",
       "      <td>0.0</td>\n",
       "      <td>24</td>\n",
       "      <td>0.0</td>\n",
       "      <td>0.54</td>\n",
       "      <td>239.0</td>\n",
       "      <td>6.0</td>\n",
       "      <td>84.0</td>\n",
       "      <td>946.0</td>\n",
       "      <td>1.0</td>\n",
       "      <td>0.0</td>\n",
       "      <td>0</td>\n",
       "      <td>5</td>\n",
       "    </tr>\n",
       "    <tr>\n",
       "      <th>1002</th>\n",
       "      <td>0.0</td>\n",
       "      <td>24</td>\n",
       "      <td>0.0</td>\n",
       "      <td>0.54</td>\n",
       "      <td>239.0</td>\n",
       "      <td>6.0</td>\n",
       "      <td>84.0</td>\n",
       "      <td>946.0</td>\n",
       "      <td>1.0</td>\n",
       "      <td>0.0</td>\n",
       "      <td>0</td>\n",
       "      <td>5</td>\n",
       "    </tr>\n",
       "    <tr>\n",
       "      <th>1003</th>\n",
       "      <td>0.0</td>\n",
       "      <td>24</td>\n",
       "      <td>0.0</td>\n",
       "      <td>0.54</td>\n",
       "      <td>239.0</td>\n",
       "      <td>6.0</td>\n",
       "      <td>84.0</td>\n",
       "      <td>946.0</td>\n",
       "      <td>1.0</td>\n",
       "      <td>0.0</td>\n",
       "      <td>0</td>\n",
       "      <td>5</td>\n",
       "    </tr>\n",
       "    <tr>\n",
       "      <th>1006</th>\n",
       "      <td>0.0</td>\n",
       "      <td>24</td>\n",
       "      <td>0.0</td>\n",
       "      <td>0.54</td>\n",
       "      <td>239.0</td>\n",
       "      <td>6.0</td>\n",
       "      <td>84.0</td>\n",
       "      <td>946.0</td>\n",
       "      <td>1.0</td>\n",
       "      <td>0.0</td>\n",
       "      <td>0</td>\n",
       "      <td>5</td>\n",
       "    </tr>\n",
       "    <tr>\n",
       "      <th>1009</th>\n",
       "      <td>0.0</td>\n",
       "      <td>110</td>\n",
       "      <td>0.0</td>\n",
       "      <td>0.00</td>\n",
       "      <td>0.0</td>\n",
       "      <td>0.0</td>\n",
       "      <td>0.0</td>\n",
       "      <td>0.0</td>\n",
       "      <td>0.0</td>\n",
       "      <td>0.0</td>\n",
       "      <td>0</td>\n",
       "      <td>5</td>\n",
       "    </tr>\n",
       "  </tbody>\n",
       "</table>\n",
       "</div>"
      ],
      "text/plain": [
       "                            traffic_load  weather_station  ultraviolet  wind  \\\n",
       "date       traffic_station                                                     \n",
       "2022-12-01 1001                      0.0               24          0.0  0.54   \n",
       "           1002                      0.0               24          0.0  0.54   \n",
       "           1003                      0.0               24          0.0  0.54   \n",
       "           1006                      0.0               24          0.0  0.54   \n",
       "           1009                      0.0              110          0.0  0.00   \n",
       "\n",
       "                            direction  temperature  humidity  pressure  solar  \\\n",
       "date       traffic_station                                                      \n",
       "2022-12-01 1001                 239.0          6.0      84.0     946.0    1.0   \n",
       "           1002                 239.0          6.0      84.0     946.0    1.0   \n",
       "           1003                 239.0          6.0      84.0     946.0    1.0   \n",
       "           1006                 239.0          6.0      84.0     946.0    1.0   \n",
       "           1009                   0.0          0.0       0.0       0.0    0.0   \n",
       "\n",
       "                            rainfall  hour  weekday  \n",
       "date       traffic_station                           \n",
       "2022-12-01 1001                  0.0     0        5  \n",
       "           1002                  0.0     0        5  \n",
       "           1003                  0.0     0        5  \n",
       "           1006                  0.0     0        5  \n",
       "           1009                  0.0     0        5  "
      ]
     },
     "execution_count": 68,
     "metadata": {},
     "output_type": "execute_result"
    }
   ],
   "source": [
    "kx.q(\"5#\",complete).pd()"
   ]
  },
  {
   "cell_type": "markdown",
   "id": "845d4dfc",
   "metadata": {},
   "source": [
    "## Model <a class=\"anchor\" id=\"t23\"></a>"
   ]
  },
  {
   "cell_type": "markdown",
   "id": "b3448103",
   "metadata": {},
   "source": [
    "___\n",
    "A ver si Oscar lo consigue:\n",
    "```python\n",
    "import pykx as kx\n",
    "\n",
    "utils = '''\n",
    "    \\d .utils\n",
    "    minMaxScale:{[l] ({(x-y)%(z-y)}[;min l;max l]')l}\n",
    "'''\n",
    "\n",
    "utils_file = os.environ[\"QHOME\"] + '/utils.q'\n",
    "with open(utils_file, 'w') as f:\n",
    "    f.write(utils)\n",
    "    \n",
    "kx.q.utils.minMaxScale([1,2,3,4,5,6,7,8,9,10])\n",
    "```\n",
    "Oscar sigue en ello (no prometo nada)\n",
    "___"
   ]
  },
  {
   "cell_type": "markdown",
   "id": "68698a8b",
   "metadata": {},
   "source": [
    "For model ingestion, we opt for the selection of the necessary columns. Additionally, we normalize the rainfall column using a simple MinMax scaler. This function can be included within the q environment for whenever it's required."
   ]
  },
  {
   "cell_type": "code",
   "execution_count": 69,
   "id": "77b10bd6",
   "metadata": {},
   "outputs": [],
   "source": [
    "kx.q(\"minMaxScale:{[l] ({(x-y)%(z-y)}[;min l;max l]')l}\")\n",
    "                  \n",
    "final = kx.q.qsql.select(complete, columns = {\"date\": \"date\",\n",
    "                                              \"traffic_station\":\"traffic_station\",\n",
    "                                              \"hour\":\"hour\", \n",
    "                                              \"weekday\": \"weekday\", \n",
    "                                              \"traffic_load\": \"traffic_load%100\", \n",
    "                                              \"temperature\":\"minMaxScale temperature\", \n",
    "                                              \"rainfall\":\"minMaxScale rainfall\"}\n",
    "                                    )"
   ]
  },
  {
   "cell_type": "markdown",
   "id": "e1ae7fe7",
   "metadata": {},
   "source": [
    "During PyKX migration from Pandas, the main hassle was to migrate the time_window function, as it relied on loops. The way we approached it was to first understand the input we had, the output we needed and then think of an idiomatic way to implement it using q instead of doing a 1:1 migration, which would have probably be more costly in terms of time. In this case, our input was a table and our output was a list of matrices for each station. We created several functions that helped us during the process:"
   ]
  },
  {
   "cell_type": "markdown",
   "id": "27dbafc8",
   "metadata": {},
   "source": [
    "* **sliding window**: given a matrix, x, divides it into chunks of length y:"
   ]
  },
  {
   "cell_type": "code",
   "execution_count": 70,
   "id": "e154cc68",
   "metadata": {},
   "outputs": [],
   "source": [
    "_=kx.q(\"\"\"sw:{({y#z _x}[x;y;]')til count b:y _x}\"\"\")"
   ]
  },
  {
   "cell_type": "markdown",
   "id": "fe3f8053",
   "metadata": {},
   "source": [
    "* **get target**: For a given matrix, x, it takes the target located in the column z and the first lines are eliminated to match with the chunks length y:"
   ]
  },
  {
   "cell_type": "code",
   "execution_count": 71,
   "id": "78f585df",
   "metadata": {},
   "outputs": [],
   "source": [
    "_=kx.q(\"\"\"gt:{y _(flip x)[z]}\"\"\") # gets target (in position z)"
   ]
  },
  {
   "cell_type": "markdown",
   "id": "59f45ae0",
   "metadata": {},
   "source": [
    "* **to Matrix**: Transform the table x to a matrix:"
   ]
  },
  {
   "cell_type": "code",
   "execution_count": 72,
   "id": "0e595f6c",
   "metadata": {},
   "outputs": [],
   "source": [
    "_=kx.q(\"\"\"toMatrix:{({[t;i]value t[i]}[x;]')til count x:flip x}\"\"\") # / table to matrix"
   ]
  },
  {
   "cell_type": "markdown",
   "id": "0209a232",
   "metadata": {},
   "source": [
    "* **prepareData**: Create the train and test datasets. Select the model needed columns *columns* from the table grouped by traffic station. For each traffic station it lefts *ntest* rows for test. It divide the data with chunks of length *chunkLen*. Finally it create a list of dictionaries for training data and training target (the load column) and test data target.\n",
    "    \n",
    "    First off, regardless of whether we needed the train or test output, we needed to get either the last *ntest* records or up to the last *ntest* records. Since we needed to repeat this operation for the given columns, we decided that a functional statement would be the best fit.\n",
    "\n",
    "    Once we shaped the data the way we needed, it was time to build the list of matrices. This needed to be done using a sliding window but, in order to return a list of matrices (not a list of tables), we used the **toMatrix** function to transform a table to a matrix and **sw** (sliding window) function to apply the sliding window based on a single huge matrix.\n",
    "\n",
    "    As for the y data, we used the function **gt** (get target) that returned the target (traffic load) as a list with the first *chunkLen*+1 entries removed:"
   ]
  },
  {
   "cell_type": "code",
   "execution_count": 73,
   "id": "56f6847b",
   "metadata": {},
   "outputs": [],
   "source": [
    "_=kx.q(\"\"\"\n",
    "        prepareData:{[data; ntest; chunkLen; columns; locTarget]  \n",
    "            train:(toMatrix')?[data;();`traffic_station;columns!({(y;(-;(count;x);z);x)}[;_;ntest]')columns]; \n",
    "            test:(toMatrix')?[data;();`traffic_station;columns!({(y;(-;(count;x);z);x)}[;#;ntest]')columns];                                                                               \n",
    "            (((sw[;chunkLen]')test;(gt[;chunkLen;locTarget]')test);((sw[;chunkLen]')train;(gt[;chunkLen;locTarget]')train))   \n",
    "        }\n",
    "    \"\"\")"
   ]
  },
  {
   "cell_type": "markdown",
   "id": "fa87c88f",
   "metadata": {},
   "source": [
    "Lets test this function with only one station:"
   ]
  },
  {
   "cell_type": "code",
   "execution_count": 88,
   "id": "49b29068",
   "metadata": {},
   "outputs": [],
   "source": [
    "station_id = 4010\n",
    "\n",
    "station = kx.q.qsql.select(final, where=[\"traffic_station=\"+str(station_id)])\n",
    "\n",
    "data = kx.q(\"prepareData\", station, 500, 5, kx.SymbolVector(['rainfall', 'traffic_load', 'hour', 'weekday']), 1)\n",
    "\n",
    "X_train, y_train = np.array(data[0][0][station_id].py()), np.array(data[0][1][station_id].py())\n",
    "X_test, y_test =  np.array(data[1][0][station_id].py()), np.array(data[1][1][station_id].py())"
   ]
  },
  {
   "cell_type": "markdown",
   "id": "e136ab83",
   "metadata": {},
   "source": [
    "And now we will try this datasets with a simple LSTM model:"
   ]
  },
  {
   "cell_type": "code",
   "execution_count": 94,
   "id": "c8fa0477",
   "metadata": {},
   "outputs": [
    {
     "data": {
      "image/png": "[encoded data removed]",
      "text/plain": [
       "<Figure size 640x480 with 1 Axes>"
      ]
     },
     "metadata": {},
     "output_type": "display_data"
    }
   ],
   "source": [
    "from keras.models import Sequential\n",
    "from keras.layers import Dense, LSTM\n",
    "import numpy as np\n",
    "import matplotlib.pyplot as plt\n",
    "\n",
    "\n",
    "model = Sequential()\n",
    "\n",
    "model.add(LSTM(units = 50, return_sequences=False, input_shape=[None,4]))\n",
    "model.add(Dense(units = 1))\n",
    "\n",
    "model.compile(loss='mae', optimizer='adam')\n",
    "\n",
    "history = model.fit(X_train, y_train, \n",
    "                    epochs=50, batch_size=8, \n",
    "                    validation_data=(X_test, y_test), \n",
    "                    verbose=0, shuffle=False)\n",
    "\n",
    "plt.plot(history.history['loss'], label='train')\n",
    "plt.plot(history.history['val_loss'], label='test')\n",
    "\n",
    "plt.legend()\n",
    "plt.show()"
   ]
  },
  {
   "cell_type": "markdown",
   "id": "a43a384d",
   "metadata": {},
   "source": [
    "We can see the performance of the model in the following graph:"
   ]
  },
  {
   "cell_type": "code",
   "execution_count": 95,
   "id": "0b833fd1",
   "metadata": {},
   "outputs": [
    {
     "data": {
      "image/png": "[encoded data removed]",
      "text/plain": [
       "<Figure size 640x480 with 1 Axes>"
      ]
     },
     "metadata": {},
     "output_type": "display_data"
    }
   ],
   "source": [
    "plt.plot(y_test, label='test real')\n",
    "plt.plot(range(400,495), model.predict(X_test[400:], verbose=0).flatten(), label='test predict')\n",
    "plt.legend()\n",
    "plt.show()"
   ]
  },
  {
   "cell_type": "markdown",
   "id": "3d0cf3e5",
   "metadata": {},
   "source": [
    "# PyKX.q Migration <a class=\"anchor\" id=\"t3\"></a>"
   ]
  },
  {
   "cell_type": "markdown",
   "id": "d56cfebc",
   "metadata": {},
   "source": [
    "When the team got comfortable with the kdb/q language they started using almost entirely q code through `kx.q`, as it was more concise. But the programming became somewhat tedious having to use Strings. This is why it was decided to jump to a q environment. But as seen in the previous chapter, there was Python code that the team couldn't port to q. For this reason it was decided to stay in pykx but this time in the q environment.\n",
    "\n",
    "pykx.q allows Python code execution on a q environment and, as a result, it opens up the door for new opportunities when dealing with existing codebases as it allows for importing and using Python libraries, both installed on the system and available as .py files.\n",
    "\n",
    "In our case we use both of these options. We will focus in this post on these opportunities to use Python code in pykx.q and leave the link to the project's [q script]() for the interested reader.\n",
    "\n",
    "First, we want to execute the `haversine_vector` function to measure the distance between coordinates. Since it's not available on q, we decided to use pykx.q to incorporate this library straight into our q code with these lines:\n",
    "\n",
    "```q\n",
    ".pykx.pyexec\"from haversine import haversine_vector, Unit\";\n",
    "```\n",
    "\n",
    "This function expects two Pandas DataFrames as input, so we need to change the default conversion type from \"np\" or Numpy to \"pd\" or Pandas:\n",
    "\n",
    "```q\n",
    ".pykx.setdefault\"pd\";\n",
    "```\n",
    "\n",
    "Having done this, we can \"move\" our input variables to the Python memory space using `.pykx.set`\n",
    "\n",
    "```q\n",
    ".pykx.set[`a;`longitude`latitude#a];\n",
    ".pykx.set[`b;`longitude`latitude#b];\n",
    "```\n",
    "\n",
    "And finally execute our function\n",
    "\n",
    "```q\n",
    "(.pykx.eval\"haversine_vector(a, b, Unit.KILOMETERS, comb=True)\")`\n",
    "```\n",
    "\n",
    "Notice the backtick at the end, this is for converting back to a q type.\n",
    "\n",
    "\n",
    "\n",
    "The other way we can run Python code is to load a .py (renamed to .p) file using `\\l`. This could be done as follows:\n",
    "\n",
    "```q\n",
    "system\"l kerasmodel.p\";\n",
    "```\n",
    "\n",
    "Here we have defined two functions named `fit` and `predict`. We can load them and use them like this:\n",
    "\n",
    "```q\n",
    "modelfit:.pykx.get`fit;\n",
    "modelfit[train[0][3403];train[1][3403];test[0][3403];test[1][3403]];\n",
    "modelpredict:.pykx.get`predict;\n",
    "res:modelpredict[train[0][3403]];\n",
    "```"
   ]
  },
  {
   "cell_type": "markdown",
   "id": "cf13241e",
   "metadata": {},
   "source": [
    "# Final thoughts <a class=\"anchor\" id=\"t4\"></a>\n",
    "\n",
    "Ultimately, the project was a resounding success. We succeeded in transforming a code characterized by disorganization and performance issues into a concise and competitive solution, empowered by Kdb+/q.\n",
    "PyKX has facilitated collaboration among a diverse team with varying levels of experience in Kdb+/q. This is thanks to the different levels of integration that PyKX has and their compatibility with each other. It has also provided a user-friendly introduction to Kdb+/q for less experienced team members. Moreover, the code was once again migrated, this time from the 'q' side to PyKX.\n",
    "\n",
    "The pykx.q library allows, as we have discussed earlier, to use existing Python codebases. This feature is really useful, specially when dealing with code migrations from Python. In our experience, we found specially tough to match the Python input shape to the one converted from q. After converting to Python with .pykx.set we often had to mess around with this transformed objects inside the Python environment or change the default conversion type to match it with the expected input the Python function needed. Once that was dealt with, the experience using this library was really nice and technically impressive.\n",
    "\n",
    "Since the data we needed to transfer back and forth between memory spaces was not that big (we were cautious this was the case) we didn't notice a performance loss at all. Instead, we achieved a significant improvement compared to Pandas.\n",
    "\n",
    "Overall we would rate both PyKX libraries highly since it enables users to reuse existing code, reducing the time needed to perform a migration from and to these two languages."
   ]
  }
 ],
 "metadata": {
  "kernelspec": {
   "display_name": "Python 3 (ipykernel)",
   "language": "python",
   "name": "python3"
  },
  "language_info": {
   "codemirror_mode": {
    "name": "ipython",
    "version": 3
   },
   "file_extension": ".py",
   "mimetype": "text/x-python",
   "name": "python",
   "nbconvert_exporter": "python",
   "pygments_lexer": "ipython3",
   "version": "3.8.16"
  }
 },
 "nbformat": 4,
 "nbformat_minor": 5
}
