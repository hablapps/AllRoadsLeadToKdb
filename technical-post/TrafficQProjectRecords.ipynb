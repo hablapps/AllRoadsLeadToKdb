{
 "cells": [
  {
   "cell_type": "markdown",
   "id": "d35109bf",
   "metadata": {},
   "source": [
    "# The Project <a class=\"anchor\" id=\"t1\"></a>\n",
    "\n",
    "One year ago we embark on a new project in Mad Flow. It continues the roadmap of the company to improve the quality of life in Madrid. The objective was to forecast the traffic in the city and to show it in an interface in real time so that citizens can better plan their route. Traffic analysis has become an indispensable task in smart cities. Having a better knowledge of the traffic allows a better organization and governance of the roads. \n",
    "\n",
    "In addition, we studied the possibility of including other data such as precipitation or temperature  for better predictions. The data provided by sensors in smart cities are usually heterogeneous. In the case of the city of Madrid in Spain, there are climatic and traffic data that cover the entire center of the city but they were difficult to integrate and need a complex infrastucuture.\n",
    "\n",
    "Testing the model we found an important performance limitation. The infrastructure was slow and unwieldy when incorporating new traffic data-sets or building new insights quickly what is essential in the project. To move forward with the project, a change in implementation was necessary.\n",
    "\n",
    "We found a solution to our problem: Kdb+/q by KX. This platform is extremely fast and flexible and allows data processing in real time. It also has PyKX, an open-source library that is designed to be friendly with Python programmers (essential in Mad Flow).\n",
    "\n",
    "In this technical report we present how the migration of the code to the KX platforms was carried out. But first we'll talk about the use case and the project status.\n",
    "\n",
    "<div class=\"alert alert-block alert-info\">\n",
    "<b> 🔍 You can find <a href=\"https://github.com/hablapps/AllRoadsLeadToPyKX/blob/Python-Version-Pre/AllRoadsLeadToPyKX.md\">Original Python Project</a> in Github. \n",
    "</div>"
   ]
  },
  {
   "cell_type": "markdown",
   "id": "11799390",
   "metadata": {},
   "source": [
    "**Index**\n",
    "\n",
    "[**The project**](#t1)   \n",
    "  [**The Use Case**](#t11)   \n",
    "  [**The Data**](#t12)   \n",
    "  [**The Cleaning**](#t13)   \n",
    "  [**The Final Table**](#t14)   \n",
    "  [**The Interpretation**](#t15)   \n",
    "[**PyKX migration:** ](#ID2)   \n",
    "  [**PyKX saving the day!**](#t12)   \n",
    "  [**Datasets**](#t13)   \n",
    "  [**Model**](#t14)   \n",
    "[**Q Migration:**](#ID2)   \n",
    "  [**Qholic**](#t12)   \n",
    "  [**Datasets**](#t13)   \n",
    "  [**Model**](#t14)    \n"
   ]
  },
  {
   "cell_type": "markdown",
   "id": "eb836225",
   "metadata": {},
   "source": [
    "## The Use Case <a class=\"anchor\" id=\"t11\"></a>\n",
    "\n",
    "The objective of the code is to prepare and join the traffic and weather data to be ingested by an LSTM model.\n",
    "\n",
    "Although this project is novel in the city of Madrid, there are many articles that support it. For example, [F. Malik et al.](https://www.mdpi.com/1424-8220/20/13/3749) forecasted traffic in Madrid based on air pollution through a model based on LSTM.\n",
    "\n",
    "On the dependence of the weather on traffic there are many studies, especially focused on rainfall. None of the studies are carried out in Madrid, but in several large cities such as Manchester ([A. Essien et al.](https://pure.manchester.ac.uk/ws/portalfiles/portal/72721911/DEXA_Camera_8_pages.pdf)), Shenzhen ([Y. Yao et al.](https://ieeexplore.ieee.org/document/8964560)), Belgrade ([M. Vidas et al.](https://www.safetylit.org/citations/index.php?fuseaction=citations.viewdetails&citationIds[]=citjournalarticle_716898_14)). The results of these studies predict a 5-15% increase in traffic volume on weekdays during peak hours."
   ]
  },
  {
   "cell_type": "markdown",
   "id": "ad8b1a79",
   "metadata": {},
   "source": [
    "## The Data <a class=\"anchor\" id=\"t12\"></a>\n",
    "\n",
    "Madrid weather and traffic data are offered by the [Madrid City Council](https://datos.madrid.es/portal/site/egob). These datasets include live and historical records. For model ingestion we only need the historical data. This data, which is in csv format, is divided into months from the year 2018 to the present.\n",
    "\n",
    "**Weather**\n",
    "\n",
    "[Weather data](https://datos.madrid.es/portal/site/egob/menuitem.3efdb29b813ad8241e830cc2a8a409a0/?vgnextoid=4950cc720ba29610VgnVCM2000001f4a900aRCRD&vgnextchannel=102612b9ace9f310VgnVCM100000171f5a0aRCRD&vgnextfmt=default)  is captured by stations located throughout the city of Madrid. It looks like the following table:\n",
    "\n",
    "|    |   weather_station |   magnitud |   year |   month |   day |    H01 | V01   | ...|\n",
    "|---:|------------------:|-----------:|-------:|--------:|------:|-------:|------:|:------|\n",
    "|  0 |               108 |         81 |   2022 |      12 |    22 |  270   | N     | ...|\n",
    "|  1 |               108 |         82 |   2022 |      12 |    22 |    9   | N     |...|\n",
    "|  2 |               108 |         83 |   2022 |      12 |    22 |   94.7 | N     |...|\n",
    "|  3 |               108 |         86 |   2022 |      12 |    22 | 1031   | N     |...|\n",
    "|  4 |               108 |         87 |   2022 |      12 |    22 |    2   | N     |...|\n",
    "\n",
    "\n",
    "In the documentation they tell us that the magnitude column indicates what type of meteorological data has been taken in the row:\n",
    "\n",
    "    · 80: ultraviolet\n",
    "    · 81: wind\n",
    "    · 82: direction\n",
    "    · 83: temperature\n",
    "    · 86: humidity\n",
    "    · 87: pressure\n",
    "    · 88: solar\n",
    "    · 89: rainfall\n",
    "    \n",
    "Then we have two columns for each hour so that the first tells us the value for the data type specified by the magnitude column and if the result is valid or not. We also have columns related to the time in which the measurement is taken. Finally, there is the identifier of the meteorological station which we can connect with its coordinates using this other [table](https://datos.madrid.es/portal/site/egob/menuitem.c05c1f754a33a9fbe4b2e4b284f1a5a0/?vgnextoid=2ac5be53b4d2b610VgnVCM2000001f4a900aRCRD&vgnextchannel=374512b9ace9f310VgnVCM100000171f5a0aRCRD&vgnextfmt=default) provided by the Madrid city council:\n",
    "\n",
    "|    |   weather_station |   Longitude |   Latitude |\n",
    "|---:|------------------:|------------:|-----------:|\n",
    "|  0 |                 4 |    -3.71226 |    40.4239 |\n",
    "|  1 |                 8 |    -3.68232 |    40.4216 |\n",
    "|  2 |                16 |    -3.63924 |    40.44   |\n",
    "|  3 |                18 |    -3.73184 |    40.3948 |\n",
    "|  4 |                24 |    -3.74734 |    40.4194 |\n",
    "\n",
    "**Traffic**\n",
    "\n",
    "Traffic sensors are located at traffic lights in the city of Madrid. The data obtained is made up of several measurements of the road situation such as speed or traffic volume. All of these metrics are coded into the \"load\" metric (a percentage that measures congestion). The [traffic table](https://datos.madrid.es/portal/site/egob/menuitem.c05c1f754a33a9fbe4b2e4b284f1a5a0/?vgnextoid=02f2c23866b93410VgnVCM1000000b205a0aRCRD&vgnextchannel=374512b9ace9f310VgnVCM100000171f5a0aRCRD) head is:\n",
    "\n",
    "|    |   traffic_station | tipo_elem   |   intensidad |   ocupacion |   load |   vmed | error   |   periodo_integracion | date                |\n",
    "|---:|------------------:|:------------|-------------:|------------:|-------:|-------:|:--------|----------------------:|:--------------------|\n",
    "|  0 |              1001 | M30         |         3240 |           9 |      0 |     59 | N       |                     5 | 2022-12-01 00:00:00 |\n",
    "|  1 |              1001 | M30         |         3240 |           9 |      0 |     59 | N       |                     5 | 2022-12-01 00:15:00 |\n",
    "|  2 |              1001 | M30         |          300 |           1 |      0 |     66 | N       |                     5 | 2022-12-01 00:30:00 |\n",
    "\n",
    "\n",
    "The table also contains a column for the date and another that identifies the sensor that will be used to link it with its coordinates using the following [table](https://datos.madrid.es/portal/site/egob/menuitem.c05c1f754a33a9fbe4b2e4b284f1a5a0/?vgnextoid=ee941ce6ba6d3410VgnVCM1000000b205a0aRCRD&vgnextchannel=374512b9ace9f310VgnVCM100000171f5a0aRCRD):\n",
    "\n",
    "|    | \"tipo_elem\"   |   \"distrito\" |   \"id\" | \"cod_cent\"   | \"nombre\"                                                          |   \"utm_x\" |     \"utm_y\" |   Longitude |   Latitude |\n",
    "|---:|:--------------|-------------:|-------:|:-------------|:------------------------------------------------------------------|----------:|------------:|------------:|-----------:|\n",
    "|  0 | \"URB\"         |            4 |   3840 | \"01001\"      | \"Jose Ortega y Gasset E-O - Pº Castellana-Serrano\"                |    441615 | 4.47577e+06 |    -3.68832 |    40.4305 |\n",
    "|  1 | \"URB\"         |            4 |   3841 | \"01002\"      | \"Jose Ortega y Gasset O-E - Serrano-Pº Castellana\"                |    441706 | 4.47577e+06 |    -3.68726 |    40.4305 |\n",
    "|  2 | \"URB\"         |            1 |   3842 | \"01003\"      | \"Pº Recoletos N-S - Almirante-Prim\"                               |    441319 | 4.47484e+06 |    -3.69173 |    40.4221 |"
   ]
  },
  {
   "cell_type": "markdown",
   "id": "1ed6981f",
   "metadata": {},
   "source": [
    "## The Cleaning  <a class=\"anchor\" id=\"t13\"></a>\n",
    "\n",
    "Once the data has been loaded, we prepared the data to be used in the analysis and the model. As we are dealing with heterogeneous datasets, the cleaning of the data will be done independently and the data will be assembled a single table later.\n",
    "\n",
    "#### Weather\n",
    "\n",
    "1. In the weather dataset we have the date separated into day, month and year, but in traffic all these data are together. This is why the columns have been grouped into a date column of shape: ```day-month-year```. \n",
    "\n",
    "2. We also transform each hour value measurement and its validity into independent rows and we take the opportunity to remove invalid measurements:\n",
    "\n",
    "|       | hour            |   value |\n",
    "|------:|:----------------|--------:|\n",
    "|     0 | 0 days 00:00:00 |    7.1  |\n",
    "|     1 | 0 days 00:00:00 |    6.8  |\n",
    "|     2 | 0 days 00:00:00 |    2.8  |\n",
    "|     3 | 0 days 00:00:00 |    5.6  |\n",
    "\n",
    "3. To homogenize the time measure with the traffic table we join the date with the time. The new date shape is ```date-month-year hour:minute:second```\n",
    "\n",
    "4. Finally, to have more organized data, we convert the different types of measurement into columns:\n",
    "\n",
    "|      | date                |   weather_station |   direction |   humidity |   pressure |   rainfall |   solar |   temperature |   wind |\n",
    "|-----:|:--------------------|------------------:|------------:|-----------:|-----------:|-----------:|--------:|--------------:|-------:|\n",
    "|    0 | 2022-12-01 00:00:00 |                 4 |           0 |          0 |          0 |        0   |       0 |           7.1 |   0    |\n",
    "|    1 | 2022-12-01 00:00:00 |                 8 |           0 |         67 |          0 |        0   |       0 |           9.4 |   0    |\n",
    "|    2 | 2022-12-01 00:00:00 |                16 |           0 |         73 |          0 |        0   |       0 |           8.9 |   0    |\n",
    "\n",
    "#### Traffic\n",
    "\n",
    "1. The rows where the data collection has had an error are eliminated, for this we filter the values without measurement errors. In the documentation they tell us that these values are represented with an \"N\". \n",
    "\n",
    "2. We only keep the load measurement, which is what we are interested in for the analysis.\n",
    "\n",
    "3. We group the values for each date and station and calculate the average.\n",
    "\n",
    "The average time for loading and processing a month of traffic information is **43.9 s**. The team is concerned about the slowness and the possible effect it will have on real-time data processing.\n",
    "\n",
    "**Location**\n",
    "\n",
    "To join the two previous tables we need to know which traffic sensors correspond to the weather stations. To do this you can use a distance matrix and find the closest pairs. You could measure this distance directly with the coordinates. But to make the distances clearer, the Haversine distance was used, which calculates the distance in meters between a pair of coordinates. It can be seen in the next heatmap that these distances are between 0 and 20 km:\n",
    "\n",
    "<figure>\n",
    "<img src=\"files/image_source/heatmap3.png\">\n",
    "<figcaption style = \"text-align: center\"> <b>Figure 1:</b> Heatmap of distances in km between weather and traffic stations </figcaption>\n",
    "</figure>"
   ]
  },
  {
   "cell_type": "markdown",
   "id": "3f40bba9",
   "metadata": {},
   "source": [
    "## The Final Table <a class=\"anchor\" id=\"t14\"></a>\n",
    "\n",
    "Once we have prepared the 3 tables -weather, traffic and distance- we put them together. Since the weather table has time intervals of 1 hour while the traffic ones have 15 minutes, we will join both tables with an asof join. And, finally, we can add the information of the time and the day of the week to study its dependence on the traffic load.\n",
    "\n",
    "|    | date                |   traffic_station |   load |   Distance |   Closest |   weather_station |   direction |   humidity |   pressure |   rainfall |   solar |   temperature |   wind |   weekday |   hour |\n",
    "|---:|:--------------------|------------------:|-------:|-----------:|----------:|------------------:|------------:|-----------:|-----------:|-----------:|--------:|--------------:|-------:|----------:|-------:|\n",
    "|  0 | 2022-12-01 00:00:00 |              1001 |      0 |         15 |         1 |                 8 |           0 |         67 |          0 |          0 |       0 |           9.4 |      0 |         3 |      0 |\n",
    "|  1 | 2022-12-01 00:00:00 |              1002 |      0 |         15 |         1 |                 8 |           0 |         67 |          0 |          0 |       0 |           9.4 |      0 |         3 |      0 |\n",
    "|  2 | 2022-12-01 00:00:00 |              1003 |      0 |         14 |         1 |                 8 |           0 |         67 |          0 |          0 |       0 |           9.4 |      0 |         3 |      0 |\n",
    "|  3 | 2022-12-01 00:00:00 |              1006 |      0 |         15 |         1 |                 8 |           0 |         67 |          0 |          0 |       0 |           9.4 |      0 |         3 |      0 |\n",
    "|  4 | 2022-12-01 00:00:00 |              1009 |      0 |         14 |         0 |                 4 |           0 |          0 |          0 |          0 |       0 |           7.1 |      0 |         3 |      0 |"
   ]
  },
  {
   "cell_type": "markdown",
   "id": "8a676cf6",
   "metadata": {},
   "source": [
    "## Data interpretation <a class=\"anchor\" id=\"t15\"></a>\n",
    "\n",
    "Several studies were carried out to find out what time variables could be interesting to add to the model. In the first place, since traffic is so dependent on time, the measurements will be filtered to obtain the days of the week and the hours where there is usually more traffic. This will make it easier for the test model to learn. School days tend to have more traffic than holidays. Just as there is usually more traffic during the day than at night. In the following figure we can verify that the data have a strong seasonality:\n",
    "\n",
    "<table>\n",
    "    <tr>\n",
    "    <td style='text-align:center;'>\n",
    "<figure>\n",
    "<img src=\"files/image_source/loadperhour.png\">\n",
    "<figcaption style = \"text-align: center\">   <b>Figure 2:</b> Load per Hour </figcaption>\n",
    "</figure>\n",
    " </td>\n",
    "    <td>\n",
    "<figure>\n",
    "<img src=\"files/image_source/loadperweekday.png\">\n",
    "<figcaption style = \"text-align: center\">   <b>Figure 3:</b> Load per Weekday </figcaption>\n",
    "</figure>\n",
    "            </td>\n",
    "    </tr>\n",
    "</table>\n",
    "\n",
    "We keep the data between 10 a.m. and 8 p.m., from Monday to Friday, for the rest of the project.\n",
    "\n",
    "Regarding the Rainfall-Load dependency ee started seeing that rainy days are very few:\n",
    "\n",
    "|       |       rainfall |\n",
    "|:------|---------------:|\n",
    "| count | 841068         |\n",
    "| mean  |      0.0130932 |\n",
    "| std   |      0.194232  |\n",
    "| min   |      0         |\n",
    "| 50%   |      0         |\n",
    "| 90%   |      0         |\n",
    "| 99.9% |      2.9       |\n",
    "| max   |     10.9       |\n",
    "\n",
    "We can see in the percentiles of the precipitation column that there are very few recordings with rain. This is why the measurements were divided into different classes depending on the level of rain and we did a separate analysis for the data with heavy rain, moderate to moderate and no rain. The analysis was done hourly to avoid the temporal dependence of the load. We can verify this in the following table, where the average increase in hours of traffic congestion with rain can go from 5% to 14%, which agrees with the studies presented in [The Use Case](#t12).\n",
    "\n",
    "<figure>\n",
    "<img src=\"files/image_source/rainfall.png\">\n",
    "<figcaption style = \"text-align: center\"> <b>Figure 4:</b> The average traffic load per hour for the measurements with heavy rain (blue), moderate rain (brown) and no rain (green).</figcaption>\n",
    "</figure>\n",
    "\n",
    "To verify that these differences between groups are significant, we can do an anova test. And we see that in all hours there is great evidence that the load is different between the different types of rain. For example, for hour 12:\n",
    "\n",
    "|             |          sum_sq |    df |        F |       PR(>F) |\n",
    "|:------------|----------------:|------:|---------:|-------------:|\n",
    "| C(rainfall) | 37650.7         |     6 |  20.1144 |   1.3346e-23 |\n",
    "| Residual    |     8.01363e+06 | 25687 | nan      | nan          |\n",
    "\n",
    "It was decided to include precipitation within the model. The rest of the meteorological conditions did not give such a clear result, so they will be left out."
   ]
  },
  {
   "cell_type": "markdown",
   "id": "551df2c9",
   "metadata": {},
   "source": [
    "## Month 6:  The Model <a class=\"anchor\" id=\"t16\"></a>\n",
    "\n",
    "To check the performance we created a toy model using a simple LSTM with 5 steps back to forecast the load at a single station. The input includes only the 5 steps prior to the prediction of the load, the rain, the time and the day of the week. The results for a single station seem quite positive as can be seen in [Graph 6](#Image61). But the temporary cost for a single station and a single month is unaffordable for the project budget. Also, the pre-processing takes too long for the final application in real time.\n",
    "\n",
    "<table> <a class=\"anchor\" id=\"Image61\"></a>\n",
    "    <tr>\n",
    "    <td style='text-align:center;'>\n",
    "<figure>\n",
    "<img src=\"files/image_source/loss_graph_p.png\">\n",
    "<figcaption style = \"text-align: center\">   <b>Figure 5:</b> Train vs Test loss plot  </figcaption>\n",
    "</figure>\n",
    " </td>\n",
    "    <td>\n",
    "<figure>\n",
    "<img src=\"files/image_source/fc_p.png\">\n",
    "<figcaption style = \"text-align: center\">   <b>Figure 6:</b> Traffic Forecasting for a traffic station </figcaption>\n",
    "</figure>\n",
    "            </td>\n",
    "    </tr>\n",
    "</table>\n"
   ]
  },
  {
   "cell_type": "markdown",
   "id": "caff5679",
   "metadata": {},
   "source": [
    "# PyKX migration"
   ]
  },
  {
   "cell_type": "markdown",
   "id": "e4a05edc",
   "metadata": {},
   "source": [
    "Once the project is clear, we will explain the steps that have been taken for the migration, which include a training stage in q and pykx of the team, the datasets loading and cleaning and the model ingestion. But first of all we need to install and import PyKx:"
   ]
  },
  {
   "cell_type": "code",
   "execution_count": null,
   "id": "8369149f",
   "metadata": {},
   "outputs": [],
   "source": [
    "!pip install pykx"
   ]
  },
  {
   "cell_type": "code",
   "execution_count": 20,
   "id": "10b6b1ed",
   "metadata": {},
   "outputs": [],
   "source": [
    "import pykx as kx"
   ]
  },
  {
   "cell_type": "markdown",
   "id": "930f5a3c",
   "metadata": {},
   "source": [
    "<div class=\"alert alert-block alert-info\">\n",
    "<b> 🔍 A license is required to use some of the following features. You can find more information in <a href=\"https://code.kx.com/pykx/1.6/getting-started/installing.html\">\n",
    "            PyKX installation documentation</a>. \n",
    "</div>\n",
    "\n",
    "[]()"
   ]
  },
  {
   "cell_type": "markdown",
   "id": "05e849ce",
   "metadata": {},
   "source": [
    "## Learning PyKX "
   ]
  },
  {
   "cell_type": "markdown",
   "id": "591d51ed",
   "metadata": {},
   "source": [
    "Before starting the project, the Mad Flow team received training from [Habla Computing](https://hablapps.com/) on q and PyKX. After this introduction to KX platforms, some of the developers fell in love with q, while others felt more comfortable in the Python ecosystem. PyKX is designed so that these two profiles coexist in the same development environment. The team has made a compilation of perspectives, some more pythonic and others more qtonic, with which they feel more comfortable programming:\n",
    "\n",
    "* **[Useful Read/Write Functions](https://code.kx.com/pykx/1.6/api/read.html)**\n",
    "\n",
    ">*\"PyKX offers several functions that help loading and writing data, they are very versatile and the parameters are very intuitive.\"*"
   ]
  },
  {
   "cell_type": "code",
   "execution_count": 21,
   "id": "c5649b3a",
   "metadata": {},
   "outputs": [],
   "source": [
    "traffic_station = kx.q.read.csv('./pmed_ubicacion_12-2022.csv', types = \"SII**FFFF\", delimiter = \";\", as_table=True)"
   ]
  },
  {
   "cell_type": "markdown",
   "id": "acc45223",
   "metadata": {},
   "source": [
    "* **[Use pythonic indexing](https://code.kx.com/pykx/1.6/user-guide/fundamentals/indexing.html)**\n",
    "\n",
    "> *\"Accessing data from q objects such as lists or tables from python can be done with indexing similar to what you can use in numpy or pandas. This has made my job much easier.\"*"
   ]
  },
  {
   "cell_type": "code",
   "execution_count": 22,
   "id": "798002d2",
   "metadata": {},
   "outputs": [
    {
     "name": "stdout",
     "output_type": "stream",
     "text": [
      "40.4305 40.43052 40.42213 40.42143 40.43378\n"
     ]
    }
   ],
   "source": [
    "elem = traffic_station[\"tipo_elem\"]\n",
    "lat = traffic_station[\"latitud\"]\n",
    "print(lat[:5])"
   ]
  },
  {
   "cell_type": "markdown",
   "id": "ae6530c0",
   "metadata": {},
   "source": [
    "* **[Use q functions]()**\n",
    "\n",
    "> *\"For those like me who want to delve into the q language and gain experience, you can use language functions, ...*"
   ]
  },
  {
   "cell_type": "code",
   "execution_count": 76,
   "id": "fa54754d",
   "metadata": {},
   "outputs": [
    {
     "name": "stdout",
     "output_type": "stream",
     "text": [
      "`URB`other`M30\n"
     ]
    }
   ],
   "source": [
    "distinct = kx.q(\"distinct\", elem) # unique values in the list\n",
    "print(distinct) "
   ]
  },
  {
   "cell_type": "markdown",
   "id": "1f1d2dd4",
   "metadata": {},
   "source": [
    "> *... iterate over them ...*"
   ]
  },
  {
   "cell_type": "code",
   "execution_count": 77,
   "id": "b65c3867",
   "metadata": {},
   "outputs": [
    {
     "name": "stdout",
     "output_type": "stream",
     "text": [
      "`urb`other`m30\n"
     ]
    }
   ],
   "source": [
    "print(kx.q(\"lower\").each(distinct)) # lower case unique values of the list"
   ]
  },
  {
   "cell_type": "markdown",
   "id": "b75c288a",
   "metadata": {},
   "source": [
    ">*... or even create and use them with pykx objects.\"*"
   ]
  },
  {
   "cell_type": "code",
   "execution_count": 68,
   "id": "34e72eb5",
   "metadata": {},
   "outputs": [
    {
     "name": "stdout",
     "output_type": "stream",
     "text": [
      "URB  | 4266\r\n",
      "other| 128\r\n",
      "M30  | 296\n"
     ]
    }
   ],
   "source": [
    "print(kx.q(\"{u !(sum x=) each u:distinct x}\", elem)) # Count the occurrences of distinct values"
   ]
  },
  {
   "cell_type": "markdown",
   "id": "e4bdaaad",
   "metadata": {},
   "source": [
    "* **Use [Numpy](https://code.kx.com/pykx/1.6/user-guide/advanced/numpy.html) and  [Pandas](https://code.kx.com/pykx/1.6/user-guide/advanced/Pandas_API.html)**\n",
    "\n",
    "> *\"Those of us who are not yet so familiar with the ecosystem that we can continue using part of the functionality of Numpy...*"
   ]
  },
  {
   "cell_type": "code",
   "execution_count": 24,
   "id": "a1d89a0e",
   "metadata": {},
   "outputs": [
    {
     "data": {
      "text/plain": [
       "40.42870774510621"
      ]
     },
     "execution_count": 24,
     "metadata": {},
     "output_type": "execute_result"
    }
   ],
   "source": [
    "import numpy as np\n",
    "np.mean(lat)"
   ]
  },
  {
   "cell_type": "markdown",
   "id": "5667de7d",
   "metadata": {},
   "source": [
    ">*... and from pandas via the Pandas API.\"*"
   ]
  },
  {
   "cell_type": "code",
   "execution_count": 64,
   "id": "c9e5594a",
   "metadata": {},
   "outputs": [
    {
     "name": "stdout",
     "output_type": "stream",
     "text": [
      "tipo_elem distrito id   cod_cent nombre                                      ..\r\n",
      "-----------------------------------------------------------------------------..\r\n",
      "URB       4        3840 \"01001\"  \"Jose Ortega y Gasset E-O - P\\302\\272 Castel..\r\n",
      "URB       4        3840 \"01001\"  \"Jose Ortega y Gasset E-O - P\\302\\272 Castel..\r\n",
      "URB       4        3840 \"01001\"  \"Jose Ortega y Gasset E-O - P\\302\\272 Castel..\r\n",
      "URB       4        3840 \"01001\"  \"Jose Ortega y Gasset E-O - P\\302\\272 Castel..\r\n",
      "URB       4        3840 \"01001\"  \"Jose Ortega y Gasset E-O - P\\302\\272 Castel..\n"
     ]
    }
   ],
   "source": [
    "import os\n",
    "os.environ['PYKX_ENABLE_PANDAS_API'] = 'true'\n",
    "import pykx as kx\n",
    "import numpy as np\n",
    "import pandas as pd\n",
    "\n",
    "print(traffic_station[traffic_station[\"tipo_elem\"]==\"other\"][:5]) # filter rows where the values of a column meet a condition"
   ]
  },
  {
   "cell_type": "markdown",
   "id": "8752be12",
   "metadata": {},
   "source": [
    "\n",
    "<div class=\"alert alert-block alert-info\">\n",
    "<b>To use it we only have to import numpy and pandas and activate a flag. Pandas API is still in the development phase, so it does not yet have all the functions of Pandas. More information in <a href=\"https://code.kx.com/pykx/1.6/user-guide/advanced/Pandas_API.html\"> Pandas API </a> . \n",
    "</div>\n",
    "    \n",
    "    \n"
   ]
  },
  {
   "cell_type": "markdown",
   "id": "7cca2854",
   "metadata": {},
   "source": [
    "* **Use [qSQL querys](https://code.kx.com/pykx/1.6/api/query.html)**\n",
    "\n",
    "> *\"SQL queries are very powerful and concise at the same time. PyKX allows you to query PyKX objects as well as API functions...* "
   ]
  },
  {
   "cell_type": "code",
   "execution_count": 83,
   "id": "115f7210",
   "metadata": {},
   "outputs": [
    {
     "name": "stdout",
     "output_type": "stream",
     "text": [
      "name        \r\n",
      "------------\r\n",
      "\"03FL08PM01\"\r\n",
      "\"03FL08PM02\"\r\n",
      "\"03FL20PM01\"\r\n",
      "\"03FL56PM01\"\r\n",
      "\"03FT08PM01\"\n"
     ]
    }
   ],
   "source": [
    "print(kx.q.qsql.select(traffic_station, {\"name\":\"5 # nombre\"}, where=\"tipo_elem = `other\")) # filter rows where the values of a column meet a condition"
   ]
  },
  {
   "cell_type": "markdown",
   "id": "06eb334e",
   "metadata": {},
   "source": [
    "> *...or using our own functions q.\"*"
   ]
  },
  {
   "cell_type": "code",
   "execution_count": 82,
   "id": "7eb9ceb6",
   "metadata": {},
   "outputs": [
    {
     "name": "stdout",
     "output_type": "stream",
     "text": [
      "name        \r\n",
      "------------\r\n",
      "\"03FL08PM01\"\r\n",
      "\"03FL08PM02\"\r\n",
      "\"03FL20PM01\"\r\n",
      "\"03FL56PM01\"\r\n",
      "\"03FT08PM01\"\n"
     ]
    }
   ],
   "source": [
    "print(kx.q(\"{select name:5#nombre from x where tipo_elem = `other}\", traffic_station)) # filter rows where the values of a column meet a condition"
   ]
  },
  {
   "cell_type": "markdown",
   "id": "5001346c",
   "metadata": {},
   "source": [
    "* **Use [SQL querys](https://code.kx.com/pykx/1.6/api/query.html)**"
   ]
  },
  {
   "cell_type": "markdown",
   "id": "7c456368",
   "metadata": {},
   "source": [
    ">*\"Whoa! PyKx lets you use SQL queries too!\"*"
   ]
  },
  {
   "cell_type": "code",
   "execution_count": null,
   "id": "e05642a1",
   "metadata": {},
   "outputs": [],
   "source": [
    "kx.q.sql(\"select top 5 nombre from $1 where tipo_elem=`other\", traffic_station)"
   ]
  },
  {
   "cell_type": "markdown",
   "id": "05ce9bde",
   "metadata": {},
   "source": [
    "* **Q Context**\n",
    "\n",
    "> *\"I'm more comfortable programming in q, so I work in the context of q. PYKX objects can be passed into the q context and work with them as if you were in a q ecosystem:\"*"
   ]
  },
  {
   "cell_type": "code",
   "execution_count": 81,
   "id": "0b8e6323",
   "metadata": {},
   "outputs": [
    {
     "name": "stdout",
     "output_type": "stream",
     "text": [
      "name        \r\n",
      "------------\r\n",
      "\"03FL08PM01\"\r\n",
      "\"03FL08PM02\"\r\n",
      "\"03FL20PM01\"\r\n",
      "\"03FL56PM01\"\r\n",
      "\"03FT08PM01\"\n"
     ]
    }
   ],
   "source": [
    "kx.q[\"traffic_station\"] = traffic_station # Move Pykx Object to Q Context\n",
    "\n",
    "print(kx.q(\"select name:5#nombre from traffic_station where tipo_elem = `other\")) # Working with the table inside q"
   ]
  },
  {
   "cell_type": "markdown",
   "id": "81a520f9",
   "metadata": {},
   "source": [
    "* **Python/Q Transform**\n",
    "\n",
    "> *\"I'm new to the project and still have to catch up with q. In the meantime I can pass the objects from q to pandas...*"
   ]
  },
  {
   "cell_type": "code",
   "execution_count": 124,
   "id": "f1b969aa",
   "metadata": {},
   "outputs": [
    {
     "data": {
      "text/html": [
       "<div>\n",
       "<style scoped>\n",
       "    .dataframe tbody tr th:only-of-type {\n",
       "        vertical-align: middle;\n",
       "    }\n",
       "\n",
       "    .dataframe tbody tr th {\n",
       "        vertical-align: top;\n",
       "    }\n",
       "\n",
       "    .dataframe thead th {\n",
       "        text-align: right;\n",
       "    }\n",
       "</style>\n",
       "<table border=\"1\" class=\"dataframe\">\n",
       "  <thead>\n",
       "    <tr style=\"text-align: right;\">\n",
       "      <th></th>\n",
       "      <th>tipo_elem</th>\n",
       "      <th>distrito</th>\n",
       "      <th>id</th>\n",
       "      <th>cod_cent</th>\n",
       "      <th>nombre</th>\n",
       "      <th>utm_x</th>\n",
       "      <th>utm_y</th>\n",
       "      <th>longitud</th>\n",
       "      <th>latitud</th>\n",
       "    </tr>\n",
       "  </thead>\n",
       "  <tbody>\n",
       "    <tr>\n",
       "      <th>0</th>\n",
       "      <td>URB</td>\n",
       "      <td>4</td>\n",
       "      <td>3840</td>\n",
       "      <td>b'01001'</td>\n",
       "      <td>b'Jose Ortega y Gasset E-O - P\\xc2\\xba Castell...</td>\n",
       "      <td>441615.343347</td>\n",
       "      <td>4.475768e+06</td>\n",
       "      <td>-3.688323</td>\n",
       "      <td>40.430502</td>\n",
       "    </tr>\n",
       "    <tr>\n",
       "      <th>1</th>\n",
       "      <td>URB</td>\n",
       "      <td>4</td>\n",
       "      <td>3841</td>\n",
       "      <td>b'01002'</td>\n",
       "      <td>b'Jose Ortega y Gasset O-E - Serrano-P\\xc2\\xba...</td>\n",
       "      <td>441705.882340</td>\n",
       "      <td>4.475770e+06</td>\n",
       "      <td>-3.687256</td>\n",
       "      <td>40.430524</td>\n",
       "    </tr>\n",
       "    <tr>\n",
       "      <th>2</th>\n",
       "      <td>URB</td>\n",
       "      <td>1</td>\n",
       "      <td>3842</td>\n",
       "      <td>b'01003'</td>\n",
       "      <td>b'P\\xc2\\xba Recoletos N-S - Almirante-Prim'</td>\n",
       "      <td>441319.371258</td>\n",
       "      <td>4.474841e+06</td>\n",
       "      <td>-3.691727</td>\n",
       "      <td>40.422132</td>\n",
       "    </tr>\n",
       "    <tr>\n",
       "      <th>3</th>\n",
       "      <td>URB</td>\n",
       "      <td>4</td>\n",
       "      <td>3843</td>\n",
       "      <td>b'01004'</td>\n",
       "      <td>b'P\\xc2\\xba Recoletos S-N - Pl. Cibeles- Recol...</td>\n",
       "      <td>441301.632986</td>\n",
       "      <td>4.474764e+06</td>\n",
       "      <td>-3.691929</td>\n",
       "      <td>40.421433</td>\n",
       "    </tr>\n",
       "    <tr>\n",
       "      <th>4</th>\n",
       "      <td>URB</td>\n",
       "      <td>4</td>\n",
       "      <td>3844</td>\n",
       "      <td>b'01005'</td>\n",
       "      <td>b'(AFOROS) P\\xc2\\xba Castellana S-N  - Eduardo...</td>\n",
       "      <td>441605.765072</td>\n",
       "      <td>4.476132e+06</td>\n",
       "      <td>-3.688470</td>\n",
       "      <td>40.433782</td>\n",
       "    </tr>\n",
       "  </tbody>\n",
       "</table>\n",
       "</div>"
      ],
      "text/plain": [
       "  tipo_elem  distrito    id  cod_cent  \\\n",
       "0       URB         4  3840  b'01001'   \n",
       "1       URB         4  3841  b'01002'   \n",
       "2       URB         1  3842  b'01003'   \n",
       "3       URB         4  3843  b'01004'   \n",
       "4       URB         4  3844  b'01005'   \n",
       "\n",
       "                                              nombre          utm_x  \\\n",
       "0  b'Jose Ortega y Gasset E-O - P\\xc2\\xba Castell...  441615.343347   \n",
       "1  b'Jose Ortega y Gasset O-E - Serrano-P\\xc2\\xba...  441705.882340   \n",
       "2        b'P\\xc2\\xba Recoletos N-S - Almirante-Prim'  441319.371258   \n",
       "3  b'P\\xc2\\xba Recoletos S-N - Pl. Cibeles- Recol...  441301.632986   \n",
       "4  b'(AFOROS) P\\xc2\\xba Castellana S-N  - Eduardo...  441605.765072   \n",
       "\n",
       "          utm_y  longitud    latitud  \n",
       "0  4.475768e+06 -3.688323  40.430502  \n",
       "1  4.475770e+06 -3.687256  40.430524  \n",
       "2  4.474841e+06 -3.691727  40.422132  \n",
       "3  4.474764e+06 -3.691929  40.421433  \n",
       "4  4.476132e+06 -3.688470  40.433782  "
      ]
     },
     "execution_count": 124,
     "metadata": {},
     "output_type": "execute_result"
    }
   ],
   "source": [
    "traffic_station.pd().head()"
   ]
  },
  {
   "cell_type": "markdown",
   "id": "83bf4c70",
   "metadata": {},
   "source": [
    ">*... numpy, ...*"
   ]
  },
  {
   "cell_type": "code",
   "execution_count": 128,
   "id": "beecae60",
   "metadata": {},
   "outputs": [
    {
     "data": {
      "text/plain": [
       "array([40.43050187, 40.43052394, 40.42213209, 40.42143334, 40.43378206])"
      ]
     },
     "execution_count": 128,
     "metadata": {},
     "output_type": "execute_result"
    }
   ],
   "source": [
    "lat.np()[:5]"
   ]
  },
  {
   "cell_type": "markdown",
   "id": "cc1f8ece",
   "metadata": {},
   "source": [
    "> *... and python to work on ...*"
   ]
  },
  {
   "cell_type": "code",
   "execution_count": 127,
   "id": "8064dd0a",
   "metadata": {},
   "outputs": [
    {
     "data": {
      "text/plain": [
       "[40.4305018691825,\n",
       " 40.4305239406404,\n",
       " 40.4221320929972,\n",
       " 40.4214333442836,\n",
       " 40.4337820578943]"
      ]
     },
     "execution_count": 127,
     "metadata": {},
     "output_type": "execute_result"
    }
   ],
   "source": [
    "lat.py()[:5]"
   ]
  },
  {
   "cell_type": "markdown",
   "id": "02c8e785",
   "metadata": {},
   "source": [
    ">*... and then back to q so that colleagues can continue the work.\"*"
   ]
  },
  {
   "cell_type": "code",
   "execution_count": 130,
   "id": "cb1fa32d",
   "metadata": {},
   "outputs": [
    {
     "data": {
      "text/plain": [
       "pykx.FloatVector(pykx.q('40.4305 40.43052 40.42213 40.42143 40.43378 40.42351 40.42816 40.42879 40.426..'))"
      ]
     },
     "execution_count": 130,
     "metadata": {},
     "output_type": "execute_result"
    }
   ],
   "source": [
    "kx.toq(lat.py())"
   ]
  },
  {
   "cell_type": "markdown",
   "id": "1939cc15",
   "metadata": {},
   "source": [
    "During the development of the project some of these methods will be described in depth. The best thing is that they are fully compatible with each other, so developers can choose the one that is most comfortable for them!"
   ]
  },
  {
   "cell_type": "markdown",
   "id": "5a3b2444",
   "metadata": {},
   "source": [
    "## Datasets"
   ]
  },
  {
   "cell_type": "markdown",
   "id": "3b1e105c",
   "metadata": {},
   "source": [
    "### Weather"
   ]
  },
  {
   "cell_type": "markdown",
   "id": "725d7488",
   "metadata": {},
   "source": [
    "The data load will be done with the utility provided by [pykx for load files](https://code.kx.com/pykx/1.4/api/read.html):"
   ]
  },
  {
   "cell_type": "code",
   "execution_count": 23,
   "id": "1b02d428",
   "metadata": {},
   "outputs": [],
   "source": [
    "weather = kx.q.read.csv('./dic_meteo22.csv', types='I'*4 + '*'*4 + 'FS'*24, delimiter=';')"
   ]
  },
  {
   "cell_type": "markdown",
   "id": "c43b67ae",
   "metadata": {},
   "source": [
    "Los parámetros de esta función son bastante estándares en los cuales se indica la url al fichero y el delimitador. Destacamos el parámetro *types* que espera los [tipos](https://code.kx.com/q/basics/datatypes/) de cada columna. Nuestras tablas son objetos pykx:"
   ]
  },
  {
   "cell_type": "code",
   "execution_count": 71,
   "id": "8671fc58",
   "metadata": {},
   "outputs": [
    {
     "data": {
      "text/plain": [
       "pykx.wrappers.Table"
      ]
     },
     "execution_count": 71,
     "metadata": {},
     "output_type": "execute_result"
    }
   ],
   "source": [
    "type(weather)"
   ]
  },
  {
   "cell_type": "markdown",
   "id": "6bc5c4e4",
   "metadata": {},
   "source": [
    "Pero no está en el contexto de q. Veamos como acceder a estos objetos y como utilizar funcionalidades de q sobre ellos. Empecemos con la sencilla función de *xcol*, que nos permite cambiar el nombre de las columnas:"
   ]
  },
  {
   "cell_type": "code",
   "execution_count": 24,
   "id": "687e9e51",
   "metadata": {},
   "outputs": [],
   "source": [
    "weather = kx.q.xcol({'ANO': 'year', 'MES': 'month', 'DIA': 'day', 'ESTACION':'weather_station', 'MAGNITUD':'magnitude'}, weather)"
   ]
  },
  {
   "cell_type": "markdown",
   "id": "a2d76150",
   "metadata": {},
   "source": [
    "We see that this function is overloaded in PyKX. Many q functions are available through the pykx.q interface. Los atributos son idénticos a los que se esperan en la función de q pero con estructuras de Python. Estas funciones vienen recopiladas y perfectamente explicadas en la [documentación de pykx](https://code.kx.com/pykx/1.6/api/q/q.html). "
   ]
  },
  {
   "cell_type": "markdown",
   "id": "db65aaf3",
   "metadata": {},
   "source": [
    "Apart from this functions we have the kx.q.qsql interface, which allows us to query into tables. Specifically we used `select`, `update` and `delete`, which share some common characteristics, mainly with the arguments they receive.\n",
    "\n",
    "Both `select` and `update` share more or less this function call structure:\n",
    "\n",
    "`kx.q.sql.{function}({tab}, columns=..., where=..., by=...)`\n",
    "\n",
    "The `columns` argument expects either a list of strings or a dictionary where the key is the column name and the value is the actual value you want in this column if let's say you want to apply a function to it. Let's look at this specific example:"
   ]
  },
  {
   "cell_type": "code",
   "execution_count": 25,
   "id": "87b1c346",
   "metadata": {},
   "outputs": [],
   "source": [
    "weather = kx.q.qsql.delete(weather, ['PUNTO_MUESTREO', 'PROVINCIA', 'MUNICIPIO'])"
   ]
  },
  {
   "cell_type": "markdown",
   "id": "3af42bb6",
   "metadata": {},
   "source": [
    "Con el código anterior hemos eliminado varias columnas que no son relevantes para el análisis.\n",
    "\n",
    "La siguiente tarea que debemos realizar es combinar el año, el mes y el día a una única columna fecha. Para ello se comienza accediendo a estas tres columnas. Esto se puede hacer mediante indexación:"
   ]
  },
  {
   "cell_type": "code",
   "execution_count": 26,
   "id": "af35e814",
   "metadata": {},
   "outputs": [
    {
     "data": {
      "text/plain": [
       "pykx.List(pykx.q('\n",
       "\"2022\" \"2022\" \"2022\" \"2022\" \"2022\" \"2022\" \"2022\" \"2022\" \"2022\" \"2022\" \"2022\" ..\n",
       "\"12\"   \"12\"   \"12\"   \"12\"   \"12\"   \"12\"   \"12\"   \"12\"   \"12\"   \"12\"   \"12\"   ..\n",
       "\"22\"   \"22\"   \"22\"   \"22\"   \"22\"   \"22\"   \"22\"   \"01\"   \"02\"   \"03\"   \"04\"   ..\n",
       "'))"
      ]
     },
     "execution_count": 26,
     "metadata": {},
     "output_type": "execute_result"
    }
   ],
   "source": [
    "weather[\"year\", \"month\", \"day\"]"
   ]
  },
  {
   "cell_type": "markdown",
   "id": "974e9834",
   "metadata": {},
   "source": [
    "Vemos que el resultado son tres listas del tamaño de la muestra. Nuestro objetivo es una lista de tamaño de la muestra con los tres elementos que forman la fecha unidos:"
   ]
  },
  {
   "cell_type": "code",
   "execution_count": 27,
   "id": "2c838da1",
   "metadata": {},
   "outputs": [
    {
     "data": {
      "text/plain": [
       "pykx.List(pykx.q('\n",
       "\"2022\" \"12\" \"22\"\n",
       "\"2022\" \"12\" \"22\"\n",
       "\"2022\" \"12\" \"22\"\n",
       "'))"
      ]
     },
     "execution_count": 27,
     "metadata": {},
     "output_type": "execute_result"
    }
   ],
   "source": [
    "kx.q.flip(weather[\"year\", \"month\", \"day\"])[:3]"
   ]
  },
  {
   "cell_type": "markdown",
   "id": "868c9b4c",
   "metadata": {},
   "source": [
    "Parece que nos acercamos ahora tenemos una lista del tamaño de la muestra con una lista en cada posción que contiene 3 elementos: el día, el mes y el año. Para juntar cada conjunto de la lista en un único elemento unido se utilizará el iterador *each*:"
   ]
  },
  {
   "cell_type": "code",
   "execution_count": 28,
   "id": "faedfb03",
   "metadata": {},
   "outputs": [
    {
     "data": {
      "text/plain": [
       "pykx.List(pykx.q('\n",
       "\"20221222\"\n",
       "\"20221222\"\n",
       "\"20221222\"\n",
       "'))"
      ]
     },
     "execution_count": 28,
     "metadata": {},
     "output_type": "execute_result"
    }
   ],
   "source": [
    "kx.q.each(kx.q.raze, kx.q.flip(weather[\"year\", \"month\", \"day\"]))[:3]"
   ]
  },
  {
   "cell_type": "markdown",
   "id": "ffa64936",
   "metadata": {},
   "source": [
    "Parece que ya estamos bastante cerca. Solo nos hace falta convertir el tipo de dato de string a fecha.  Desafortunadamente, some functions (especially the overloaded glyphs) are not implemented. For example cast (`$`), take (`#`), concat (`,`)... Por lo que nos vemos obligados a abandonar pykx y llevar a cabo este casting en q:"
   ]
  },
  {
   "cell_type": "code",
   "execution_count": 29,
   "id": "227e586d",
   "metadata": {},
   "outputs": [
    {
     "data": {
      "text/plain": [
       "pykx.DateVector(pykx.q('2022.12.22 2022.12.22 2022.12.22'))"
      ]
     },
     "execution_count": 29,
     "metadata": {},
     "output_type": "execute_result"
    }
   ],
   "source": [
    "date = kx.q('\"D\"$',(kx.q.each(kx.q.raze, kx.q.flip(weather[\"year\", \"month\", \"day\"]))))\n",
    "date[:3]"
   ]
  },
  {
   "cell_type": "markdown",
   "id": "75e62ba9",
   "metadata": {},
   "source": [
    "Solo nos queda añadir esta columna a nuestra tabla:"
   ]
  },
  {
   "cell_type": "code",
   "execution_count": 30,
   "id": "c3628c96",
   "metadata": {},
   "outputs": [],
   "source": [
    "weather_ = kx.q.qsql.update(weather, columns = {'date': date})"
   ]
  },
  {
   "cell_type": "markdown",
   "id": "bb236e6c",
   "metadata": {},
   "source": [
    "Pudimos comprobar que aunque se tuviesen que utilizar funciones q en vez de funciones pykx, no había sido algo verdaderamente costoso y la solución era más conciso. Una vez el equipo tuvo algo más de soltura se propuso una función enteramente en q mucho más concisa:"
   ]
  },
  {
   "cell_type": "code",
   "execution_count": 31,
   "id": "9b9a6a2a",
   "metadata": {},
   "outputs": [],
   "source": [
    "weather = kx.q.qsql.update(weather, columns = {'date':'\"D\"$ raze each flip(year;month;day)'})"
   ]
  },
  {
   "cell_type": "markdown",
   "id": "36119f3b",
   "metadata": {},
   "source": [
    "De nuevo, ambas soluciones son enteramente compatibles, incluso combinables, queda a gusto del programador el uso de una u otra metodología. Por último, podemos eliminar las tres columnas que ya están incluidas en fecha:"
   ]
  },
  {
   "cell_type": "code",
   "execution_count": 32,
   "id": "0febc904",
   "metadata": {},
   "outputs": [],
   "source": [
    "weather = kx.q.qsql.delete(weather, ['year', 'month', 'day'])"
   ]
  },
  {
   "cell_type": "markdown",
   "id": "d7ae458f",
   "metadata": {},
   "source": [
    "Veamos cual es el estado actual de la tabla weather:"
   ]
  },
  {
   "cell_type": "code",
   "execution_count": 80,
   "id": "4784045f",
   "metadata": {},
   "outputs": [
    {
     "data": {
      "text/html": [
       "<div>\n",
       "<style scoped>\n",
       "    .dataframe tbody tr th:only-of-type {\n",
       "        vertical-align: middle;\n",
       "    }\n",
       "\n",
       "    .dataframe tbody tr th {\n",
       "        vertical-align: top;\n",
       "    }\n",
       "\n",
       "    .dataframe thead th {\n",
       "        text-align: right;\n",
       "    }\n",
       "</style>\n",
       "<table border=\"1\" class=\"dataframe\">\n",
       "  <thead>\n",
       "    <tr style=\"text-align: right;\">\n",
       "      <th></th>\n",
       "      <th>weather_station</th>\n",
       "      <th>magnitude</th>\n",
       "      <th>H01</th>\n",
       "      <th>V01</th>\n",
       "      <th>H02</th>\n",
       "      <th>V02</th>\n",
       "      <th>H03</th>\n",
       "      <th>V03</th>\n",
       "      <th>H04</th>\n",
       "      <th>V04</th>\n",
       "      <th>...</th>\n",
       "      <th>V20</th>\n",
       "      <th>H21</th>\n",
       "      <th>V21</th>\n",
       "      <th>H22</th>\n",
       "      <th>V22</th>\n",
       "      <th>H23</th>\n",
       "      <th>V23</th>\n",
       "      <th>H24</th>\n",
       "      <th>V24</th>\n",
       "      <th>date</th>\n",
       "    </tr>\n",
       "  </thead>\n",
       "  <tbody>\n",
       "    <tr>\n",
       "      <th>0</th>\n",
       "      <td>108</td>\n",
       "      <td>81</td>\n",
       "      <td>270.0</td>\n",
       "      <td>N</td>\n",
       "      <td>252.0</td>\n",
       "      <td>N</td>\n",
       "      <td>216.0</td>\n",
       "      <td>N</td>\n",
       "      <td>242.0</td>\n",
       "      <td>N</td>\n",
       "      <td>...</td>\n",
       "      <td>V</td>\n",
       "      <td>228.0</td>\n",
       "      <td>V</td>\n",
       "      <td>227.83</td>\n",
       "      <td>V</td>\n",
       "      <td>213.67</td>\n",
       "      <td>V</td>\n",
       "      <td>233.83</td>\n",
       "      <td>V</td>\n",
       "      <td>2022-12-22</td>\n",
       "    </tr>\n",
       "    <tr>\n",
       "      <th>1</th>\n",
       "      <td>108</td>\n",
       "      <td>82</td>\n",
       "      <td>9.0</td>\n",
       "      <td>N</td>\n",
       "      <td>8.0</td>\n",
       "      <td>N</td>\n",
       "      <td>9.0</td>\n",
       "      <td>N</td>\n",
       "      <td>8.0</td>\n",
       "      <td>N</td>\n",
       "      <td>...</td>\n",
       "      <td>V</td>\n",
       "      <td>10.0</td>\n",
       "      <td>V</td>\n",
       "      <td>9.00</td>\n",
       "      <td>V</td>\n",
       "      <td>9.00</td>\n",
       "      <td>V</td>\n",
       "      <td>8.00</td>\n",
       "      <td>V</td>\n",
       "      <td>2022-12-22</td>\n",
       "    </tr>\n",
       "    <tr>\n",
       "      <th>2</th>\n",
       "      <td>108</td>\n",
       "      <td>83</td>\n",
       "      <td>94.7</td>\n",
       "      <td>N</td>\n",
       "      <td>97.6</td>\n",
       "      <td>N</td>\n",
       "      <td>96.6</td>\n",
       "      <td>N</td>\n",
       "      <td>97.5</td>\n",
       "      <td>N</td>\n",
       "      <td>...</td>\n",
       "      <td>V</td>\n",
       "      <td>91.4</td>\n",
       "      <td>V</td>\n",
       "      <td>93.80</td>\n",
       "      <td>V</td>\n",
       "      <td>96.30</td>\n",
       "      <td>V</td>\n",
       "      <td>98.70</td>\n",
       "      <td>V</td>\n",
       "      <td>2022-12-22</td>\n",
       "    </tr>\n",
       "  </tbody>\n",
       "</table>\n",
       "<p>3 rows × 51 columns</p>\n",
       "</div>"
      ],
      "text/plain": [
       "   weather_station  magnitude    H01 V01    H02 V02    H03 V03    H04 V04  \\\n",
       "0              108         81  270.0   N  252.0   N  216.0   N  242.0   N   \n",
       "1              108         82    9.0   N    8.0   N    9.0   N    8.0   N   \n",
       "2              108         83   94.7   N   97.6   N   96.6   N   97.5   N   \n",
       "\n",
       "   ...  V20    H21  V21     H22  V22     H23  V23     H24  V24       date  \n",
       "0  ...    V  228.0    V  227.83    V  213.67    V  233.83    V 2022-12-22  \n",
       "1  ...    V   10.0    V    9.00    V    9.00    V    8.00    V 2022-12-22  \n",
       "2  ...    V   91.4    V   93.80    V   96.30    V   98.70    V 2022-12-22  \n",
       "\n",
       "[3 rows x 51 columns]"
      ]
     },
     "execution_count": 80,
     "metadata": {},
     "output_type": "execute_result"
    }
   ],
   "source": [
    "weather[:3].pd()"
   ]
  },
  {
   "cell_type": "markdown",
   "id": "e71c3f10",
   "metadata": {},
   "source": [
    "It is time to turn our attention into breaking down the H* and V* queries into multiple rows, and supplying a time column to avoid missing information. La forma de proceder en q sería utilizar qsql funcional para seleccionar las columnas que sigan los patrones anteriores, pero vamos a aprovechar que el código q en pykx se introduce a través de Strings para evitarlo:"
   ]
  },
  {
   "cell_type": "code",
   "execution_count": 33,
   "id": "70c0035f",
   "metadata": {},
   "outputs": [],
   "source": [
    "def functionalSearch(cols, pattern, func):\n",
    "  xcols = cols[kx.q.where(kx.q.like(cols, pattern))]\n",
    "  xstring = func.format(kx.q.sv(b\";\", kx.q.string(xcols)).py().decode(\"utf-8\"))\n",
    "  return xcols, xstring"
   ]
  },
  {
   "cell_type": "markdown",
   "id": "59bf67ca",
   "metadata": {},
   "source": [
    "La anterior función recibe una lista de columnas, un patrón a buscar y una función q en formato string que introduce como argumento las columnas encontradas siguiendo ese patrón en el formato de qSQL (donde a las columnas se accede con su nombre y no con un símbolo). Al aplicar esto a todas las columnas que empiezan por *\"H\"* se nos devuelven estas columnas como un vector de Symbols y en un String estas columnas en formato de qSQL: "
   ]
  },
  {
   "cell_type": "code",
   "execution_count": 9,
   "id": "9fef49ac",
   "metadata": {},
   "outputs": [
    {
     "name": "stdout",
     "output_type": "stream",
     "text": [
      "Columns found:  `H01`H02`H03`H04`H05`H06`H07`H08`H09`H10`H11`H12`H13`H14`H15`H16`H17`H18`H19`..\n",
      "Qsql function:  H01;H02;H03;H04;H05;H06;H07;H08;H09;H10;H11;H12;H13;H14;H15;H16;H17;H18;H19;H20;H21;H22;H23;H24\n"
     ]
    }
   ],
   "source": [
    "cols = kx.q.cols(weather)\n",
    "found_columns, qsql_function = functionalSearch(cols, b'H*', \"{}\")\n",
    "\n",
    "print(\"Columns found: \", found_columns)\n",
    "print(\"Qsql function: \", qsql_function)"
   ]
  },
  {
   "cell_type": "markdown",
   "id": "2e53eb76",
   "metadata": {},
   "source": [
    "Utilicemos lo anterior para las columnas que empiezan H, las cuales nos dará el valor de la medición; y la columnas que empiezan por V, las cuales nos dicen si la medición es válida. La función que debemos utilizar para que las mediciones en formato columna se vuelvan filas es *flip*:"
   ]
  },
  {
   "cell_type": "code",
   "execution_count": 34,
   "id": "619e676f",
   "metadata": {},
   "outputs": [],
   "source": [
    "hcols, value = functionalSearch(cols, b'H*', \"flip({})\")\n",
    "vcols, valid = functionalSearch(cols, b'V*', \"flip({})\")"
   ]
  },
  {
   "cell_type": "markdown",
   "id": "87868017",
   "metadata": {},
   "source": [
    "Ahora solo tenemos que pasar nuestras funciones prefabricadas en formato String a la función de qSQL *\"update\"*, junto a las 24 horas repetidas el número de filas inicial:"
   ]
  },
  {
   "cell_type": "code",
   "execution_count": 35,
   "id": "13c14209",
   "metadata": {},
   "outputs": [],
   "source": [
    "weather = kx.q.qsql.update(weather, columns = {'hour': 'count[i]#enlist 01:00*til 24', 'values': value, 'valid': valid})"
   ]
  },
  {
   "cell_type": "markdown",
   "id": "b5ed86f9",
   "metadata": {},
   "source": [
    "Ahora podemos eliminar las columnas que hemos utilizado, de nuevo utilizando el truco para evitar qSQL funcional:"
   ]
  },
  {
   "cell_type": "code",
   "execution_count": 36,
   "id": "2d2cbf09",
   "metadata": {},
   "outputs": [],
   "source": [
    "weather = kx.q.qsql.delete(weather, columns = kx.q.raze(hcols,vcols).py())"
   ]
  },
  {
   "cell_type": "markdown",
   "id": "5989a0f1",
   "metadata": {},
   "source": [
    "Veamos el resultado:"
   ]
  },
  {
   "cell_type": "code",
   "execution_count": 47,
   "id": "2a6c863b",
   "metadata": {},
   "outputs": [
    {
     "data": {
      "text/html": [
       "<div>\n",
       "<style scoped>\n",
       "    .dataframe tbody tr th:only-of-type {\n",
       "        vertical-align: middle;\n",
       "    }\n",
       "\n",
       "    .dataframe tbody tr th {\n",
       "        vertical-align: top;\n",
       "    }\n",
       "\n",
       "    .dataframe thead th {\n",
       "        text-align: right;\n",
       "    }\n",
       "</style>\n",
       "<table border=\"1\" class=\"dataframe\">\n",
       "  <thead>\n",
       "    <tr style=\"text-align: right;\">\n",
       "      <th></th>\n",
       "      <th>weather_station</th>\n",
       "      <th>magnitude</th>\n",
       "      <th>date</th>\n",
       "      <th>hour</th>\n",
       "      <th>value</th>\n",
       "      <th>valid</th>\n",
       "    </tr>\n",
       "  </thead>\n",
       "  <tbody>\n",
       "    <tr>\n",
       "      <th>0</th>\n",
       "      <td>108</td>\n",
       "      <td>81</td>\n",
       "      <td>2022-12-22</td>\n",
       "      <td>[0 minutes, 60 minutes, 120 minutes, 180 minut...</td>\n",
       "      <td>[270.0, 252.0, 216.0, 242.0, 239.0, 246.0, 233...</td>\n",
       "      <td>[N, N, N, N, N, N, N, N, N, N, V, V, V, V, V, ...</td>\n",
       "    </tr>\n",
       "    <tr>\n",
       "      <th>1</th>\n",
       "      <td>108</td>\n",
       "      <td>82</td>\n",
       "      <td>2022-12-22</td>\n",
       "      <td>[0 minutes, 60 minutes, 120 minutes, 180 minut...</td>\n",
       "      <td>[9.0, 8.0, 9.0, 8.0, 8.0, 8.0, 8.0, 8.0, 8.0, ...</td>\n",
       "      <td>[N, N, N, N, N, N, N, N, N, N, V, V, V, V, V, ...</td>\n",
       "    </tr>\n",
       "    <tr>\n",
       "      <th>2</th>\n",
       "      <td>108</td>\n",
       "      <td>83</td>\n",
       "      <td>2022-12-22</td>\n",
       "      <td>[0 minutes, 60 minutes, 120 minutes, 180 minut...</td>\n",
       "      <td>[94.7, 97.6, 96.6, 97.5, 97.5, 98.2, 98.8, 98....</td>\n",
       "      <td>[N, N, N, N, N, N, N, N, N, N, V, V, V, V, V, ...</td>\n",
       "    </tr>\n",
       "  </tbody>\n",
       "</table>\n",
       "</div>"
      ],
      "text/plain": [
       "   weather_station  magnitude       date  \\\n",
       "0              108         81 2022-12-22   \n",
       "1              108         82 2022-12-22   \n",
       "2              108         83 2022-12-22   \n",
       "\n",
       "                                                hour  \\\n",
       "0  [0 minutes, 60 minutes, 120 minutes, 180 minut...   \n",
       "1  [0 minutes, 60 minutes, 120 minutes, 180 minut...   \n",
       "2  [0 minutes, 60 minutes, 120 minutes, 180 minut...   \n",
       "\n",
       "                                               value  \\\n",
       "0  [270.0, 252.0, 216.0, 242.0, 239.0, 246.0, 233...   \n",
       "1  [9.0, 8.0, 9.0, 8.0, 8.0, 8.0, 8.0, 8.0, 8.0, ...   \n",
       "2  [94.7, 97.6, 96.6, 97.5, 97.5, 98.2, 98.8, 98....   \n",
       "\n",
       "                                               valid  \n",
       "0  [N, N, N, N, N, N, N, N, N, N, V, V, V, V, V, ...  \n",
       "1  [N, N, N, N, N, N, N, N, N, N, V, V, V, V, V, ...  \n",
       "2  [N, N, N, N, N, N, N, N, N, N, V, V, V, V, V, ...  "
      ]
     },
     "execution_count": 47,
     "metadata": {},
     "output_type": "execute_result"
    }
   ],
   "source": [
    "weather[:3].pd()"
   ]
  },
  {
   "cell_type": "markdown",
   "id": "6027e6b7",
   "metadata": {},
   "source": [
    "Ahora no hay más que expandir la tabla para que cada fila corresponda a una hora:"
   ]
  },
  {
   "cell_type": "code",
   "execution_count": 37,
   "id": "d21b2f54",
   "metadata": {},
   "outputs": [],
   "source": [
    "weather = kx.q.ungroup(weather)"
   ]
  },
  {
   "cell_type": "markdown",
   "id": "02fba778",
   "metadata": {},
   "source": [
    "Podemos contraer un poco más la tabla eliminado las filas que no son válidas y uniendo la fecha con la hora:"
   ]
  },
  {
   "cell_type": "code",
   "execution_count": 38,
   "id": "cea211df",
   "metadata": {},
   "outputs": [
    {
     "data": {
      "text/html": [
       "<div>\n",
       "<style scoped>\n",
       "    .dataframe tbody tr th:only-of-type {\n",
       "        vertical-align: middle;\n",
       "    }\n",
       "\n",
       "    .dataframe tbody tr th {\n",
       "        vertical-align: top;\n",
       "    }\n",
       "\n",
       "    .dataframe thead th {\n",
       "        text-align: right;\n",
       "    }\n",
       "</style>\n",
       "<table border=\"1\" class=\"dataframe\">\n",
       "  <thead>\n",
       "    <tr style=\"text-align: right;\">\n",
       "      <th></th>\n",
       "      <th>weather_station</th>\n",
       "      <th>magnitude</th>\n",
       "      <th>date</th>\n",
       "      <th>values</th>\n",
       "    </tr>\n",
       "  </thead>\n",
       "  <tbody>\n",
       "    <tr>\n",
       "      <th>0</th>\n",
       "      <td>108</td>\n",
       "      <td>81</td>\n",
       "      <td>2022-12-22 10:00:00</td>\n",
       "      <td>263.00</td>\n",
       "    </tr>\n",
       "    <tr>\n",
       "      <th>1</th>\n",
       "      <td>108</td>\n",
       "      <td>81</td>\n",
       "      <td>2022-12-22 11:00:00</td>\n",
       "      <td>247.83</td>\n",
       "    </tr>\n",
       "    <tr>\n",
       "      <th>2</th>\n",
       "      <td>108</td>\n",
       "      <td>81</td>\n",
       "      <td>2022-12-22 12:00:00</td>\n",
       "      <td>215.83</td>\n",
       "    </tr>\n",
       "  </tbody>\n",
       "</table>\n",
       "</div>"
      ],
      "text/plain": [
       "   weather_station  magnitude                date  values\n",
       "0              108         81 2022-12-22 10:00:00  263.00\n",
       "1              108         81 2022-12-22 11:00:00  247.83\n",
       "2              108         81 2022-12-22 12:00:00  215.83"
      ]
     },
     "execution_count": 38,
     "metadata": {},
     "output_type": "execute_result"
    }
   ],
   "source": [
    "weather = kx.q.qsql.select(weather, where = 'valid=`V')\n",
    "weather = kx.q.qsql.update(weather, columns = {'date': 'date+hour'})\n",
    "weather = kx.q.qsql.delete(weather, columns = [\"valid\", \"hour\"])\n",
    "weather[:3].pd()"
   ]
  },
  {
   "cell_type": "markdown",
   "id": "c08c664e",
   "metadata": {},
   "source": [
    "The **magnitude** column is required to give semantics to the **value**. As established by the dataset creators, the different magnitudes correspond to the items that we collect in the following dictionary:"
   ]
  },
  {
   "cell_type": "code",
   "execution_count": 39,
   "id": "8960673f",
   "metadata": {},
   "outputs": [],
   "source": [
    "magnitude = {80:\"ultraviolet\", \n",
    "             81:\"wind\", \n",
    "             82:\"direction\", \n",
    "             83:\"temperature\", \n",
    "             86:\"humidity\", \n",
    "             87:\"pressure\", \n",
    "             88:\"solar\", \n",
    "             89:\"rainfall\"}"
   ]
  },
  {
   "cell_type": "markdown",
   "id": "17b4598e",
   "metadata": {},
   "source": [
    "Cambiemos la clave por el valor del diccionario. Si los objetos de Python tienen una traducción directa en q, como los diccionarios, se pueden pasar como atributos en funciones de pykx. Por debajo, pykx se encarga de acomodarlo en q. "
   ]
  },
  {
   "cell_type": "code",
   "execution_count": 40,
   "id": "b4f41683",
   "metadata": {},
   "outputs": [],
   "source": [
    "weather = kx.q('{update magnitude: x magnitude from y}', magnitude, weather)"
   ]
  },
  {
   "cell_type": "markdown",
   "id": "a17533df",
   "metadata": {},
   "source": [
    "Por último, no hay más que separar en columnas diferentes las distintas condiciones meteorológicas:"
   ]
  },
  {
   "cell_type": "code",
   "execution_count": 41,
   "id": "08976572",
   "metadata": {},
   "outputs": [],
   "source": [
    "weather = kx.q('{exec (value x)#magnitude!values by date,weather_station from y}',magnitude,weather)"
   ]
  },
  {
   "cell_type": "markdown",
   "id": "ef04e366",
   "metadata": {},
   "source": [
    "Mediante la query exec podemos expandir los diccionarios guardados en una columna a varias. Esto nos es de utilidad cuando creamos un diccionario de magnitudes y valores. Al aplicarlo tenemos las condiciones metorológicas en distintas columnas. Además aprovechamos para agruparlo."
   ]
  },
  {
   "cell_type": "markdown",
   "id": "f4f66186",
   "metadata": {},
   "source": [
    "### Traffic"
   ]
  },
  {
   "cell_type": "markdown",
   "id": "b76d7c40",
   "metadata": {},
   "source": [
    "Esta segunda tabla también se cargará en el entorno de Python:"
   ]
  },
  {
   "cell_type": "code",
   "execution_count": 42,
   "id": "640667a6",
   "metadata": {},
   "outputs": [],
   "source": [
    "traffic = kx.q.read.csv('./12-2022.csv', types=\"IPSIIIISI\", delimiter=';')"
   ]
  },
  {
   "cell_type": "markdown",
   "id": "aa3a6ef2",
   "metadata": {},
   "source": [
    "Nos interesa saber la carga media por fecha y por estación quitando los errores de medición. La potencia de qSQL nos permite hacer esto en una única query."
   ]
  },
  {
   "cell_type": "code",
   "execution_count": 43,
   "id": "da50e4ae",
   "metadata": {},
   "outputs": [],
   "source": [
    "traffic = kx.q.xasc(\"date\", kx.q.qsql.select(traffic,\n",
    "                         columns = {'traffic_load': 'avg carga'},\n",
    "                         by = {\"traffic_station\": 'id', \"date\":'fecha'}, \n",
    "                         where = \"error=`N\"))"
   ]
  },
  {
   "cell_type": "markdown",
   "id": "8d631421",
   "metadata": {},
   "source": [
    "### Location"
   ]
  },
  {
   "cell_type": "markdown",
   "id": "2c15aabe",
   "metadata": {},
   "source": [
    "Las tablas de estaciones tanto de tráfico como de weather se cargarán en el entorno de q:"
   ]
  },
  {
   "cell_type": "code",
   "execution_count": 44,
   "id": "512eea3f",
   "metadata": {},
   "outputs": [],
   "source": [
    "kx.q[\"weather_station\"] = kx.q.read.csv('./Estaciones_control_datos_meteorologicos.csv', types=\" IFF\", delimiter=\";\", as_table=True)\n",
    "kx.q[\"traffic_station\"] = kx.q.read.csv('./pmed_ubicacion_12-2022.csv', types = \"SII**FFFF\", delimiter = \";\", as_table=True)"
   ]
  },
  {
   "cell_type": "markdown",
   "id": "ee0d4acf",
   "metadata": {},
   "source": [
    "Ahora podemos acceder a estos objetos mediante código q. Por ejemplo para cambiar el nombre de las columnas:"
   ]
  },
  {
   "cell_type": "code",
   "execution_count": 45,
   "id": "8daf68f3",
   "metadata": {},
   "outputs": [
    {
     "data": {
      "text/plain": [
       "pykx.Identity(pykx.q('::'))"
      ]
     },
     "execution_count": 45,
     "metadata": {},
     "output_type": "execute_result"
    }
   ],
   "source": [
    "kx.q(\"weather_station:(`CODIGO_CORTO`LONGITUD`LATITUD!`weather_station`longitude`latitude)xcol weather_station\")\n",
    "kx.q(\"traffic_station:(`id`longitud`latitud!`traffic_station`longitude`latitude)xcol traffic_station\")"
   ]
  },
  {
   "cell_type": "markdown",
   "id": "add8f4f5",
   "metadata": {},
   "source": [
    "Para acceder a ellas desde el entorno de Python no hay más que devolverlas mediante un comando de q. Para calcular la distancia entre dos coordenadas se puede utilizar la distancia de Harvesine. Esta distancia ya está desarrollada en Python. Para introducir nuestros objetos q en esta función se puede utilizar alguna de las facilidades de PyKX para transformarlos en objetos de Python. Aunque es aconsejable mantenerse en objetos q el máximo tiempo posible, estas facilidades para pasar de objetos python a q y viceversa nos permiten, al menos temporalmente, la reutilización de código Python."
   ]
  },
  {
   "cell_type": "code",
   "execution_count": 46,
   "id": "727d1320",
   "metadata": {},
   "outputs": [],
   "source": [
    "from haversine import haversine_vector, Unit\n",
    "dist = kx.toq(\n",
    "            haversine_vector(kx.q('`longitude`latitude # weather_station').pd(), \n",
    "                             kx.q('`longitude`latitude # traffic_station').pd(),\n",
    "                             Unit.KILOMETERS, comb=True))"
   ]
  },
  {
   "cell_type": "markdown",
   "id": "5433d13e",
   "metadata": {},
   "source": [
    "Ahora tenemos una matriz que mide la distancia en kilometros para cada par de estaciones de tráfico y tiempo. Podemos seleccionar los pares de identificadores de las estaciones cuya distancia mínima:"
   ]
  },
  {
   "cell_type": "code",
   "execution_count": 47,
   "id": "5635b1fa",
   "metadata": {},
   "outputs": [],
   "source": [
    "ids = kx.q.each(kx.q('{first where x=min x}'), dist)\n",
    "distance_table = kx.q('{traffic_station ^ weather_station[x]}' ,  ids)\n",
    "distance_table = kx.q.qsql.delete(distance_table, columns = ['tipo_elem','distrito','cod_cent','nombre','utm_x','utm_y','longitude', 'latitude'])"
   ]
  },
  {
   "cell_type": "markdown",
   "id": "9ee7652c",
   "metadata": {},
   "source": [
    "### Final Table"
   ]
  },
  {
   "cell_type": "markdown",
   "id": "b49aa74d",
   "metadata": {},
   "source": [
    "La unión de las tres tablas es bastante directa. La de distancias se puede unir con cualquiera de las dos mediante un simple left join. Las de tráfico y clima se tienen que unir con asof join al tener intevalo de tiempos diferentes. Por último, se añaden dos columnas para transmitir la seasonality de los datos al modelo: hora y dia de la semana."
   ]
  },
  {
   "cell_type": "code",
   "execution_count": 48,
   "id": "fadc13ac",
   "metadata": {},
   "outputs": [],
   "source": [
    "complete = kx.q.lj(traffic, kx.q.xkey('traffic_station', distance_table))\n",
    "complete = kx.q.aj(kx.toq(['weather_station', 'date']), complete, weather)\n",
    "complete = kx.q.qsql.update(complete,  {\"hour\":\"`hh$date\", \"weekday\":'(\"d\"$date)mod 7'})"
   ]
  },
  {
   "cell_type": "markdown",
   "id": "cad1641f",
   "metadata": {},
   "source": [
    "## Modelo"
   ]
  },
  {
   "cell_type": "markdown",
   "id": "f96936e1",
   "metadata": {},
   "source": [
    "Vamos a crear varias funciones q que faciliten la ingesta de datos al modelo...."
   ]
  },
  {
   "cell_type": "code",
   "execution_count": 49,
   "id": "25359f93",
   "metadata": {},
   "outputs": [],
   "source": [
    "kx.q(\"minMaxScale:{[l] ({(x-y)%(z-y)}[;min l;max l]')l}\")\n",
    "                  \n",
    "final = kx.q.qsql.select(complete, columns = {\"date\": \"date\",\n",
    "                                              \"traffic_station\":\"traffic_station\",\n",
    "                                              \"hour\":\"hour\", \n",
    "                                              \"weekday\": \"weekday\", \n",
    "                                              \"traffic_load\": \"minMaxScale traffic_load%100\", \n",
    "                                              \"temperature\":\"minMaxScale temperature\", \n",
    "                                              \"rainfall\":\"minMaxScale rainfall\"},\n",
    "                                    \n",
    "                                    )"
   ]
  },
  {
   "cell_type": "markdown",
   "id": "1ee742a7",
   "metadata": {},
   "source": [
    "Esto puede que en otra parte mejor\n",
    "```q\n",
    "utils = '''\n",
    "    sw:{({y#z _x}[x;y;]')til count b:y _x};\n",
    "    gl:{y _(flip x)[z]};\n",
    "    toMatrix:{({[t;i]value t[i]}[x;]')til count x:flip x};\n",
    "'''\n",
    "\n",
    "utils_file = kx.QHOME/'utils.q'\n",
    "with open(utils_file, 'w') as f:\n",
    "    f.write(utils)\n",
    "```"
   ]
  },
  {
   "cell_type": "code",
   "execution_count": 50,
   "id": "abf00eb1",
   "metadata": {},
   "outputs": [
    {
     "data": {
      "text/plain": [
       "pykx.Identity(pykx.q('::'))"
      ]
     },
     "execution_count": 50,
     "metadata": {},
     "output_type": "execute_result"
    }
   ],
   "source": [
    "kx.q(\"\"\"sw:{({y#z _x}[x;y;]')til count b:y _x}\"\"\") # sliding window function. takes matrix and divides into chunks of 5x5\n",
    "kx.q(\"\"\"gl:{y _(flip x)[z]}\"\"\") # gets target (in position z)\n",
    "kx.q(\"\"\"toMatrix:{({[t;i]value t[i]}[x;]')til count x:flip x}\"\"\") # / table to matrix"
   ]
  },
  {
   "cell_type": "code",
   "execution_count": 75,
   "id": "58259fbe",
   "metadata": {},
   "outputs": [
    {
     "data": {
      "text/plain": [
       "pykx.Identity(pykx.q('::'))"
      ]
     },
     "execution_count": 75,
     "metadata": {},
     "output_type": "execute_result"
    }
   ],
   "source": [
    "kx.q(\"\"\"\n",
    "        prepareData:{[data; test_per_series; lb]\n",
    "            m:`rainfall`traffic_load`hour`weekday;        \n",
    "            train:(toMatrix')?[data;();`traffic_station;m!({(y;(-;(count;x);500);x)}[;_]')m]; \n",
    "            test:(toMatrix')?[data;();`traffic_station;m!({(y;(-;(count;x);500);x)}[;#]')m];                                                                               \n",
    "            (((sw[;lb]')test;(gl[;lb;1]')test);((sw[;lb]')train;(gl[;lb;1]')train))                                                  \n",
    "        }\n",
    "    \"\"\")"
   ]
  },
  {
   "cell_type": "code",
   "execution_count": 76,
   "id": "3010436e",
   "metadata": {},
   "outputs": [],
   "source": [
    "estacion = kx.q.qsql.select(final, where=[\"traffic_station=3403\"])"
   ]
  },
  {
   "cell_type": "code",
   "execution_count": 77,
   "id": "d99a3aa0",
   "metadata": {},
   "outputs": [],
   "source": [
    "data = kx.q(\"prepareData\", estacion, 80., 5)\n",
    "\n",
    "X_train, y_train = data[0][0], data[0][1]\n",
    "X_test, y_test =  data[1][0], data[1][1]"
   ]
  },
  {
   "cell_type": "code",
   "execution_count": 78,
   "id": "42255e80",
   "metadata": {},
   "outputs": [
    {
     "name": "stdout",
     "output_type": "stream",
     "text": [
      "Epoch 1/50\n",
      "307/307 [==============================] - 11s 16ms/step - loss: 0.1393 - val_loss: 0.1116\n",
      "Epoch 2/50\n",
      "307/307 [==============================] - 4s 12ms/step - loss: 0.1115 - val_loss: 0.1028\n",
      "Epoch 3/50\n",
      "307/307 [==============================] - 4s 12ms/step - loss: 0.1029 - val_loss: 0.0938\n",
      "Epoch 4/50\n",
      "307/307 [==============================] - 4s 11ms/step - loss: 0.0985 - val_loss: 0.0840\n",
      "Epoch 5/50\n",
      "307/307 [==============================] - 4s 12ms/step - loss: 0.0979 - val_loss: 0.0877\n",
      "Epoch 6/50\n",
      "307/307 [==============================] - 4s 12ms/step - loss: 0.0930 - val_loss: 0.0888\n",
      "Epoch 7/50\n",
      "307/307 [==============================] - 4s 12ms/step - loss: 0.0893 - val_loss: 0.0846\n",
      "Epoch 8/50\n",
      "307/307 [==============================] - 4s 11ms/step - loss: 0.0883 - val_loss: 0.0855\n",
      "Epoch 9/50\n",
      "307/307 [==============================] - 4s 12ms/step - loss: 0.0866 - val_loss: 0.0826\n",
      "Epoch 10/50\n",
      "307/307 [==============================] - 4s 12ms/step - loss: 0.0869 - val_loss: 0.0849\n",
      "Epoch 11/50\n",
      "307/307 [==============================] - 4s 12ms/step - loss: 0.0872 - val_loss: 0.0803\n",
      "Epoch 12/50\n",
      "307/307 [==============================] - 4s 12ms/step - loss: 0.0861 - val_loss: 0.0817\n",
      "Epoch 13/50\n",
      "307/307 [==============================] - 4s 12ms/step - loss: 0.0834 - val_loss: 0.0779\n",
      "Epoch 14/50\n",
      "307/307 [==============================] - 4s 12ms/step - loss: 0.0819 - val_loss: 0.0802\n",
      "Epoch 15/50\n",
      "307/307 [==============================] - 10485s 34s/step - loss: 0.0814 - val_loss: 0.0786\n",
      "Epoch 16/50\n",
      "307/307 [==============================] - 5s 16ms/step - loss: 0.0806 - val_loss: 0.0767\n",
      "Epoch 17/50\n",
      "307/307 [==============================] - 4s 11ms/step - loss: 0.0798 - val_loss: 0.0777\n",
      "Epoch 18/50\n",
      "307/307 [==============================] - 3s 11ms/step - loss: 0.0811 - val_loss: 0.0780\n",
      "Epoch 19/50\n",
      "307/307 [==============================] - 3s 11ms/step - loss: 0.0807 - val_loss: 0.0765\n",
      "Epoch 20/50\n",
      "307/307 [==============================] - 4s 12ms/step - loss: 0.0805 - val_loss: 0.0773\n",
      "Epoch 21/50\n",
      "307/307 [==============================] - 4s 13ms/step - loss: 0.0783 - val_loss: 0.0767\n",
      "Epoch 22/50\n",
      "307/307 [==============================] - 4s 13ms/step - loss: 0.0786 - val_loss: 0.0773\n",
      "Epoch 23/50\n",
      "307/307 [==============================] - 4s 12ms/step - loss: 0.0779 - val_loss: 0.0772\n",
      "Epoch 24/50\n",
      "307/307 [==============================] - 4s 12ms/step - loss: 0.0771 - val_loss: 0.0781\n",
      "Epoch 25/50\n",
      "307/307 [==============================] - 4s 12ms/step - loss: 0.0788 - val_loss: 0.0770\n",
      "Epoch 26/50\n",
      "307/307 [==============================] - 4s 12ms/step - loss: 0.0783 - val_loss: 0.0768\n",
      "Epoch 27/50\n",
      "307/307 [==============================] - 4s 12ms/step - loss: 0.0768 - val_loss: 0.0762\n",
      "Epoch 28/50\n",
      "307/307 [==============================] - 3s 11ms/step - loss: 0.0779 - val_loss: 0.0775\n",
      "Epoch 29/50\n",
      "307/307 [==============================] - 4s 12ms/step - loss: 0.0773 - val_loss: 0.0791\n",
      "Epoch 30/50\n",
      "307/307 [==============================] - 4s 12ms/step - loss: 0.0779 - val_loss: 0.0759\n",
      "Epoch 31/50\n",
      "307/307 [==============================] - 4s 12ms/step - loss: 0.0782 - val_loss: 0.0763\n",
      "Epoch 32/50\n",
      "307/307 [==============================] - 4s 12ms/step - loss: 0.0765 - val_loss: 0.0769\n",
      "Epoch 33/50\n",
      "307/307 [==============================] - 4s 12ms/step - loss: 0.0767 - val_loss: 0.0780\n",
      "Epoch 34/50\n",
      "307/307 [==============================] - 4s 12ms/step - loss: 0.0767 - val_loss: 0.0762\n",
      "Epoch 35/50\n",
      "307/307 [==============================] - 4s 12ms/step - loss: 0.0762 - val_loss: 0.0759\n",
      "Epoch 36/50\n",
      "307/307 [==============================] - 4s 12ms/step - loss: 0.0761 - val_loss: 0.0759\n",
      "Epoch 37/50\n",
      "307/307 [==============================] - 4s 12ms/step - loss: 0.0776 - val_loss: 0.0761\n",
      "Epoch 38/50\n",
      "307/307 [==============================] - 3s 11ms/step - loss: 0.0753 - val_loss: 0.0765\n",
      "Epoch 39/50\n",
      "307/307 [==============================] - 4s 12ms/step - loss: 0.0765 - val_loss: 0.0758\n",
      "Epoch 40/50\n",
      "307/307 [==============================] - 4s 12ms/step - loss: 0.0754 - val_loss: 0.0784\n",
      "Epoch 41/50\n",
      "307/307 [==============================] - 4s 11ms/step - loss: 0.0748 - val_loss: 0.0760\n",
      "Epoch 42/50\n",
      "307/307 [==============================] - 4s 12ms/step - loss: 0.0746 - val_loss: 0.0759\n",
      "Epoch 43/50\n",
      "307/307 [==============================] - 4s 12ms/step - loss: 0.0752 - val_loss: 0.0764\n",
      "Epoch 44/50\n",
      "307/307 [==============================] - 4s 12ms/step - loss: 0.0747 - val_loss: 0.0772\n",
      "Epoch 45/50\n",
      "307/307 [==============================] - 4s 12ms/step - loss: 0.0745 - val_loss: 0.0764\n",
      "Epoch 46/50\n",
      "307/307 [==============================] - 4s 12ms/step - loss: 0.0749 - val_loss: 0.0767\n",
      "Epoch 47/50\n",
      "307/307 [==============================] - 4s 12ms/step - loss: 0.0745 - val_loss: 0.0757\n",
      "Epoch 48/50\n",
      "307/307 [==============================] - 4s 12ms/step - loss: 0.0740 - val_loss: 0.0754\n",
      "Epoch 49/50\n",
      "307/307 [==============================] - 4s 12ms/step - loss: 0.0741 - val_loss: 0.0755\n",
      "Epoch 50/50\n",
      "307/307 [==============================] - 4s 12ms/step - loss: 0.0740 - val_loss: 0.0760\n"
     ]
    },
    {
     "data": {
      "image/png": "[encoded data removed]",
      "text/plain": [
       "<Figure size 640x480 with 1 Axes>"
      ]
     },
     "metadata": {},
     "output_type": "display_data"
    }
   ],
   "source": [
    "from keras.models import Sequential\n",
    "from keras.layers import Dense, LSTM\n",
    "import numpy as np\n",
    "import matplotlib.pyplot as plt\n",
    "\n",
    "\n",
    "# design network\n",
    "model = Sequential()\n",
    "\n",
    "model.add(LSTM(units = 50, return_sequences=False, input_shape=[None,4]))\n",
    "model.add(Dense(units = 1))\n",
    "\n",
    "model.compile(loss='mae', optimizer='adam')\n",
    "# fit network\n",
    "history = model.fit(np.array(X_train[3403].py()), np.array(y_train[3403].py()), \n",
    "                    epochs=50, batch_size=8, \n",
    "                    validation_data=(np.array(X_test[3403].py()), np.array(y_test[3403].py())), \n",
    "                    verbose=1, shuffle=False)\n",
    "\n",
    "plt.plot(history.history['loss'], label='train')\n",
    "plt.plot(history.history['val_loss'], label='test')\n",
    "\n",
    "plt.legend()\n",
    "plt.show()"
   ]
  },
  {
   "cell_type": "code",
   "execution_count": 81,
   "id": "8acfe9f0",
   "metadata": {},
   "outputs": [
    {
     "data": {
      "text/plain": [
       "pykx.List(pykx.q('\n",
       "0f 0.26 23i 6i 0f 0.31 23i 6i 0f 0.23 23i 6i 0f 0.19 23i 6i 0f 0.24 0i  0i\n",
       "0f 0.31 23i 6i 0f 0.23 23i 6i 0f 0.19 23i 6i 0f 0.24 0i  0i 0f 0.06 0i  0i\n",
       "0f 0.23 23i 6i 0f 0.19 23i 6i 0f 0.24 0i  0i 0f 0.06 0i  0i 0f 0.14 0i  0i\n",
       "0f 0.19 23i 6i 0f 0.24 0i  0i 0f 0.06 0i  0i 0f 0.14 0i  0i 0f 0.18 0i  0i\n",
       "0f 0.24 0i 0i  0f 0.06 0i 0i  0f 0.14 0i 0i  0f 0.18 0i 0i  0f 0.17 1i 0i \n",
       "0f 0.06 0i 0i  0f 0.14 0i 0i  0f 0.18 0i 0i  0f 0.17 1i 0i  0f 0.18 1i 0i \n",
       "0f 0.14 0i 0i  0f 0.18 0i 0i  0f 0.17 1i 0i  0f 0.18 1i 0i  0f 0.23 1i 0i \n",
       "0f 0.18 0i 0i  0f 0.17 1i 0i  0f 0.18 1i 0i  0f 0.23 1i 0i  0f 0.03 1i 0i \n",
       "0f 0.17 1i 0i  0f 0.18 1i 0i  0f 0.23 1i 0i  0f 0.03 1i 0i  0f 0.13 2i 0i \n",
       "0f 0.18 1i 0i  0f 0.23 1i 0i  0f 0.03 1i 0i  0f 0.13 2i 0i  0f 0.1  2i 0i \n",
       "0f 0.23 1i 0i  0f 0.03 1i 0i  0f 0.13 2i 0i  0f 0.1  2i 0i  0f 0.11 2i 0i \n",
       "0f 0.03 1i 0i  0f 0.13 2i 0i  0f 0.1  2i 0i  0f 0.11 2i 0i  0f 0.24 2i 0i \n",
       "0f 0.13 2i 0i  0f 0.1  2i 0i  0f 0.11 2i 0i  0f 0.24 2i 0i  0f 0f   3i 0i \n",
       "0f 0.1  2i 0i  0f 0.11 2i 0i  0f 0.24 2i 0i  0f 0f   3i 0i  0f 0.14 3i 0i \n",
       "0f 0.11 2i 0i  0f 0.24 2i 0i  0f 0f   3i 0i  0f 0.14 3i 0i  0f 0f   3i 0i \n",
       "0f 0.24 2i 0i  0f 0f   3i 0i  0f 0.14 3i 0i  0f 0f   3i 0i  0f 0.12 3i 0i \n",
       "0f 0f   3i 0i  0f 0.14 3i 0i  0f 0f   3i 0i  0f 0.12 3i 0i  0f 0.21 4i 0i \n",
       "0f 0.14 3i 0i  0f 0f   3i 0i  0f 0.12 3i 0i  0f 0.21 4i 0i  0f 0.01 4i 0i \n",
       "0f 0f   3i 0i  0f 0.12 3i 0i  0f 0.21 4i 0i  0f 0.01 4i 0i  0f 0f   4i 0i \n",
       "0f 0.12 3i 0i  0f 0.21 4i 0i  0f 0.01 4i 0i  0f 0f   4i 0i  0f 0.18 4i 0i \n",
       "0f 0.21 4i 0i  0f 0.01 4i 0i  0f 0f   4i 0i  0f 0.18 4i 0i  0f 0.05 5i 0i \n",
       "0f 0.01 4i 0i  0f 0f   4i 0i  0f 0.18 4i 0i  0f 0.05 5i 0i  0f 0.05 5i 0i \n",
       "..\n",
       "'))"
      ]
     },
     "execution_count": 81,
     "metadata": {},
     "output_type": "execute_result"
    }
   ],
   "source": [
    "X_test[3403][400:]"
   ]
  },
  {
   "cell_type": "code",
   "execution_count": 74,
   "id": "e93048a6",
   "metadata": {},
   "outputs": [
    {
     "data": {
      "text/plain": [
       "pykx.List(pykx.q('\n",
       "0f 0.49 19i 0i\n",
       "0f 0.39 19i 0i\n",
       "0f 0.49 19i 0i\n",
       "0f 0.28 19i 0i\n",
       "0f 0.47 20i 0i\n",
       "'))"
      ]
     },
     "execution_count": 74,
     "metadata": {},
     "output_type": "execute_result"
    }
   ],
   "source": [
    "X_test[3403][60]"
   ]
  },
  {
   "cell_type": "code",
   "execution_count": 85,
   "id": "f92a937d",
   "metadata": {},
   "outputs": [
    {
     "name": "stdout",
     "output_type": "stream",
     "text": [
      "3/3 [==============================] - 0s 7ms/step\n"
     ]
    },
    {
     "data": {
      "image/png": "[encoded data removed]",
      "text/plain": [
       "<Figure size 640x480 with 1 Axes>"
      ]
     },
     "metadata": {},
     "output_type": "display_data"
    }
   ],
   "source": [
    "plt.plot(y_test[3403].py(), label='test real')\n",
    "plt.plot(range(400,495), model.predict(np.array(X_test[3403][400:].py())).flatten(), label='test predict')\n",
    "plt.legend()\n",
    "plt.show()"
   ]
  },
  {
   "cell_type": "markdown",
   "id": "89016d18",
   "metadata": {},
   "source": [
    "# Third Iteration: Q Post"
   ]
  },
  {
   "cell_type": "markdown",
   "id": "6f89469b",
   "metadata": {},
   "source": [
    "pykx.q on the other hand allows for Python code execution on a q environment and, as a result, it opens up the door for new opportunities when dealing with existing codebases as it allows for importing and using Python libraries, both installed on the system and available as .py files.\n",
    "\n",
    "\n",
    "\n",
    "In our case we use both of these options. First, we want to execute the `haversine_vector` function to measure the distance between coordinates. Since it's not available on q, we decided to use pykx.q to incorporate this library straight into our q code with these lines:\n",
    "\n",
    "```q\n",
    ".pykx.pyexec\"from haversine import haversine_vector, Unit\";\n",
    "```\n",
    "\n",
    "This function expects two Pandas DataFrames as input, so we need to change the default conversion type from \"np\" or Numpy to \"pd\" or Pandas:\n",
    "\n",
    "```q\n",
    ".pykx.setdefault\"pd\";\n",
    "```\n",
    "\n",
    "Having done this, we can \"move\" our input variables to the Python memory space using `.pykx.set`\n",
    "\n",
    "```q\n",
    ".pykx.set[`a;`longitude`latitude#a];\n",
    ".pykx.set[`b;`longitude`latitude#b];\n",
    "```\n",
    "\n",
    "And finally execute our function\n",
    "\n",
    "```q\n",
    "(.pykx.eval\"haversine_vector(a, b, Unit.KILOMETERS, comb=True)\")`\n",
    "```\n",
    "\n",
    "Notice the backtick at the end, this is for converting back to a q type.\n",
    "\n",
    "\n",
    "\n",
    "The other way we can run Python code is to load a .py (renamed to .p) file using `\\l`. This could be done as follows:\n",
    "\n",
    "```q\n",
    "system\"l kerasmodel.p\";\n",
    "```\n",
    "\n",
    "Here we have defined two functions named `fit` and `predict`. We can load them and use them like this:\n",
    "\n",
    "```q\n",
    "modelfit:.pykx.get`fit;\n",
    "modelfit[train[0][3403];train[1][3403];test[0][3403];test[1][3403]];\n",
    "modelpredict:.pykx.get`predict;\n",
    "res:modelpredict[train[0][3403]];\n",
    "```\n",
    "\n",
    "---\n",
    "\n",
    "Regarding the pure q code we migrated, the main hassle was to migrate the `time_window` function, as it relied on loops. The way we approached it was to understand the input we had, the output we needed and then think of an idiomatic way to implement it using q instead of doing a 1:1 migration, which would have probably be more costly in terms of time.\n",
    "\n",
    "\n",
    "\n",
    "In this case, our input was a table and our output was a list of matrices for each station.\n",
    "\n",
    "\n",
    "\n",
    "First off, regardless of whether we needed the train or test output, we needed to get either the last 80 records or up to the last 80 records. Since we needed to repeat this operation for the given columns, we decided that a functional statement would be the best fit.\n",
    "\n",
    "```q\n",
    "op:$[tt=`train;#;_];\n",
    "m:`rainfall`temperature`traffic_load`hour`weekday;\n",
    "data:?[data;();`traffic_station;m!({(y;(-;(count;x);80);x)}[;op]')m];\n",
    "```\n",
    "\n",
    "Once we shaped the data the way we needed, it was time to build the list of matrices. This needed to be done using a sliding window but, in order to return a **list of matrices** (not a list of tables), we needed to define two functions: one that converts a table to a matrix and another one to apply the sliding window based on a single huge matrix.\n",
    "\n",
    "After tinkering for a while, this are the functions we came up with:\n",
    "\n",
    "```q\n",
    "toMatrix:{({[t;i]value t[i]}[x;]')til count x:flip x};\n",
    "sw:{({y#z _x}[x;y;]')til count b:(y+1) _x};\n",
    "```\n",
    "\n",
    "Having done this, and after applying the proper projections, we can transform our table like so:\n",
    "\n",
    "```q\n",
    "data:(toMatrix')data;\n",
    "```\n",
    "\n",
    "And apply the sliding window function in the same way:\n",
    "\n",
    "```q\n",
    "X:(sw')data;\n",
    "```\n",
    "\n",
    "As for the y data, we created a simple `gl` (**g**et **l**oad) function that returned the traffic load data as a list with the first y+1 entries removed:\n",
    "\n",
    "```q\n",
    "gl:{(y+1) _(flip x)[2]};\n",
    "```\n",
    "\n",
    "And again applied it to our data:\n",
    "\n",
    "```q\n",
    "y:(gl')data;\n",
    "```\n",
    "\n",
    "In the end, our `time_window` function looks like this after parameterizing the train or test data we need and the look back for our sliding window:\n",
    "\n",
    "```q\n",
    "time_window:{[tt;data;lb]\n",
    "    op:$[tt=`train;#;_];                                      / `train or `test decide the operator\n",
    "    m:`rainfall`temperature`traffic_load`hour`weekday;        / the 5 columns we need\n",
    "    data:?[data;();`traffic_station;m!({(y;(-;(count;x);80);x)}[;op]')m]; / first len-80 or last 80 depending on operator \n",
    "    sw:{({y#z _x}[x;y;]')til count b:(y+1) _x}[;lb];          / sliding window function. takes the matrix and divides into chunks of 5x5\n",
    "    gl:{(y+1) _(flip x)[2]}[;lb];                             / gets the load (y data)\n",
    "    toMatrix:{({[t;i]value t[i]}[x;]')til count x:flip x};    / table to matrix\n",
    "    data:(toMatrix')data;                                     / convert each subtable (data is a keyed table) to a matrix\n",
    "    X:(sw')data;                                              / apply sliding window to get X\n",
    "    y:(gl')data;                                              / and gl to get y\n",
    "    (X;y)                                                     / return both\n",
    "    };\n",
    "```\n",
    "\n",
    "Which we can use like so:\n",
    "\n",
    "```q\n",
    "train:time_window[`train;final;5];\n",
    "```\n",
    "\n",
    "In the end, returns a list of dictionaries. The first element is the X and the second one is the y. Both of them contain registries for all stations, which can be indexed like you would on a dictionary, so for accessing the X data for the station with id 3403 you would do it with:\n",
    "\n",
    "```q\n",
    "train[0][3403]\n",
    "```\n",
    "\n",
    "This fits exactly with what we need to feed into our `fit` and `predict` functions, so no further conversions are needed\n"
   ]
  },
  {
   "cell_type": "markdown",
   "id": "f803f3cc",
   "metadata": {},
   "source": [
    "``` python\n",
    "from keras.models import Sequential\n",
    "from keras.layers import Dense\n",
    "from keras.layers import LSTM, Dropout, Conv1D\n",
    "\n",
    "model = Sequential()\n",
    "model.add(LSTM(units = 500, return_sequences=True, input_shape=[None,5]))\n",
    "model.add(LSTM(units = 250,return_sequences=True))\n",
    "model.add(LSTM(units = 50, return_sequences=False))\n",
    "model.add(Dropout(0.2))\n",
    "model.add(Dense(units = 1))\n",
    "model.compile(loss='mae', optimizer='adam')\n",
    "model.summary()\n",
    "\n",
    "def fit(train_X, train_y, test_X, test_y):\n",
    "    model.fit(train_X, train_y, epochs=3, batch_size=64, validation_data=(test_X, test_y), verbose=1, shuffle=False)\n",
    "    return True\n",
    "\n",
    "\n",
    "def predict(data):\n",
    "    return model.predict(data)\n",
    "\n",
    "```"
   ]
  }
 ],
 "metadata": {
  "kernelspec": {
   "display_name": "Python 3 (ipykernel)",
   "language": "python",
   "name": "python3"
  },
  "language_info": {
   "codemirror_mode": {
    "name": "ipython",
    "version": 3
   },
   "file_extension": ".py",
   "mimetype": "text/x-python",
   "name": "python",
   "nbconvert_exporter": "python",
   "pygments_lexer": "ipython3",
   "version": "3.8.16"
  }
 },
 "nbformat": 4,
 "nbformat_minor": 5
}
