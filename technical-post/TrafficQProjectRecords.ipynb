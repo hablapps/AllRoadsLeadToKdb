{
 "cells": [
  {
   "cell_type": "markdown",
   "id": "d35109bf",
   "metadata": {},
   "source": [
    "# The Project <a class=\"anchor\" id=\"t1\"></a>\n",
    "\n",
    "One year ago we embark on a new project in Mad Flow. It continues the roadmap of the company to improve the quality of life in Madrid. The objective was to forecast the traffic in the city and to show it in an interface in real time so that citizens can better plan their route. Traffic analysis has become an indispensable task in smart cities. Having a better knowledge of the traffic allows a better organization and governance of the roads. \n",
    "\n",
    "In addition, we studied the possibility of including other data such as precipitation or temperature  for better predictions. The data provided by sensors in smart cities are usually heterogeneous. In the case of the city of Madrid in Spain, there are climatic and traffic data that cover the entire center of the city but they were difficult to integrate and need a complex infrastucuture.\n",
    "\n",
    "Testing the model we found an important performance limitation. The infrastructure was slow and unwieldy when incorporating new traffic data-sets or building new insights quickly what is essential in the project. To move forward with the project, a change in implementation was necessary.\n",
    "\n",
    "We found a solution to our problem: Kdb+/q by KX. This platform is extremely fast and flexible and allows data processing in real time. It also has PyKX, an open-source library that is designed to be friendly with Python programmers (essential in Mad Flow).\n",
    "\n",
    "In this technical report we present how the migration of the code to the KX platforms was carried out. But first we'll talk about the use case and the project status.\n",
    "\n",
    "<div class=\"alert alert-block alert-info\">\n",
    "<b> 🔍 You can find <a href=\"https://github.com/hablapps/AllRoadsLeadToPyKX/blob/Python-Version-Pre/AllRoadsLeadToPyKX.md\">Original Python Project</a> in Github. \n",
    "</div>"
   ]
  },
  {
   "cell_type": "markdown",
   "id": "11799390",
   "metadata": {},
   "source": [
    "**Index**\n",
    "\n",
    "[**The project**](#t1)   \n",
    "  [**The Use Case**](#t11)   \n",
    "  [**The Data**](#t12)   \n",
    "  [**The Cleaning**](#t13)   \n",
    "  [**The Final Table**](#t14)   \n",
    "  [**The Interpretation**](#t15)   \n",
    "[**PyKX migration:**](#t2)   \n",
    "  [**PyKX saving the day!**](#t21)   \n",
    "  [**Datasets**](#t23)   \n",
    "  [**Model**](#t24)   \n",
    "[**Q Migration:**](#t3)"
   ]
  },
  {
   "cell_type": "markdown",
   "id": "eb836225",
   "metadata": {},
   "source": [
    "## The Use Case <a class=\"anchor\" id=\"t11\"></a>\n",
    "\n",
    "The objective of the code is to prepare and join the traffic and weather data to be ingested by an LSTM model.\n",
    "\n",
    "Although this project is novel in the city of Madrid, there are many articles that support it. For example, [F. Malik et al.](https://www.mdpi.com/1424-8220/20/13/3749) forecasted traffic in Madrid based on air pollution through a model based on LSTM.\n",
    "\n",
    "On the dependence of the weather on traffic there are many studies, especially focused on rainfall. None of the studies are carried out in Madrid, but in several large cities such as Manchester ([A. Essien et al.](https://pure.manchester.ac.uk/ws/portalfiles/portal/72721911/DEXA_Camera_8_pages.pdf)), Shenzhen ([Y. Yao et al.](https://ieeexplore.ieee.org/document/8964560)), Belgrade ([M. Vidas et al.](https://www.safetylit.org/citations/index.php?fuseaction=citations.viewdetails&citationIds[]=citjournalarticle_716898_14)). The results of these studies predict a 5-15% increase in traffic volume on weekdays during peak hours."
   ]
  },
  {
   "cell_type": "markdown",
   "id": "ad8b1a79",
   "metadata": {},
   "source": [
    "## The Data <a class=\"anchor\" id=\"t12\"></a>\n",
    "\n",
    "Madrid weather and traffic data are offered by the [Madrid City Council](https://datos.madrid.es/portal/site/egob). These datasets include live and historical records. For model ingestion we only need the historical data. This data, which is in csv format, is divided into months from the year 2018 to the present.\n",
    "\n",
    "**Weather**\n",
    "\n",
    "[Weather data](https://datos.madrid.es/portal/site/egob/menuitem.3efdb29b813ad8241e830cc2a8a409a0/?vgnextoid=4950cc720ba29610VgnVCM2000001f4a900aRCRD&vgnextchannel=102612b9ace9f310VgnVCM100000171f5a0aRCRD&vgnextfmt=default)  is captured by stations located throughout the city of Madrid. It looks like the following table:\n",
    "\n",
    "|    |   weather_station |   magnitud |   year |   month |   day |    H01 | V01   | ...|\n",
    "|---:|------------------:|-----------:|-------:|--------:|------:|-------:|------:|:------|\n",
    "|  0 |               108 |         81 |   2022 |      12 |    22 |  270   | N     | ...|\n",
    "|  1 |               108 |         82 |   2022 |      12 |    22 |    9   | N     |...|\n",
    "|  2 |               108 |         83 |   2022 |      12 |    22 |   94.7 | N     |...|\n",
    "|  3 |               108 |         86 |   2022 |      12 |    22 | 1031   | N     |...|\n",
    "|  4 |               108 |         87 |   2022 |      12 |    22 |    2   | N     |...|\n",
    "\n",
    "\n",
    "In the documentation they tell us that the magnitude column indicates what type of meteorological data has been taken in the row:\n",
    "\n",
    "    · 80: ultraviolet\n",
    "    · 81: wind\n",
    "    · 82: direction\n",
    "    · 83: temperature\n",
    "    · 86: humidity\n",
    "    · 87: pressure\n",
    "    · 88: solar\n",
    "    · 89: rainfall\n",
    "    \n",
    "Then we have two columns for each hour so that the first tells us the value for the data type specified by the magnitude column and if the result is valid or not. We also have columns related to the time in which the measurement is taken. Finally, there is the identifier of the meteorological station which we can connect with its coordinates using this other [table](https://datos.madrid.es/portal/site/egob/menuitem.c05c1f754a33a9fbe4b2e4b284f1a5a0/?vgnextoid=2ac5be53b4d2b610VgnVCM2000001f4a900aRCRD&vgnextchannel=374512b9ace9f310VgnVCM100000171f5a0aRCRD&vgnextfmt=default) provided by the Madrid city council:\n",
    "\n",
    "|    |   weather_station |   Longitude |   Latitude |\n",
    "|---:|------------------:|------------:|-----------:|\n",
    "|  0 |                 4 |    -3.71226 |    40.4239 |\n",
    "|  1 |                 8 |    -3.68232 |    40.4216 |\n",
    "|  2 |                16 |    -3.63924 |    40.44   |\n",
    "|  3 |                18 |    -3.73184 |    40.3948 |\n",
    "|  4 |                24 |    -3.74734 |    40.4194 |\n",
    "\n",
    "**Traffic**\n",
    "\n",
    "Traffic sensors are located at traffic lights in the city of Madrid. The data obtained is made up of several measurements of the road situation such as speed or traffic volume. All of these metrics are coded into the \"load\" metric (a percentage that measures congestion). The [traffic table](https://datos.madrid.es/portal/site/egob/menuitem.c05c1f754a33a9fbe4b2e4b284f1a5a0/?vgnextoid=02f2c23866b93410VgnVCM1000000b205a0aRCRD&vgnextchannel=374512b9ace9f310VgnVCM100000171f5a0aRCRD) head is:\n",
    "\n",
    "|    |   traffic_station | tipo_elem   |   intensidad |   ocupacion |   load |   vmed | error   |   periodo_integracion | date                |\n",
    "|---:|------------------:|:------------|-------------:|------------:|-------:|-------:|:--------|----------------------:|:--------------------|\n",
    "|  0 |              1001 | M30         |         3240 |           9 |      0 |     59 | N       |                     5 | 2022-12-01 00:00:00 |\n",
    "|  1 |              1001 | M30         |         3240 |           9 |      0 |     59 | N       |                     5 | 2022-12-01 00:15:00 |\n",
    "|  2 |              1001 | M30         |          300 |           1 |      0 |     66 | N       |                     5 | 2022-12-01 00:30:00 |\n",
    "\n",
    "\n",
    "The table also contains a column for the date and another that identifies the sensor that will be used to link it with its coordinates using the following [table](https://datos.madrid.es/portal/site/egob/menuitem.c05c1f754a33a9fbe4b2e4b284f1a5a0/?vgnextoid=ee941ce6ba6d3410VgnVCM1000000b205a0aRCRD&vgnextchannel=374512b9ace9f310VgnVCM100000171f5a0aRCRD):\n",
    "\n",
    "|    | \"tipo_elem\"   |   \"distrito\" |   \"id\" | \"cod_cent\"   | \"nombre\"                                                          |   \"utm_x\" |     \"utm_y\" |   Longitude |   Latitude |\n",
    "|---:|:--------------|-------------:|-------:|:-------------|:------------------------------------------------------------------|----------:|------------:|------------:|-----------:|\n",
    "|  0 | \"URB\"         |            4 |   3840 | \"01001\"      | \"Jose Ortega y Gasset E-O - Pº Castellana-Serrano\"                |    441615 | 4.47577e+06 |    -3.68832 |    40.4305 |\n",
    "|  1 | \"URB\"         |            4 |   3841 | \"01002\"      | \"Jose Ortega y Gasset O-E - Serrano-Pº Castellana\"                |    441706 | 4.47577e+06 |    -3.68726 |    40.4305 |\n",
    "|  2 | \"URB\"         |            1 |   3842 | \"01003\"      | \"Pº Recoletos N-S - Almirante-Prim\"                               |    441319 | 4.47484e+06 |    -3.69173 |    40.4221 |"
   ]
  },
  {
   "cell_type": "markdown",
   "id": "1ed6981f",
   "metadata": {},
   "source": [
    "## The Cleaning  <a class=\"anchor\" id=\"t13\"></a>\n",
    "\n",
    "Once the data has been loaded, we prepared the data to be used in the analysis and the model. As we are dealing with heterogeneous datasets, the cleaning of the data will be done independently and the data will be assembled a single table later.\n",
    "\n",
    "#### Weather\n",
    "\n",
    "1. In the weather dataset we have the date separated into day, month and year, but in traffic all these data are together. This is why the columns have been grouped into a date column of shape: ```day-month-year```. \n",
    "\n",
    "2. We also transform each hour value measurement and its validity into independent rows and we take the opportunity to remove invalid measurements:\n",
    "\n",
    "|       | hour            |   value |\n",
    "|------:|:----------------|--------:|\n",
    "|     0 | 0 days 00:00:00 |    7.1  |\n",
    "|     1 | 0 days 00:00:00 |    6.8  |\n",
    "|     2 | 0 days 00:00:00 |    2.8  |\n",
    "|     3 | 0 days 00:00:00 |    5.6  |\n",
    "\n",
    "3. To homogenize the time measure with the traffic table we join the date with the time. The new date shape is ```date-month-year hour:minute:second```\n",
    "\n",
    "4. Finally, to have more organized data, we convert the different types of measurement into columns:\n",
    "\n",
    "|      | date                |   weather_station |   direction |   humidity |   pressure |   rainfall |   solar |   temperature |   wind |\n",
    "|-----:|:--------------------|------------------:|------------:|-----------:|-----------:|-----------:|--------:|--------------:|-------:|\n",
    "|    0 | 2022-12-01 00:00:00 |                 4 |           0 |          0 |          0 |        0   |       0 |           7.1 |   0    |\n",
    "|    1 | 2022-12-01 00:00:00 |                 8 |           0 |         67 |          0 |        0   |       0 |           9.4 |   0    |\n",
    "|    2 | 2022-12-01 00:00:00 |                16 |           0 |         73 |          0 |        0   |       0 |           8.9 |   0    |\n",
    "\n",
    "#### Traffic\n",
    "\n",
    "1. The rows where the data collection has had an error are eliminated, for this we filter the values without measurement errors. In the documentation they tell us that these values are represented with an \"N\". \n",
    "\n",
    "2. We only keep the load measurement, which is what we are interested in for the analysis.\n",
    "\n",
    "3. We group the values for each date and station and calculate the average.\n",
    "\n",
    "The average time for loading and processing a month of traffic information is **43.9 s**. The team is concerned about the slowness and the possible effect it will have on real-time data processing.\n",
    "\n",
    "**Location**\n",
    "\n",
    "To join the two previous tables we need to know which traffic sensors correspond to the weather stations. To do this you can use a distance matrix and find the closest pairs. You could measure this distance directly with the coordinates. But to make the distances clearer, the Haversine distance was used, which calculates the distance in meters between a pair of coordinates. It can be seen in the next heatmap that these distances are between 0 and 20 km:\n",
    "\n",
    "<figure>\n",
    "<img src=\"files/image_source/heatmap3.png\">\n",
    "<figcaption style = \"text-align: center\"> <b>Figure 1:</b> Heatmap of distances in km between weather and traffic stations </figcaption>\n",
    "</figure>"
   ]
  },
  {
   "cell_type": "markdown",
   "id": "3f40bba9",
   "metadata": {},
   "source": [
    "## The Final Table <a class=\"anchor\" id=\"t14\"></a>\n",
    "\n",
    "Once we have prepared the 3 tables -weather, traffic and distance- we put them together. Since the weather table has time intervals of 1 hour while the traffic ones have 15 minutes, we will join both tables with an asof join. And, finally, we can add the information of the time and the day of the week to study its dependence on the traffic load.\n",
    "\n",
    "|    | date                |   traffic_station |   load |   Distance |   Closest |   weather_station |   direction |   humidity |   pressure |   rainfall |   solar |   temperature |   wind |   weekday |   hour |\n",
    "|---:|:--------------------|------------------:|-------:|-----------:|----------:|------------------:|------------:|-----------:|-----------:|-----------:|--------:|--------------:|-------:|----------:|-------:|\n",
    "|  0 | 2022-12-01 00:00:00 |              1001 |      0 |         15 |         1 |                 8 |           0 |         67 |          0 |          0 |       0 |           9.4 |      0 |         3 |      0 |\n",
    "|  1 | 2022-12-01 00:00:00 |              1002 |      0 |         15 |         1 |                 8 |           0 |         67 |          0 |          0 |       0 |           9.4 |      0 |         3 |      0 |\n",
    "|  2 | 2022-12-01 00:00:00 |              1003 |      0 |         14 |         1 |                 8 |           0 |         67 |          0 |          0 |       0 |           9.4 |      0 |         3 |      0 |\n",
    "|  3 | 2022-12-01 00:00:00 |              1006 |      0 |         15 |         1 |                 8 |           0 |         67 |          0 |          0 |       0 |           9.4 |      0 |         3 |      0 |\n",
    "|  4 | 2022-12-01 00:00:00 |              1009 |      0 |         14 |         0 |                 4 |           0 |          0 |          0 |          0 |       0 |           7.1 |      0 |         3 |      0 |"
   ]
  },
  {
   "cell_type": "markdown",
   "id": "8a676cf6",
   "metadata": {},
   "source": [
    "## Data interpretation <a class=\"anchor\" id=\"t15\"></a>\n",
    "\n",
    "Several studies were carried out to find out what time variables could be interesting to add to the model. In the first place, since traffic is so dependent on time, the measurements will be filtered to obtain the days of the week and the hours where there is usually more traffic. This will make it easier for the test model to learn. School days tend to have more traffic than holidays. Just as there is usually more traffic during the day than at night. In the following figure we can verify that the data have a strong seasonality:\n",
    "\n",
    "<table>\n",
    "    <tr>\n",
    "    <td style='text-align:center;'>\n",
    "<figure>\n",
    "<img src=\"files/image_source/loadperhour.png\">\n",
    "<figcaption style = \"text-align: center\">   <b>Figure 2:</b> Load per Hour </figcaption>\n",
    "</figure>\n",
    " </td>\n",
    "    <td>\n",
    "<figure>\n",
    "<img src=\"files/image_source/loadperweekday.png\">\n",
    "<figcaption style = \"text-align: center\">   <b>Figure 3:</b> Load per Weekday </figcaption>\n",
    "</figure>\n",
    "            </td>\n",
    "    </tr>\n",
    "</table>\n",
    "\n",
    "We keep the data between 10 a.m. and 8 p.m., from Monday to Friday, for the rest of the project.\n",
    "\n",
    "Regarding the Rainfall-Load dependency ee started seeing that rainy days are very few:\n",
    "\n",
    "|       |       rainfall |\n",
    "|:------|---------------:|\n",
    "| count | 841068         |\n",
    "| mean  |      0.0130932 |\n",
    "| std   |      0.194232  |\n",
    "| min   |      0         |\n",
    "| 50%   |      0         |\n",
    "| 90%   |      0         |\n",
    "| 99.9% |      2.9       |\n",
    "| max   |     10.9       |\n",
    "\n",
    "We can see in the percentiles of the precipitation column that there are very few recordings with rain. This is why the measurements were divided into different classes depending on the level of rain and we did a separate analysis for the data with heavy rain, moderate to moderate and no rain. The analysis was done hourly to avoid the temporal dependence of the load. We can verify this in the following table, where the average increase in hours of traffic congestion with rain can go from 5% to 14%, which agrees with the studies presented in [The Use Case](#t12).\n",
    "\n",
    "<figure>\n",
    "<img src=\"files/image_source/rainfall.png\">\n",
    "<figcaption style = \"text-align: center\"> <b>Figure 4:</b> The average traffic load per hour for the measurements with heavy rain (blue), moderate rain (brown) and no rain (green).</figcaption>\n",
    "</figure>\n",
    "\n",
    "To verify that these differences between groups are significant, we can do an anova test. And we see that in all hours there is great evidence that the load is different between the different types of rain. For example, for hour 12:\n",
    "\n",
    "|             |          sum_sq |    df |        F |       PR(>F) |\n",
    "|:------------|----------------:|------:|---------:|-------------:|\n",
    "| C(rainfall) | 37650.7         |     6 |  20.1144 |   1.3346e-23 |\n",
    "| Residual    |     8.01363e+06 | 25687 | nan      | nan          |\n",
    "\n",
    "It was decided to include precipitation within the model. The rest of the meteorological conditions did not give such a clear result, so they will be left out."
   ]
  },
  {
   "cell_type": "markdown",
   "id": "551df2c9",
   "metadata": {},
   "source": [
    "## Month 6:  The Model <a class=\"anchor\" id=\"t16\"></a>\n",
    "\n",
    "To check the performance we created a toy model using a simple LSTM with 5 steps back to forecast the load at a single station. The input includes only the 5 steps prior to the prediction of the load, we also incluede the rainfall, the hour and day of the week columns. The results for a single station seem quite positive as can be seen in [Graph 6](#Image61). But the temporary cost for a single station and a single month is unaffordable for the project budget. Also, the pre-processing takes too long for the final application in real time.\n",
    "\n",
    "<table> <a class=\"anchor\" id=\"Image61\"></a>\n",
    "    <tr>\n",
    "    <td style='text-align:center;'>\n",
    "<figure>\n",
    "<img src=\"files/image_source/loss_graph_p.png\">\n",
    "<figcaption style = \"text-align: center\">   <b>Figure 5:</b> Train vs Test loss plot  </figcaption>\n",
    "</figure>\n",
    " </td>\n",
    "    <td>\n",
    "<figure>\n",
    "<img src=\"files/image_source/fc_p.png\">\n",
    "<figcaption style = \"text-align: center\">   <b>Figure 6:</b> Traffic Forecasting for a traffic station </figcaption>\n",
    "</figure>\n",
    "            </td>\n",
    "    </tr>\n",
    "</table>\n"
   ]
  },
  {
   "cell_type": "markdown",
   "id": "caff5679",
   "metadata": {},
   "source": [
    "# PyKX migration <a class=\"anchor\" id=\"t2\"></a>"
   ]
  },
  {
   "cell_type": "markdown",
   "id": "e4a05edc",
   "metadata": {},
   "source": [
    "Once the project is clear, we will explain the steps that have been taken for the migration, which include a training stage in q and pykx of the team, the datasets loading and cleaning and the model ingestion. But first of all we need to install and import PyKx:"
   ]
  },
  {
   "cell_type": "code",
   "execution_count": null,
   "id": "8369149f",
   "metadata": {},
   "outputs": [],
   "source": [
    "!pip install pykx"
   ]
  },
  {
   "cell_type": "code",
   "execution_count": 1,
   "id": "10b6b1ed",
   "metadata": {},
   "outputs": [],
   "source": [
    "import pykx as kx"
   ]
  },
  {
   "cell_type": "code",
   "execution_count": null,
   "id": "172f94a0",
   "metadata": {},
   "outputs": [],
   "source": []
  },
  {
   "cell_type": "markdown",
   "id": "930f5a3c",
   "metadata": {},
   "source": [
    "<div class=\"alert alert-block alert-info\">\n",
    "<b> 🔍 A license is required to use some of the following features. You can find more information in <a href=\"https://code.kx.com/pykx/1.6/getting-started/installing.html\">\n",
    "            PyKX installation documentation</a>. \n",
    "</div>"
   ]
  },
  {
   "cell_type": "markdown",
   "id": "05e849ce",
   "metadata": {},
   "source": [
    "## Learning PyKX <a class=\"anchor\" id=\"t21\"></a>"
   ]
  },
  {
   "cell_type": "markdown",
   "id": "591d51ed",
   "metadata": {},
   "source": [
    "Before starting the project, the Mad Flow team received training from [Habla Computing](https://hablapps.com/) on q and PyKX. After this introduction to KX platforms, some of the developers fell in love with q, while others felt more comfortable in the Python ecosystem. PyKX is designed so that these two profiles coexist in the same development environment. The team has compiled perspectives on programming with PyKX along with various techniques they discovered during training.:\n",
    "\n",
    "* **[Useful Read/Write Functions](https://code.kx.com/pykx/1.6/api/read.html)**\n",
    "\n",
    ">*\"PyKX offers several functions that help loading and writing data, they are very versatile and the parameters are very intuitive.\"*"
   ]
  },
  {
   "cell_type": "code",
   "execution_count": 2,
   "id": "c5649b3a",
   "metadata": {},
   "outputs": [],
   "source": [
    "traffic_station = kx.q.read.csv('./pmed_ubicacion_12-2022.csv', types = \"SII**FFFF\", delimiter = \";\", as_table=True)"
   ]
  },
  {
   "cell_type": "code",
   "execution_count": 15,
   "id": "f3fd2829",
   "metadata": {},
   "outputs": [
    {
     "data": {
      "text/plain": [
       "pykx.Table(pykx.q('\n",
       "tipo_elem distrito id    cod_cent nombre                                     ..\n",
       "-----------------------------------------------------------------------------..\n",
       "URB       4        3840  \"01001\"  \"Jose Ortega y Gasset E-O - P\\302\\272 Caste..\n",
       "URB       4        3841  \"01002\"  \"Jose Ortega y Gasset O-E - Serrano-P\\302\\2..\n",
       "URB       1        3842  \"01003\"  \"P\\302\\272 Recoletos N-S - Almirante-Prim\" ..\n",
       "URB       4        3843  \"01004\"  \"P\\302\\272 Recoletos S-N - Pl. Cibeles- Rec..\n",
       "URB       4        3844  \"01005\"  \"(AFOROS) P\\302\\272 Castellana S-N  - Eduar..\n",
       "URB       4        3845  \"01006\"  \"P\\302\\272 Recoletos S-N - Villanueva-Jorge..\n",
       "URB       1        3846  \"01007\"  \"Sagasta 20 O-E - Mejia Lequerica-Pl. Alons..\n",
       "URB       7        3847  \"01008\"  \"Almagro 7 N-S - Zurbano-Pl. Alonso Martine..\n",
       "URB       7        3848  \"01009\"  \"(AFOROS) Genova 13 E-O - Zurbano-Campoamor..\n",
       "URB       1        3849  \"01010\"  \"PL. SANTA  BARBARA S-N(SERRANO ANGUITA-PL...\n",
       "URB       1        3850  \"01011\"  \"(AFOROS) Genova O-E - General Casta\\303\\26..\n",
       "URB       4        7029  \"01012\"  \" P\\302\\272 Recoletos  N-S -  (PL. Colon-B\\..\n",
       "URB       1        10034 \"01013\"  \"Barbara Braganza E-O  - P\\302\\272 Recoleto..\n",
       "URB       7        3851  \"01014\"  \"P\\302\\272 Castellana N-S - Ayala-Pl. Colon..\n",
       "URB       1        10036 \"01017\"  \"Barbara Braganza O-E  - Conde Xiquena-Tama..\n",
       "URB       7        3562  \"01018\"  \"(AFOROS) P\\302\\272 Castellana N-S - Eduard..\n",
       "URB       1        3854  \"01020\"  \"Fernado VI E-O - Campoamor-Hortaleza\"     ..\n",
       "URB       1        3855  \"01021\"  \"HORTALEZA, 75 S-N(TRAVESIA SAN MATEO-FERNA..\n",
       "URB       4        3852  \"01030\"  \"P\\302\\272 Castellana S-N - Pl. Colon-Ayala..\n",
       "URB       4        7026  \"01301\"  \"(MICRO) P\\302\\272 Recoletos  N-S - Pl. Col..\n",
       "..\n",
       "'))"
      ]
     },
     "execution_count": 15,
     "metadata": {},
     "output_type": "execute_result"
    }
   ],
   "source": [
    "traffic_station"
   ]
  },
  {
   "cell_type": "code",
   "execution_count": 26,
   "id": "79440ff0",
   "metadata": {},
   "outputs": [
    {
     "data": {
      "text/plain": [
       "pykx.LongVector(pykx.q('1 1 1 1 1 1'))"
      ]
     },
     "execution_count": 26,
     "metadata": {},
     "output_type": "execute_result"
    }
   ],
   "source": [
    "kx.q(\"div \", [1,2,3,4,5,6], [1,2,3,4,5,6])"
   ]
  },
  {
   "cell_type": "markdown",
   "id": "acc45223",
   "metadata": {},
   "source": [
    "* **[Use pythonic indexing](https://code.kx.com/pykx/1.6/user-guide/fundamentals/indexing.html)**\n",
    "\n",
    "> *\"Accessing data from q objects such as lists or tables from python can be done with indexing similar to what you can use in numpy or pandas. This has made my job much easier.\"*"
   ]
  },
  {
   "cell_type": "code",
   "execution_count": 22,
   "id": "798002d2",
   "metadata": {},
   "outputs": [
    {
     "name": "stdout",
     "output_type": "stream",
     "text": [
      "40.4305 40.43052 40.42213 40.42143 40.43378\n"
     ]
    }
   ],
   "source": [
    "elem = traffic_station[\"tipo_elem\"]\n",
    "lat = traffic_station[\"latitud\"]\n",
    "print(lat[:5])"
   ]
  },
  {
   "cell_type": "markdown",
   "id": "ae6530c0",
   "metadata": {},
   "source": [
    "* **[Use q functions]()**\n",
    "\n",
    "> *\"For those like me who want to delve into the q language and gain experience, you can use language functions, ...*"
   ]
  },
  {
   "cell_type": "code",
   "execution_count": 76,
   "id": "fa54754d",
   "metadata": {},
   "outputs": [
    {
     "name": "stdout",
     "output_type": "stream",
     "text": [
      "`URB`other`M30\n"
     ]
    }
   ],
   "source": [
    "distinct = kx.q(\"distinct\", elem) # unique values in the list\n",
    "print(distinct) "
   ]
  },
  {
   "cell_type": "markdown",
   "id": "1f1d2dd4",
   "metadata": {},
   "source": [
    "> *... iterate over them ...*"
   ]
  },
  {
   "cell_type": "code",
   "execution_count": 77,
   "id": "b65c3867",
   "metadata": {},
   "outputs": [
    {
     "name": "stdout",
     "output_type": "stream",
     "text": [
      "`urb`other`m30\n"
     ]
    }
   ],
   "source": [
    "print(kx.q(\"lower\").each(distinct)) # lower case unique values of the list"
   ]
  },
  {
   "cell_type": "markdown",
   "id": "b75c288a",
   "metadata": {},
   "source": [
    ">*... or even create and use them with pykx objects.\"*"
   ]
  },
  {
   "cell_type": "code",
   "execution_count": 68,
   "id": "34e72eb5",
   "metadata": {},
   "outputs": [
    {
     "name": "stdout",
     "output_type": "stream",
     "text": [
      "URB  | 4266\r\n",
      "other| 128\r\n",
      "M30  | 296\n"
     ]
    }
   ],
   "source": [
    "print(kx.q(\"{u !(sum x=) each u:distinct x}\", elem)) # Count the occurrences of distinct values"
   ]
  },
  {
   "cell_type": "markdown",
   "id": "e4bdaaad",
   "metadata": {},
   "source": [
    "* **Use [Numpy](https://code.kx.com/pykx/1.6/user-guide/advanced/numpy.html) and  [Pandas](https://code.kx.com/pykx/1.6/user-guide/advanced/Pandas_API.html)**\n",
    "\n",
    "> *\"Those of us who are not yet so familiar with the ecosystem that we can continue using part of the functionality of Numpy...*"
   ]
  },
  {
   "cell_type": "code",
   "execution_count": 24,
   "id": "a1d89a0e",
   "metadata": {},
   "outputs": [
    {
     "data": {
      "text/plain": [
       "40.42870774510621"
      ]
     },
     "execution_count": 24,
     "metadata": {},
     "output_type": "execute_result"
    }
   ],
   "source": [
    "import numpy as np\n",
    "np.mean(lat)"
   ]
  },
  {
   "cell_type": "markdown",
   "id": "5667de7d",
   "metadata": {},
   "source": [
    ">*... and from pandas via the Pandas API.\"*"
   ]
  },
  {
   "cell_type": "code",
   "execution_count": 64,
   "id": "c9e5594a",
   "metadata": {},
   "outputs": [
    {
     "name": "stdout",
     "output_type": "stream",
     "text": [
      "tipo_elem distrito id   cod_cent nombre                                      ..\r\n",
      "-----------------------------------------------------------------------------..\r\n",
      "URB       4        3840 \"01001\"  \"Jose Ortega y Gasset E-O - P\\302\\272 Castel..\r\n",
      "URB       4        3840 \"01001\"  \"Jose Ortega y Gasset E-O - P\\302\\272 Castel..\r\n",
      "URB       4        3840 \"01001\"  \"Jose Ortega y Gasset E-O - P\\302\\272 Castel..\r\n",
      "URB       4        3840 \"01001\"  \"Jose Ortega y Gasset E-O - P\\302\\272 Castel..\r\n",
      "URB       4        3840 \"01001\"  \"Jose Ortega y Gasset E-O - P\\302\\272 Castel..\n"
     ]
    }
   ],
   "source": [
    "import os\n",
    "os.environ['PYKX_ENABLE_PANDAS_API'] = 'true'\n",
    "import pykx as kx\n",
    "import numpy as np\n",
    "import pandas as pd\n",
    "\n",
    "print(traffic_station[traffic_station[\"tipo_elem\"]==\"other\"][:5]) # filter rows where the values of a column meet a condition"
   ]
  },
  {
   "cell_type": "markdown",
   "id": "8752be12",
   "metadata": {},
   "source": [
    "\n",
    "<div class=\"alert alert-block alert-info\">\n",
    "<b>To use it we only have to import numpy and pandas and activate a flag. Pandas API is still in the development phase, so it does not yet have all the functions of Pandas. More information in <a href=\"https://code.kx.com/pykx/1.6/user-guide/advanced/Pandas_API.html\"> Pandas API </a> . \n",
    "</div>\n",
    "    \n",
    "    \n"
   ]
  },
  {
   "cell_type": "markdown",
   "id": "7cca2854",
   "metadata": {},
   "source": [
    "* **Use [qSQL querys](https://code.kx.com/pykx/1.6/api/query.html)**\n",
    "\n",
    "> *\"SQL queries are very powerful and concise at the same time. PyKX allows you to query PyKX objects as well as API functions...* "
   ]
  },
  {
   "cell_type": "code",
   "execution_count": 83,
   "id": "115f7210",
   "metadata": {},
   "outputs": [
    {
     "name": "stdout",
     "output_type": "stream",
     "text": [
      "name        \r\n",
      "------------\r\n",
      "\"03FL08PM01\"\r\n",
      "\"03FL08PM02\"\r\n",
      "\"03FL20PM01\"\r\n",
      "\"03FL56PM01\"\r\n",
      "\"03FT08PM01\"\n"
     ]
    }
   ],
   "source": [
    "print(kx.q.qsql.select(traffic_station, {\"name\":\"5 # nombre\"}, where=\"tipo_elem = `other\")) # filter rows where the values of a column meet a condition"
   ]
  },
  {
   "cell_type": "markdown",
   "id": "06eb334e",
   "metadata": {},
   "source": [
    "> *...or using our own functions q.\"*"
   ]
  },
  {
   "cell_type": "code",
   "execution_count": 82,
   "id": "7eb9ceb6",
   "metadata": {},
   "outputs": [
    {
     "name": "stdout",
     "output_type": "stream",
     "text": [
      "name        \r\n",
      "------------\r\n",
      "\"03FL08PM01\"\r\n",
      "\"03FL08PM02\"\r\n",
      "\"03FL20PM01\"\r\n",
      "\"03FL56PM01\"\r\n",
      "\"03FT08PM01\"\n"
     ]
    }
   ],
   "source": [
    "print(kx.q(\"{select name:5#nombre from x where tipo_elem = `other}\", traffic_station)) # filter rows where the values of a column meet a condition"
   ]
  },
  {
   "cell_type": "markdown",
   "id": "5001346c",
   "metadata": {},
   "source": [
    "* **Use [SQL querys](https://code.kx.com/pykx/1.6/api/query.html)**"
   ]
  },
  {
   "cell_type": "markdown",
   "id": "7c456368",
   "metadata": {},
   "source": [
    ">*\"Whoa! PyKx lets you use SQL queries too!\"*"
   ]
  },
  {
   "cell_type": "code",
   "execution_count": null,
   "id": "e05642a1",
   "metadata": {},
   "outputs": [],
   "source": [
    "kx.q.sql(\"select top 5 nombre from $1 where tipo_elem=`other\", traffic_station)"
   ]
  },
  {
   "cell_type": "markdown",
   "id": "05ce9bde",
   "metadata": {},
   "source": [
    "* **Q Context**\n",
    "\n",
    "> *\"I'm more comfortable programming in q, so I work in the context of q. PYKX objects can be passed into the q context and work with them as if you were in a q ecosystem:\"*"
   ]
  },
  {
   "cell_type": "code",
   "execution_count": 81,
   "id": "0b8e6323",
   "metadata": {},
   "outputs": [
    {
     "name": "stdout",
     "output_type": "stream",
     "text": [
      "name        \r\n",
      "------------\r\n",
      "\"03FL08PM01\"\r\n",
      "\"03FL08PM02\"\r\n",
      "\"03FL20PM01\"\r\n",
      "\"03FL56PM01\"\r\n",
      "\"03FT08PM01\"\n"
     ]
    }
   ],
   "source": [
    "kx.q[\"traffic_station\"] = traffic_station # Move Pykx Object to Q Context\n",
    "\n",
    "print(kx.q(\"select name:5#nombre from traffic_station where tipo_elem = `other\")) # Working with the table inside q"
   ]
  },
  {
   "cell_type": "markdown",
   "id": "bb84a260",
   "metadata": {},
   "source": [
    "* **Python/Q Transform**\n",
    "\n",
    "> *\"I'm new to the project and still have to catch up with q. In the meantime I can pass the objects from q to pandas...*"
   ]
  },
  {
   "cell_type": "code",
   "execution_count": 124,
   "id": "37a913d0",
   "metadata": {},
   "outputs": [
    {
     "data": {
      "text/html": [
       "<div>\n",
       "<style scoped>\n",
       "    .dataframe tbody tr th:only-of-type {\n",
       "        vertical-align: middle;\n",
       "    }\n",
       "\n",
       "    .dataframe tbody tr th {\n",
       "        vertical-align: top;\n",
       "    }\n",
       "\n",
       "    .dataframe thead th {\n",
       "        text-align: right;\n",
       "    }\n",
       "</style>\n",
       "<table border=\"1\" class=\"dataframe\">\n",
       "  <thead>\n",
       "    <tr style=\"text-align: right;\">\n",
       "      <th></th>\n",
       "      <th>tipo_elem</th>\n",
       "      <th>distrito</th>\n",
       "      <th>id</th>\n",
       "      <th>cod_cent</th>\n",
       "      <th>nombre</th>\n",
       "      <th>utm_x</th>\n",
       "      <th>utm_y</th>\n",
       "      <th>longitud</th>\n",
       "      <th>latitud</th>\n",
       "    </tr>\n",
       "  </thead>\n",
       "  <tbody>\n",
       "    <tr>\n",
       "      <th>0</th>\n",
       "      <td>URB</td>\n",
       "      <td>4</td>\n",
       "      <td>3840</td>\n",
       "      <td>b'01001'</td>\n",
       "      <td>b'Jose Ortega y Gasset E-O - P\\xc2\\xba Castell...</td>\n",
       "      <td>441615.343347</td>\n",
       "      <td>4.475768e+06</td>\n",
       "      <td>-3.688323</td>\n",
       "      <td>40.430502</td>\n",
       "    </tr>\n",
       "    <tr>\n",
       "      <th>1</th>\n",
       "      <td>URB</td>\n",
       "      <td>4</td>\n",
       "      <td>3841</td>\n",
       "      <td>b'01002'</td>\n",
       "      <td>b'Jose Ortega y Gasset O-E - Serrano-P\\xc2\\xba...</td>\n",
       "      <td>441705.882340</td>\n",
       "      <td>4.475770e+06</td>\n",
       "      <td>-3.687256</td>\n",
       "      <td>40.430524</td>\n",
       "    </tr>\n",
       "    <tr>\n",
       "      <th>2</th>\n",
       "      <td>URB</td>\n",
       "      <td>1</td>\n",
       "      <td>3842</td>\n",
       "      <td>b'01003'</td>\n",
       "      <td>b'P\\xc2\\xba Recoletos N-S - Almirante-Prim'</td>\n",
       "      <td>441319.371258</td>\n",
       "      <td>4.474841e+06</td>\n",
       "      <td>-3.691727</td>\n",
       "      <td>40.422132</td>\n",
       "    </tr>\n",
       "    <tr>\n",
       "      <th>3</th>\n",
       "      <td>URB</td>\n",
       "      <td>4</td>\n",
       "      <td>3843</td>\n",
       "      <td>b'01004'</td>\n",
       "      <td>b'P\\xc2\\xba Recoletos S-N - Pl. Cibeles- Recol...</td>\n",
       "      <td>441301.632986</td>\n",
       "      <td>4.474764e+06</td>\n",
       "      <td>-3.691929</td>\n",
       "      <td>40.421433</td>\n",
       "    </tr>\n",
       "    <tr>\n",
       "      <th>4</th>\n",
       "      <td>URB</td>\n",
       "      <td>4</td>\n",
       "      <td>3844</td>\n",
       "      <td>b'01005'</td>\n",
       "      <td>b'(AFOROS) P\\xc2\\xba Castellana S-N  - Eduardo...</td>\n",
       "      <td>441605.765072</td>\n",
       "      <td>4.476132e+06</td>\n",
       "      <td>-3.688470</td>\n",
       "      <td>40.433782</td>\n",
       "    </tr>\n",
       "  </tbody>\n",
       "</table>\n",
       "</div>"
      ],
      "text/plain": [
       "  tipo_elem  distrito    id  cod_cent  \\\n",
       "0       URB         4  3840  b'01001'   \n",
       "1       URB         4  3841  b'01002'   \n",
       "2       URB         1  3842  b'01003'   \n",
       "3       URB         4  3843  b'01004'   \n",
       "4       URB         4  3844  b'01005'   \n",
       "\n",
       "                                              nombre          utm_x  \\\n",
       "0  b'Jose Ortega y Gasset E-O - P\\xc2\\xba Castell...  441615.343347   \n",
       "1  b'Jose Ortega y Gasset O-E - Serrano-P\\xc2\\xba...  441705.882340   \n",
       "2        b'P\\xc2\\xba Recoletos N-S - Almirante-Prim'  441319.371258   \n",
       "3  b'P\\xc2\\xba Recoletos S-N - Pl. Cibeles- Recol...  441301.632986   \n",
       "4  b'(AFOROS) P\\xc2\\xba Castellana S-N  - Eduardo...  441605.765072   \n",
       "\n",
       "          utm_y  longitud    latitud  \n",
       "0  4.475768e+06 -3.688323  40.430502  \n",
       "1  4.475770e+06 -3.687256  40.430524  \n",
       "2  4.474841e+06 -3.691727  40.422132  \n",
       "3  4.474764e+06 -3.691929  40.421433  \n",
       "4  4.476132e+06 -3.688470  40.433782  "
      ]
     },
     "execution_count": 124,
     "metadata": {},
     "output_type": "execute_result"
    }
   ],
   "source": [
    "traffic_station.pd().head()"
   ]
  },
  {
   "cell_type": "markdown",
   "id": "c5dda0d0",
   "metadata": {},
   "source": [
    ">*... numpy, ...*"
   ]
  },
  {
   "cell_type": "code",
   "execution_count": 128,
   "id": "1cc01267",
   "metadata": {},
   "outputs": [
    {
     "data": {
      "text/plain": [
       "array([40.43050187, 40.43052394, 40.42213209, 40.42143334, 40.43378206])"
      ]
     },
     "execution_count": 128,
     "metadata": {},
     "output_type": "execute_result"
    }
   ],
   "source": [
    "lat.np()[:5]"
   ]
  },
  {
   "cell_type": "markdown",
   "id": "95e0de81",
   "metadata": {},
   "source": [
    "> *... and python to work on ...*"
   ]
  },
  {
   "cell_type": "code",
   "execution_count": 127,
   "id": "ce0d5da8",
   "metadata": {},
   "outputs": [
    {
     "data": {
      "text/plain": [
       "[40.4305018691825,\n",
       " 40.4305239406404,\n",
       " 40.4221320929972,\n",
       " 40.4214333442836,\n",
       " 40.4337820578943]"
      ]
     },
     "execution_count": 127,
     "metadata": {},
     "output_type": "execute_result"
    }
   ],
   "source": [
    "lat.py()[:5]"
   ]
  },
  {
   "cell_type": "markdown",
   "id": "9d51247a",
   "metadata": {},
   "source": [
    ">*... and then back to q so that colleagues can continue the work.\"*"
   ]
  },
  {
   "cell_type": "code",
   "execution_count": 130,
   "id": "4028c532",
   "metadata": {},
   "outputs": [
    {
     "data": {
      "text/plain": [
       "pykx.FloatVector(pykx.q('40.4305 40.43052 40.42213 40.42143 40.43378 40.42351 40.42816 40.42879 40.426..'))"
      ]
     },
     "execution_count": 130,
     "metadata": {},
     "output_type": "execute_result"
    }
   ],
   "source": [
    "kx.toq(lat.py())"
   ]
  },
  {
   "cell_type": "markdown",
   "id": "1939cc15",
   "metadata": {},
   "source": [
    "During the development of the project some of these methods will be described in depth. The best thing is that they are fully compatible with each other, so developers can choose the one that is most comfortable for them!"
   ]
  },
  {
   "cell_type": "markdown",
   "id": "5a3b2444",
   "metadata": {},
   "source": [
    "## Datasets <a class=\"anchor\" id=\"t22\"></a>"
   ]
  },
  {
   "cell_type": "markdown",
   "id": "3b1e105c",
   "metadata": {},
   "source": [
    "### Weather"
   ]
  },
  {
   "cell_type": "markdown",
   "id": "725d7488",
   "metadata": {},
   "source": [
    "The data load will be done with the utility provided by [pykx for load files](https://code.kx.com/pykx/1.4/api/read.html):"
   ]
  },
  {
   "cell_type": "code",
   "execution_count": 4,
   "id": "1b02d428",
   "metadata": {},
   "outputs": [],
   "source": [
    "weather = kx.q.read.csv('./dic_meteo22.csv', types='I'*4 + '*'*4 + 'FS'*24, delimiter=';')"
   ]
  },
  {
   "cell_type": "markdown",
   "id": "c43b67ae",
   "metadata": {},
   "source": [
    "The parameters of this function are quite standard in which the url to the file and the delimiter are indicated. We highlight the *types* parameter that expects the [types](https://code.kx.com/q/basics/datatypes/) of each column. Our tables are pykx objects:"
   ]
  },
  {
   "cell_type": "code",
   "execution_count": 71,
   "id": "8671fc58",
   "metadata": {},
   "outputs": [
    {
     "data": {
      "text/plain": [
       "pykx.wrappers.Table"
      ]
     },
     "execution_count": 71,
     "metadata": {},
     "output_type": "execute_result"
    }
   ],
   "source": [
    "type(weather)"
   ]
  },
  {
   "cell_type": "markdown",
   "id": "6bc5c4e4",
   "metadata": {},
   "source": [
    "But it is not in the context of q. Let's see how to access these objects and how to use q features on them. Let's start with the simple *xcol* function, which allows us to rename columns:"
   ]
  },
  {
   "cell_type": "code",
   "execution_count": 93,
   "id": "687e9e51",
   "metadata": {},
   "outputs": [],
   "source": [
    "weather = kx.q.xcol({'ANO': 'year', 'MES': 'month', 'DIA': 'day', 'ESTACION':'weather_station', 'MAGNITUD':'magnitude'}, weather)"
   ]
  },
  {
   "cell_type": "markdown",
   "id": "a2d76150",
   "metadata": {},
   "source": [
    "We see that this function is overloaded in PyKX. Many q functions are available through the pykx.q interface. The attributes are identical to those expected in the q function but with Python structures. These functions are compiled and perfectly explained in the [pykx documentation](https://code.kx.com/pykx/1.6/api/q/q.html). "
   ]
  },
  {
   "cell_type": "markdown",
   "id": "db65aaf3",
   "metadata": {},
   "source": [
    "Apart from this functions we have the kx.q.qsql interface, which allows us to query into tables. Specifically we used `select`, `update` and `delete`, which share some common characteristics, mainly with the arguments they receive.\n",
    "\n",
    "Both `select` and `update` share more or less this function call structure:\n",
    "\n",
    "`kx.q.sql.{function}({tab}, columns=..., where=..., by=...)`\n",
    "\n",
    "The `columns` argument expects either a list of strings or a dictionary where the key is the column name and the value is the actual value you want in this column if let's say you want to apply a function to it. Let's look at this specific example:"
   ]
  },
  {
   "cell_type": "code",
   "execution_count": 94,
   "id": "87b1c346",
   "metadata": {},
   "outputs": [],
   "source": [
    "weather = kx.q.qsql.delete(weather, ['PUNTO_MUESTREO', 'PROVINCIA', 'MUNICIPIO'])"
   ]
  },
  {
   "cell_type": "markdown",
   "id": "3af42bb6",
   "metadata": {},
   "source": [
    "With the above code we have removed several columns that are not relevant to the analysis.\n",
    "\n",
    "The next task we need to do is combine the year, month, and day into a single date column. To do this, we started by accessing these three columns. This can be done by indexing:"
   ]
  },
  {
   "cell_type": "code",
   "execution_count": 95,
   "id": "af35e814",
   "metadata": {},
   "outputs": [
    {
     "data": {
      "text/plain": [
       "pykx.List(pykx.q('\n",
       "\"2022\" \"2022\" \"2022\" \"2022\" \"2022\" \"2022\" \"2022\" \"2022\" \"2022\" \"2022\" \"2022\" ..\n",
       "\"12\"   \"12\"   \"12\"   \"12\"   \"12\"   \"12\"   \"12\"   \"12\"   \"12\"   \"12\"   \"12\"   ..\n",
       "\"22\"   \"22\"   \"22\"   \"22\"   \"22\"   \"22\"   \"22\"   \"01\"   \"02\"   \"03\"   \"04\"   ..\n",
       "'))"
      ]
     },
     "execution_count": 95,
     "metadata": {},
     "output_type": "execute_result"
    }
   ],
   "source": [
    "weather[\"year\", \"month\", \"day\"]"
   ]
  },
  {
   "cell_type": "markdown",
   "id": "974e9834",
   "metadata": {},
   "source": [
    "We see that the result is three lists of the sample size. Our goal is a list of sample size with the three elements that make up the date joined together:"
   ]
  },
  {
   "cell_type": "code",
   "execution_count": 96,
   "id": "2c838da1",
   "metadata": {},
   "outputs": [
    {
     "data": {
      "text/plain": [
       "pykx.List(pykx.q('\n",
       "\"2022\" \"12\" \"22\"\n",
       "\"2022\" \"12\" \"22\"\n",
       "\"2022\" \"12\" \"22\"\n",
       "'))"
      ]
     },
     "execution_count": 96,
     "metadata": {},
     "output_type": "execute_result"
    }
   ],
   "source": [
    "kx.q.flip(weather[\"year\", \"month\", \"day\"])[:3]"
   ]
  },
  {
   "cell_type": "markdown",
   "id": "868c9b4c",
   "metadata": {},
   "source": [
    "Looks like we're getting close now we have a sample size list with a list in each position containing 3 elements: the day, the month and the year. To join each set of the list into a single joined element, the *each* iterator will be used:"
   ]
  },
  {
   "cell_type": "code",
   "execution_count": 97,
   "id": "faedfb03",
   "metadata": {},
   "outputs": [
    {
     "data": {
      "text/plain": [
       "pykx.List(pykx.q('\n",
       "\"20221222\"\n",
       "\"20221222\"\n",
       "\"20221222\"\n",
       "'))"
      ]
     },
     "execution_count": 97,
     "metadata": {},
     "output_type": "execute_result"
    }
   ],
   "source": [
    "kx.q.each(kx.q.raze, kx.q.flip(weather[\"year\", \"month\", \"day\"]))[:3]"
   ]
  },
  {
   "cell_type": "markdown",
   "id": "ffa64936",
   "metadata": {},
   "source": [
    "All that remains is to convert the data type from string to date. Unfortunately, some functions (especially the overloaded glyphs) are not implemented. For example cast (`$`), take (`#`), concat (`,`)... So we are forced to abandon Pythonic way of calling q functions and perform this casting writing kdb+/q code using the pykx.q method:"
   ]
  },
  {
   "cell_type": "code",
   "execution_count": 98,
   "id": "227e586d",
   "metadata": {},
   "outputs": [
    {
     "data": {
      "text/plain": [
       "pykx.DateVector(pykx.q('2022.12.22 2022.12.22 2022.12.22'))"
      ]
     },
     "execution_count": 98,
     "metadata": {},
     "output_type": "execute_result"
    }
   ],
   "source": [
    "date = kx.q('\"D\"$',(kx.q.each(kx.q.raze, kx.q.flip(weather[\"year\", \"month\", \"day\"]))))\n",
    "date[:3]"
   ]
  },
  {
   "cell_type": "markdown",
   "id": "75e62ba9",
   "metadata": {},
   "source": [
    "Finally, we add this column to our table:"
   ]
  },
  {
   "cell_type": "code",
   "execution_count": 99,
   "id": "c3628c96",
   "metadata": {},
   "outputs": [],
   "source": [
    "weather_ = kx.q.qsql.update(weather, columns = {'date': date})"
   ]
  },
  {
   "cell_type": "markdown",
   "id": "bb236e6c",
   "metadata": {},
   "source": [
    "Some team members started using kdb/q code instead of pykx functions in the pythonic way, they found the code more elegant and concise. Once the team had a little more fluency, a function entirely in q was proposed:"
   ]
  },
  {
   "cell_type": "code",
   "execution_count": 100,
   "id": "9b9a6a2a",
   "metadata": {},
   "outputs": [],
   "source": [
    "weather = kx.q.qsql.update(weather, columns = {'date':'\"D\"$ raze each flip(year;month;day)'})"
   ]
  },
  {
   "cell_type": "markdown",
   "id": "36119f3b",
   "metadata": {},
   "source": [
    "Again, both solutions are fully compatible, even combinable, it is up to the programmer to use one or the other methodology. \n",
    "\n",
    "The three columns that are already included in date can now be removed:"
   ]
  },
  {
   "cell_type": "code",
   "execution_count": 101,
   "id": "0febc904",
   "metadata": {},
   "outputs": [],
   "source": [
    "weather = kx.q.qsql.delete(weather, ['year', 'month', 'day'])"
   ]
  },
  {
   "cell_type": "markdown",
   "id": "d7ae458f",
   "metadata": {},
   "source": [
    "The current state of the weather table is as follows:"
   ]
  },
  {
   "cell_type": "code",
   "execution_count": 80,
   "id": "4784045f",
   "metadata": {},
   "outputs": [
    {
     "data": {
      "text/html": [
       "<div>\n",
       "<style scoped>\n",
       "    .dataframe tbody tr th:only-of-type {\n",
       "        vertical-align: middle;\n",
       "    }\n",
       "\n",
       "    .dataframe tbody tr th {\n",
       "        vertical-align: top;\n",
       "    }\n",
       "\n",
       "    .dataframe thead th {\n",
       "        text-align: right;\n",
       "    }\n",
       "</style>\n",
       "<table border=\"1\" class=\"dataframe\">\n",
       "  <thead>\n",
       "    <tr style=\"text-align: right;\">\n",
       "      <th></th>\n",
       "      <th>weather_station</th>\n",
       "      <th>magnitude</th>\n",
       "      <th>H01</th>\n",
       "      <th>V01</th>\n",
       "      <th>H02</th>\n",
       "      <th>V02</th>\n",
       "      <th>H03</th>\n",
       "      <th>V03</th>\n",
       "      <th>H04</th>\n",
       "      <th>V04</th>\n",
       "      <th>...</th>\n",
       "      <th>V20</th>\n",
       "      <th>H21</th>\n",
       "      <th>V21</th>\n",
       "      <th>H22</th>\n",
       "      <th>V22</th>\n",
       "      <th>H23</th>\n",
       "      <th>V23</th>\n",
       "      <th>H24</th>\n",
       "      <th>V24</th>\n",
       "      <th>date</th>\n",
       "    </tr>\n",
       "  </thead>\n",
       "  <tbody>\n",
       "    <tr>\n",
       "      <th>0</th>\n",
       "      <td>108</td>\n",
       "      <td>81</td>\n",
       "      <td>270.0</td>\n",
       "      <td>N</td>\n",
       "      <td>252.0</td>\n",
       "      <td>N</td>\n",
       "      <td>216.0</td>\n",
       "      <td>N</td>\n",
       "      <td>242.0</td>\n",
       "      <td>N</td>\n",
       "      <td>...</td>\n",
       "      <td>V</td>\n",
       "      <td>228.0</td>\n",
       "      <td>V</td>\n",
       "      <td>227.83</td>\n",
       "      <td>V</td>\n",
       "      <td>213.67</td>\n",
       "      <td>V</td>\n",
       "      <td>233.83</td>\n",
       "      <td>V</td>\n",
       "      <td>2022-12-22</td>\n",
       "    </tr>\n",
       "    <tr>\n",
       "      <th>1</th>\n",
       "      <td>108</td>\n",
       "      <td>82</td>\n",
       "      <td>9.0</td>\n",
       "      <td>N</td>\n",
       "      <td>8.0</td>\n",
       "      <td>N</td>\n",
       "      <td>9.0</td>\n",
       "      <td>N</td>\n",
       "      <td>8.0</td>\n",
       "      <td>N</td>\n",
       "      <td>...</td>\n",
       "      <td>V</td>\n",
       "      <td>10.0</td>\n",
       "      <td>V</td>\n",
       "      <td>9.00</td>\n",
       "      <td>V</td>\n",
       "      <td>9.00</td>\n",
       "      <td>V</td>\n",
       "      <td>8.00</td>\n",
       "      <td>V</td>\n",
       "      <td>2022-12-22</td>\n",
       "    </tr>\n",
       "    <tr>\n",
       "      <th>2</th>\n",
       "      <td>108</td>\n",
       "      <td>83</td>\n",
       "      <td>94.7</td>\n",
       "      <td>N</td>\n",
       "      <td>97.6</td>\n",
       "      <td>N</td>\n",
       "      <td>96.6</td>\n",
       "      <td>N</td>\n",
       "      <td>97.5</td>\n",
       "      <td>N</td>\n",
       "      <td>...</td>\n",
       "      <td>V</td>\n",
       "      <td>91.4</td>\n",
       "      <td>V</td>\n",
       "      <td>93.80</td>\n",
       "      <td>V</td>\n",
       "      <td>96.30</td>\n",
       "      <td>V</td>\n",
       "      <td>98.70</td>\n",
       "      <td>V</td>\n",
       "      <td>2022-12-22</td>\n",
       "    </tr>\n",
       "  </tbody>\n",
       "</table>\n",
       "<p>3 rows × 51 columns</p>\n",
       "</div>"
      ],
      "text/plain": [
       "   weather_station  magnitude    H01 V01    H02 V02    H03 V03    H04 V04  \\\n",
       "0              108         81  270.0   N  252.0   N  216.0   N  242.0   N   \n",
       "1              108         82    9.0   N    8.0   N    9.0   N    8.0   N   \n",
       "2              108         83   94.7   N   97.6   N   96.6   N   97.5   N   \n",
       "\n",
       "   ...  V20    H21  V21     H22  V22     H23  V23     H24  V24       date  \n",
       "0  ...    V  228.0    V  227.83    V  213.67    V  233.83    V 2022-12-22  \n",
       "1  ...    V   10.0    V    9.00    V    9.00    V    8.00    V 2022-12-22  \n",
       "2  ...    V   91.4    V   93.80    V   96.30    V   98.70    V 2022-12-22  \n",
       "\n",
       "[3 rows x 51 columns]"
      ]
     },
     "execution_count": 80,
     "metadata": {},
     "output_type": "execute_result"
    }
   ],
   "source": [
    "weather[:3].pd()"
   ]
  },
  {
   "cell_type": "markdown",
   "id": "e71c3f10",
   "metadata": {},
   "source": [
    "It is time to turn our attention into breaking down the H* and V* queries into multiple rows, and supplying a time column to avoid missing information. The way to proceed in q would be to use functional qsql to select the columns that follow the previous patterns, but we are going to take advantage of the fact that the q code in pykx is introduced through Strings to avoid it:"
   ]
  },
  {
   "cell_type": "code",
   "execution_count": 102,
   "id": "70c0035f",
   "metadata": {},
   "outputs": [],
   "source": [
    "def functionalSearch(cols, pattern, func):\n",
    "  xcols = cols[kx.q.where(kx.q.like(cols, pattern))]\n",
    "  xstring = func.format(kx.q.sv(b\";\", kx.q.string(xcols)).py().decode(\"utf-8\"))\n",
    "  return xcols, xstring"
   ]
  },
  {
   "cell_type": "markdown",
   "id": "59bf67ca",
   "metadata": {},
   "source": [
    "The above function receives a list of columns, a pattern to search for, and a function q in string format that passes as an argument the columns found following that pattern in qSQL format (where columns are accessed with their names and not with a symbol). Applying this to all columns starting with *\"H\"* returns these columns as a vector of Symbols and in a String these columns in qSQL format:"
   ]
  },
  {
   "cell_type": "code",
   "execution_count": 103,
   "id": "9fef49ac",
   "metadata": {},
   "outputs": [
    {
     "name": "stdout",
     "output_type": "stream",
     "text": [
      "Columns found:  `H01`H02`H03`H04`H05`H06`H07`H08`H09`H10`H11`H12`H13`H14`H15`H16`H17`H18`H19`..\n",
      "Qsql function:  H01;H02;H03;H04;H05;H06;H07;H08;H09;H10;H11;H12;H13;H14;H15;H16;H17;H18;H19;H20;H21;H22;H23;H24\n"
     ]
    }
   ],
   "source": [
    "cols = kx.q.cols(weather)\n",
    "found_columns, qsql_function = functionalSearch(cols, b'H*', \"{}\")\n",
    "\n",
    "print(\"Columns found: \", found_columns)\n",
    "print(\"Qsql function: \", qsql_function)"
   ]
  },
  {
   "cell_type": "markdown",
   "id": "6fa90983",
   "metadata": {},
   "source": [
    "This is very powerful, as it allows us to use qSQL with variables without having to use functional forms (usually complicated for first-time kdb/q developers).\n",
    "\n",
    "\n",
    "<div class=\"alert alert-block alert-info\">\n",
    "<b> Although for reasons of the post we try to stay as long as possible in pykx, the use of python entirely to form these queries in string format avoids encoding transformations.\n",
    "</div>\n"
   ]
  },
  {
   "cell_type": "markdown",
   "id": "2e53eb76",
   "metadata": {},
   "source": [
    "Let's use the above for the columns beginning **H**, which will give us the measurement value; and the columns that begin with **V**, which tell us if the measurement is valid. The function that we must use so that the measurements in column format become rows is *flip*:"
   ]
  },
  {
   "cell_type": "code",
   "execution_count": 104,
   "id": "619e676f",
   "metadata": {},
   "outputs": [],
   "source": [
    "hcols, value = functionalSearch(cols, b'H*', \"flip({})\")\n",
    "vcols, valid = functionalSearch(cols, b'V*', \"flip({})\")"
   ]
  },
  {
   "cell_type": "markdown",
   "id": "87868017",
   "metadata": {},
   "source": [
    "Now we just have to pass our built-in functions in String format to the qSQL \"update\" function, together with the 24 hours repeated the initial number of rows:"
   ]
  },
  {
   "cell_type": "code",
   "execution_count": 105,
   "id": "13c14209",
   "metadata": {},
   "outputs": [],
   "source": [
    "weather = kx.q.qsql.update(weather, columns = {'hour': 'count[i]#enlist 01:00*til 24', 'values': value, 'valid': valid})"
   ]
  },
  {
   "cell_type": "markdown",
   "id": "b5ed86f9",
   "metadata": {},
   "source": [
    "Columns starting with **H** or **V** can be removed by using the trick again to prevent functional qSQL:"
   ]
  },
  {
   "cell_type": "code",
   "execution_count": 106,
   "id": "2d2cbf09",
   "metadata": {},
   "outputs": [],
   "source": [
    "weather = kx.q.qsql.delete(weather, columns = kx.q.raze(hcols,vcols).py())"
   ]
  },
  {
   "cell_type": "markdown",
   "id": "5989a0f1",
   "metadata": {},
   "source": [
    "Let's see the result:"
   ]
  },
  {
   "cell_type": "code",
   "execution_count": 47,
   "id": "2a6c863b",
   "metadata": {},
   "outputs": [
    {
     "data": {
      "text/html": [
       "<div>\n",
       "<style scoped>\n",
       "    .dataframe tbody tr th:only-of-type {\n",
       "        vertical-align: middle;\n",
       "    }\n",
       "\n",
       "    .dataframe tbody tr th {\n",
       "        vertical-align: top;\n",
       "    }\n",
       "\n",
       "    .dataframe thead th {\n",
       "        text-align: right;\n",
       "    }\n",
       "</style>\n",
       "<table border=\"1\" class=\"dataframe\">\n",
       "  <thead>\n",
       "    <tr style=\"text-align: right;\">\n",
       "      <th></th>\n",
       "      <th>weather_station</th>\n",
       "      <th>magnitude</th>\n",
       "      <th>date</th>\n",
       "      <th>hour</th>\n",
       "      <th>value</th>\n",
       "      <th>valid</th>\n",
       "    </tr>\n",
       "  </thead>\n",
       "  <tbody>\n",
       "    <tr>\n",
       "      <th>0</th>\n",
       "      <td>108</td>\n",
       "      <td>81</td>\n",
       "      <td>2022-12-22</td>\n",
       "      <td>[0 minutes, 60 minutes, 120 minutes, 180 minut...</td>\n",
       "      <td>[270.0, 252.0, 216.0, 242.0, 239.0, 246.0, 233...</td>\n",
       "      <td>[N, N, N, N, N, N, N, N, N, N, V, V, V, V, V, ...</td>\n",
       "    </tr>\n",
       "    <tr>\n",
       "      <th>1</th>\n",
       "      <td>108</td>\n",
       "      <td>82</td>\n",
       "      <td>2022-12-22</td>\n",
       "      <td>[0 minutes, 60 minutes, 120 minutes, 180 minut...</td>\n",
       "      <td>[9.0, 8.0, 9.0, 8.0, 8.0, 8.0, 8.0, 8.0, 8.0, ...</td>\n",
       "      <td>[N, N, N, N, N, N, N, N, N, N, V, V, V, V, V, ...</td>\n",
       "    </tr>\n",
       "    <tr>\n",
       "      <th>2</th>\n",
       "      <td>108</td>\n",
       "      <td>83</td>\n",
       "      <td>2022-12-22</td>\n",
       "      <td>[0 minutes, 60 minutes, 120 minutes, 180 minut...</td>\n",
       "      <td>[94.7, 97.6, 96.6, 97.5, 97.5, 98.2, 98.8, 98....</td>\n",
       "      <td>[N, N, N, N, N, N, N, N, N, N, V, V, V, V, V, ...</td>\n",
       "    </tr>\n",
       "  </tbody>\n",
       "</table>\n",
       "</div>"
      ],
      "text/plain": [
       "   weather_station  magnitude       date  \\\n",
       "0              108         81 2022-12-22   \n",
       "1              108         82 2022-12-22   \n",
       "2              108         83 2022-12-22   \n",
       "\n",
       "                                                hour  \\\n",
       "0  [0 minutes, 60 minutes, 120 minutes, 180 minut...   \n",
       "1  [0 minutes, 60 minutes, 120 minutes, 180 minut...   \n",
       "2  [0 minutes, 60 minutes, 120 minutes, 180 minut...   \n",
       "\n",
       "                                               value  \\\n",
       "0  [270.0, 252.0, 216.0, 242.0, 239.0, 246.0, 233...   \n",
       "1  [9.0, 8.0, 9.0, 8.0, 8.0, 8.0, 8.0, 8.0, 8.0, ...   \n",
       "2  [94.7, 97.6, 96.6, 97.5, 97.5, 98.2, 98.8, 98....   \n",
       "\n",
       "                                               valid  \n",
       "0  [N, N, N, N, N, N, N, N, N, N, V, V, V, V, V, ...  \n",
       "1  [N, N, N, N, N, N, N, N, N, N, V, V, V, V, V, ...  \n",
       "2  [N, N, N, N, N, N, N, N, N, N, V, V, V, V, V, ...  "
      ]
     },
     "execution_count": 47,
     "metadata": {},
     "output_type": "execute_result"
    }
   ],
   "source": [
    "weather[:3].pd()"
   ]
  },
  {
   "cell_type": "markdown",
   "id": "6027e6b7",
   "metadata": {},
   "source": [
    "Now all we have to do is expand the table so that each element of the lists corresponds to a row:"
   ]
  },
  {
   "cell_type": "code",
   "execution_count": 107,
   "id": "d21b2f54",
   "metadata": {},
   "outputs": [],
   "source": [
    "weather = kx.q.ungroup(weather)"
   ]
  },
  {
   "cell_type": "markdown",
   "id": "02fba778",
   "metadata": {},
   "source": [
    "You can shrink the table a bit more by removing the rows that are not valid and joining the date with the time:"
   ]
  },
  {
   "cell_type": "code",
   "execution_count": 108,
   "id": "cea211df",
   "metadata": {},
   "outputs": [
    {
     "data": {
      "text/html": [
       "<div>\n",
       "<style scoped>\n",
       "    .dataframe tbody tr th:only-of-type {\n",
       "        vertical-align: middle;\n",
       "    }\n",
       "\n",
       "    .dataframe tbody tr th {\n",
       "        vertical-align: top;\n",
       "    }\n",
       "\n",
       "    .dataframe thead th {\n",
       "        text-align: right;\n",
       "    }\n",
       "</style>\n",
       "<table border=\"1\" class=\"dataframe\">\n",
       "  <thead>\n",
       "    <tr style=\"text-align: right;\">\n",
       "      <th></th>\n",
       "      <th>weather_station</th>\n",
       "      <th>magnitude</th>\n",
       "      <th>date</th>\n",
       "      <th>values</th>\n",
       "    </tr>\n",
       "  </thead>\n",
       "  <tbody>\n",
       "    <tr>\n",
       "      <th>0</th>\n",
       "      <td>108</td>\n",
       "      <td>81</td>\n",
       "      <td>2022-12-22 10:00:00</td>\n",
       "      <td>263.00</td>\n",
       "    </tr>\n",
       "    <tr>\n",
       "      <th>1</th>\n",
       "      <td>108</td>\n",
       "      <td>81</td>\n",
       "      <td>2022-12-22 11:00:00</td>\n",
       "      <td>247.83</td>\n",
       "    </tr>\n",
       "    <tr>\n",
       "      <th>2</th>\n",
       "      <td>108</td>\n",
       "      <td>81</td>\n",
       "      <td>2022-12-22 12:00:00</td>\n",
       "      <td>215.83</td>\n",
       "    </tr>\n",
       "  </tbody>\n",
       "</table>\n",
       "</div>"
      ],
      "text/plain": [
       "   weather_station  magnitude                date  values\n",
       "0              108         81 2022-12-22 10:00:00  263.00\n",
       "1              108         81 2022-12-22 11:00:00  247.83\n",
       "2              108         81 2022-12-22 12:00:00  215.83"
      ]
     },
     "execution_count": 108,
     "metadata": {},
     "output_type": "execute_result"
    }
   ],
   "source": [
    "weather = kx.q.qsql.select(weather, where = 'valid=`V')\n",
    "weather = kx.q.qsql.update(weather, columns = {'date': 'date+hour'})\n",
    "weather = kx.q.qsql.delete(weather, columns = [\"valid\", \"hour\"])\n",
    "weather[:3].pd()"
   ]
  },
  {
   "cell_type": "markdown",
   "id": "c08c664e",
   "metadata": {},
   "source": [
    "The **magnitude** column is required to give semantics to the **value**. As established by the dataset creators, the different magnitudes correspond to the items that we collect in the following dictionary:"
   ]
  },
  {
   "cell_type": "code",
   "execution_count": 109,
   "id": "8960673f",
   "metadata": {},
   "outputs": [],
   "source": [
    "magnitude = {80:\"ultraviolet\", \n",
    "             81:\"wind\", \n",
    "             82:\"direction\", \n",
    "             83:\"temperature\", \n",
    "             86:\"humidity\", \n",
    "             87:\"pressure\", \n",
    "             88:\"solar\", \n",
    "             89:\"rainfall\"}"
   ]
  },
  {
   "cell_type": "markdown",
   "id": "17b4598e",
   "metadata": {},
   "source": [
    "We just have to change the key by the value of the dictionary. Note that in the following functions an object from the Python world is being passed to a kdb/q function. If Python objects have a direct translation in q, such as dictionaries, they can be passed as attributes in pykx functions. Underneath, pykx takes care of accommodating it to q."
   ]
  },
  {
   "cell_type": "code",
   "execution_count": 110,
   "id": "b4f41683",
   "metadata": {},
   "outputs": [],
   "source": [
    "weather = kx.q('{update magnitude: x magnitude from y}', magnitude, weather)"
   ]
  },
  {
   "cell_type": "markdown",
   "id": "89f7205e",
   "metadata": {},
   "source": [
    "Finally, all you have to do is separate the different weather conditions into different columns:"
   ]
  },
  {
   "cell_type": "code",
   "execution_count": 111,
   "id": "0f8309f8",
   "metadata": {},
   "outputs": [],
   "source": [
    "weather = kx.q('{exec (value x)#magnitude!values by date,weather_station from y}',magnitude,weather)"
   ]
  },
  {
   "cell_type": "markdown",
   "id": "868d0c53",
   "metadata": {},
   "source": [
    "The query exec allows us to convert a dictionary stored in a column into multiple columns with the key as the column name and the values as the data in that column. This is useful when we create a dictionary made up of the weather conditions of each row associated with their values. By applying it and grouping we have the weather conditions in different columns for each weather entry and weather station."
   ]
  },
  {
   "cell_type": "markdown",
   "id": "f4f66186",
   "metadata": {},
   "source": [
    "### Traffic"
   ]
  },
  {
   "cell_type": "markdown",
   "id": "57573adc",
   "metadata": {},
   "source": [
    "This second table will also be loaded into the Python environment:"
   ]
  },
  {
   "cell_type": "code",
   "execution_count": 3,
   "id": "640667a6",
   "metadata": {},
   "outputs": [],
   "source": [
    "traffic = kx.q.read.csv('./12-2022.csv', types=\"IPSIIIISI\", delimiter=';')"
   ]
  },
  {
   "cell_type": "markdown",
   "id": "8bf2556c",
   "metadata": {},
   "source": [
    "We are interested in knowing the average load by date and by season, removing measurement errors. The power of qSQL allows us to do this in a single query:"
   ]
  },
  {
   "cell_type": "code",
   "execution_count": 4,
   "id": "784d59b8",
   "metadata": {},
   "outputs": [],
   "source": [
    "traffic = kx.q.qsql.select(traffic,\n",
    "                         columns = {'traffic_load': 'avg carga'},\n",
    "                         by = {\"date\":'fecha', \"traffic_station\": 'id'}, \n",
    "                         where = \"error=`N\")"
   ]
  },
  {
   "cell_type": "markdown",
   "id": "8d631421",
   "metadata": {},
   "source": [
    "### Location"
   ]
  },
  {
   "cell_type": "markdown",
   "id": "2c15aabe",
   "metadata": {},
   "source": [
    "Both traffic and weather station tables will be loaded into the environment of q:"
   ]
  },
  {
   "cell_type": "code",
   "execution_count": 11,
   "id": "512eea3f",
   "metadata": {},
   "outputs": [],
   "source": [
    "kx.q[\"weather_station\"] = kx.q.read.csv('./Estaciones_control_datos_meteorologicos.csv', types=\" IFF\", delimiter=\";\", as_table=True)\n",
    "kx.q[\"traffic_station\"] = kx.q.read.csv('./pmed_ubicacion_12-2022.csv', types = \"SII**FFFF\", delimiter = \";\", as_table=True)"
   ]
  },
  {
   "cell_type": "markdown",
   "id": "ee0d4acf",
   "metadata": {},
   "source": [
    "We can now access these objects in kdb/q functions without needing to pass them as pykx or python objects. For example, let's change the name of the columns in both tables so that they have more standard ones:"
   ]
  },
  {
   "cell_type": "code",
   "execution_count": 12,
   "id": "8daf68f3",
   "metadata": {},
   "outputs": [],
   "source": [
    "kx.q(\"weather_station:(`CODIGO_CORTO`LONGITUD`LATITUD!`weather_station`longitude`latitude)xcol weather_station\")\n",
    "_=kx.q(\"traffic_station:(`id`longitud`latitud!`traffic_station`longitude`latitude)xcol traffic_station\")"
   ]
  },
  {
   "cell_type": "markdown",
   "id": "d1991f34",
   "metadata": {},
   "source": [
    "To bring them to the Python environment, you just have to return them using q code:\n",
    "\n",
    "```python\n",
    "kx.q(\"table\")\n",
    "```\n",
    "\n",
    "Our goal is to join these two tables. There is no identifier that allows us to do a standard join. But both are located by coordinates. We can use the distance between the stations for measuring traffic and weather to join them. To calculate the distance between two coordinates, the Harvesine distance can be used. This distance is already developed in Python but it is not yet in q.\n",
    "\n",
    "One option would be to reimplement it in q, but this is not feasible for some complex libraries. Although slower, there is the alternative of passing our q objects to python and working with them. Although it is advisable to stay in q objects as long as possible, these facilities for moving from python objects to q and vice versa allow us, at least temporarily, to reuse Python code. It is also reasonable for the size of tables we are working with in this step. To introduce our q objects in this function, we can use some of the PyKX facilities to transform them into Python objects that we talked about in [Learning Pykx]()."
   ]
  },
  {
   "cell_type": "code",
   "execution_count": 116,
   "id": "727d1320",
   "metadata": {},
   "outputs": [],
   "source": [
    "from haversine import haversine_vector, Unit\n",
    "dist = kx.toq(\n",
    "            haversine_vector(kx.q('`longitude`latitude # weather_station').pd(), \n",
    "                             kx.q('`longitude`latitude # traffic_station').pd(),\n",
    "                             Unit.KILOMETERS, comb=True))"
   ]
  },
  {
   "cell_type": "markdown",
   "id": "39a176bc",
   "metadata": {},
   "source": [
    "We now have a matrix that measures the distance in kilometers for each pair of traffic and weather stations. We can select the pairs of station identifiers whose minimum distance:"
   ]
  },
  {
   "cell_type": "code",
   "execution_count": 117,
   "id": "5635b1fa",
   "metadata": {},
   "outputs": [],
   "source": [
    "ids = kx.q.each(kx.q('{first where x=min x}'), dist)\n",
    "distance_table = kx.q('{traffic_station ^ weather_station[x]}' ,  ids)\n",
    "distance_table = kx.q.qsql.delete(distance_table, columns = ['tipo_elem','distrito','cod_cent','nombre','utm_x','utm_y','longitude', 'latitude'])"
   ]
  },
  {
   "cell_type": "markdown",
   "id": "e5192188",
   "metadata": {},
   "source": [
    "This last table contains the relationship between traffic stations with their nearest weather station."
   ]
  },
  {
   "cell_type": "markdown",
   "id": "9ee7652c",
   "metadata": {},
   "source": [
    "### Final Table"
   ]
  },
  {
   "cell_type": "markdown",
   "id": "d0536dbb",
   "metadata": {},
   "source": [
    "The join of the three tables is fairly straightforward. The one of distances can be joined with any of the two by means of a simple left join. The traffic and weather ones have to be joined with asof join as they have different time intervals. Finally, two columns are added to convey the seasonality of the data to the model: time and day of the week."
   ]
  },
  {
   "cell_type": "code",
   "execution_count": 118,
   "id": "fadc13ac",
   "metadata": {},
   "outputs": [],
   "source": [
    "complete = kx.q.lj(traffic, kx.q.xkey('traffic_station', distance_table))\n",
    "complete = kx.q.aj(kx.toq(['weather_station', 'date']), complete, weather)\n",
    "complete = kx.q.qsql.update(complete,  {\"hour\":\"`hh$date\", \"weekday\":'(\"d\"$date)mod 7'})"
   ]
  },
  {
   "cell_type": "markdown",
   "id": "16a5b950",
   "metadata": {},
   "source": [
    "Let's look at this last table:"
   ]
  },
  {
   "cell_type": "code",
   "execution_count": null,
   "id": "d9b28188",
   "metadata": {},
   "outputs": [],
   "source": [
    "complete[:3].pd()"
   ]
  },
  {
   "cell_type": "markdown",
   "id": "cad1641f",
   "metadata": {},
   "source": [
    "## Model <a class=\"anchor\" id=\"t23\"></a>"
   ]
  },
  {
   "cell_type": "markdown",
   "id": "9ac73c7e",
   "metadata": {},
   "source": [
    "___\n",
    "A ver si Oscar lo consigue:\n",
    "```python\n",
    "import pykx as kx\n",
    "\n",
    "utils = '''\n",
    "    \\d .utils\n",
    "    minMaxScale:{[l] ({(x-y)%(z-y)}[;min l;max l]')l}\n",
    "'''\n",
    "\n",
    "utils_file = os.environ[\"QHOME\"] + '/utils.q'\n",
    "with open(utils_file, 'w') as f:\n",
    "    f.write(utils)\n",
    "    \n",
    "kx.q.utils.minMaxScale([1,2,3,4,5,6,7,8,9,10])\n",
    "```\n",
    "___"
   ]
  },
  {
   "cell_type": "code",
   "execution_count": 119,
   "id": "0d3cce3d",
   "metadata": {},
   "outputs": [],
   "source": [
    "kx.q(\"minMaxScale:{[l] ({(x-y)%(z-y)}[;min l;max l]')l}\")\n",
    "                  \n",
    "final = kx.q.qsql.select(complete, columns = {\"date\": \"date\",\n",
    "                                              \"traffic_station\":\"traffic_station\",\n",
    "                                              \"hour\":\"hour\", \n",
    "                                              \"weekday\": \"weekday\", \n",
    "                                              \"traffic_load\": \"traffic_load%100\", \n",
    "                                              \"temperature\":\"minMaxScale temperature\", \n",
    "                                              \"rainfall\":\"minMaxScale rainfall\"}\n",
    "                                    )"
   ]
  },
  {
   "cell_type": "markdown",
   "id": "1786da58",
   "metadata": {},
   "source": [
    "During PyKX migration from Pandas, the main hassle was to migrate the time_window function, as it relied on loops. The way we approached it was to understand the input we had, the output we needed and then think of an idiomatic way to implement it using q instead of doing a 1:1 migration, which would have probably be more costly in terms of time. In this case, our input was a table and our output was a list of matrices for each station. We created several functions that helped us during the process:"
   ]
  },
  {
   "cell_type": "markdown",
   "id": "c743da9f",
   "metadata": {},
   "source": [
    "* **sliding window**: given a matrix, x, divides it into chunks of length y:"
   ]
  },
  {
   "cell_type": "code",
   "execution_count": 152,
   "id": "abf00eb1",
   "metadata": {},
   "outputs": [],
   "source": [
    "_=kx.q(\"\"\"sw:{({y#z _x}[x;y;]')til count b:y _x}\"\"\")"
   ]
  },
  {
   "cell_type": "markdown",
   "id": "58dae1b2",
   "metadata": {},
   "source": [
    "* **get target**: For a given matrix, x, it takes the target located in the column z and the first lines are eliminated to match with the chunks length y:"
   ]
  },
  {
   "cell_type": "code",
   "execution_count": 153,
   "id": "ef7e95c9",
   "metadata": {},
   "outputs": [],
   "source": [
    "_=kx.q(\"\"\"gt:{y _(flip x)[z]}\"\"\") # gets target (in position z)"
   ]
  },
  {
   "cell_type": "markdown",
   "id": "700c8bd4",
   "metadata": {},
   "source": [
    "* **to Matrix**: Transform the table x to a matrix:"
   ]
  },
  {
   "cell_type": "code",
   "execution_count": 154,
   "id": "27a4df88",
   "metadata": {},
   "outputs": [],
   "source": [
    "_=kx.q(\"\"\"toMatrix:{({[t;i]value t[i]}[x;]')til count x:flip x}\"\"\") # / table to matrix"
   ]
  },
  {
   "cell_type": "markdown",
   "id": "9f46e870",
   "metadata": {},
   "source": [
    "* **prepareData**: Create the train and test datasets. Select the model needed columns *columns* from the table grouped by traffic station. For each traffic station it lefts *ntest* rows for test. It divide the data with chunks of length *chunkLen*. Finally it create a list of dictionaries for training data and training target (the load column) and test data target.\n",
    "    \n",
    "    First off, regardless of whether we needed the train or test output, we needed to get either the last *ntest* records or up to the last *ntest* records. Since we needed to repeat this operation for the given columns, we decided that a functional statement would be the best fit.\n",
    "\n",
    "    Once we shaped the data the way we needed, it was time to build the list of matrices. This needed to be done using a sliding window but, in order to return a list of matrices (not a list of tables), we used the **toMatrix** function to transform a table to a matrix and **sw** (sliding window) function to apply the sliding window based on a single huge matrix.\n",
    "\n",
    "    As for the y data, we used the function **gt** (get target) that returned the target (traffic load) as a list with the first *chunkLen*+1 entries removed:"
   ]
  },
  {
   "cell_type": "code",
   "execution_count": 155,
   "id": "33f3d864",
   "metadata": {},
   "outputs": [],
   "source": [
    "_=kx.q(\"\"\"\n",
    "        prepareData:{[data; ntest; chunkLen; columns; locTarget]  \n",
    "            train:(toMatrix')?[data;();`traffic_station;columns!({(y;(-;(count;x);z);x)}[;_;ntest]')columns]; \n",
    "            test:(toMatrix')?[data;();`traffic_station;columns!({(y;(-;(count;x);z);x)}[;#;ntest]')columns];                                                                               \n",
    "            (((sw[;chunkLen]')test;(gt[;chunkLen;locTarget]')test);((sw[;chunkLen]')train;(gt[;chunkLen;locTarget]')train))   \n",
    "        }\n",
    "    \"\"\")"
   ]
  },
  {
   "cell_type": "markdown",
   "id": "ded7db24",
   "metadata": {},
   "source": [
    "Lets test this function with only one station:"
   ]
  },
  {
   "cell_type": "code",
   "execution_count": 158,
   "id": "a742de1c",
   "metadata": {},
   "outputs": [],
   "source": [
    "station = kx.q.qsql.select(final, where=[\"traffic_station=3403\"])\n",
    "\n",
    "data = kx.q(\"prepareData\", estacion, 500, 5, kx.SymbolVector(['rainfall', 'traffic_load', 'hour', 'weekday']), 1)\n",
    "\n",
    "X_train, y_train = np.array(data[0][0][3403].py()), np.array(data[0][1][3403].py())\n",
    "X_test, y_test =  np.array(data[1][0][3403].py()), np.array(data[1][1][3403].py())"
   ]
  },
  {
   "cell_type": "markdown",
   "id": "f1672323",
   "metadata": {},
   "source": [
    "And now we will try this datasets with a simple LSTM model:"
   ]
  },
  {
   "cell_type": "code",
   "execution_count": 159,
   "id": "42255e80",
   "metadata": {},
   "outputs": [
    {
     "data": {
      "image/png": "[encoded data removed]",
      "text/plain": [
       "<Figure size 640x480 with 1 Axes>"
      ]
     },
     "metadata": {},
     "output_type": "display_data"
    }
   ],
   "source": [
    "from keras.models import Sequential\n",
    "from keras.layers import Dense, LSTM\n",
    "import numpy as np\n",
    "import matplotlib.pyplot as plt\n",
    "\n",
    "\n",
    "model = Sequential()\n",
    "\n",
    "model.add(LSTM(units = 50, return_sequences=False, input_shape=[None,4]))\n",
    "model.add(Dense(units = 1))\n",
    "\n",
    "model.compile(loss='mae', optimizer='adam')\n",
    "\n",
    "history = model.fit(X_train, y_train, \n",
    "                    epochs=50, batch_size=8, \n",
    "                    validation_data=(X_test, y_test), \n",
    "                    verbose=0, shuffle=False)\n",
    "\n",
    "plt.plot(history.history['loss'], label='train')\n",
    "plt.plot(history.history['val_loss'], label='test')\n",
    "\n",
    "plt.legend()\n",
    "plt.show()"
   ]
  },
  {
   "cell_type": "markdown",
   "id": "7b295129",
   "metadata": {},
   "source": [
    "We can see the performance of the model in the following graph:"
   ]
  },
  {
   "cell_type": "code",
   "execution_count": 161,
   "id": "f92a937d",
   "metadata": {},
   "outputs": [
    {
     "data": {
      "image/png": "[encoded data removed]",
      "text/plain": [
       "<Figure size 640x480 with 1 Axes>"
      ]
     },
     "metadata": {},
     "output_type": "display_data"
    }
   ],
   "source": [
    "plt.plot(y_test, label='test real')\n",
    "plt.plot(range(400,495), model.predict(X_test[400:]), verbose=0).flatten(), label='test predict')\n",
    "plt.legend()\n",
    "plt.show()"
   ]
  },
  {
   "cell_type": "markdown",
   "id": "89016d18",
   "metadata": {},
   "source": [
    "# Qholic <a class=\"anchor\" id=\"t3\"></a>"
   ]
  },
  {
   "cell_type": "markdown",
   "id": "6f89469b",
   "metadata": {},
   "source": [
    "When the team got comfortable with the kdb/q language they started using almost entirely q code through kx.q, as it was more concise. But the programming became somewhat tedious having to use Strings. This is why it was decided to jump to a q environment. But as seen in the previous chapter, there was Python code that the team couldn't port to q. For this reason it was decided to stay in pykx but this time in the q environment.\n",
    "\n",
    "pykx.q allows Python code execution on a q environment and, as a result, it opens up the door for new opportunities when dealing with existing codebases as it allows for importing and using Python libraries, both installed on the system and available as .py files.\n",
    "\n",
    "In our case we use both of these options. We will focus in this post on these opportunities to use Python code in pykx.q and leave the link to the project's [q script]() for the interested reader.\n",
    "\n",
    "First, we want to execute the `haversine_vector` function to measure the distance between coordinates. Since it's not available on q, we decided to use pykx.q to incorporate this library straight into our q code with these lines:\n",
    "\n",
    "```q\n",
    ".pykx.pyexec\"from haversine import haversine_vector, Unit\";\n",
    "```\n",
    "\n",
    "This function expects two Pandas DataFrames as input, so we need to change the default conversion type from \"np\" or Numpy to \"pd\" or Pandas:\n",
    "\n",
    "```q\n",
    ".pykx.setdefault\"pd\";\n",
    "```\n",
    "\n",
    "Having done this, we can \"move\" our input variables to the Python memory space using `.pykx.set`\n",
    "\n",
    "```q\n",
    ".pykx.set[`a;`longitude`latitude#a];\n",
    ".pykx.set[`b;`longitude`latitude#b];\n",
    "```\n",
    "\n",
    "And finally execute our function\n",
    "\n",
    "```q\n",
    "(.pykx.eval\"haversine_vector(a, b, Unit.KILOMETERS, comb=True)\")`\n",
    "```\n",
    "\n",
    "Notice the backtick at the end, this is for converting back to a q type.\n",
    "\n",
    "\n",
    "\n",
    "The other way we can run Python code is to load a .py (renamed to .p) file using `\\l`. This could be done as follows:\n",
    "\n",
    "```q\n",
    "system\"l kerasmodel.p\";\n",
    "```\n",
    "\n",
    "Here we have defined two functions named `fit` and `predict`. We can load them and use them like this:\n",
    "\n",
    "```q\n",
    "modelfit:.pykx.get`fit;\n",
    "modelfit[train[0][3403];train[1][3403];test[0][3403];test[1][3403]];\n",
    "modelpredict:.pykx.get`predict;\n",
    "res:modelpredict[train[0][3403]];\n",
    "```"
   ]
  }
 ],
 "metadata": {
  "kernelspec": {
   "display_name": "Python 3 (ipykernel)",
   "language": "python",
   "name": "python3"
  },
  "language_info": {
   "codemirror_mode": {
    "name": "ipython",
    "version": 3
   },
   "file_extension": ".py",
   "mimetype": "text/x-python",
   "name": "python",
   "nbconvert_exporter": "python",
   "pygments_lexer": "ipython3",
   "version": "3.8.16"
  }
 },
 "nbformat": 4,
 "nbformat_minor": 5
}
