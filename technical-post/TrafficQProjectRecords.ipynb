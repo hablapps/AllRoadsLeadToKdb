{
 "cells": [
  {
   "cell_type": "markdown",
   "id": "d35109bf",
   "metadata": {},
   "source": [
    "# The Project <a class=\"anchor\" id=\"t1\"></a>\n",
    "\n",
    "One year ago we embark on a new project in Mad Flow. It continues the roadmap of the company to improve the quality of life in Madrid. The objective was to forecast the traffic in the city and to show it in an interface in real time so that citizens can better plan their route. Traffic analysis has become an indispensable task in smart cities. Having a better knowledge of the traffic allows a better organization and governance of the roads. \n",
    "\n",
    "In addition, we studied the possibility of including other data such as precipitation or temperature  for better predictions. The data provided by sensors in smart cities are usually heterogeneous. In the case of the city of Madrid in Spain, there are climatic and traffic data that cover the entire center of the city.\n",
    "\n",
    "Testing the model we found an important performance limitation. The infrastructure was slow and unwieldy when incorporating new traffic data-sets or building new insights quickly what is essential in the project. To move forward with the project, a change in implementation was necessary.\n",
    "\n",
    "We found a solution to our problem: Kdb+/q by KX. This platform is extremely fast and flexible and allows data processing in real time. It also has PyKX, an open-source library that is designed to be friendly with Python programmers (essential in Mad Cool).\n",
    "\n",
    "In this technical report we present how the migration of the code to the KX platforms was carried out. But first we'll talk about the use case and the code we already have.\n",
    "\n",
    "<div class=\"alert alert-block alert-info\">\n",
    "<b> 🔍 You can find <a href=\"https://github.com/hablapps/AllRoadsLeadToPyKX/blob/Python-Version-Pre/AllRoadsLeadToPyKX.md\">Original Python Project</a> in Github. \n",
    "</div>"
   ]
  },
  {
   "cell_type": "markdown",
   "id": "11799390",
   "metadata": {},
   "source": [
    "**Index**\n",
    "\n",
    "[**The project**](#t1)   \n",
    "  [**The Use Case**](#t11)   \n",
    "  [**The Data**](#t12)   \n",
    "  [**The Cleaning**](#t13)   \n",
    "  [**The Final Table**](#t14)   \n",
    "  [**The Interpretation**](#t15)   \n",
    "[**PyKX migration:** ](#ID2)   \n",
    "  [**PyKX saving the day!**](#t12)   \n",
    "  [**Datasets**](#t13)   \n",
    "  [**Model**](#t14)   \n",
    "[**Q Migration:**](#ID2)   \n",
    "  [**Qholic**](#t12)   \n",
    "  [**Datasets**](#t13)   \n",
    "  [**Model**](#t14)    \n"
   ]
  },
  {
   "cell_type": "markdown",
   "id": "eb836225",
   "metadata": {},
   "source": [
    "## The Use Case\n",
    "\n",
    "The objective of the code is to prepare and join the traffic and weather data to be ingested by an LSTM model.\n",
    "\n",
    "Although this project is novel in the city of Madrid, there are many articles that support it. For example, [F. Malik et al.](https://www.mdpi.com/1424-8220/20/13/3749) forecasted traffic in Madrid based on air pollution through a model based on LSTM.\n",
    "\n",
    "On the dependence of the weather on traffic there are many studies, especially focused on rainfall. None of the studies are carried out in Madrid, but in several large cities such as Manchester ([A. Essien et al.](https://pure.manchester.ac.uk/ws/portalfiles/portal/72721911/DEXA_Camera_8_pages.pdf)), Shenzhen ([Y. Yao et al.](https://ieeexplore.ieee.org/document/8964560)), Belgrade ([M. Vidas et al.](https://www.safetylit.org/citations/index.php?fuseaction=citations.viewdetails&citationIds[]=citjournalarticle_716898_14)). The results of these studies predict a 5-15% increase in traffic volume on weekdays during peak hours."
   ]
  },
  {
   "cell_type": "markdown",
   "id": "9d533e40",
   "metadata": {},
   "source": [
    "## The Data"
   ]
  },
  {
   "cell_type": "markdown",
   "id": "ad8b1a79",
   "metadata": {},
   "source": [
    "Madrid weather and traffic data are offered by the [Madrid City Council](https://datos.madrid.es/portal/site/egob). These datasets include live and historical records. For model ingestion we only need the historical data. This data, which is in csv format, is divided into months from the year 2018 to the present.\n",
    "\n",
    "**Weather**\n",
    "\n",
    "[Weather data](https://datos.madrid.es/portal/site/egob/menuitem.3efdb29b813ad8241e830cc2a8a409a0/?vgnextoid=4950cc720ba29610VgnVCM2000001f4a900aRCRD&vgnextchannel=102612b9ace9f310VgnVCM100000171f5a0aRCRD&vgnextfmt=default)  is captured by stations located throughout the city of Madrid. It looks like the following table:\n",
    "\n",
    "|    |   weather_station |   magnitud |   year |   month |   day |    H01 | V01   | ...|\n",
    "|---:|------------------:|-----------:|-------:|--------:|------:|-------:|------:|:------|\n",
    "|  0 |               108 |         81 |   2022 |      12 |    22 |  270   | N     | ...|\n",
    "|  1 |               108 |         82 |   2022 |      12 |    22 |    9   | N     |...|\n",
    "|  2 |               108 |         83 |   2022 |      12 |    22 |   94.7 | N     |...|\n",
    "|  3 |               108 |         86 |   2022 |      12 |    22 | 1031   | N     |...|\n",
    "|  4 |               108 |         87 |   2022 |      12 |    22 |    2   | N     |...|\n",
    "\n",
    "\n",
    "In the documentation they tell us that the magnitude column indicates what type of meteorological data has been taken in the row:\n",
    "\n",
    "    · 80: ultraviolet\n",
    "    · 81: wind\n",
    "    · 82: direction\n",
    "    · 83: temperature\n",
    "    · 86: humidity\n",
    "    · 87: pressure\n",
    "    · 88: solar\n",
    "    · 89: rainfall\n",
    "    \n",
    "Then we have two columns for each hour so that the first tells us the value for the data type specified by the magnitude column and if the result is valid or not. We also have columns related to the time in which the measurement is taken. Finally, there is the identifier of the meteorological station which we can connect with its coordinates using this other [table](https://datos.madrid.es/portal/site/egob/menuitem.c05c1f754a33a9fbe4b2e4b284f1a5a0/?vgnextoid=2ac5be53b4d2b610VgnVCM2000001f4a900aRCRD&vgnextchannel=374512b9ace9f310VgnVCM100000171f5a0aRCRD&vgnextfmt=default) provided by the Madrid city council:\n",
    "\n",
    "|    |   weather_station |   Longitude |   Latitude |\n",
    "|---:|------------------:|------------:|-----------:|\n",
    "|  0 |                 4 |    -3.71226 |    40.4239 |\n",
    "|  1 |                 8 |    -3.68232 |    40.4216 |\n",
    "|  2 |                16 |    -3.63924 |    40.44   |\n",
    "|  3 |                18 |    -3.73184 |    40.3948 |\n",
    "|  4 |                24 |    -3.74734 |    40.4194 |"
   ]
  },
  {
   "cell_type": "markdown",
   "id": "85a71c52",
   "metadata": {},
   "source": [
    "**Traffic**\n",
    "\n",
    "Traffic sensors are located at traffic lights in the city of Madrid. The data obtained is made up of several measurements of the road situation such as speed or traffic volume. All of these metrics are coded into the \"load\" metric (a percentage that measures congestion). The [traffic table](https://datos.madrid.es/portal/site/egob/menuitem.c05c1f754a33a9fbe4b2e4b284f1a5a0/?vgnextoid=02f2c23866b93410VgnVCM1000000b205a0aRCRD&vgnextchannel=374512b9ace9f310VgnVCM100000171f5a0aRCRD) head is:\n",
    "\n",
    "|    |   traffic_station | tipo_elem   |   intensidad |   ocupacion |   load |   vmed | error   |   periodo_integracion | date                |\n",
    "|---:|------------------:|:------------|-------------:|------------:|-------:|-------:|:--------|----------------------:|:--------------------|\n",
    "|  0 |              1001 | M30         |         3240 |           9 |      0 |     59 | N       |                     5 | 2022-12-01 00:00:00 |\n",
    "|  1 |              1001 | M30         |         3240 |           9 |      0 |     59 | N       |                     5 | 2022-12-01 00:15:00 |\n",
    "|  2 |              1001 | M30         |          300 |           1 |      0 |     66 | N       |                     5 | 2022-12-01 00:30:00 |\n",
    "\n",
    "\n",
    "The table also contains a column for the date and another that identifies the sensor that will be used to link it with its coordinates using the following [table](https://datos.madrid.es/portal/site/egob/menuitem.c05c1f754a33a9fbe4b2e4b284f1a5a0/?vgnextoid=ee941ce6ba6d3410VgnVCM1000000b205a0aRCRD&vgnextchannel=374512b9ace9f310VgnVCM100000171f5a0aRCRD):\n",
    "\n",
    "|    | \"tipo_elem\"   |   \"distrito\" |   \"id\" | \"cod_cent\"   | \"nombre\"                                                          |   \"utm_x\" |     \"utm_y\" |   Longitude |   Latitude |\n",
    "|---:|:--------------|-------------:|-------:|:-------------|:------------------------------------------------------------------|----------:|------------:|------------:|-----------:|\n",
    "|  0 | \"URB\"         |            4 |   3840 | \"01001\"      | \"Jose Ortega y Gasset E-O - Pº Castellana-Serrano\"                |    441615 | 4.47577e+06 |    -3.68832 |    40.4305 |\n",
    "|  1 | \"URB\"         |            4 |   3841 | \"01002\"      | \"Jose Ortega y Gasset O-E - Serrano-Pº Castellana\"                |    441706 | 4.47577e+06 |    -3.68726 |    40.4305 |\n",
    "|  2 | \"URB\"         |            1 |   3842 | \"01003\"      | \"Pº Recoletos N-S - Almirante-Prim\"                               |    441319 | 4.47484e+06 |    -3.69173 |    40.4221 |"
   ]
  },
  {
   "cell_type": "markdown",
   "id": "b5595912",
   "metadata": {},
   "source": [
    "## The Cleaning"
   ]
  },
  {
   "cell_type": "markdown",
   "id": "1ed6981f",
   "metadata": {},
   "source": [
    "Once the data has been loaded, we prepared the data to be used in the analysis and the model. As we are dealing with heterogeneous datasets, the cleaning of the data will be done independently and the data will be assembled a single table later."
   ]
  },
  {
   "cell_type": "markdown",
   "id": "201ec59c",
   "metadata": {},
   "source": [
    "#### Weather\n",
    "\n",
    "1. In the weather dataset we have the date separated into day, month and year, but in traffic all these data are together. This is why the columns have been grouped into a date column of shape: ```day-month-year```. \n",
    "\n",
    "2. We also transform each hour value measurement and its validity into independent rows and we take the opportunity to remove invalid measurements:\n",
    "\n",
    "|       | hour            |   value |\n",
    "|------:|:----------------|--------:|\n",
    "|     0 | 0 days 00:00:00 |    7.1  |\n",
    "|     1 | 0 days 00:00:00 |    6.8  |\n",
    "|     2 | 0 days 00:00:00 |    2.8  |\n",
    "|     3 | 0 days 00:00:00 |    5.6  |\n",
    "\n",
    "3. To homogenize the time measure with the traffic table we join the date with the time. The new date shape is ```date-month-year hour:minute:second```\n",
    "\n",
    "4. Finally, to have more organized data, we convert the different types of measurement into columns:\n",
    "\n",
    "|      | date                |   weather_station |   direction |   humidity |   pressure |   rainfall |   solar |   temperature |   wind |\n",
    "|-----:|:--------------------|------------------:|------------:|-----------:|-----------:|-----------:|--------:|--------------:|-------:|\n",
    "|    0 | 2022-12-01 00:00:00 |                 4 |           0 |          0 |          0 |        0   |       0 |           7.1 |   0    |\n",
    "|    1 | 2022-12-01 00:00:00 |                 8 |           0 |         67 |          0 |        0   |       0 |           9.4 |   0    |\n",
    "|    2 | 2022-12-01 00:00:00 |                16 |           0 |         73 |          0 |        0   |       0 |           8.9 |   0    |"
   ]
  },
  {
   "cell_type": "markdown",
   "id": "b11eba75",
   "metadata": {},
   "source": [
    "#### Traffic\n",
    "\n",
    "1. The rows where the data collection has had an error are eliminated, for this we filter the values without measurement errors. In the documentation they tell us that these values are represented with an \"N\". \n",
    "\n",
    "2. We only keep the load measurement, which is what we are interested in for the analysis.\n",
    "\n",
    "3. Since the measurements of the sensors are taken every 15 minutes, we group the values for each hour and calculate the average so that it matches the weather table:\n",
    "\n",
    "|    | date                |   traffic_station |   load |\n",
    "|---:|:--------------------|------------------:|-------:|\n",
    "|  0 | 2022-12-01 00:00:00 |              1001 |      0 |\n",
    "|  1 | 2022-12-01 00:00:00 |              1002 |      0 |\n",
    "|  2 | 2022-12-01 00:00:00 |              1003 |      0 |\n",
    "|  3 | 2022-12-01 00:00:00 |              1006 |      0 |\n",
    "|  4 | 2022-12-01 00:00:00 |              1009 |      0 |"
   ]
  },
  {
   "cell_type": "markdown",
   "id": "7b08e2ee",
   "metadata": {},
   "source": [
    "The average time for loading and processing a month of traffic information is **43.9 s**. The team is concerned about the slowness and the possible effect it will have on real-time data processing."
   ]
  },
  {
   "cell_type": "markdown",
   "id": "2ef0c022",
   "metadata": {},
   "source": [
    "**Location**\n",
    "\n",
    "To join the two previous tables we need to know which traffic sensors correspond to the weather stations. To do this you can use a distance matrix and find the closest pairs. You could measure this distance directly with the coordinates. But to make the distances clearer, the Haversine distance was used, which calculates the distance in meters between a pair of coordinates. It can be seen in the next heatmap that these distances are between 0 and 20 km:\n",
    "\n",
    "<figure>\n",
    "<img src=\"files/image_source/heatmap3.png\">\n",
    "<figcaption style = \"text-align: center\"> <b>Figure 1:</b> Heatmap of distances in km between weather and traffic stations </figcaption>\n",
    "</figure>\n"
   ]
  },
  {
   "cell_type": "markdown",
   "id": "6ba88abe",
   "metadata": {},
   "source": [
    "## The Final Table <a class=\"anchor\" id=\"t14\"></a>"
   ]
  },
  {
   "cell_type": "markdown",
   "id": "3f40bba9",
   "metadata": {},
   "source": [
    "Once we have prepared the 3 tables -weather, traffic and distance- we put them together. And, finally, we can add the information of the time and the day of the week to study its dependence on the traffic load.\n",
    "\n",
    "|    | date                |   traffic_station |   load |   Distance |   Closest |   weather_station |   direction |   humidity |   pressure |   rainfall |   solar |   temperature |   wind |   weekday |   hour |\n",
    "|---:|:--------------------|------------------:|-------:|-----------:|----------:|------------------:|------------:|-----------:|-----------:|-----------:|--------:|--------------:|-------:|----------:|-------:|\n",
    "|  0 | 2022-12-01 00:00:00 |              1001 |      0 |         15 |         1 |                 8 |           0 |         67 |          0 |          0 |       0 |           9.4 |      0 |         3 |      0 |\n",
    "|  1 | 2022-12-01 00:00:00 |              1002 |      0 |         15 |         1 |                 8 |           0 |         67 |          0 |          0 |       0 |           9.4 |      0 |         3 |      0 |\n",
    "|  2 | 2022-12-01 00:00:00 |              1003 |      0 |         14 |         1 |                 8 |           0 |         67 |          0 |          0 |       0 |           9.4 |      0 |         3 |      0 |\n",
    "|  3 | 2022-12-01 00:00:00 |              1006 |      0 |         15 |         1 |                 8 |           0 |         67 |          0 |          0 |       0 |           9.4 |      0 |         3 |      0 |\n",
    "|  4 | 2022-12-01 00:00:00 |              1009 |      0 |         14 |         0 |                 4 |           0 |          0 |          0 |          0 |       0 |           7.1 |      0 |         3 |      0 |"
   ]
  },
  {
   "cell_type": "markdown",
   "id": "0426173c",
   "metadata": {},
   "source": [
    "## Data interpretation"
   ]
  },
  {
   "cell_type": "markdown",
   "id": "8a676cf6",
   "metadata": {},
   "source": [
    "Several studies were carried out to find out what time variables could be interesting to add to the model. In the first place, since traffic is so dependent on time, the measurements will be filtered to obtain the days of the week and the hours where there is usually more traffic. This will make it easier for the test model to learn. School days tend to have more traffic than holidays. Just as there is usually more traffic during the day than at night. In the following figure we can verify that the data have a strong seasonality:\n",
    "\n",
    "<table>\n",
    "    <tr>\n",
    "    <td style='text-align:center;'>\n",
    "<figure>\n",
    "<img src=\"files/image_source/loadperhour.png\">\n",
    "<figcaption style = \"text-align: center\">   <b>Figure 2:</b> Load per Hour </figcaption>\n",
    "</figure>\n",
    " </td>\n",
    "    <td>\n",
    "<figure>\n",
    "<img src=\"files/image_source/loadperweekday.png\">\n",
    "<figcaption style = \"text-align: center\">   <b>Figure 3:</b> Load per Weekday </figcaption>\n",
    "</figure>\n",
    "            </td>\n",
    "    </tr>\n",
    "</table>\n",
    "\n",
    "We keep the data between 10 a.m. and 8 p.m., from Monday to Friday, for the rest of the project.\n",
    "\n",
    "Regarding the Rainfall-Load dependency ee started seeing that rainy days are very few:\n",
    "\n",
    "|       |       rainfall |\n",
    "|:------|---------------:|\n",
    "| count | 841068         |\n",
    "| mean  |      0.0130932 |\n",
    "| std   |      0.194232  |\n",
    "| min   |      0         |\n",
    "| 50%   |      0         |\n",
    "| 90%   |      0         |\n",
    "| 99.9% |      2.9       |\n",
    "| max   |     10.9       |\n",
    "\n",
    "We can see in the percentiles of the precipitation column that there are very few recordings with rain. This is why the measurements were divided into different classes depending on the level of rain and we did a separate analysis for the data with heavy rain, moderate to moderate and no rain. The analysis was done hourly to avoid the temporal dependence of the load. We can verify this in the following table, where the average increase in hours of traffic congestion with rain can go from 5% to 14%, which agrees with the studies presented in [Some Reading](#t12).\n",
    "\n",
    "<figure>\n",
    "<img src=\"files/image_source/rainfall.png\">\n",
    "<figcaption style = \"text-align: center\"> <b>Figure 4:</b> The average traffic load per hour for the measurements with heavy rain (blue), moderate rain (brown) and no rain (green).</figcaption>\n",
    "</figure>\n",
    "\n",
    "To verify that these differences between groups are significant, we can do an anova test. And we see that in all hours there is great evidence that the load is different between the different types of rain. For example, for hour 12:\n",
    "\n",
    "|             |          sum_sq |    df |        F |       PR(>F) |\n",
    "|:------------|----------------:|------:|---------:|-------------:|\n",
    "| C(rainfall) | 37650.7         |     6 |  20.1144 |   1.3346e-23 |\n",
    "| Residual    |     8.01363e+06 | 25687 | nan      | nan          |\n",
    "\n",
    "It was decided to include precipitation within the model. The rest of the meteorological conditions did not give such a clear result, so they will be left out."
   ]
  },
  {
   "cell_type": "markdown",
   "id": "bb6d2440",
   "metadata": {},
   "source": [
    "## Month 6:  Playing with the Model"
   ]
  },
  {
   "cell_type": "markdown",
   "id": "551df2c9",
   "metadata": {},
   "source": [
    "To check the performance we created a toy model using a simple LSTM with 5 steps back to forecast the load at a single station. The input includes only the 5 steps prior to the prediction of the load, the rain, the time and the day of the week. The results for a single station seem quite positive as can be seen in [Graph 6](#Image61). But the temporary cost for a single station and a single month is unaffordable for the project budget. Also, the pre-processing takes too long for the final application in real time.\n",
    "\n",
    "<table> <a class=\"anchor\" id=\"Image61\"></a>\n",
    "    <tr>\n",
    "    <td style='text-align:center;'>\n",
    "<figure>\n",
    "<img src=\"files/image_source/loss_python.png\">\n",
    "<figcaption style = \"text-align: center\">   <b>Figure 5:</b> Train vs Test loss plot  </figcaption>\n",
    "</figure>\n",
    " </td>\n",
    "    <td>\n",
    "<figure>\n",
    "<img src=\"files/image_source/test_python.png\">\n",
    "<figcaption style = \"text-align: center\">   <b>Figure 6:</b> Traffic Forecasting for a traffic station </figcaption>\n",
    "</figure>\n",
    "            </td>\n",
    "    </tr>\n",
    "</table>\n"
   ]
  },
  {
   "cell_type": "markdown",
   "id": "caff5679",
   "metadata": {},
   "source": [
    "# PyKX migration"
   ]
  },
  {
   "cell_type": "markdown",
   "id": "95eaf454",
   "metadata": {},
   "source": [
    "RESUMEN DEL CAPITULO"
   ]
  },
  {
   "cell_type": "markdown",
   "id": "07e17dcb",
   "metadata": {},
   "source": [
    "## Learning PyKX "
   ]
  },
  {
   "cell_type": "markdown",
   "id": "591d51ed",
   "metadata": {},
   "source": [
    "Before starting the project, the Mad Flow team received training from Habla Computing on q and PyKX. After this introduction to KX platforms, some of the developers fell in love with q, while others felt more comfortable in the Python ecosystem. PyKX is designed so that these two profiles coexist in the same development environment. The team has made a compilation of perspectives, some more pythonic and others more qtonic, with which they feel more comfortable programming:\n",
    "\n",
    "* **NOMBRE GUAY 1:  [Useful Read/Write Functions](https://code.kx.com/pykx/1.6/api/read.html)**\n",
    "\n",
    ">*\"PyKX offers several functions that help loading and writing data, they are very versatile and the parameters are very intuitive.\"*"
   ]
  },
  {
   "cell_type": "code",
   "execution_count": 65,
   "id": "aa666753",
   "metadata": {},
   "outputs": [],
   "source": [
    "import pykx as kx\n",
    "traffic_station = kx.q.read.csv('./pmed_ubicacion_12-2022.csv', types = \"SII**FFFF\", delimiter = \";\", as_table=True)"
   ]
  },
  {
   "cell_type": "markdown",
   "id": "82a983a2",
   "metadata": {},
   "source": [
    "* **NOMBRE GUAY 2: [Use pythonic indexing](https://code.kx.com/pykx/1.6/user-guide/fundamentals/indexing.html)**\n",
    "\n",
    "> *\"Accessing data from q objects such as lists or tables from python can be done with indexing similar to what you can use in numpy or pandas. This has made my job much easier.\"*"
   ]
  },
  {
   "cell_type": "code",
   "execution_count": 50,
   "id": "798002d2",
   "metadata": {},
   "outputs": [
    {
     "name": "stdout",
     "output_type": "stream",
     "text": [
      "40.4305 40.43052 40.42213 40.42143 40.43378\n"
     ]
    }
   ],
   "source": [
    "elem = traffic_station[\"tipo_elem\"]\n",
    "lat = traffic_station[\"latitud\"]\n",
    "print(lat[:5])"
   ]
  },
  {
   "cell_type": "markdown",
   "id": "ae6530c0",
   "metadata": {},
   "source": [
    "* **NOMBRE GUAY 3: [Use q functions]()**\n",
    "\n",
    "> *\"For those like me who want to delve into the q language and gain experience, you can use language functions, ...*"
   ]
  },
  {
   "cell_type": "code",
   "execution_count": 76,
   "id": "b00c6db5",
   "metadata": {},
   "outputs": [
    {
     "name": "stdout",
     "output_type": "stream",
     "text": [
      "`URB`other`M30\n"
     ]
    }
   ],
   "source": [
    "distinct = kx.q(\"distinct\", elem) # unique values in the list\n",
    "print(distinct) "
   ]
  },
  {
   "cell_type": "markdown",
   "id": "1f7654a4",
   "metadata": {},
   "source": [
    "> *iterate over them*"
   ]
  },
  {
   "cell_type": "code",
   "execution_count": 77,
   "id": "647bbb30",
   "metadata": {},
   "outputs": [
    {
     "name": "stdout",
     "output_type": "stream",
     "text": [
      "`urb`other`m30\n"
     ]
    }
   ],
   "source": [
    "print(kx.q(\"lower\").each(distinct)) # lower case unique values of the list"
   ]
  },
  {
   "cell_type": "markdown",
   "id": "8093068d",
   "metadata": {},
   "source": [
    ">*or even create them, and use them with pykx objects.\"*"
   ]
  },
  {
   "cell_type": "code",
   "execution_count": 68,
   "id": "34e72eb5",
   "metadata": {},
   "outputs": [
    {
     "name": "stdout",
     "output_type": "stream",
     "text": [
      "URB  | 4266\r\n",
      "other| 128\r\n",
      "M30  | 296\n"
     ]
    }
   ],
   "source": [
    "print(kx.q(\"{u !(sum x=) each u:distinct x}\", elem)) # Count the occurrences of distinct values"
   ]
  },
  {
   "cell_type": "markdown",
   "id": "e4bdaaad",
   "metadata": {},
   "source": [
    "* **NOMBRE GUAY 4: Use [Numpy](https://code.kx.com/pykx/1.6/user-guide/advanced/numpy.html) and  [Pandas](https://code.kx.com/pykx/1.6/user-guide/advanced/Pandas_API.html)**\n",
    "\n",
    "> *\"Those of us who are not yet so familiar with the ecosystem that we can continue using part of the functionality of Numpy...*"
   ]
  },
  {
   "cell_type": "code",
   "execution_count": 24,
   "id": "a1d89a0e",
   "metadata": {},
   "outputs": [
    {
     "data": {
      "text/plain": [
       "40.42870774510621"
      ]
     },
     "execution_count": 24,
     "metadata": {},
     "output_type": "execute_result"
    }
   ],
   "source": [
    "import numpy as np\n",
    "np.mean(lat)"
   ]
  },
  {
   "cell_type": "markdown",
   "id": "040578ff",
   "metadata": {},
   "source": [
    ">*\"... and from pandas via the Pandas API.*"
   ]
  },
  {
   "cell_type": "code",
   "execution_count": 64,
   "id": "e5270e38",
   "metadata": {},
   "outputs": [
    {
     "name": "stdout",
     "output_type": "stream",
     "text": [
      "tipo_elem distrito id   cod_cent nombre                                      ..\r\n",
      "-----------------------------------------------------------------------------..\r\n",
      "URB       4        3840 \"01001\"  \"Jose Ortega y Gasset E-O - P\\302\\272 Castel..\r\n",
      "URB       4        3840 \"01001\"  \"Jose Ortega y Gasset E-O - P\\302\\272 Castel..\r\n",
      "URB       4        3840 \"01001\"  \"Jose Ortega y Gasset E-O - P\\302\\272 Castel..\r\n",
      "URB       4        3840 \"01001\"  \"Jose Ortega y Gasset E-O - P\\302\\272 Castel..\r\n",
      "URB       4        3840 \"01001\"  \"Jose Ortega y Gasset E-O - P\\302\\272 Castel..\n"
     ]
    }
   ],
   "source": [
    "import os\n",
    "os.environ['PYKX_ENABLE_PANDAS_API'] = 'true'\n",
    "import pykx as kx\n",
    "import numpy as np\n",
    "import pandas as pd\n",
    "\n",
    "print(traffic_station[traffic_station[\"tipo_elem\"]==\"other\"][:5]) # filter rows where the values of a column meet a condition"
   ]
  },
  {
   "cell_type": "markdown",
   "id": "c8fc545e",
   "metadata": {},
   "source": [
    "\n",
    "<div class=\"alert alert-block alert-info\">\n",
    "<b>To use it we only have to import numpy and pandas and activate a flag. Pandas API is still in the development phase, so it does not yet have all the functions of Pandas. More information in <a href=\"https://code.kx.com/pykx/1.6/user-guide/advanced/Pandas_API.html\"> Pandas API </a> . \n",
    "</div>\n",
    "    \n",
    "    \n"
   ]
  },
  {
   "cell_type": "markdown",
   "id": "7cca2854",
   "metadata": {},
   "source": [
    "* **NOMBRE GUAY 5: Use [qSQL querys](https://code.kx.com/pykx/1.6/api/query.html)**\n",
    "\n",
    "> *\"SQL queries are very powerful and concise at the same time. PyKX allows you to query PyKX objects as well as API functions...* "
   ]
  },
  {
   "cell_type": "code",
   "execution_count": 83,
   "id": "115f7210",
   "metadata": {},
   "outputs": [
    {
     "name": "stdout",
     "output_type": "stream",
     "text": [
      "name        \r\n",
      "------------\r\n",
      "\"03FL08PM01\"\r\n",
      "\"03FL08PM02\"\r\n",
      "\"03FL20PM01\"\r\n",
      "\"03FL56PM01\"\r\n",
      "\"03FT08PM01\"\n"
     ]
    }
   ],
   "source": [
    "print(kx.q.qsql.select(traffic_station, {\"name\":\"5 # nombre\"}, where=\"tipo_elem = `other\")) # filter rows where the values of a column meet a condition"
   ]
  },
  {
   "cell_type": "markdown",
   "id": "6ed96f74",
   "metadata": {},
   "source": [
    "> *...or using our own functions q.\"*"
   ]
  },
  {
   "cell_type": "code",
   "execution_count": 82,
   "id": "43f4ff43",
   "metadata": {},
   "outputs": [
    {
     "name": "stdout",
     "output_type": "stream",
     "text": [
      "name        \r\n",
      "------------\r\n",
      "\"03FL08PM01\"\r\n",
      "\"03FL08PM02\"\r\n",
      "\"03FL20PM01\"\r\n",
      "\"03FL56PM01\"\r\n",
      "\"03FT08PM01\"\n"
     ]
    }
   ],
   "source": [
    "print(kx.q(\"{select name:5#nombre from x where tipo_elem = `other}\", traffic_station)) # filter rows where the values of a column meet a condition"
   ]
  },
  {
   "cell_type": "markdown",
   "id": "5001346c",
   "metadata": {},
   "source": [
    "* **NOMBRE GUAY 6: Use [SQL querys](https://code.kx.com/pykx/1.6/api/query.html)**"
   ]
  },
  {
   "cell_type": "markdown",
   "id": "bd4dc513",
   "metadata": {},
   "source": [
    ">*\"Whoa! PyKx lets you use SQL queries too!\"*"
   ]
  },
  {
   "cell_type": "code",
   "execution_count": null,
   "id": "e05642a1",
   "metadata": {},
   "outputs": [],
   "source": [
    "kx.q.sql(\"select top 5 nombre from $1 where tipo_elem=`other\", traffic_station)"
   ]
  },
  {
   "cell_type": "markdown",
   "id": "05ce9bde",
   "metadata": {},
   "source": [
    "* **6. Contexto Q**\n",
    "\n",
    "> *\"I'm more comfortable programming in q, so I work in the context of q. PYKX objects can be passed into the q context and work with them as if you were in a q ecosystem:\"*"
   ]
  },
  {
   "cell_type": "code",
   "execution_count": 81,
   "id": "0b8e6323",
   "metadata": {},
   "outputs": [
    {
     "name": "stdout",
     "output_type": "stream",
     "text": [
      "name        \r\n",
      "------------\r\n",
      "\"03FL08PM01\"\r\n",
      "\"03FL08PM02\"\r\n",
      "\"03FL20PM01\"\r\n",
      "\"03FL56PM01\"\r\n",
      "\"03FT08PM01\"\n"
     ]
    }
   ],
   "source": [
    "kx.q[\"traffic_station\"] = traffic_station # Move Pykx Object to Q Context\n",
    "\n",
    "print(kx.q(\"select name:5#nombre from traffic_station where tipo_elem = `other\")) # Working with the table inside q"
   ]
  },
  {
   "cell_type": "markdown",
   "id": "5fa6eff3",
   "metadata": {},
   "source": [
    "During the development of the project some of these methods are used. The best thing is that they are fully compatible with each other, so developers can choose the one that is most comfortable for them!"
   ]
  },
  {
   "cell_type": "markdown",
   "id": "5a3b2444",
   "metadata": {},
   "source": [
    "## Load Data"
   ]
  },
  {
   "cell_type": "code",
   "execution_count": 196,
   "id": "f6aa911b",
   "metadata": {},
   "outputs": [],
   "source": [
    "weather = kx.q('.Q.id(\"  II ***\",(24*2)#\"FS\";enlist \";\")0:`$\":./dic_meteo22.csv\"')\n",
    "weather_station = kx.q.read.csv('./Estaciones_control_datos_meteorologicos.csv', types=\" IFF\", delimiter=\";\", as_table=True)\n",
    "traffic = kx.q.read.csv('./12-2022.csv', types = \"IPSIIIISI\", delimiter = \";\", as_table = True)\n",
    "traffic_station = kx.q.read.csv('./pmed_ubicacion_12-2022.csv', types = \"SII**FFFF\", delimiter = \";\", as_table=True)"
   ]
  },
  {
   "cell_type": "markdown",
   "id": "e4829814",
   "metadata": {},
   "source": [
    "## Cleaning Datasets"
   ]
  },
  {
   "cell_type": "markdown",
   "id": "897fd6b1",
   "metadata": {},
   "source": [
    "#### Weather"
   ]
  },
  {
   "cell_type": "code",
   "execution_count": 199,
   "id": "c39162c7",
   "metadata": {},
   "outputs": [],
   "source": [
    "weather = kx.q.xcol({'ANO': 'year', 'MES': 'month', 'DIA': 'day', 'ESTACION':'weather_station', 'MAGNITUD':'magnitude'}, weather)\n",
    "weather = kx.q.qsql.update(weather, columns = {'date': '\"D\"$(raze\\')flip(year;month;day)'})\n",
    "weather = kx.q.qsql.delete(weather, ['year', 'month', 'day', 'PUNTO_MUESTREO', 'PROVINCIA', 'MUNICIPIO'])"
   ]
  },
  {
   "cell_type": "code",
   "execution_count": 200,
   "id": "97d366ca",
   "metadata": {},
   "outputs": [],
   "source": [
    "cols = kx.q.cols(weather)\n",
    "def xexpr(pattern):\n",
    "  xcols = cols[kx.q.where(kx.q.like(cols, pattern))]\n",
    "  xsel = kx.q.sv(b\";\", kx.q.string(xcols)).py().decode(\"utf-8\")\n",
    "  return (xcols, 'flip(' + xsel + ')')\n",
    "\n",
    "hour = 'count[i]#enlist 01:00*til 24'\n",
    "(hcols, value) = xexpr(b'H*')\n",
    "(vcols, valid) = xexpr(b'V*')"
   ]
  },
  {
   "cell_type": "code",
   "execution_count": 201,
   "id": "8ef13814",
   "metadata": {},
   "outputs": [],
   "source": [
    "weather = kx.q.qsql.update(weather, columns = {'hour': hour, 'values': value, 'valid': valid})\n",
    "weather = kx.q.qsql.update(weather, columns = {'date': 'date+hour'})\n",
    "weather = kx.q.qsql.delete(weather, columns = kx.q.raze(hcols,vcols).py() + [\"hour\"])\n",
    "weather = kx.q.ungroup(weather)\n",
    "weather = kx.q('_', kx.q('1#`VALID'), kx.q.qsql.select(weather, where = 'valid=`V'))"
   ]
  },
  {
   "cell_type": "code",
   "execution_count": 202,
   "id": "fb0b5189",
   "metadata": {},
   "outputs": [],
   "source": [
    "magnitude = {80:\"ultraviolet\", \n",
    "             81:\"wind\", \n",
    "             82:\"direction\", \n",
    "             83:\"temperature\", \n",
    "             86:\"humidity\", \n",
    "             87:\"pressure\", \n",
    "             88:\"solar\", \n",
    "             89:\"rainfall\"}\n",
    "\n",
    "weather = kx.q('{update magnitude: x magnitude from y}', magnitude, weather)\n",
    "weather = kx.q('{exec (value x)#magnitude!values by date,weather_station from y}', magnitude, weather)"
   ]
  },
  {
   "cell_type": "markdown",
   "id": "55427aee",
   "metadata": {},
   "source": [
    "#### Traffic"
   ]
  },
  {
   "cell_type": "code",
   "execution_count": 209,
   "id": "18565b7c",
   "metadata": {},
   "outputs": [],
   "source": [
    "traffic = kx.q.xasc(\"date\", kx.q.qsql.select(traffic,\n",
    "                         columns = {'traffic_load': 'avg carga'},\n",
    "                         by = {\"traffic_station\": 'id', \"date\":'0D01:00:00 xbar fecha'}, \n",
    "                         where = \"error=`N\"))"
   ]
  },
  {
   "cell_type": "markdown",
   "id": "7e606921",
   "metadata": {},
   "source": [
    "**Location**"
   ]
  },
  {
   "cell_type": "code",
   "execution_count": 204,
   "id": "8daf68f3",
   "metadata": {},
   "outputs": [],
   "source": [
    "weather_station = kx.q.xcol({'CODIGO_CORTO' : 'weather_station', \"LONGITUD\":\"longitude\", \"LATITUD\":\"latitude\"}, weather_station)"
   ]
  },
  {
   "cell_type": "code",
   "execution_count": 205,
   "id": "e2016534",
   "metadata": {},
   "outputs": [],
   "source": [
    "traffic_station = kx.q.xcol({'id' : 'traffic_station', \"longitud\":\"longitude\", \"latitud\":\"latitude\"}, traffic_station)"
   ]
  },
  {
   "cell_type": "code",
   "execution_count": 206,
   "id": "727d1320",
   "metadata": {},
   "outputs": [],
   "source": [
    "from haversine import haversine_vector, Unit\n",
    "dist = kx.toq(\n",
    "            haversine_vector(kx.q('`longitude`latitude#', weather_station).pd(), \n",
    "                             kx.q('`longitude`latitude#', traffic_station).pd(),\n",
    "                             Unit.KILOMETERS, comb=True))"
   ]
  },
  {
   "cell_type": "code",
   "execution_count": 207,
   "id": "5635b1fa",
   "metadata": {},
   "outputs": [],
   "source": [
    "ids = kx.q.each(kx.q('{first where x=min x}'), dist)\n",
    "distance_table = kx.q('^', traffic_station, weather_station[ids])\n",
    "distance_table = kx.q.qsql.delete(distance_table, columns = ['tipo_elem','distrito','cod_cent','nombre','utm_x','utm_y','longitude', 'latitude'])"
   ]
  },
  {
   "cell_type": "markdown",
   "id": "9ee7652c",
   "metadata": {},
   "source": [
    "### Join Table"
   ]
  },
  {
   "cell_type": "code",
   "execution_count": 210,
   "id": "fadc13ac",
   "metadata": {},
   "outputs": [],
   "source": [
    "complete = kx.q.lj(traffic, kx.q.xkey('traffic_station', distance_table))\n",
    "complete = kx.q.aj(kx.q('`weather_station`date'), complete, weather)\n",
    "complete = kx.q.qsql.update(complete,  {\"hour\":\"`hh$date\", \"weekday\":'(\"d\"$date)mod 7'})"
   ]
  },
  {
   "cell_type": "markdown",
   "id": "cad1641f",
   "metadata": {},
   "source": [
    "### Modelo"
   ]
  },
  {
   "cell_type": "code",
   "execution_count": 235,
   "id": "abf00eb1",
   "metadata": {},
   "outputs": [
    {
     "ename": "QError",
     "evalue": "series",
     "output_type": "error",
     "traceback": [
      "\u001b[1;31m---------------------------------------------------------------------------\u001b[0m",
      "\u001b[1;31mQError\u001b[0m                                    Traceback (most recent call last)",
      "Cell \u001b[1;32mIn[235], line 24\u001b[0m\n\u001b[0;32m      3\u001b[0m final \u001b[38;5;241m=\u001b[39m kx\u001b[38;5;241m.\u001b[39mq\u001b[38;5;241m.\u001b[39mqsql\u001b[38;5;241m.\u001b[39mselect(complete, columns \u001b[38;5;241m=\u001b[39m {\u001b[38;5;124m\"\u001b[39m\u001b[38;5;124mdate\u001b[39m\u001b[38;5;124m\"\u001b[39m: \u001b[38;5;124m\"\u001b[39m\u001b[38;5;124mdate\u001b[39m\u001b[38;5;124m\"\u001b[39m,\n\u001b[0;32m      4\u001b[0m                                               \u001b[38;5;124m\"\u001b[39m\u001b[38;5;124mtraffic_station\u001b[39m\u001b[38;5;124m\"\u001b[39m:\u001b[38;5;124m\"\u001b[39m\u001b[38;5;124mtraffic_station\u001b[39m\u001b[38;5;124m\"\u001b[39m,\n\u001b[0;32m      5\u001b[0m                                               \u001b[38;5;124m\"\u001b[39m\u001b[38;5;124mhour\u001b[39m\u001b[38;5;124m\"\u001b[39m:\u001b[38;5;124m\"\u001b[39m\u001b[38;5;124mhour\u001b[39m\u001b[38;5;124m\"\u001b[39m, \n\u001b[1;32m   (...)\u001b[0m\n\u001b[0;32m     14\u001b[0m                                         \u001b[38;5;124m\"\u001b[39m\u001b[38;5;124m40 <= (avg; traffic_load) fby traffic_station\u001b[39m\u001b[38;5;124m\"\u001b[39m\n\u001b[0;32m     15\u001b[0m                                     ])\n\u001b[0;32m     17\u001b[0m kx\u001b[38;5;241m.\u001b[39mq(\u001b[38;5;124m\"\"\"\u001b[39m\n\u001b[0;32m     18\u001b[0m \u001b[38;5;124mprepareData:\u001b[39m\u001b[38;5;124m{\u001b[39m\u001b[38;5;124m[tt;data;series]\u001b[39m\n\u001b[0;32m     19\u001b[0m \u001b[38;5;124m    m:`rainfall`temperature`traffic_load`hour`weekday;        / the 5 columns we need\u001b[39m\n\u001b[1;32m   (...)\u001b[0m\n\u001b[0;32m     22\u001b[0m \u001b[38;5;124m    }\u001b[39m\n\u001b[0;32m     23\u001b[0m \u001b[38;5;124m\"\"\"\u001b[39m)\n\u001b[1;32m---> 24\u001b[0m train \u001b[38;5;241m=\u001b[39m \u001b[43mkx\u001b[49m\u001b[38;5;241;43m.\u001b[39;49m\u001b[43mq\u001b[49m\u001b[43m(\u001b[49m\u001b[38;5;124;43m\"\u001b[39;49m\u001b[38;5;124;43mprepareData `train\u001b[39;49m\u001b[38;5;124;43m\"\u001b[39;49m\u001b[43m,\u001b[49m\u001b[43m \u001b[49m\u001b[43mfinal\u001b[49m\u001b[43m,\u001b[49m\u001b[43m \u001b[49m\u001b[38;5;241;43m5\u001b[39;49m\u001b[43m)\u001b[49m\n\u001b[0;32m     25\u001b[0m kx\u001b[38;5;241m.\u001b[39mq(\u001b[38;5;124m\"\"\"\u001b[39m\n\u001b[0;32m     26\u001b[0m \u001b[38;5;124m    time_window:\u001b[39m\u001b[38;5;124m{\u001b[39m\u001b[38;5;124m[tt;data;lb]\u001b[39m\n\u001b[0;32m     27\u001b[0m \u001b[38;5;124m        lb:lb+1;\u001b[39m\n\u001b[1;32m   (...)\u001b[0m\n\u001b[0;32m     38\u001b[0m \u001b[38;5;124m        }\u001b[39m\n\u001b[0;32m     39\u001b[0m \u001b[38;5;124m    \u001b[39m\u001b[38;5;124m\"\"\"\u001b[39m)\n\u001b[0;32m     40\u001b[0m train \u001b[38;5;241m=\u001b[39m kx\u001b[38;5;241m.\u001b[39mq(\u001b[38;5;124m\"\u001b[39m\u001b[38;5;124mtime_window `train\u001b[39m\u001b[38;5;124m\"\u001b[39m, final,\u001b[38;5;241m5\u001b[39m)\n",
      "File \u001b[1;32m~\\anaconda3\\envs\\py10\\lib\\site-packages\\pykx\\embedded_q.py:142\u001b[0m, in \u001b[0;36mEmbeddedQ.__call__\u001b[1;34m(self, query, wait, sync, *args)\u001b[0m\n\u001b[0;32m    140\u001b[0m result \u001b[38;5;241m=\u001b[39m _keval(\u001b[38;5;28mbytes\u001b[39m(wrappers\u001b[38;5;241m.\u001b[39mCharVector(query)), \u001b[38;5;241m*\u001b[39m[wrappers\u001b[38;5;241m.\u001b[39mK(x) \u001b[38;5;28;01mfor\u001b[39;00m x \u001b[38;5;129;01min\u001b[39;00m args])\n\u001b[0;32m    141\u001b[0m \u001b[38;5;28;01mif\u001b[39;00m wait \u001b[38;5;129;01mis\u001b[39;00m \u001b[38;5;28;01mNone\u001b[39;00m \u001b[38;5;129;01mor\u001b[39;00m wait:\n\u001b[1;32m--> 142\u001b[0m     \u001b[38;5;28;01mreturn\u001b[39;00m \u001b[43mfactory\u001b[49m\u001b[43m(\u001b[49m\u001b[43mresult\u001b[49m\u001b[43m,\u001b[49m\u001b[43m \u001b[49m\u001b[38;5;28;43;01mFalse\u001b[39;49;00m\u001b[43m)\u001b[49m\n\u001b[0;32m    143\u001b[0m \u001b[38;5;28;01mreturn\u001b[39;00m \u001b[38;5;28mself\u001b[39m(\u001b[38;5;124m'\u001b[39m\u001b[38;5;124m::\u001b[39m\u001b[38;5;124m'\u001b[39m, wait\u001b[38;5;241m=\u001b[39m\u001b[38;5;28;01mTrue\u001b[39;00m)\n",
      "File \u001b[1;32m~\\anaconda3\\envs\\py10\\lib\\site-packages\\pykx\\_wrappers.pyx:499\u001b[0m, in \u001b[0;36mpykx._wrappers._factory\u001b[1;34m()\u001b[0m\n",
      "File \u001b[1;32m~\\anaconda3\\envs\\py10\\lib\\site-packages\\pykx\\_wrappers.pyx:492\u001b[0m, in \u001b[0;36mpykx._wrappers.factory\u001b[1;34m()\u001b[0m\n",
      "\u001b[1;31mQError\u001b[0m: series"
     ]
    }
   ],
   "source": [
    "kx.q(\"minMaxScale:{[l] ({(x-y)%(z-y)}[;min l;max l]')l}\")\n",
    "\n",
    "final = kx.q.qsql.select(complete, columns = {\"date\": \"date\",\n",
    "                                              \"traffic_station\":\"traffic_station\",\n",
    "                                              \"hour\":\"hour\", \n",
    "                                              \"weekday\": \"weekday\", \n",
    "                                              \"traffic_load\": \"minMaxScale traffic_load%100\", \n",
    "                                              \"temperature\":\"minMaxScale temperature\", \n",
    "                                              \"rainfall\":\"minMaxScale rainfall\"},\n",
    "                                    where = [\n",
    "                                        \"weekday>1\",\n",
    "                                        \"9<hour\",\n",
    "                                        \"hour<20\",\n",
    "                                        \"40 <= (avg; traffic_load) fby traffic_station\"\n",
    "                                    ])\n",
    "\n",
    "\n",
    "kx.q(\"\"\"sw:{({y#z _x}[x;y;]')til count b:y _x}\"\"\") # sliding window function. takes matrix and divides into chunks of 5x5\n",
    "kx.q(\"\"\"gl:{y _(flip x)[z]}\"\"\") # gets target (in position z)\n",
    "kx.q(\"\"\"toMatrix:{({[t;i]value t[i]}[x;]')til count x:flip x}\"\"\") # / table to matrix\n",
    "\n",
    "kx.q(\"\"\"\n",
    "        prepareData:{[data; test_per_series; lb]\n",
    "            m:`rainfall`traffic_load`hour`weekday;        \n",
    "            train:(toMatrix')?[data;();`traffic_station;m!({(y;(+;(count;x);80);x)}[;#]')m]; \n",
    "            test:(toMatrix')?[data;();`traffic_station;m!({(y;(-;(count;x);80);x)}[;#]')m];                                                                               \n",
    "            (((sw[;lb]')test;(gl[;lb;1]')test);((sw[;lb]')train;(gl[;lb;1]')train))                                                  \n",
    "            }                                                \n",
    "        train: \n",
    "        }\n",
    "    \"\"\")\n",
    "\n",
    "data = kx.q(\"prepareData\", final, 80, 5)\n",
    "\n",
    "X_train, y_train = data[0][0], data[0][1]\n",
    "X_test, y_test =  data[1][0], data[1][1]"
   ]
  },
  {
   "cell_type": "code",
   "execution_count": 229,
   "id": "42255e80",
   "metadata": {},
   "outputs": [
    {
     "data": {
      "image/png": "[encoded data removed]",
      "text/plain": [
       "<Figure size 640x480 with 1 Axes>"
      ]
     },
     "metadata": {},
     "output_type": "display_data"
    }
   ],
   "source": [
    "from keras.models import Sequential\n",
    "from keras.layers import Dense\n",
    "from keras.layers import LSTM, Dropout, Conv1D\n",
    "from keras.layers import BatchNormalization\n",
    "\n",
    "import matplotlib.pyplot as plt\n",
    "# design network\n",
    "model = Sequential()\n",
    "\n",
    "#model.add(Conv1D(filters=32, kernel_size=5, strides=1, padding='causal', activation='relu', input_shape=[None,1]))\n",
    "model.add(LSTM(units = 50, return_sequences=True, input_shape=[None,5]))\n",
    "model.add(Dense(units = 1))\n",
    "\n",
    "model.compile(loss='mae', optimizer='adam')\n",
    "# fit network\n",
    "history = model.fit(np.array(train[0][3403].py()), np.array(train[1][3403].py()), epochs=50, batch_size=8, validation_data=(np.array(test[0][3403].py()), np.array(test[1][3403].py())), verbose=0, shuffle=False)\n",
    "plt.plot(history.history['loss'], label='train')\n",
    "plt.plot(history.history['val_loss'], label='test')\n",
    "\n",
    "plt.legend()\n",
    "plt.show()"
   ]
  },
  {
   "cell_type": "code",
   "execution_count": 384,
   "id": "f92a937d",
   "metadata": {},
   "outputs": [
    {
     "name": "stdout",
     "output_type": "stream",
     "text": [
      "3/3 [==============================] - 2s 19ms/step\n"
     ]
    },
    {
     "data": {
      "image/png": "[encoded data removed]",
      "text/plain": [
       "<Figure size 640x480 with 1 Axes>"
      ]
     },
     "metadata": {},
     "output_type": "display_data"
    }
   ],
   "source": [
    "plt.plot(np.r_[train_y[:,-1],test_y[:,-1]], label='test real')\n",
    "plt.plot(range(496,570), model.predict(test_X).flatten(), label='test predict')\n",
    "plt.legend()\n",
    "plt.show()"
   ]
  },
  {
   "cell_type": "markdown",
   "id": "89016d18",
   "metadata": {},
   "source": [
    "# Third Iteration: Q Post"
   ]
  },
  {
   "cell_type": "markdown",
   "id": "6f89469b",
   "metadata": {},
   "source": [
    "```q\n",
    "system\"c 40 150\";\n",
    "system\"l pykx.q\";\n",
    "\n",
    ".pykx.pyexec\"import numpy as np\";\n",
    ".pykx.pyexec\"from haversine import haversine_vector, Unit\";\n",
    "\n",
    "\n",
    "// data loading\n",
    "weather:.Q.id(\"  II ***\",(24*2)#\"FS\";enlist \";\")0:`$\":../dic_meteo22.csv\";\n",
    "traffic:.Q.id(\"IPS  J S\";enlist \";\")0:`$\":../12-2022.csv\";\n",
    "weather_station:.Q.id(\"SISS\";enlist \";\")0:`$\":../Estaciones_control_datos_meteorologicos.csv\";\n",
    "traffic_station:.Q.id(\"SISSSSSSS\";enlist \";\")0:`$\":../pmed_ubicacion_12-2022.csv\";\n",
    "\n",
    "-1\"loaded input data\";\n",
    "\n",
    "weather:(`ANO`MES`DIA`ESTACION`MAGNITUD!`year`month`day`weather_station`magnitude) xcol weather\n",
    "\n",
    "// preprocess weather data\n",
    "weather:`weather_station`date xcols `year`month`day _update date:\"D\"$(raze')flip(year;month;day) from weather;\n",
    "\n",
    "cw:cols weather;\n",
    "mc:(neg 2*24)_ cw;\n",
    "tr:{(flip;enlist,cw where cw like x,\"*\")};\n",
    "\n",
    "ops:(mc,`time`magnitude_value`ok)!mc,((#;(count,`i);(enlist;(*;01:00;til,24)));tr\"H\";tr\"V\");\n",
    "weather:ungroup?[weather;();0b;ops];\n",
    "weather:delete from weather where ok<>`V;\n",
    "weather:update date:(\"P\"$((string date),'\" \",'string\"t\"$time))from weather;\n",
    "weather:update weather_station:\"j\"$weather_station from weather;\n",
    "weather:delete valid,time from weather;\n",
    "mag:80 81 82 83 86 87 88 89!`ultraviolet`wind`direction`temperature`humidity`pressure`solar`rainfall;\n",
    "weather:update mag magnitude from weather;\n",
    "u:value mag;\n",
    "weather:0!exec u#magnitude!magnitude_value by date,weather_station from weather;\n",
    "weather:0f^weather;\n",
    "-1\"preprocessed weather table\";\n",
    "\n",
    "weather_station:(`CODIGO_CORTO`LONGITUD`LATITUD!`weather_station`longitude`latitude)xcol weather_station\n",
    "traffic_station:(`id`longitud`latitud!`traffic_station`longitude`latitude)xcol traffic_station\n",
    "\n",
    "-1\"preprocessed weather and traffic station data\";\n",
    "\n",
    "traffic:(`fecha`id!`date`traffic_station)xcol traffic;\n",
    "traffic:`date xasc select traffic_load:avg carga by date: 0D01:00:00 xbar fecha,traffic_station from traffic where error=`N\n",
    "-1\"preprocessed traffic data\";\n",
    "\n",
    "b:select \"F\"$string longitude,\"F\"$string latitude from weather_station;\n",
    "a:select \"F\"$string longitude,\"F\"$string latitude from traffic_station;\n",
    "pow2:xexp[;2];\n",
    "/ distance:{[x1;x2;y1;y2;pow2]abs(pow2[x1]-pow2[y1])+abs(pow2[x2]-pow2[y2])}[;;;;pow2];\n",
    "/ distance_matrix:distance[b.longitude; b.latitude]'[a.longitude; a.latitude];\n",
    "\n",
    ".pykx.setdefault\"pd\";\n",
    ".pykx.set[`a;`longitude`latitude#a];\n",
    ".pykx.set[`b;`longitude`latitude#b];\n",
    "distance_matrix:flip(.pykx.eval\"haversine_vector(a, b, Unit.KILOMETERS, comb=True)\")`;\n",
    "-1\"calculated distance matrix\";\n",
    "\n",
    "ids:distance_matrix?'min each distance_matrix;\n",
    "\n",
    "distance_table:select \"I\"$string traffic_station,\"F\"$string weather_station:weather_station[ids][`weather_station] from traffic_station;\n",
    "\n",
    "complete:(`traffic_station xkey traffic) lj `traffic_station xkey distance_table;\n",
    "complete:0!aj[`weather_station`date;complete;weather];\n",
    "complete:update hour:`hh$date,weekday:(\"d\"$date)mod 7 from complete;\n",
    "-1\"built complete table. begin model prep\";\n",
    "/ complete:(\"PJFFFFFFFFFJFJJF\";enlist \",\")0:`$\":../complete.csv\";\n",
    "minMaxScale:{[l]\n",
    "    minL:min l;\n",
    "    maxL:max l;\n",
    "    ({(x-y)%(z-y)}[;minL;maxL]')l};\n",
    "\n",
    "final:select date, traffic_station, hour, weekday, traffic_load: traffic_load%100, temperature:minMaxScale temperature, rainfall:minMaxScale rainfall \n",
    "\tfrom complete\n",
    "\twhere weekday>1,9<hour,hour<20, 40 <= (avg; traffic_load) fby traffic_station;\n",
    "\n",
    "-1\"preprocessed final table\";\n",
    "\n",
    "time_window:{[tt;data;lb]\n",
    "    lb:lb+1;\n",
    "    op:$[tt=`train;#;_];                                      / `train or `test decide the operator\n",
    "    m:`rainfall`temperature`traffic_load`hour`weekday;        / the 5 columns we need\n",
    "    data:?[data;();`traffic_station;m!({(y;(-;(count;x);80);x)}[;op]')m]; / first 80 or until the last 80 depending on operator \n",
    "    sw:{({y#z _x}[x;5;]')til count b:y _x}[;lb];              / sliding window function. takes turbomatrix and divides into chunks of 5x5\n",
    "    gl:{y _(flip x)[2]}[;lb];                                  / gets the load (y data)\n",
    "    toMatrix:{({[t;i]value t[i]}[x;]')til count x:flip x};    / table to matrix\n",
    "    data:(toMatrix')data;                                     / convert each subtable (data is a keyed table) to a matrix\n",
    "    X:(sw')data;                                              / apply sliding window to get X\n",
    "    y:(gl')data;                                              / and gl to get y\n",
    "    (X;y)                                                     / return both\n",
    "    };\n",
    "\n",
    "train:time_window[`train;final;5];\n",
    "\n",
    "-1\"train shape:\";\n",
    "show first train[0][3403];\n",
    "\n",
    "test:time_window[`test;final;5];\n",
    "\n",
    "-1\"test shape:\";\n",
    "show first test[0][3403];\n",
    "\n",
    ".pykx.setdefault\"py\";\n",
    "\n",
    "system\"l kerasmodel.p\";\n",
    "\n",
    "-1\"fit model\";\n",
    "modelfit:.pykx.get`fit;\n",
    "modelfit[train[0][3403];train[1][3403];test[0][3403];test[1][3403]];\n",
    "\n",
    "-1\"predict model\";\n",
    "modelpredict:.pykx.get`predict;\n",
    "res:modelpredict[train[0][3403]];\n",
    "\n",
    "-1\"final result:\";\n",
    "show res`;\n",
    "exit 1;\n",
    "```"
   ]
  },
  {
   "cell_type": "markdown",
   "id": "f803f3cc",
   "metadata": {},
   "source": [
    "``` python\n",
    "from keras.models import Sequential\n",
    "from keras.layers import Dense\n",
    "from keras.layers import LSTM, Dropout, Conv1D\n",
    "\n",
    "model = Sequential()\n",
    "model.add(LSTM(units = 500, return_sequences=True, input_shape=[None,5]))\n",
    "model.add(LSTM(units = 250,return_sequences=True))\n",
    "model.add(LSTM(units = 50, return_sequences=False))\n",
    "model.add(Dropout(0.2))\n",
    "model.add(Dense(units = 1))\n",
    "model.compile(loss='mae', optimizer='adam')\n",
    "model.summary()\n",
    "\n",
    "def fit(train_X, train_y, test_X, test_y):\n",
    "    model.fit(train_X, train_y, epochs=3, batch_size=64, validation_data=(test_X, test_y), verbose=1, shuffle=False)\n",
    "    return True\n",
    "\n",
    "\n",
    "def predict(data):\n",
    "    return model.predict(data)\n",
    "\n",
    "```"
   ]
  }
 ],
 "metadata": {
  "kernelspec": {
   "display_name": "Python 3 (ipykernel)",
   "language": "python",
   "name": "python3"
  },
  "language_info": {
   "codemirror_mode": {
    "name": "ipython",
    "version": 3
   },
   "file_extension": ".py",
   "mimetype": "text/x-python",
   "name": "python",
   "nbconvert_exporter": "python",
   "pygments_lexer": "ipython3",
   "version": "3.8.16"
  }
 },
 "nbformat": 4,
 "nbformat_minor": 5
}
